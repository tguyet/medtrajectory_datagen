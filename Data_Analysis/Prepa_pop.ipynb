{
 "cells": [
  {
   "cell_type": "code",
   "execution_count": 11,
   "metadata": {},
   "outputs": [],
   "source": [
    "import pandas as pd\n",
    "import numpy as np"
   ]
  },
  {
   "cell_type": "code",
   "execution_count": 12,
   "metadata": {},
   "outputs": [],
   "source": [
    "import os.path\n",
    "outdir=\"../data\""
   ]
  },
  {
   "cell_type": "code",
   "execution_count": 2,
   "metadata": {},
   "outputs": [],
   "source": [
    "pop_saq=pd.read_excel(\"../data/pop-sexe-age-quinquennal6816.xls\", sheet_name=\"COM_2016\", skiprows=[i for i in range(13)], dtype={'CR':str})"
   ]
  },
  {
   "cell_type": "code",
   "execution_count": 3,
   "metadata": {},
   "outputs": [],
   "source": [
    "try:\n",
    "    #remove some a priori useless columns\n",
    "    del(pop_saq['DR'])\n",
    "    del(pop_saq['STABLE'])\n",
    "except:\n",
    "    pass"
   ]
  },
  {
   "cell_type": "code",
   "execution_count": 4,
   "metadata": {},
   "outputs": [],
   "source": [
    "#Gather all the columns in a unique column with variables to describe them ('sex' and 'age')\n",
    "pop_saq=pop_saq.melt(id_vars=['DR18','CR','RR','LIBELLE'])\n",
    "tmp=pop_saq['variable'].str.extract(r'ageq_rec(?P<age>\\d+)s(?P<sex>\\d)rpop2016')\n",
    "pop_saq=pd.concat([tmp,pop_saq],axis=1)\n",
    "pop_saq['age']=(pd.to_numeric(pop_saq['age'])-1)*5 #counts for 5 years intervals of ages\n",
    "pop_saq['sex']=pop_saq['sex'].astype(int)"
   ]
  },
  {
   "cell_type": "code",
   "execution_count": 5,
   "metadata": {},
   "outputs": [],
   "source": [
    "del(tmp)\n",
    "del(pop_saq['variable'])"
   ]
  },
  {
   "cell_type": "code",
   "execution_count": 6,
   "metadata": {},
   "outputs": [],
   "source": [
    "#rename columns\n",
    "pop_saq=pop_saq.rename(columns={'CR':'code', 'value':'pop', 'LIBELLE':'city_name', 'DR18':'dpt'})\n",
    "pop_saq['city_name']=pop_saq['city_name'].str.lower()"
   ]
  },
  {
   "cell_type": "code",
   "execution_count": 7,
   "metadata": {},
   "outputs": [
    {
     "data": {
      "text/html": [
       "<div>\n",
       "<style scoped>\n",
       "    .dataframe tbody tr th:only-of-type {\n",
       "        vertical-align: middle;\n",
       "    }\n",
       "\n",
       "    .dataframe tbody tr th {\n",
       "        vertical-align: top;\n",
       "    }\n",
       "\n",
       "    .dataframe thead th {\n",
       "        text-align: right;\n",
       "    }\n",
       "</style>\n",
       "<table border=\"1\" class=\"dataframe\">\n",
       "  <thead>\n",
       "    <tr style=\"text-align: right;\">\n",
       "      <th></th>\n",
       "      <th>age</th>\n",
       "      <th>sex</th>\n",
       "      <th>dpt</th>\n",
       "      <th>code</th>\n",
       "      <th>RR</th>\n",
       "      <th>city_name</th>\n",
       "      <th>pop</th>\n",
       "    </tr>\n",
       "  </thead>\n",
       "  <tbody>\n",
       "    <tr>\n",
       "      <th>0</th>\n",
       "      <td>0</td>\n",
       "      <td>1</td>\n",
       "      <td>01</td>\n",
       "      <td>001</td>\n",
       "      <td>84</td>\n",
       "      <td>abergement-clémenciat</td>\n",
       "      <td>15.000000</td>\n",
       "    </tr>\n",
       "    <tr>\n",
       "      <th>1</th>\n",
       "      <td>0</td>\n",
       "      <td>1</td>\n",
       "      <td>01</td>\n",
       "      <td>002</td>\n",
       "      <td>84</td>\n",
       "      <td>abergement-de-varey</td>\n",
       "      <td>5.000000</td>\n",
       "    </tr>\n",
       "    <tr>\n",
       "      <th>2</th>\n",
       "      <td>0</td>\n",
       "      <td>1</td>\n",
       "      <td>01</td>\n",
       "      <td>003</td>\n",
       "      <td>84</td>\n",
       "      <td>amareins</td>\n",
       "      <td>NaN</td>\n",
       "    </tr>\n",
       "    <tr>\n",
       "      <th>3</th>\n",
       "      <td>0</td>\n",
       "      <td>1</td>\n",
       "      <td>01</td>\n",
       "      <td>004</td>\n",
       "      <td>84</td>\n",
       "      <td>ambérieu-en-bugey</td>\n",
       "      <td>529.591402</td>\n",
       "    </tr>\n",
       "    <tr>\n",
       "      <th>4</th>\n",
       "      <td>0</td>\n",
       "      <td>1</td>\n",
       "      <td>01</td>\n",
       "      <td>005</td>\n",
       "      <td>84</td>\n",
       "      <td>ambérieux-en-dombes</td>\n",
       "      <td>25.555140</td>\n",
       "    </tr>\n",
       "  </tbody>\n",
       "</table>\n",
       "</div>"
      ],
      "text/plain": [
       "   age  sex dpt code  RR              city_name         pop\n",
       "0    0    1  01  001  84  abergement-clémenciat   15.000000\n",
       "1    0    1  01  002  84    abergement-de-varey    5.000000\n",
       "2    0    1  01  003  84               amareins         NaN\n",
       "3    0    1  01  004  84      ambérieu-en-bugey  529.591402\n",
       "4    0    1  01  005  84    ambérieux-en-dombes   25.555140"
      ]
     },
     "execution_count": 7,
     "metadata": {},
     "output_type": "execute_result"
    }
   ],
   "source": [
    "pop_saq.head()"
   ]
  },
  {
   "cell_type": "markdown",
   "metadata": {},
   "source": [
    "* age: age quinquennal\n",
    "* sex: sexe\n",
    "* code: code commune INSEE\n",
    "* city_name: nom commune\n",
    "* dpt: departement code\n",
    "* RR: region code\n",
    "* pop: number of people with a given sex, age and dpt"
   ]
  },
  {
   "cell_type": "code",
   "execution_count": 13,
   "metadata": {},
   "outputs": [],
   "source": [
    "pop_saq.to_csv( os.path.join(outdir,\"pop.csv\") )"
   ]
  },
  {
   "cell_type": "code",
   "execution_count": null,
   "metadata": {},
   "outputs": [],
   "source": []
  }
 ],
 "metadata": {
  "kernelspec": {
   "display_name": "Python 3",
   "language": "python",
   "name": "python3"
  },
  "language_info": {
   "codemirror_mode": {
    "name": "ipython",
    "version": 3
   },
   "file_extension": ".py",
   "mimetype": "text/x-python",
   "name": "python",
   "nbconvert_exporter": "python",
   "pygments_lexer": "ipython3",
   "version": "3.8.2"
  }
 },
 "nbformat": 4,
 "nbformat_minor": 4
}
