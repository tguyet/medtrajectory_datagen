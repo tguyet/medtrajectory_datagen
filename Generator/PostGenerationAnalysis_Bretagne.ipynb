{
 "cells": [
  {
   "cell_type": "markdown",
   "metadata": {},
   "source": [
    "# Comparison between real distributions and synthetic distributions"
   ]
  },
  {
   "cell_type": "code",
   "execution_count": 1,
   "metadata": {},
   "outputs": [
    {
     "data": {
      "text/html": [
       "\n",
       "    <div class=\"bk-root\">\n",
       "        <a href=\"https://bokeh.org\" target=\"_blank\" class=\"bk-logo bk-logo-small bk-logo-notebook\"></a>\n",
       "        <span id=\"1001\">Loading BokehJS ...</span>\n",
       "    </div>"
      ]
     },
     "metadata": {},
     "output_type": "display_data"
    },
    {
     "data": {
      "application/javascript": [
       "\n",
       "(function(root) {\n",
       "  function now() {\n",
       "    return new Date();\n",
       "  }\n",
       "\n",
       "  var force = true;\n",
       "\n",
       "  if (typeof root._bokeh_onload_callbacks === \"undefined\" || force === true) {\n",
       "    root._bokeh_onload_callbacks = [];\n",
       "    root._bokeh_is_loading = undefined;\n",
       "  }\n",
       "\n",
       "  var JS_MIME_TYPE = 'application/javascript';\n",
       "  var HTML_MIME_TYPE = 'text/html';\n",
       "  var EXEC_MIME_TYPE = 'application/vnd.bokehjs_exec.v0+json';\n",
       "  var CLASS_NAME = 'output_bokeh rendered_html';\n",
       "\n",
       "  /**\n",
       "   * Render data to the DOM node\n",
       "   */\n",
       "  function render(props, node) {\n",
       "    var script = document.createElement(\"script\");\n",
       "    node.appendChild(script);\n",
       "  }\n",
       "\n",
       "  /**\n",
       "   * Handle when an output is cleared or removed\n",
       "   */\n",
       "  function handleClearOutput(event, handle) {\n",
       "    var cell = handle.cell;\n",
       "\n",
       "    var id = cell.output_area._bokeh_element_id;\n",
       "    var server_id = cell.output_area._bokeh_server_id;\n",
       "    // Clean up Bokeh references\n",
       "    if (id != null && id in Bokeh.index) {\n",
       "      Bokeh.index[id].model.document.clear();\n",
       "      delete Bokeh.index[id];\n",
       "    }\n",
       "\n",
       "    if (server_id !== undefined) {\n",
       "      // Clean up Bokeh references\n",
       "      var cmd = \"from bokeh.io.state import curstate; print(curstate().uuid_to_server['\" + server_id + \"'].get_sessions()[0].document.roots[0]._id)\";\n",
       "      cell.notebook.kernel.execute(cmd, {\n",
       "        iopub: {\n",
       "          output: function(msg) {\n",
       "            var id = msg.content.text.trim();\n",
       "            if (id in Bokeh.index) {\n",
       "              Bokeh.index[id].model.document.clear();\n",
       "              delete Bokeh.index[id];\n",
       "            }\n",
       "          }\n",
       "        }\n",
       "      });\n",
       "      // Destroy server and session\n",
       "      var cmd = \"import bokeh.io.notebook as ion; ion.destroy_server('\" + server_id + \"')\";\n",
       "      cell.notebook.kernel.execute(cmd);\n",
       "    }\n",
       "  }\n",
       "\n",
       "  /**\n",
       "   * Handle when a new output is added\n",
       "   */\n",
       "  function handleAddOutput(event, handle) {\n",
       "    var output_area = handle.output_area;\n",
       "    var output = handle.output;\n",
       "\n",
       "    // limit handleAddOutput to display_data with EXEC_MIME_TYPE content only\n",
       "    if ((output.output_type != \"display_data\") || (!output.data.hasOwnProperty(EXEC_MIME_TYPE))) {\n",
       "      return\n",
       "    }\n",
       "\n",
       "    var toinsert = output_area.element.find(\".\" + CLASS_NAME.split(' ')[0]);\n",
       "\n",
       "    if (output.metadata[EXEC_MIME_TYPE][\"id\"] !== undefined) {\n",
       "      toinsert[toinsert.length - 1].firstChild.textContent = output.data[JS_MIME_TYPE];\n",
       "      // store reference to embed id on output_area\n",
       "      output_area._bokeh_element_id = output.metadata[EXEC_MIME_TYPE][\"id\"];\n",
       "    }\n",
       "    if (output.metadata[EXEC_MIME_TYPE][\"server_id\"] !== undefined) {\n",
       "      var bk_div = document.createElement(\"div\");\n",
       "      bk_div.innerHTML = output.data[HTML_MIME_TYPE];\n",
       "      var script_attrs = bk_div.children[0].attributes;\n",
       "      for (var i = 0; i < script_attrs.length; i++) {\n",
       "        toinsert[toinsert.length - 1].firstChild.setAttribute(script_attrs[i].name, script_attrs[i].value);\n",
       "        toinsert[toinsert.length - 1].firstChild.textContent = bk_div.children[0].textContent\n",
       "      }\n",
       "      // store reference to server id on output_area\n",
       "      output_area._bokeh_server_id = output.metadata[EXEC_MIME_TYPE][\"server_id\"];\n",
       "    }\n",
       "  }\n",
       "\n",
       "  function register_renderer(events, OutputArea) {\n",
       "\n",
       "    function append_mime(data, metadata, element) {\n",
       "      // create a DOM node to render to\n",
       "      var toinsert = this.create_output_subarea(\n",
       "        metadata,\n",
       "        CLASS_NAME,\n",
       "        EXEC_MIME_TYPE\n",
       "      );\n",
       "      this.keyboard_manager.register_events(toinsert);\n",
       "      // Render to node\n",
       "      var props = {data: data, metadata: metadata[EXEC_MIME_TYPE]};\n",
       "      render(props, toinsert[toinsert.length - 1]);\n",
       "      element.append(toinsert);\n",
       "      return toinsert\n",
       "    }\n",
       "\n",
       "    /* Handle when an output is cleared or removed */\n",
       "    events.on('clear_output.CodeCell', handleClearOutput);\n",
       "    events.on('delete.Cell', handleClearOutput);\n",
       "\n",
       "    /* Handle when a new output is added */\n",
       "    events.on('output_added.OutputArea', handleAddOutput);\n",
       "\n",
       "    /**\n",
       "     * Register the mime type and append_mime function with output_area\n",
       "     */\n",
       "    OutputArea.prototype.register_mime_type(EXEC_MIME_TYPE, append_mime, {\n",
       "      /* Is output safe? */\n",
       "      safe: true,\n",
       "      /* Index of renderer in `output_area.display_order` */\n",
       "      index: 0\n",
       "    });\n",
       "  }\n",
       "\n",
       "  // register the mime type if in Jupyter Notebook environment and previously unregistered\n",
       "  if (root.Jupyter !== undefined) {\n",
       "    var events = require('base/js/events');\n",
       "    var OutputArea = require('notebook/js/outputarea').OutputArea;\n",
       "\n",
       "    if (OutputArea.prototype.mime_types().indexOf(EXEC_MIME_TYPE) == -1) {\n",
       "      register_renderer(events, OutputArea);\n",
       "    }\n",
       "  }\n",
       "\n",
       "  \n",
       "  if (typeof (root._bokeh_timeout) === \"undefined\" || force === true) {\n",
       "    root._bokeh_timeout = Date.now() + 5000;\n",
       "    root._bokeh_failed_load = false;\n",
       "  }\n",
       "\n",
       "  var NB_LOAD_WARNING = {'data': {'text/html':\n",
       "     \"<div style='background-color: #fdd'>\\n\"+\n",
       "     \"<p>\\n\"+\n",
       "     \"BokehJS does not appear to have successfully loaded. If loading BokehJS from CDN, this \\n\"+\n",
       "     \"may be due to a slow or bad network connection. Possible fixes:\\n\"+\n",
       "     \"</p>\\n\"+\n",
       "     \"<ul>\\n\"+\n",
       "     \"<li>re-rerun `output_notebook()` to attempt to load from CDN again, or</li>\\n\"+\n",
       "     \"<li>use INLINE resources instead, as so:</li>\\n\"+\n",
       "     \"</ul>\\n\"+\n",
       "     \"<code>\\n\"+\n",
       "     \"from bokeh.resources import INLINE\\n\"+\n",
       "     \"output_notebook(resources=INLINE)\\n\"+\n",
       "     \"</code>\\n\"+\n",
       "     \"</div>\"}};\n",
       "\n",
       "  function display_loaded() {\n",
       "    var el = document.getElementById(\"1001\");\n",
       "    if (el != null) {\n",
       "      el.textContent = \"BokehJS is loading...\";\n",
       "    }\n",
       "    if (root.Bokeh !== undefined) {\n",
       "      if (el != null) {\n",
       "        el.textContent = \"BokehJS \" + root.Bokeh.version + \" successfully loaded.\";\n",
       "      }\n",
       "    } else if (Date.now() < root._bokeh_timeout) {\n",
       "      setTimeout(display_loaded, 100)\n",
       "    }\n",
       "  }\n",
       "\n",
       "\n",
       "  function run_callbacks() {\n",
       "    try {\n",
       "      root._bokeh_onload_callbacks.forEach(function(callback) {\n",
       "        if (callback != null)\n",
       "          callback();\n",
       "      });\n",
       "    } finally {\n",
       "      delete root._bokeh_onload_callbacks\n",
       "    }\n",
       "    console.debug(\"Bokeh: all callbacks have finished\");\n",
       "  }\n",
       "\n",
       "  function load_libs(css_urls, js_urls, callback) {\n",
       "    if (css_urls == null) css_urls = [];\n",
       "    if (js_urls == null) js_urls = [];\n",
       "\n",
       "    root._bokeh_onload_callbacks.push(callback);\n",
       "    if (root._bokeh_is_loading > 0) {\n",
       "      console.debug(\"Bokeh: BokehJS is being loaded, scheduling callback at\", now());\n",
       "      return null;\n",
       "    }\n",
       "    if (js_urls == null || js_urls.length === 0) {\n",
       "      run_callbacks();\n",
       "      return null;\n",
       "    }\n",
       "    console.debug(\"Bokeh: BokehJS not loaded, scheduling load and callback at\", now());\n",
       "    root._bokeh_is_loading = css_urls.length + js_urls.length;\n",
       "\n",
       "    function on_load() {\n",
       "      root._bokeh_is_loading--;\n",
       "      if (root._bokeh_is_loading === 0) {\n",
       "        console.debug(\"Bokeh: all BokehJS libraries/stylesheets loaded\");\n",
       "        run_callbacks()\n",
       "      }\n",
       "    }\n",
       "\n",
       "    function on_error() {\n",
       "      console.error(\"failed to load \" + url);\n",
       "    }\n",
       "\n",
       "    for (var i = 0; i < css_urls.length; i++) {\n",
       "      var url = css_urls[i];\n",
       "      const element = document.createElement(\"link\");\n",
       "      element.onload = on_load;\n",
       "      element.onerror = on_error;\n",
       "      element.rel = \"stylesheet\";\n",
       "      element.type = \"text/css\";\n",
       "      element.href = url;\n",
       "      console.debug(\"Bokeh: injecting link tag for BokehJS stylesheet: \", url);\n",
       "      document.body.appendChild(element);\n",
       "    }\n",
       "\n",
       "    const hashes = {\"https://cdn.bokeh.org/bokeh/release/bokeh-2.1.1.min.js\": \"kLr4fYcqcSpbuI95brIH3vnnYCquzzSxHPU6XGQCIkQRGJwhg0StNbj1eegrHs12\", \"https://cdn.bokeh.org/bokeh/release/bokeh-widgets-2.1.1.min.js\": \"xIGPmVtaOm+z0BqfSOMn4lOR6ciex448GIKG4eE61LsAvmGj48XcMQZtKcE/UXZe\", \"https://cdn.bokeh.org/bokeh/release/bokeh-tables-2.1.1.min.js\": \"Dc9u1wF/0zApGIWoBbH77iWEHtdmkuYWG839Uzmv8y8yBLXebjO9ZnERsde5Ln/P\", \"https://cdn.bokeh.org/bokeh/release/bokeh-gl-2.1.1.min.js\": \"cT9JaBz7GiRXdENrJLZNSC6eMNF3nh3fa5fTF51Svp+ukxPdwcU5kGXGPBgDCa2j\"};\n",
       "\n",
       "    for (var i = 0; i < js_urls.length; i++) {\n",
       "      var url = js_urls[i];\n",
       "      var element = document.createElement('script');\n",
       "      element.onload = on_load;\n",
       "      element.onerror = on_error;\n",
       "      element.async = false;\n",
       "      element.src = url;\n",
       "      if (url in hashes) {\n",
       "        element.crossOrigin = \"anonymous\";\n",
       "        element.integrity = \"sha384-\" + hashes[url];\n",
       "      }\n",
       "      console.debug(\"Bokeh: injecting script tag for BokehJS library: \", url);\n",
       "      document.head.appendChild(element);\n",
       "    }\n",
       "  };\n",
       "\n",
       "  function inject_raw_css(css) {\n",
       "    const element = document.createElement(\"style\");\n",
       "    element.appendChild(document.createTextNode(css));\n",
       "    document.body.appendChild(element);\n",
       "  }\n",
       "\n",
       "  \n",
       "  var js_urls = [\"https://cdn.bokeh.org/bokeh/release/bokeh-2.1.1.min.js\", \"https://cdn.bokeh.org/bokeh/release/bokeh-widgets-2.1.1.min.js\", \"https://cdn.bokeh.org/bokeh/release/bokeh-tables-2.1.1.min.js\", \"https://cdn.bokeh.org/bokeh/release/bokeh-gl-2.1.1.min.js\"];\n",
       "  var css_urls = [];\n",
       "  \n",
       "\n",
       "  var inline_js = [\n",
       "    function(Bokeh) {\n",
       "      Bokeh.set_log_level(\"info\");\n",
       "    },\n",
       "    function(Bokeh) {\n",
       "    \n",
       "    \n",
       "    }\n",
       "  ];\n",
       "\n",
       "  function run_inline_js() {\n",
       "    \n",
       "    if (root.Bokeh !== undefined || force === true) {\n",
       "      \n",
       "    for (var i = 0; i < inline_js.length; i++) {\n",
       "      inline_js[i].call(root, root.Bokeh);\n",
       "    }\n",
       "    if (force === true) {\n",
       "        display_loaded();\n",
       "      }} else if (Date.now() < root._bokeh_timeout) {\n",
       "      setTimeout(run_inline_js, 100);\n",
       "    } else if (!root._bokeh_failed_load) {\n",
       "      console.log(\"Bokeh: BokehJS failed to load within specified timeout.\");\n",
       "      root._bokeh_failed_load = true;\n",
       "    } else if (force !== true) {\n",
       "      var cell = $(document.getElementById(\"1001\")).parents('.cell').data().cell;\n",
       "      cell.output_area.append_execute_result(NB_LOAD_WARNING)\n",
       "    }\n",
       "\n",
       "  }\n",
       "\n",
       "  if (root._bokeh_is_loading === 0) {\n",
       "    console.debug(\"Bokeh: BokehJS loaded, going straight to plotting\");\n",
       "    run_inline_js();\n",
       "  } else {\n",
       "    load_libs(css_urls, js_urls, function() {\n",
       "      console.debug(\"Bokeh: BokehJS plotting callback run at\", now());\n",
       "      run_inline_js();\n",
       "    });\n",
       "  }\n",
       "}(window));"
      ],
      "application/vnd.bokehjs_load.v0+json": "\n(function(root) {\n  function now() {\n    return new Date();\n  }\n\n  var force = true;\n\n  if (typeof root._bokeh_onload_callbacks === \"undefined\" || force === true) {\n    root._bokeh_onload_callbacks = [];\n    root._bokeh_is_loading = undefined;\n  }\n\n  \n\n  \n  if (typeof (root._bokeh_timeout) === \"undefined\" || force === true) {\n    root._bokeh_timeout = Date.now() + 5000;\n    root._bokeh_failed_load = false;\n  }\n\n  var NB_LOAD_WARNING = {'data': {'text/html':\n     \"<div style='background-color: #fdd'>\\n\"+\n     \"<p>\\n\"+\n     \"BokehJS does not appear to have successfully loaded. If loading BokehJS from CDN, this \\n\"+\n     \"may be due to a slow or bad network connection. Possible fixes:\\n\"+\n     \"</p>\\n\"+\n     \"<ul>\\n\"+\n     \"<li>re-rerun `output_notebook()` to attempt to load from CDN again, or</li>\\n\"+\n     \"<li>use INLINE resources instead, as so:</li>\\n\"+\n     \"</ul>\\n\"+\n     \"<code>\\n\"+\n     \"from bokeh.resources import INLINE\\n\"+\n     \"output_notebook(resources=INLINE)\\n\"+\n     \"</code>\\n\"+\n     \"</div>\"}};\n\n  function display_loaded() {\n    var el = document.getElementById(\"1001\");\n    if (el != null) {\n      el.textContent = \"BokehJS is loading...\";\n    }\n    if (root.Bokeh !== undefined) {\n      if (el != null) {\n        el.textContent = \"BokehJS \" + root.Bokeh.version + \" successfully loaded.\";\n      }\n    } else if (Date.now() < root._bokeh_timeout) {\n      setTimeout(display_loaded, 100)\n    }\n  }\n\n\n  function run_callbacks() {\n    try {\n      root._bokeh_onload_callbacks.forEach(function(callback) {\n        if (callback != null)\n          callback();\n      });\n    } finally {\n      delete root._bokeh_onload_callbacks\n    }\n    console.debug(\"Bokeh: all callbacks have finished\");\n  }\n\n  function load_libs(css_urls, js_urls, callback) {\n    if (css_urls == null) css_urls = [];\n    if (js_urls == null) js_urls = [];\n\n    root._bokeh_onload_callbacks.push(callback);\n    if (root._bokeh_is_loading > 0) {\n      console.debug(\"Bokeh: BokehJS is being loaded, scheduling callback at\", now());\n      return null;\n    }\n    if (js_urls == null || js_urls.length === 0) {\n      run_callbacks();\n      return null;\n    }\n    console.debug(\"Bokeh: BokehJS not loaded, scheduling load and callback at\", now());\n    root._bokeh_is_loading = css_urls.length + js_urls.length;\n\n    function on_load() {\n      root._bokeh_is_loading--;\n      if (root._bokeh_is_loading === 0) {\n        console.debug(\"Bokeh: all BokehJS libraries/stylesheets loaded\");\n        run_callbacks()\n      }\n    }\n\n    function on_error() {\n      console.error(\"failed to load \" + url);\n    }\n\n    for (var i = 0; i < css_urls.length; i++) {\n      var url = css_urls[i];\n      const element = document.createElement(\"link\");\n      element.onload = on_load;\n      element.onerror = on_error;\n      element.rel = \"stylesheet\";\n      element.type = \"text/css\";\n      element.href = url;\n      console.debug(\"Bokeh: injecting link tag for BokehJS stylesheet: \", url);\n      document.body.appendChild(element);\n    }\n\n    const hashes = {\"https://cdn.bokeh.org/bokeh/release/bokeh-2.1.1.min.js\": \"kLr4fYcqcSpbuI95brIH3vnnYCquzzSxHPU6XGQCIkQRGJwhg0StNbj1eegrHs12\", \"https://cdn.bokeh.org/bokeh/release/bokeh-widgets-2.1.1.min.js\": \"xIGPmVtaOm+z0BqfSOMn4lOR6ciex448GIKG4eE61LsAvmGj48XcMQZtKcE/UXZe\", \"https://cdn.bokeh.org/bokeh/release/bokeh-tables-2.1.1.min.js\": \"Dc9u1wF/0zApGIWoBbH77iWEHtdmkuYWG839Uzmv8y8yBLXebjO9ZnERsde5Ln/P\", \"https://cdn.bokeh.org/bokeh/release/bokeh-gl-2.1.1.min.js\": \"cT9JaBz7GiRXdENrJLZNSC6eMNF3nh3fa5fTF51Svp+ukxPdwcU5kGXGPBgDCa2j\"};\n\n    for (var i = 0; i < js_urls.length; i++) {\n      var url = js_urls[i];\n      var element = document.createElement('script');\n      element.onload = on_load;\n      element.onerror = on_error;\n      element.async = false;\n      element.src = url;\n      if (url in hashes) {\n        element.crossOrigin = \"anonymous\";\n        element.integrity = \"sha384-\" + hashes[url];\n      }\n      console.debug(\"Bokeh: injecting script tag for BokehJS library: \", url);\n      document.head.appendChild(element);\n    }\n  };\n\n  function inject_raw_css(css) {\n    const element = document.createElement(\"style\");\n    element.appendChild(document.createTextNode(css));\n    document.body.appendChild(element);\n  }\n\n  \n  var js_urls = [\"https://cdn.bokeh.org/bokeh/release/bokeh-2.1.1.min.js\", \"https://cdn.bokeh.org/bokeh/release/bokeh-widgets-2.1.1.min.js\", \"https://cdn.bokeh.org/bokeh/release/bokeh-tables-2.1.1.min.js\", \"https://cdn.bokeh.org/bokeh/release/bokeh-gl-2.1.1.min.js\"];\n  var css_urls = [];\n  \n\n  var inline_js = [\n    function(Bokeh) {\n      Bokeh.set_log_level(\"info\");\n    },\n    function(Bokeh) {\n    \n    \n    }\n  ];\n\n  function run_inline_js() {\n    \n    if (root.Bokeh !== undefined || force === true) {\n      \n    for (var i = 0; i < inline_js.length; i++) {\n      inline_js[i].call(root, root.Bokeh);\n    }\n    if (force === true) {\n        display_loaded();\n      }} else if (Date.now() < root._bokeh_timeout) {\n      setTimeout(run_inline_js, 100);\n    } else if (!root._bokeh_failed_load) {\n      console.log(\"Bokeh: BokehJS failed to load within specified timeout.\");\n      root._bokeh_failed_load = true;\n    } else if (force !== true) {\n      var cell = $(document.getElementById(\"1001\")).parents('.cell').data().cell;\n      cell.output_area.append_execute_result(NB_LOAD_WARNING)\n    }\n\n  }\n\n  if (root._bokeh_is_loading === 0) {\n    console.debug(\"Bokeh: BokehJS loaded, going straight to plotting\");\n    run_inline_js();\n  } else {\n    load_libs(css_urls, js_urls, function() {\n      console.debug(\"Bokeh: BokehJS plotting callback run at\", now());\n      run_inline_js();\n    });\n  }\n}(window));"
     },
     "metadata": {},
     "output_type": "display_data"
    }
   ],
   "source": [
    "import sqlite3\n",
    "import pandas as pd\n",
    "import numpy as np\n",
    "from scipy.stats import wasserstein_distance\n",
    "from scipy.stats import chisquare, chi2_contingency\n",
    "\n",
    "import matplotlib.pyplot as plt\n",
    "import math\n",
    "from bokeh.io import push_notebook, show, output_notebook, export_png, export_svgs\n",
    "from bokeh.plotting import figure\n",
    "from bokeh.models import ColumnDataSource\n",
    "from bokeh.transform import dodge\n",
    "output_notebook()"
   ]
  },
  {
   "cell_type": "markdown",
   "metadata": {},
   "source": [
    "Choice of the synthetic database"
   ]
  },
  {
   "cell_type": "code",
   "execution_count": 2,
   "metadata": {},
   "outputs": [],
   "source": [
    "conn = sqlite3.connect(\"snds_Brittany_db0.db\")\n",
    "dpts=[\"22\",\"35\",\"29\",\"56\"]"
   ]
  },
  {
   "cell_type": "markdown",
   "metadata": {},
   "source": [
    "## Analysis of the synthetic population structure"
   ]
  },
  {
   "cell_type": "markdown",
   "metadata": {},
   "source": [
    "We start by loading the real population structure from raw data."
   ]
  },
  {
   "cell_type": "code",
   "execution_count": 3,
   "metadata": {},
   "outputs": [
    {
     "name": "stderr",
     "output_type": "stream",
     "text": [
      "/home/tguyet/.local/lib/python3.8/site-packages/IPython/core/interactiveshell.py:3062: DtypeWarning: Columns (3) have mixed types.Specify dtype option on import or set low_memory=False.\n",
      "  has_raised = await self.run_ast_nodes(code_ast.body, cell_name,\n"
     ]
    }
   ],
   "source": [
    "import os.path\n",
    "outdir=\"../datarep\"\n",
    "pop_saq = pd.read_csv( os.path.join(outdir,\"pop.csv\") )\n",
    "pop_tot = pop_saq['pop'].sum()"
   ]
  },
  {
   "cell_type": "markdown",
   "metadata": {},
   "source": [
    "And new, we extract the synthetic population structure from the database"
   ]
  },
  {
   "cell_type": "code",
   "execution_count": 4,
   "metadata": {},
   "outputs": [],
   "source": [
    "# On effectue une requête pour extraire les informations sur la population\n",
    "df = pd.read_sql_query(\"SELECT BEN_SEX_COD, BEN_RES_DPT, BEN_NAI_ANN, count(*) FROM IR_BEN_R GROUP BY BEN_SEX_COD, BEN_RES_DPT, BEN_NAI_ANN;\", conn)\n",
    "df.rename(columns={'BEN_SEX_COD':'sex','BEN_RES_DPT':'dpt', 'count(*)':'count'}, inplace=True)\n",
    "df['age']=2019-df.BEN_NAI_ANN\n",
    "df=df[['sex','dpt','age','count']]"
   ]
  },
  {
   "cell_type": "markdown",
   "metadata": {},
   "source": [
    "### Comparison of ages"
   ]
  },
  {
   "cell_type": "code",
   "execution_count": 5,
   "metadata": {},
   "outputs": [
    {
     "data": {
      "text/plain": [
       "<matplotlib.axes._subplots.AxesSubplot at 0x7f4c073b9e80>"
      ]
     },
     "execution_count": 5,
     "metadata": {},
     "output_type": "execute_result"
    },
    {
     "data": {
      "image/png": "[encoded data removed]",
      "text/plain": [
       "<Figure size 432x288 with 1 Axes>"
      ]
     },
     "metadata": {
      "needs_background": "light"
     },
     "output_type": "display_data"
    }
   ],
   "source": [
    "df_age=df.groupby([\"age\"]).agg({\"count\":\"sum\"}).reset_index()\n",
    "df_age.plot(x='age',y=\"count\")"
   ]
  },
  {
   "cell_type": "code",
   "execution_count": 6,
   "metadata": {},
   "outputs": [
    {
     "data": {
      "text/html": [
       "<div>\n",
       "<style scoped>\n",
       "    .dataframe tbody tr th:only-of-type {\n",
       "        vertical-align: middle;\n",
       "    }\n",
       "\n",
       "    .dataframe tbody tr th {\n",
       "        vertical-align: top;\n",
       "    }\n",
       "\n",
       "    .dataframe thead th {\n",
       "        text-align: right;\n",
       "    }\n",
       "</style>\n",
       "<table border=\"1\" class=\"dataframe\">\n",
       "  <thead>\n",
       "    <tr style=\"text-align: right;\">\n",
       "      <th></th>\n",
       "      <th>bin</th>\n",
       "      <th>count</th>\n",
       "    </tr>\n",
       "  </thead>\n",
       "  <tbody>\n",
       "    <tr>\n",
       "      <th>0</th>\n",
       "      <td>0</td>\n",
       "      <td>347</td>\n",
       "    </tr>\n",
       "    <tr>\n",
       "      <th>1</th>\n",
       "      <td>5</td>\n",
       "      <td>346</td>\n",
       "    </tr>\n",
       "    <tr>\n",
       "      <th>2</th>\n",
       "      <td>10</td>\n",
       "      <td>359</td>\n",
       "    </tr>\n",
       "    <tr>\n",
       "      <th>3</th>\n",
       "      <td>15</td>\n",
       "      <td>377</td>\n",
       "    </tr>\n",
       "    <tr>\n",
       "      <th>4</th>\n",
       "      <td>20</td>\n",
       "      <td>311</td>\n",
       "    </tr>\n",
       "  </tbody>\n",
       "</table>\n",
       "</div>"
      ],
      "text/plain": [
       "  bin  count\n",
       "0   0    347\n",
       "1   5    346\n",
       "2  10    359\n",
       "3  15    377\n",
       "4  20    311"
      ]
     },
     "execution_count": 6,
     "metadata": {},
     "output_type": "execute_result"
    }
   ],
   "source": [
    "# Ages are grouped in 5-years group to have the same structure as the real data\n",
    "age_bins=list(np.arange(0,100,5))\n",
    "age_bins.append(125)\n",
    "df_age['bin']=pd.cut(df_age.age,bins=age_bins,include_lowest=True, labels=age_bins[:-1])\n",
    "df_age_agg=df_age.groupby('bin').agg({\"count\":\"sum\"}).reset_index()\n",
    "df_age_agg.head()"
   ]
  },
  {
   "cell_type": "code",
   "execution_count": 7,
   "metadata": {},
   "outputs": [
    {
     "data": {
      "text/plain": [
       "<matplotlib.axes._subplots.AxesSubplot at 0x7f4c06c429d0>"
      ]
     },
     "execution_count": 7,
     "metadata": {},
     "output_type": "execute_result"
    },
    {
     "data": {
      "image/png": "[encoded data removed]",
      "text/plain": [
       "<Figure size 432x288 with 1 Axes>"
      ]
     },
     "metadata": {
      "needs_background": "light"
     },
     "output_type": "display_data"
    }
   ],
   "source": [
    "df_age_agg.plot.bar(x='bin',y=\"count\")"
   ]
  },
  {
   "cell_type": "code",
   "execution_count": 8,
   "metadata": {},
   "outputs": [],
   "source": [
    "#real population (selection of the two generated populations)\n",
    "pop_seq_dpt=pop_saq[ pop_saq['dpt'].isin(dpts) ].groupby(['age']).agg({'pop':'sum'}).reset_index()\n",
    "real_pop_size=sum(pop_seq_dpt['pop'])"
   ]
  },
  {
   "cell_type": "code",
   "execution_count": 9,
   "metadata": {},
   "outputs": [],
   "source": [
    "#the number of patients of the real population is proportionnaly scaled to the level of the synthetic database\n",
    "ratio = sum(df_age_agg['count'])/sum(pop_seq_dpt['pop'])\n",
    "pop_seq_dpt['pop'] *= ratio"
   ]
  },
  {
   "cell_type": "code",
   "execution_count": 10,
   "metadata": {},
   "outputs": [
    {
     "data": {
      "text/plain": [
       "<matplotlib.axes._subplots.AxesSubplot at 0x7f4c06b89220>"
      ]
     },
     "execution_count": 10,
     "metadata": {},
     "output_type": "execute_result"
    },
    {
     "data": {
      "image/png": "[encoded data removed]",
      "text/plain": [
       "<Figure size 432x288 with 1 Axes>"
      ]
     },
     "metadata": {
      "needs_background": "light"
     },
     "output_type": "display_data"
    }
   ],
   "source": [
    "pop_seq_dpt.plot.bar(x=\"age\",y=\"pop\")"
   ]
  },
  {
   "cell_type": "code",
   "execution_count": 11,
   "metadata": {},
   "outputs": [
    {
     "data": {
      "text/html": [
       "\n",
       "\n",
       "\n",
       "\n",
       "\n",
       "\n",
       "  <div class=\"bk-root\" id=\"b0efc2da-b17a-47e3-b90f-1651c4a7a654\" data-root-id=\"1002\"></div>\n"
      ]
     },
     "metadata": {},
     "output_type": "display_data"
    },
    {
     "data": {
      "application/javascript": [
       "(function(root) {\n",
       "  function embed_document(root) {\n",
       "    \n",
       "  var docs_json = {\"7f275a3e-0680-45b2-9094-8af9d492e5cf\":{\"roots\":{\"references\":[{\"attributes\":{\"below\":[{\"id\":\"1012\"}],\"center\":[{\"id\":\"1015\"},{\"id\":\"1019\"},{\"id\":\"1049\"}],\"left\":[{\"id\":\"1016\"}],\"plot_height\":300,\"renderers\":[{\"id\":\"1039\"},{\"id\":\"1056\"}],\"title\":null,\"toolbar\":{\"id\":\"1027\"},\"x_range\":{\"id\":\"1004\"},\"x_scale\":{\"id\":\"1008\"},\"y_range\":{\"id\":\"1006\"},\"y_scale\":{\"id\":\"1010\"}},\"id\":\"1002\",\"subtype\":\"Figure\",\"type\":\"Plot\"},{\"attributes\":{},\"id\":\"1023\",\"type\":\"SaveTool\"},{\"attributes\":{\"bottom_units\":\"screen\",\"fill_alpha\":0.5,\"fill_color\":\"lightgrey\",\"left_units\":\"screen\",\"level\":\"overlay\",\"line_alpha\":1.0,\"line_color\":\"black\",\"line_dash\":[4,4],\"line_width\":2,\"right_units\":\"screen\",\"top_units\":\"screen\"},\"id\":\"1026\",\"type\":\"BoxAnnotation\"},{\"attributes\":{\"source\":{\"id\":\"1052\"}},\"id\":\"1057\",\"type\":\"CDSView\"},{\"attributes\":{},\"id\":\"1013\",\"type\":\"BasicTicker\"},{\"attributes\":{},\"id\":\"1020\",\"type\":\"PanTool\"},{\"attributes\":{\"range\":{\"id\":\"1004\"},\"value\":0.5},\"id\":\"1051\",\"type\":\"Dodge\"},{\"attributes\":{\"axis\":{\"id\":\"1016\"},\"dimension\":1,\"ticker\":null,\"visible\":false},\"id\":\"1019\",\"type\":\"Grid\"},{\"attributes\":{},\"id\":\"1066\",\"type\":\"UnionRenderers\"},{\"attributes\":{\"data_source\":{\"id\":\"1052\"},\"glyph\":{\"id\":\"1054\"},\"hover_glyph\":null,\"muted_glyph\":null,\"nonselection_glyph\":{\"id\":\"1055\"},\"selection_glyph\":null,\"view\":{\"id\":\"1057\"}},\"id\":\"1056\",\"type\":\"GlyphRenderer\"},{\"attributes\":{\"axis_label\":\"Nb\",\"formatter\":{\"id\":\"1043\"},\"ticker\":{\"id\":\"1017\"}},\"id\":\"1016\",\"type\":\"LinearAxis\"},{\"attributes\":{},\"id\":\"1010\",\"type\":\"LinearScale\"},{\"attributes\":{},\"id\":\"1025\",\"type\":\"HelpTool\"},{\"attributes\":{\"data_source\":{\"id\":\"1035\"},\"glyph\":{\"id\":\"1037\"},\"hover_glyph\":null,\"muted_glyph\":null,\"nonselection_glyph\":{\"id\":\"1038\"},\"selection_glyph\":null,\"view\":{\"id\":\"1040\"}},\"id\":\"1039\",\"type\":\"GlyphRenderer\"},{\"attributes\":{},\"id\":\"1021\",\"type\":\"WheelZoomTool\"},{\"attributes\":{\"data\":{\"age\":[0,5,10,15,20,25,30,35,40,45,50,55,60,65,70,75,80,85,90,95],\"index\":[0,1,2,3,4,5,6,7,8,9,10,11,12,13,14,15,16,17,18,19],\"pop\":{\"__ndarray__\":\"1sOU3afIckBBJ72NoCt1QOQW1X3+rnVAfWK+ZJtmdUAlOmCe4SZyQC9G0nmamHFAoLhzO/hNc0AUvH4TQ350QJI3ehj5qXZA/Xq7WCVad0CwC9zc4Cx3QGyE53iav3ZA4ebnJB+ldkCJhU2f0/h1QMaiqqQvjG1A4L6e2fg1akCVTbWqE7xmQGk5Y7Cse15A/a4FR4ckTEBUcsPJ8iclQA==\",\"dtype\":\"float64\",\"order\":\"little\",\"shape\":[20]},\"pop_sim\":[347,346,359,377,311,271,309,338,377,400,394,377,410,346,194,172,115,68,25,3]},\"selected\":{\"id\":\"1048\"},\"selection_policy\":{\"id\":\"1047\"}},\"id\":\"1035\",\"type\":\"ColumnDataSource\"},{\"attributes\":{\"label\":{\"value\":\"Synth\"},\"renderers\":[{\"id\":\"1056\"}]},\"id\":\"1068\",\"type\":\"LegendItem\"},{\"attributes\":{\"fill_alpha\":{\"value\":0.1},\"fill_color\":{\"value\":\"orange\"},\"line_alpha\":{\"value\":0.1},\"line_color\":{\"value\":\"#1f77b4\"},\"top\":{\"field\":\"pop_sim\"},\"width\":{\"value\":1},\"x\":{\"field\":\"age\",\"transform\":{\"id\":\"1051\"}}},\"id\":\"1055\",\"type\":\"VBar\"},{\"attributes\":{},\"id\":\"1067\",\"type\":\"Selection\"},{\"attributes\":{\"items\":[{\"id\":\"1050\"},{\"id\":\"1068\"}]},\"id\":\"1049\",\"type\":\"Legend\"},{\"attributes\":{\"end\":96,\"start\":-1},\"id\":\"1004\",\"type\":\"Range1d\"},{\"attributes\":{},\"id\":\"1047\",\"type\":\"UnionRenderers\"},{\"attributes\":{\"fill_color\":{\"value\":\"#1f77b4\"},\"line_color\":{\"value\":\"#1f77b4\"},\"top\":{\"field\":\"pop\"},\"width\":{\"value\":1},\"x\":{\"field\":\"age\",\"transform\":{\"id\":\"1034\"}}},\"id\":\"1037\",\"type\":\"VBar\"},{\"attributes\":{\"fill_color\":{\"value\":\"orange\"},\"line_color\":{\"value\":\"#1f77b4\"},\"top\":{\"field\":\"pop_sim\"},\"width\":{\"value\":1},\"x\":{\"field\":\"age\",\"transform\":{\"id\":\"1051\"}}},\"id\":\"1054\",\"type\":\"VBar\"},{\"attributes\":{\"range\":{\"id\":\"1004\"},\"value\":-0.5},\"id\":\"1034\",\"type\":\"Dodge\"},{\"attributes\":{\"active_drag\":\"auto\",\"active_inspect\":\"auto\",\"active_multi\":null,\"active_scroll\":\"auto\",\"active_tap\":\"auto\",\"tools\":[{\"id\":\"1020\"},{\"id\":\"1021\"},{\"id\":\"1022\"},{\"id\":\"1023\"},{\"id\":\"1024\"},{\"id\":\"1025\"}]},\"id\":\"1027\",\"type\":\"Toolbar\"},{\"attributes\":{\"fill_alpha\":{\"value\":0.1},\"fill_color\":{\"value\":\"#1f77b4\"},\"line_alpha\":{\"value\":0.1},\"line_color\":{\"value\":\"#1f77b4\"},\"top\":{\"field\":\"pop\"},\"width\":{\"value\":1},\"x\":{\"field\":\"age\",\"transform\":{\"id\":\"1034\"}}},\"id\":\"1038\",\"type\":\"VBar\"},{\"attributes\":{\"label\":{\"value\":\"Real\"},\"renderers\":[{\"id\":\"1039\"}]},\"id\":\"1050\",\"type\":\"LegendItem\"},{\"attributes\":{},\"id\":\"1048\",\"type\":\"Selection\"},{\"attributes\":{\"axis\":{\"id\":\"1012\"},\"ticker\":null,\"visible\":false},\"id\":\"1015\",\"type\":\"Grid\"},{\"attributes\":{\"overlay\":{\"id\":\"1026\"}},\"id\":\"1022\",\"type\":\"BoxZoomTool\"},{\"attributes\":{\"source\":{\"id\":\"1035\"}},\"id\":\"1040\",\"type\":\"CDSView\"},{\"attributes\":{\"data\":{\"age\":[0,5,10,15,20,25,30,35,40,45,50,55,60,65,70,75,80,85,90,95],\"index\":[0,1,2,3,4,5,6,7,8,9,10,11,12,13,14,15,16,17,18,19],\"pop\":{\"__ndarray__\":\"1sOU3afIckBBJ72NoCt1QOQW1X3+rnVAfWK+ZJtmdUAlOmCe4SZyQC9G0nmamHFAoLhzO/hNc0AUvH4TQ350QJI3ehj5qXZA/Xq7WCVad0CwC9zc4Cx3QGyE53iav3ZA4ebnJB+ldkCJhU2f0/h1QMaiqqQvjG1A4L6e2fg1akCVTbWqE7xmQGk5Y7Cse15A/a4FR4ckTEBUcsPJ8iclQA==\",\"dtype\":\"float64\",\"order\":\"little\",\"shape\":[20]},\"pop_sim\":[347,346,359,377,311,271,309,338,377,400,394,377,410,346,194,172,115,68,25,3]},\"selected\":{\"id\":\"1067\"},\"selection_policy\":{\"id\":\"1066\"}},\"id\":\"1052\",\"type\":\"ColumnDataSource\"},{\"attributes\":{\"formatter\":{\"id\":\"1045\"},\"major_label_orientation\":0.7853981633974483,\"ticker\":{\"id\":\"1013\"}},\"id\":\"1012\",\"type\":\"LinearAxis\"},{\"attributes\":{},\"id\":\"1045\",\"type\":\"BasicTickFormatter\"},{\"attributes\":{},\"id\":\"1008\",\"type\":\"LinearScale\"},{\"attributes\":{},\"id\":\"1024\",\"type\":\"ResetTool\"},{\"attributes\":{},\"id\":\"1017\",\"type\":\"BasicTicker\"},{\"attributes\":{},\"id\":\"1043\",\"type\":\"BasicTickFormatter\"},{\"attributes\":{\"end\":700},\"id\":\"1006\",\"type\":\"Range1d\"}],\"root_ids\":[\"1002\"]},\"title\":\"Bokeh Application\",\"version\":\"2.1.1\"}};\n",
       "  var render_items = [{\"docid\":\"7f275a3e-0680-45b2-9094-8af9d492e5cf\",\"root_ids\":[\"1002\"],\"roots\":{\"1002\":\"b0efc2da-b17a-47e3-b90f-1651c4a7a654\"}}];\n",
       "  root.Bokeh.embed.embed_items_notebook(docs_json, render_items);\n",
       "\n",
       "  }\n",
       "  if (root.Bokeh !== undefined) {\n",
       "    embed_document(root);\n",
       "  } else {\n",
       "    var attempts = 0;\n",
       "    var timer = setInterval(function(root) {\n",
       "      if (root.Bokeh !== undefined) {\n",
       "        clearInterval(timer);\n",
       "        embed_document(root);\n",
       "      } else {\n",
       "        attempts++;\n",
       "        if (attempts > 100) {\n",
       "          clearInterval(timer);\n",
       "          console.log(\"Bokeh: ERROR: Unable to run BokehJS code because BokehJS library is missing\");\n",
       "        }\n",
       "      }\n",
       "    }, 10, root)\n",
       "  }\n",
       "})(window);"
      ],
      "application/vnd.bokehjs_exec.v0+json": ""
     },
     "metadata": {
      "application/vnd.bokehjs_exec.v0+json": {
       "id": "1002"
      }
     },
     "output_type": "display_data"
    }
   ],
   "source": [
    "# We draw a graph to compare the two distributions\n",
    "pops=pd.merge(pop_seq_dpt, df_age_agg, left_on=\"age\", right_on=\"bin\")[['age','pop','count']].rename(columns={'count':'pop_sim'})\n",
    "\n",
    "p = figure(title=None, x_range=(-1,96), y_range=(0,700), plot_width=600, plot_height=300)\n",
    "p.xgrid.visible = False\n",
    "p.ygrid.visible = False\n",
    "p.xaxis.major_label_orientation = math.pi/4\n",
    "p.vbar(x=dodge('age', -0.5, range=p.x_range), top='pop', source=ColumnDataSource(pops), width=1,legend_label=\"Real\")\n",
    "p.vbar(x=dodge('age', +0.5, range=p.x_range), top='pop_sim', fill_color=\"orange\", width=1, source=ColumnDataSource(pops),legend_label=\"Synth\")\n",
    "p.legend.location = \"top_right\"\n",
    "#p.xaxis.axis_label = 'ATC codes'\n",
    "p.yaxis.axis_label = 'Nb'\n",
    "show(p)"
   ]
  },
  {
   "cell_type": "code",
   "execution_count": 12,
   "metadata": {},
   "outputs": [
    {
     "name": "stdout",
     "output_type": "stream",
     "text": [
      "0.09237408948824109\n",
      "0.16242683476400696\n"
     ]
    }
   ],
   "source": [
    "# Compute of the total absolute difference between the two distributions\n",
    "print( np.sum(np.abs(pops['pop_sim']-pops['pop']))/np.sum(pops['pop']) )\n",
    "# Compute of the mean absolute difference between the two distributions\n",
    "print( np.mean(np.abs(pops['pop_sim']-pops['pop'])/pops['pop']) )"
   ]
  },
  {
   "cell_type": "markdown",
   "metadata": {},
   "source": [
    "### Kolmogorov-Smirnov test\n",
    "The Kolmogorov-Smirnov test tests whether two one-dimensional distributions differ. \n",
    "\n",
    "$D_{n,m}=\\max(F_r(x),F_s(x))$ where $F_r$ (resp. $F_s$) is the cumulative distribution function of the real population (resp. synthetic population), and $m$, $n$ are the population sizes (number of samples).\n",
    "\n",
    "the null hypothesis is rejected at level $\\alpha$ (ie it really differs) if the difference is above a critical value:\n",
    "$$D_{n,m}>c(\\alpha)\\sqrt{\\frac{n + m}{n\\cdot m}}$$\n",
    "\n",
    "where $c\\left(\\alpha\\right)=\\sqrt{-\\ln\\left(\\tfrac{\\alpha}{2}\\right)\\cdot \\tfrac{1}{2}}$.\n",
    "\n",
    "<br>\n",
    "\n",
    "In the following, we use $n=m$ equals to the size of the sampled database. \n"
   ]
  },
  {
   "cell_type": "code",
   "execution_count": 13,
   "metadata": {},
   "outputs": [],
   "source": [
    "# Cumulative distribution functions\n",
    "P_r = pops['pop'].to_numpy()/pops['pop'].sum()\n",
    "CDF_r = np.cumsum(P_r)\n",
    "P_s = pops['pop_sim'].to_numpy()/pops['pop_sim'].sum()\n",
    "CDF_s = np.cumsum(P_s)"
   ]
  },
  {
   "cell_type": "code",
   "execution_count": 14,
   "metadata": {},
   "outputs": [
    {
     "name": "stdout",
     "output_type": "stream",
     "text": [
      "False\n",
      "0.04428458692968196\n",
      "0.44624860134423544\n"
     ]
    }
   ],
   "source": [
    "#Implementation of the Kolmogorov-Smirnov test\n",
    "alpha=0.05 #95% critical value \n",
    "m=sum(df_age_agg['count'])\n",
    "n=real_pop_size\n",
    "statistic=np.max(np.abs(CDF_r-CDF_s))\n",
    "critical_value= np.sqrt(-np.log(alpha/2)*0.5)*np.sqrt( (n+m)/(m*m) )\n",
    "print(statistic>critical_value)\n",
    "print(statistic)\n",
    "print(critical_value)"
   ]
  },
  {
   "cell_type": "markdown",
   "metadata": {},
   "source": [
    "We conclude that the distributions are not significantly different (p<0.05)."
   ]
  },
  {
   "cell_type": "markdown",
   "metadata": {},
   "source": [
    "### KL Divergence / JS divergence\n",
    "\n",
    "Kullback-Leibler (KL) Divergence is a measure based on entropy to compare two distributions $P$ and $P$. The Jensen-Shannon is the symmetric version of KL divergence.\n",
    "\n",
    "$$D_\\text{KL}(P \\parallel Q) = \\sum_{x\\in\\mathcal{X}} P(x) \\log\\left(\\frac{P(x)}{Q(x)}\\right)$$\n",
    "\n",
    "and \n",
    "$$D_\\text{JS}(P \\parallel Q) = \\frac{1}{2}D_\\text{KL}(P \\parallel Q) + \\frac{1}{2}D_\\text{KL}(Q \\parallel P)$$"
   ]
  },
  {
   "cell_type": "code",
   "execution_count": 15,
   "metadata": {},
   "outputs": [],
   "source": [
    "# calculate the kl divergence\n",
    "def kl_divergence(p, q):\n",
    "    return sum(p[i] * np.log(p[i]/q[i])/np.log(2) for i in range(len(p)))\n",
    " \n",
    "# calculate the js divergence\n",
    "def js_divergence(p, q):\n",
    "    m = 0.5 * (p + q)\n",
    "    return 0.5 * kl_divergence(p, m) + 0.5 * kl_divergence(q, m)"
   ]
  },
  {
   "cell_type": "markdown",
   "metadata": {},
   "source": [
    "Then, we simply have to apply the function on our distributions\n",
    "\n"
   ]
  },
  {
   "cell_type": "code",
   "execution_count": 16,
   "metadata": {},
   "outputs": [
    {
     "data": {
      "text/plain": [
       "0.004356938140303161"
      ]
     },
     "execution_count": 16,
     "metadata": {},
     "output_type": "execute_result"
    }
   ],
   "source": [
    "js_divergence(pops['pop'].to_numpy()/pops['pop'].sum(), pops['pop_sim'].to_numpy()/pops['pop_sim'].sum())"
   ]
  },
  {
   "cell_type": "markdown",
   "metadata": {},
   "source": [
    "### Wasserstein distance (Earth's mover distance)"
   ]
  },
  {
   "cell_type": "code",
   "execution_count": 17,
   "metadata": {},
   "outputs": [
    {
     "data": {
      "text/plain": [
       "0.00451847581229106"
      ]
     },
     "execution_count": 17,
     "metadata": {},
     "output_type": "execute_result"
    }
   ],
   "source": [
    "wasserstein_distance(pops['pop'].to_numpy()/pops['pop'].sum(), pops['pop_sim'].to_numpy()/pops['pop_sim'].sum())"
   ]
  },
  {
   "cell_type": "markdown",
   "metadata": {},
   "source": [
    "## Now ... the same for genders\n"
   ]
  },
  {
   "cell_type": "code",
   "execution_count": 18,
   "metadata": {},
   "outputs": [
    {
     "data": {
      "text/html": [
       "<div>\n",
       "<style scoped>\n",
       "    .dataframe tbody tr th:only-of-type {\n",
       "        vertical-align: middle;\n",
       "    }\n",
       "\n",
       "    .dataframe tbody tr th {\n",
       "        vertical-align: top;\n",
       "    }\n",
       "\n",
       "    .dataframe thead th {\n",
       "        text-align: right;\n",
       "    }\n",
       "</style>\n",
       "<table border=\"1\" class=\"dataframe\">\n",
       "  <thead>\n",
       "    <tr style=\"text-align: right;\">\n",
       "      <th></th>\n",
       "      <th>sex</th>\n",
       "      <th>count</th>\n",
       "    </tr>\n",
       "  </thead>\n",
       "  <tbody>\n",
       "    <tr>\n",
       "      <th>0</th>\n",
       "      <td>1</td>\n",
       "      <td>2635</td>\n",
       "    </tr>\n",
       "    <tr>\n",
       "      <th>1</th>\n",
       "      <td>2</td>\n",
       "      <td>2904</td>\n",
       "    </tr>\n",
       "  </tbody>\n",
       "</table>\n",
       "</div>"
      ],
      "text/plain": [
       "   sex  count\n",
       "0    1   2635\n",
       "1    2   2904"
      ]
     },
     "execution_count": 18,
     "metadata": {},
     "output_type": "execute_result"
    }
   ],
   "source": [
    "df_sex=df.groupby([\"sex\"]).agg({\"count\":\"sum\"}).reset_index()\n",
    "df_sex"
   ]
  },
  {
   "cell_type": "code",
   "execution_count": 19,
   "metadata": {},
   "outputs": [
    {
     "data": {
      "text/html": [
       "<div>\n",
       "<style scoped>\n",
       "    .dataframe tbody tr th:only-of-type {\n",
       "        vertical-align: middle;\n",
       "    }\n",
       "\n",
       "    .dataframe tbody tr th {\n",
       "        vertical-align: top;\n",
       "    }\n",
       "\n",
       "    .dataframe thead th {\n",
       "        text-align: right;\n",
       "    }\n",
       "</style>\n",
       "<table border=\"1\" class=\"dataframe\">\n",
       "  <thead>\n",
       "    <tr style=\"text-align: right;\">\n",
       "      <th></th>\n",
       "      <th>sex</th>\n",
       "      <th>pop</th>\n",
       "    </tr>\n",
       "  </thead>\n",
       "  <tbody>\n",
       "    <tr>\n",
       "      <th>0</th>\n",
       "      <td>1</td>\n",
       "      <td>1.606014e+06</td>\n",
       "    </tr>\n",
       "    <tr>\n",
       "      <th>1</th>\n",
       "      <td>2</td>\n",
       "      <td>1.700917e+06</td>\n",
       "    </tr>\n",
       "  </tbody>\n",
       "</table>\n",
       "</div>"
      ],
      "text/plain": [
       "   sex           pop\n",
       "0    1  1.606014e+06\n",
       "1    2  1.700917e+06"
      ]
     },
     "execution_count": 19,
     "metadata": {},
     "output_type": "execute_result"
    }
   ],
   "source": [
    "pop_sex_dpt=pop_saq[pop_saq['dpt'].isin(dpts)].groupby(['sex']).agg({'pop':'sum'}).reset_index()\n",
    "pop_sex_dpt"
   ]
  },
  {
   "cell_type": "code",
   "execution_count": 20,
   "metadata": {},
   "outputs": [],
   "source": [
    "#same proportion for figures\n",
    "pop_sex_dpt['pop'] = ratio*pop_sex_dpt['pop']\n",
    "pops_sex=pd.merge(pop_sex_dpt,df_sex,on='sex').rename(columns={\"count\":\"pop_sim\"})"
   ]
  },
  {
   "cell_type": "code",
   "execution_count": 21,
   "metadata": {},
   "outputs": [
    {
     "data": {
      "text/html": [
       "\n",
       "\n",
       "\n",
       "\n",
       "\n",
       "\n",
       "  <div class=\"bk-root\" id=\"d7da37ea-3871-4928-822c-13175adf4d03\" data-root-id=\"1139\"></div>\n"
      ]
     },
     "metadata": {},
     "output_type": "display_data"
    },
    {
     "data": {
      "application/javascript": [
       "(function(root) {\n",
       "  function embed_document(root) {\n",
       "    \n",
       "  var docs_json = {\"7dc97b42-e17a-46fb-945d-d0378233e138\":{\"roots\":{\"references\":[{\"attributes\":{\"below\":[{\"id\":\"1149\"}],\"center\":[{\"id\":\"1151\"},{\"id\":\"1155\"},{\"id\":\"1185\"}],\"left\":[{\"id\":\"1152\"}],\"plot_height\":300,\"plot_width\":400,\"renderers\":[{\"id\":\"1175\"},{\"id\":\"1192\"}],\"title\":null,\"toolbar\":{\"id\":\"1163\"},\"x_range\":{\"id\":\"1141\"},\"x_scale\":{\"id\":\"1145\"},\"y_range\":{\"id\":\"1143\"},\"y_scale\":{\"id\":\"1147\"}},\"id\":\"1139\",\"subtype\":\"Figure\",\"type\":\"Plot\"},{\"attributes\":{\"range\":{\"id\":\"1141\"},\"value\":0.2},\"id\":\"1187\",\"type\":\"Dodge\"},{\"attributes\":{},\"id\":\"1184\",\"type\":\"Selection\"},{\"attributes\":{\"label\":{\"value\":\"Synth\"},\"renderers\":[{\"id\":\"1192\"}]},\"id\":\"1204\",\"type\":\"LegendItem\"},{\"attributes\":{},\"id\":\"1147\",\"type\":\"LinearScale\"},{\"attributes\":{\"bottom_units\":\"screen\",\"fill_alpha\":0.5,\"fill_color\":\"lightgrey\",\"left_units\":\"screen\",\"level\":\"overlay\",\"line_alpha\":1.0,\"line_color\":\"black\",\"line_dash\":[4,4],\"line_width\":2,\"right_units\":\"screen\",\"top_units\":\"screen\"},\"id\":\"1162\",\"type\":\"BoxAnnotation\"},{\"attributes\":{},\"id\":\"1160\",\"type\":\"ResetTool\"},{\"attributes\":{},\"id\":\"1181\",\"type\":\"CategoricalTickFormatter\"},{\"attributes\":{},\"id\":\"1150\",\"type\":\"CategoricalTicker\"},{\"attributes\":{\"data_source\":{\"id\":\"1171\"},\"glyph\":{\"id\":\"1173\"},\"hover_glyph\":null,\"muted_glyph\":null,\"nonselection_glyph\":{\"id\":\"1174\"},\"selection_glyph\":null,\"view\":{\"id\":\"1176\"}},\"id\":\"1175\",\"type\":\"GlyphRenderer\"},{\"attributes\":{\"factors\":[\"M\",\"F\"]},\"id\":\"1141\",\"type\":\"FactorRange\"},{\"attributes\":{},\"id\":\"1179\",\"type\":\"BasicTickFormatter\"},{\"attributes\":{\"fill_alpha\":{\"value\":0.1},\"fill_color\":{\"value\":\"#1f77b4\"},\"line_alpha\":{\"value\":0.1},\"line_color\":{\"value\":\"#1f77b4\"},\"top\":{\"field\":\"pop\"},\"width\":{\"value\":0.4},\"x\":{\"field\":\"sex\",\"transform\":{\"id\":\"1170\"}}},\"id\":\"1174\",\"type\":\"VBar\"},{\"attributes\":{},\"id\":\"1145\",\"type\":\"CategoricalScale\"},{\"attributes\":{},\"id\":\"1183\",\"type\":\"UnionRenderers\"},{\"attributes\":{\"range\":{\"id\":\"1141\"},\"value\":-0.2},\"id\":\"1170\",\"type\":\"Dodge\"},{\"attributes\":{\"data\":{\"index\":[0,1],\"pop\":{\"__ndarray__\":\"KV/BogoEpUABoT5d9UGmQA==\",\"dtype\":\"float64\",\"order\":\"little\",\"shape\":[2]},\"pop_sim\":[2635,2904],\"sex\":[\"M\",\"F\"]},\"selected\":{\"id\":\"1203\"},\"selection_policy\":{\"id\":\"1202\"}},\"id\":\"1188\",\"type\":\"ColumnDataSource\"},{\"attributes\":{},\"id\":\"1202\",\"type\":\"UnionRenderers\"},{\"attributes\":{},\"id\":\"1203\",\"type\":\"Selection\"},{\"attributes\":{},\"id\":\"1143\",\"type\":\"DataRange1d\"},{\"attributes\":{\"source\":{\"id\":\"1171\"}},\"id\":\"1176\",\"type\":\"CDSView\"},{\"attributes\":{\"axis\":{\"id\":\"1152\"},\"dimension\":1,\"ticker\":null,\"visible\":false},\"id\":\"1155\",\"type\":\"Grid\"},{\"attributes\":{\"items\":[{\"id\":\"1186\"},{\"id\":\"1204\"}],\"location\":\"bottom_right\"},\"id\":\"1185\",\"type\":\"Legend\"},{\"attributes\":{\"axis_label\":\"Nb\",\"formatter\":{\"id\":\"1179\"},\"ticker\":{\"id\":\"1153\"}},\"id\":\"1152\",\"type\":\"LinearAxis\"},{\"attributes\":{\"data\":{\"index\":[0,1],\"pop\":{\"__ndarray__\":\"KV/BogoEpUABoT5d9UGmQA==\",\"dtype\":\"float64\",\"order\":\"little\",\"shape\":[2]},\"pop_sim\":[2635,2904],\"sex\":[\"M\",\"F\"]},\"selected\":{\"id\":\"1184\"},\"selection_policy\":{\"id\":\"1183\"}},\"id\":\"1171\",\"type\":\"ColumnDataSource\"},{\"attributes\":{},\"id\":\"1153\",\"type\":\"BasicTicker\"},{\"attributes\":{\"fill_color\":{\"value\":\"orange\"},\"line_color\":{\"value\":\"#1f77b4\"},\"top\":{\"field\":\"pop_sim\"},\"width\":{\"value\":0.4},\"x\":{\"field\":\"sex\",\"transform\":{\"id\":\"1187\"}}},\"id\":\"1190\",\"type\":\"VBar\"},{\"attributes\":{\"formatter\":{\"id\":\"1181\"},\"major_label_orientation\":0.7853981633974483,\"ticker\":{\"id\":\"1150\"}},\"id\":\"1149\",\"type\":\"CategoricalAxis\"},{\"attributes\":{\"axis\":{\"id\":\"1149\"},\"ticker\":null,\"visible\":false},\"id\":\"1151\",\"type\":\"Grid\"},{\"attributes\":{},\"id\":\"1157\",\"type\":\"WheelZoomTool\"},{\"attributes\":{},\"id\":\"1161\",\"type\":\"HelpTool\"},{\"attributes\":{\"fill_color\":{\"value\":\"#1f77b4\"},\"line_color\":{\"value\":\"#1f77b4\"},\"top\":{\"field\":\"pop\"},\"width\":{\"value\":0.4},\"x\":{\"field\":\"sex\",\"transform\":{\"id\":\"1170\"}}},\"id\":\"1173\",\"type\":\"VBar\"},{\"attributes\":{\"label\":{\"value\":\"Real\"},\"renderers\":[{\"id\":\"1175\"}]},\"id\":\"1186\",\"type\":\"LegendItem\"},{\"attributes\":{\"data_source\":{\"id\":\"1188\"},\"glyph\":{\"id\":\"1190\"},\"hover_glyph\":null,\"muted_glyph\":null,\"nonselection_glyph\":{\"id\":\"1191\"},\"selection_glyph\":null,\"view\":{\"id\":\"1193\"}},\"id\":\"1192\",\"type\":\"GlyphRenderer\"},{\"attributes\":{\"overlay\":{\"id\":\"1162\"}},\"id\":\"1158\",\"type\":\"BoxZoomTool\"},{\"attributes\":{\"active_drag\":\"auto\",\"active_inspect\":\"auto\",\"active_multi\":null,\"active_scroll\":\"auto\",\"active_tap\":\"auto\",\"tools\":[{\"id\":\"1156\"},{\"id\":\"1157\"},{\"id\":\"1158\"},{\"id\":\"1159\"},{\"id\":\"1160\"},{\"id\":\"1161\"}]},\"id\":\"1163\",\"type\":\"Toolbar\"},{\"attributes\":{\"source\":{\"id\":\"1188\"}},\"id\":\"1193\",\"type\":\"CDSView\"},{\"attributes\":{},\"id\":\"1159\",\"type\":\"SaveTool\"},{\"attributes\":{},\"id\":\"1156\",\"type\":\"PanTool\"},{\"attributes\":{\"fill_alpha\":{\"value\":0.1},\"fill_color\":{\"value\":\"orange\"},\"line_alpha\":{\"value\":0.1},\"line_color\":{\"value\":\"#1f77b4\"},\"top\":{\"field\":\"pop_sim\"},\"width\":{\"value\":0.4},\"x\":{\"field\":\"sex\",\"transform\":{\"id\":\"1187\"}}},\"id\":\"1191\",\"type\":\"VBar\"}],\"root_ids\":[\"1139\"]},\"title\":\"Bokeh Application\",\"version\":\"2.1.1\"}};\n",
       "  var render_items = [{\"docid\":\"7dc97b42-e17a-46fb-945d-d0378233e138\",\"root_ids\":[\"1139\"],\"roots\":{\"1139\":\"d7da37ea-3871-4928-822c-13175adf4d03\"}}];\n",
       "  root.Bokeh.embed.embed_items_notebook(docs_json, render_items);\n",
       "\n",
       "  }\n",
       "  if (root.Bokeh !== undefined) {\n",
       "    embed_document(root);\n",
       "  } else {\n",
       "    var attempts = 0;\n",
       "    var timer = setInterval(function(root) {\n",
       "      if (root.Bokeh !== undefined) {\n",
       "        clearInterval(timer);\n",
       "        embed_document(root);\n",
       "      } else {\n",
       "        attempts++;\n",
       "        if (attempts > 100) {\n",
       "          clearInterval(timer);\n",
       "          console.log(\"Bokeh: ERROR: Unable to run BokehJS code because BokehJS library is missing\");\n",
       "        }\n",
       "      }\n",
       "    }, 10, root)\n",
       "  }\n",
       "})(window);"
      ],
      "application/vnd.bokehjs_exec.v0+json": ""
     },
     "metadata": {
      "application/vnd.bokehjs_exec.v0+json": {
       "id": "1139"
      }
     },
     "output_type": "display_data"
    }
   ],
   "source": [
    "pops_sex['sex']=pops_sex['sex'].astype(\"str\").str.replace(\"1\",\"M\").replace(\"2\",\"F\")\n",
    "p = figure(title=None, x_range=pops_sex['sex'].to_numpy(), plot_width=400, plot_height=300)\n",
    "p.xgrid.visible = False\n",
    "p.ygrid.visible = False\n",
    "p.xaxis.major_label_orientation = math.pi/4\n",
    "p.vbar(x=dodge('sex', -0.2, range=p.x_range), top='pop', source=ColumnDataSource(pops_sex), width=0.4,legend_label=\"Real\")\n",
    "p.vbar(x=dodge('sex', +0.2, range=p.x_range), top='pop_sim', fill_color=\"orange\", width=0.4, source=ColumnDataSource(pops_sex),legend_label=\"Synth\")\n",
    "p.legend.location = \"bottom_right\"\n",
    "#p.xaxis.axis_label = 'ATC codes'\n",
    "p.yaxis.axis_label = 'Nb'\n",
    "show(p)"
   ]
  },
  {
   "cell_type": "markdown",
   "metadata": {},
   "source": [
    "### Quantitiative Comparisons\n",
    "\n",
    "We perform $\\chi^2$ test, and then we compute some distances."
   ]
  },
  {
   "cell_type": "code",
   "execution_count": 22,
   "metadata": {},
   "outputs": [
    {
     "data": {
      "text/plain": [
       "Power_divergenceResult(statistic=2.187962244669645, pvalue=0.1390932274584621)"
      ]
     },
     "execution_count": 22,
     "metadata": {},
     "output_type": "execute_result"
    }
   ],
   "source": [
    "chisquare(pops_sex['pop_sim'].to_numpy(), pops_sex['pop'].to_numpy())"
   ]
  },
  {
   "cell_type": "markdown",
   "metadata": {},
   "source": [
    "Here, the p-value is >0.05, then the null hypotheses (i.e. $H_0$: the two samples have the distribution) can not be rejected."
   ]
  },
  {
   "cell_type": "markdown",
   "metadata": {},
   "source": [
    "We simply compute the JS divergence in this case (not a continuous distribution)"
   ]
  },
  {
   "cell_type": "code",
   "execution_count": 23,
   "metadata": {},
   "outputs": [
    {
     "data": {
      "text/plain": [
       "7.128382603588564e-05"
      ]
     },
     "execution_count": 23,
     "metadata": {},
     "output_type": "execute_result"
    }
   ],
   "source": [
    "js_divergence(pops_sex['pop'].to_numpy()/pops_sex['pop'].sum(), pops_sex['pop_sim'].to_numpy()/pops_sex['pop_sim'].sum())"
   ]
  },
  {
   "cell_type": "code",
   "execution_count": 24,
   "metadata": {},
   "outputs": [
    {
     "data": {
      "text/plain": [
       "0.009933340490130171"
      ]
     },
     "execution_count": 24,
     "metadata": {},
     "output_type": "execute_result"
    }
   ],
   "source": [
    "wasserstein_distance(pops_sex['pop'].to_numpy()/pops_sex['pop'].sum(), pops_sex['pop_sim'].to_numpy()/pops_sex['pop_sim'].sum())"
   ]
  },
  {
   "cell_type": "markdown",
   "metadata": {},
   "source": [
    "### Mean values of KL divergence"
   ]
  },
  {
   "cell_type": "code",
   "execution_count": 25,
   "metadata": {},
   "outputs": [
    {
     "name": "stdout",
     "output_type": "stream",
     "text": [
      "[0.004356938140303201, 0.004420882702350876, 0.004603420481545648, 0.005024881232192281, 0.004465286450194141, 0.004366303290896521, 0.004313796599946898, 0.004570617246476349, 0.004324293724660682, 0.004737253741472602]\n",
      "mean: 4.52e-03, var: 4.55e-08\n",
      "[7.128382603588564e-05, 7.128382603588564e-05, 7.128382603588564e-05, 7.128382603588564e-05, 7.128382603588564e-05, 7.128382603588564e-05, 7.128382603588564e-05, 7.128382603588564e-05, 7.128382603588564e-05, 7.128382603588564e-05]\n",
      "mean: 7.13e-05, var: 0.00e+00\n"
     ]
    }
   ],
   "source": [
    "age_bins=list(np.arange(0,100,5))\n",
    "age_bins.append(125)\n",
    "\n",
    "js_age_vals=[]\n",
    "js_sex_vals=[]\n",
    "for i in range(10):\n",
    "    conni = sqlite3.connect(\"snds_Brittany_db%d.db\"%i)\n",
    "    df = pd.read_sql_query(\"SELECT BEN_SEX_COD, BEN_RES_DPT, BEN_NAI_ANN, count(*) FROM IR_BEN_R GROUP BY BEN_SEX_COD, BEN_RES_DPT, BEN_NAI_ANN;\", conni)\n",
    "    df.rename(columns={'BEN_SEX_COD':'sex','BEN_RES_DPT':'dpt', 'count(*)':'count'}, inplace=True)\n",
    "    df['age']=2019-df.BEN_NAI_ANN\n",
    "    df=df[['sex','dpt','age','count']]\n",
    "    \n",
    "    #ages\n",
    "    df['bin']=pd.cut(df.age,bins=age_bins,include_lowest=True, labels=age_bins[:-1])\n",
    "    df_age_agg=df.groupby('bin').agg({\"count\":\"sum\"}).reset_index()\n",
    "    \n",
    "    pop_seq_dpt=pop_saq[ pop_saq['dpt'].isin(dpts) ].groupby(['age']).agg({'pop':'sum'}).reset_index()\n",
    "    \n",
    "    pops=pd.merge(pop_seq_dpt, df_age_agg, left_on=\"age\", right_on=\"bin\")[['age','pop','count']].rename(columns={'count':'pop_sim'})\n",
    "    js=js_divergence(pops['pop'].to_numpy()/pops['pop'].sum(), pops['pop_sim'].to_numpy()/pops['pop_sim'].sum())\n",
    "    js_age_vals.append(js)\n",
    "    \n",
    "    df_sex=df.groupby([\"sex\"]).agg({\"count\":\"sum\"}).reset_index()\n",
    "    pop_sex_dpt=pop_saq[pop_saq['dpt'].isin(dpts)].groupby(['sex']).agg({'pop':'sum'}).reset_index()\n",
    "    pops_sex['sex']=pops_sex['sex'].astype(\"str\").str.replace(\"1\",\"M\").replace(\"2\",\"F\")\n",
    "    js=js_divergence(pops_sex['pop'].to_numpy()/pops_sex['pop'].sum(), pops_sex['pop_sim'].to_numpy()/pops_sex['pop_sim'].sum())\n",
    "    js_sex_vals.append(js)\n",
    "\n",
    "    conni.close()\n",
    "print(js_age_vals)\n",
    "print(\"mean: %.2e, var: %.2e\"%(np.mean(js_age_vals),np.var(js_age_vals)))\n",
    "print(js_sex_vals)\n",
    "print(\"mean: %.2e, var: %.2e\"%(np.mean(js_sex_vals),np.var(js_sex_vals)))"
   ]
  },
  {
   "cell_type": "markdown",
   "metadata": {},
   "source": [
    "## Analysis of the drug distributions"
   ]
  },
  {
   "cell_type": "code",
   "execution_count": 26,
   "metadata": {},
   "outputs": [
    {
     "data": {
      "text/html": [
       "<div>\n",
       "<style scoped>\n",
       "    .dataframe tbody tr th:only-of-type {\n",
       "        vertical-align: middle;\n",
       "    }\n",
       "\n",
       "    .dataframe tbody tr th {\n",
       "        vertical-align: top;\n",
       "    }\n",
       "\n",
       "    .dataframe thead th {\n",
       "        text-align: right;\n",
       "    }\n",
       "</style>\n",
       "<table border=\"1\" class=\"dataframe\">\n",
       "  <thead>\n",
       "    <tr style=\"text-align: right;\">\n",
       "      <th></th>\n",
       "      <th>ATC2</th>\n",
       "      <th>nb</th>\n",
       "    </tr>\n",
       "  </thead>\n",
       "  <tbody>\n",
       "    <tr>\n",
       "      <th>0</th>\n",
       "      <td>A01</td>\n",
       "      <td>1574</td>\n",
       "    </tr>\n",
       "    <tr>\n",
       "      <th>1</th>\n",
       "      <td>A02</td>\n",
       "      <td>7618</td>\n",
       "    </tr>\n",
       "    <tr>\n",
       "      <th>2</th>\n",
       "      <td>A03</td>\n",
       "      <td>3014</td>\n",
       "    </tr>\n",
       "    <tr>\n",
       "      <th>3</th>\n",
       "      <td>A04</td>\n",
       "      <td>556</td>\n",
       "    </tr>\n",
       "    <tr>\n",
       "      <th>4</th>\n",
       "      <td>A05</td>\n",
       "      <td>132</td>\n",
       "    </tr>\n",
       "    <tr>\n",
       "      <th>...</th>\n",
       "      <td>...</td>\n",
       "      <td>...</td>\n",
       "    </tr>\n",
       "    <tr>\n",
       "      <th>73</th>\n",
       "      <td>S02</td>\n",
       "      <td>383</td>\n",
       "    </tr>\n",
       "    <tr>\n",
       "      <th>74</th>\n",
       "      <td>V01</td>\n",
       "      <td>37</td>\n",
       "    </tr>\n",
       "    <tr>\n",
       "      <th>75</th>\n",
       "      <td>V03</td>\n",
       "      <td>92</td>\n",
       "    </tr>\n",
       "    <tr>\n",
       "      <th>76</th>\n",
       "      <td>V04</td>\n",
       "      <td>27</td>\n",
       "    </tr>\n",
       "    <tr>\n",
       "      <th>77</th>\n",
       "      <td>V08</td>\n",
       "      <td>437</td>\n",
       "    </tr>\n",
       "  </tbody>\n",
       "</table>\n",
       "<p>78 rows × 2 columns</p>\n",
       "</div>"
      ],
      "text/plain": [
       "   ATC2    nb\n",
       "0   A01  1574\n",
       "1   A02  7618\n",
       "2   A03  3014\n",
       "3   A04   556\n",
       "4   A05   132\n",
       "..  ...   ...\n",
       "73  S02   383\n",
       "74  V01    37\n",
       "75  V03    92\n",
       "76  V04    27\n",
       "77  V08   437\n",
       "\n",
       "[78 rows x 2 columns]"
      ]
     },
     "execution_count": 26,
     "metadata": {},
     "output_type": "execute_result"
    }
   ],
   "source": [
    "# On effectue une requête pour extraire les informations sur les médicaments (nombres de prescriptions par ATC 3)\n",
    "# -> là on a les chiffres généré pour 2 départements, sur 1 an\n",
    "df = pd.read_sql_query(\"SELECT PHA_ATC_C03, sum(PHA_ACT_QSN) FROM er_pha_f JOIN ir_pha_r ON ir_pha_r.PHA_CIP_C13=er_pha_f.PHA_PRS_C13 GROUP BY PHA_ATC_C03;\", conn)\n",
    "df.rename(columns={'PHA_ATC_C03':'ATC2','sum(PHA_ACT_QSN)':'nb'}, inplace=True)\n",
    "df"
   ]
  },
  {
   "cell_type": "code",
   "execution_count": 27,
   "metadata": {},
   "outputs": [],
   "source": [
    "# data for the French population, during a year\n",
    "data = pd.read_csv(\"../data/OPEN_MEDIC_2019.zip\", header=0, sep=';', encoding=\"latin_1\")[['ATC2','BOITES']]\n",
    "data = data.groupby(\"ATC2\").agg({'BOITES':'sum'}).reset_index().rename(columns={'BOITES':\"nb\"})"
   ]
  },
  {
   "cell_type": "code",
   "execution_count": 28,
   "metadata": {},
   "outputs": [
    {
     "data": {
      "text/html": [
       "<div>\n",
       "<style scoped>\n",
       "    .dataframe tbody tr th:only-of-type {\n",
       "        vertical-align: middle;\n",
       "    }\n",
       "\n",
       "    .dataframe tbody tr th {\n",
       "        vertical-align: top;\n",
       "    }\n",
       "\n",
       "    .dataframe thead th {\n",
       "        text-align: right;\n",
       "    }\n",
       "</style>\n",
       "<table border=\"1\" class=\"dataframe\">\n",
       "  <thead>\n",
       "    <tr style=\"text-align: right;\">\n",
       "      <th></th>\n",
       "      <th>ATC2</th>\n",
       "      <th>nb</th>\n",
       "    </tr>\n",
       "  </thead>\n",
       "  <tbody>\n",
       "    <tr>\n",
       "      <th>0</th>\n",
       "      <td>A01</td>\n",
       "      <td>22941566</td>\n",
       "    </tr>\n",
       "    <tr>\n",
       "      <th>1</th>\n",
       "      <td>A02</td>\n",
       "      <td>100746397</td>\n",
       "    </tr>\n",
       "    <tr>\n",
       "      <th>2</th>\n",
       "      <td>A03</td>\n",
       "      <td>48505314</td>\n",
       "    </tr>\n",
       "    <tr>\n",
       "      <th>3</th>\n",
       "      <td>A04</td>\n",
       "      <td>8452671</td>\n",
       "    </tr>\n",
       "    <tr>\n",
       "      <th>4</th>\n",
       "      <td>A05</td>\n",
       "      <td>1954634</td>\n",
       "    </tr>\n",
       "  </tbody>\n",
       "</table>\n",
       "</div>"
      ],
      "text/plain": [
       "  ATC2         nb\n",
       "0  A01   22941566\n",
       "1  A02  100746397\n",
       "2  A03   48505314\n",
       "3  A04    8452671\n",
       "4  A05    1954634"
      ]
     },
     "execution_count": 28,
     "metadata": {},
     "output_type": "execute_result"
    }
   ],
   "source": [
    "data.head()"
   ]
  },
  {
   "cell_type": "code",
   "execution_count": 29,
   "metadata": {},
   "outputs": [],
   "source": [
    "#we compute the population proportionality ratio\n",
    "ratio = sum( df_age_agg['count'] )/pop_tot"
   ]
  },
  {
   "cell_type": "code",
   "execution_count": 30,
   "metadata": {},
   "outputs": [
    {
     "data": {
      "text/html": [
       "<div>\n",
       "<style scoped>\n",
       "    .dataframe tbody tr th:only-of-type {\n",
       "        vertical-align: middle;\n",
       "    }\n",
       "\n",
       "    .dataframe tbody tr th {\n",
       "        vertical-align: top;\n",
       "    }\n",
       "\n",
       "    .dataframe thead th {\n",
       "        text-align: right;\n",
       "    }\n",
       "</style>\n",
       "<table border=\"1\" class=\"dataframe\">\n",
       "  <thead>\n",
       "    <tr style=\"text-align: right;\">\n",
       "      <th></th>\n",
       "      <th>ATC2</th>\n",
       "      <th>nb</th>\n",
       "      <th>nb_sim</th>\n",
       "    </tr>\n",
       "  </thead>\n",
       "  <tbody>\n",
       "    <tr>\n",
       "      <th>0</th>\n",
       "      <td>A01</td>\n",
       "      <td>1914.922384</td>\n",
       "      <td>1574.0</td>\n",
       "    </tr>\n",
       "    <tr>\n",
       "      <th>1</th>\n",
       "      <td>A02</td>\n",
       "      <td>8409.257273</td>\n",
       "      <td>7618.0</td>\n",
       "    </tr>\n",
       "    <tr>\n",
       "      <th>2</th>\n",
       "      <td>A03</td>\n",
       "      <td>4048.717142</td>\n",
       "      <td>3014.0</td>\n",
       "    </tr>\n",
       "    <tr>\n",
       "      <th>3</th>\n",
       "      <td>A04</td>\n",
       "      <td>705.540716</td>\n",
       "      <td>556.0</td>\n",
       "    </tr>\n",
       "    <tr>\n",
       "      <th>4</th>\n",
       "      <td>A05</td>\n",
       "      <td>163.152437</td>\n",
       "      <td>132.0</td>\n",
       "    </tr>\n",
       "  </tbody>\n",
       "</table>\n",
       "</div>"
      ],
      "text/plain": [
       "  ATC2           nb  nb_sim\n",
       "0  A01  1914.922384  1574.0\n",
       "1  A02  8409.257273  7618.0\n",
       "2  A03  4048.717142  3014.0\n",
       "3  A04   705.540716   556.0\n",
       "4  A05   163.152437   132.0"
      ]
     },
     "execution_count": 30,
     "metadata": {},
     "output_type": "execute_result"
    }
   ],
   "source": [
    "df_cmp=pd.merge(data,df,how=\"left\",on='ATC2',suffixes=('','_sim')).fillna(0)\n",
    "df_cmp['nb'] *= ratio\n",
    "df_cmp.head()"
   ]
  },
  {
   "cell_type": "code",
   "execution_count": 31,
   "metadata": {},
   "outputs": [
    {
     "data": {
      "text/html": [
       "\n",
       "\n",
       "\n",
       "\n",
       "\n",
       "\n",
       "  <div class=\"bk-root\" id=\"c6fe8042-c0fe-4a95-bdb5-664c99415c68\" data-root-id=\"1285\"></div>\n"
      ]
     },
     "metadata": {},
     "output_type": "display_data"
    },
    {
     "data": {
      "application/javascript": [
       "(function(root) {\n",
       "  function embed_document(root) {\n",
       "    \n",
       "  var docs_json = {\"cad1b1f8-8ab8-45a5-bdef-cb5ed2e6e23f\":{\"roots\":{\"references\":[{\"attributes\":{\"below\":[{\"id\":\"1295\"}],\"center\":[{\"id\":\"1297\"},{\"id\":\"1301\"},{\"id\":\"1331\"}],\"left\":[{\"id\":\"1298\"}],\"plot_height\":300,\"plot_width\":1200,\"renderers\":[{\"id\":\"1321\"},{\"id\":\"1338\"}],\"title\":null,\"toolbar\":{\"id\":\"1309\"},\"x_range\":{\"id\":\"1287\"},\"x_scale\":{\"id\":\"1291\"},\"y_range\":{\"id\":\"1289\"},\"y_scale\":{\"id\":\"1293\"}},\"id\":\"1285\",\"subtype\":\"Figure\",\"type\":\"Plot\"},{\"attributes\":{\"axis_label\":\"Nb\",\"formatter\":{\"id\":\"1325\"},\"ticker\":{\"id\":\"1299\"}},\"id\":\"1298\",\"type\":\"LinearAxis\"},{\"attributes\":{},\"id\":\"1302\",\"type\":\"PanTool\"},{\"attributes\":{\"fill_alpha\":{\"value\":0.1},\"fill_color\":{\"value\":\"orange\"},\"line_alpha\":{\"value\":0.1},\"line_color\":{\"value\":\"#1f77b4\"},\"top\":{\"field\":\"nb_sim\"},\"width\":{\"value\":0.4},\"x\":{\"field\":\"ATC2\",\"transform\":{\"id\":\"1316\"}}},\"id\":\"1320\",\"type\":\"VBar\"},{\"attributes\":{},\"id\":\"1330\",\"type\":\"Selection\"},{\"attributes\":{\"data_source\":{\"id\":\"1334\"},\"glyph\":{\"id\":\"1336\"},\"hover_glyph\":null,\"muted_glyph\":null,\"nonselection_glyph\":{\"id\":\"1337\"},\"selection_glyph\":null,\"view\":{\"id\":\"1339\"}},\"id\":\"1338\",\"type\":\"GlyphRenderer\"},{\"attributes\":{},\"id\":\"1296\",\"type\":\"CategoricalTicker\"},{\"attributes\":{\"items\":[{\"id\":\"1332\"},{\"id\":\"1350\"}]},\"id\":\"1331\",\"type\":\"Legend\"},{\"attributes\":{},\"id\":\"1305\",\"type\":\"SaveTool\"},{\"attributes\":{\"label\":{\"value\":\"Real\"},\"renderers\":[{\"id\":\"1338\"}]},\"id\":\"1350\",\"type\":\"LegendItem\"},{\"attributes\":{\"fill_color\":{\"value\":\"#1f77b4\"},\"line_color\":{\"value\":\"#1f77b4\"},\"top\":{\"field\":\"nb\"},\"width\":{\"value\":0.4},\"x\":{\"field\":\"ATC2\",\"transform\":{\"id\":\"1333\"}}},\"id\":\"1336\",\"type\":\"VBar\"},{\"attributes\":{},\"id\":\"1325\",\"type\":\"BasicTickFormatter\"},{\"attributes\":{},\"id\":\"1327\",\"type\":\"CategoricalTickFormatter\"},{\"attributes\":{\"range\":{\"id\":\"1287\"},\"value\":0.2},\"id\":\"1333\",\"type\":\"Dodge\"},{\"attributes\":{},\"id\":\"1348\",\"type\":\"UnionRenderers\"},{\"attributes\":{\"active_drag\":\"auto\",\"active_inspect\":\"auto\",\"active_multi\":null,\"active_scroll\":\"auto\",\"active_tap\":\"auto\",\"tools\":[{\"id\":\"1302\"},{\"id\":\"1303\"},{\"id\":\"1304\"},{\"id\":\"1305\"},{\"id\":\"1306\"},{\"id\":\"1307\"}]},\"id\":\"1309\",\"type\":\"Toolbar\"},{\"attributes\":{\"source\":{\"id\":\"1334\"}},\"id\":\"1339\",\"type\":\"CDSView\"},{\"attributes\":{\"axis\":{\"id\":\"1295\"},\"ticker\":null,\"visible\":false},\"id\":\"1297\",\"type\":\"Grid\"},{\"attributes\":{\"range\":{\"id\":\"1287\"},\"value\":-0.2},\"id\":\"1316\",\"type\":\"Dodge\"},{\"attributes\":{\"bottom_units\":\"screen\",\"fill_alpha\":0.5,\"fill_color\":\"lightgrey\",\"left_units\":\"screen\",\"level\":\"overlay\",\"line_alpha\":1.0,\"line_color\":\"black\",\"line_dash\":[4,4],\"line_width\":2,\"right_units\":\"screen\",\"top_units\":\"screen\"},\"id\":\"1308\",\"type\":\"BoxAnnotation\"},{\"attributes\":{\"factors\":[\"A01\",\"A02\",\"A03\",\"A04\",\"A05\",\"A06\",\"A07\",\"A09\",\"A10\",\"A11\",\"A12\",\"A14\",\"A16\",\"B01\",\"B02\",\"B03\",\"B05\",\"C01\",\"C02\",\"C03\",\"C04\",\"C05\",\"C07\",\"C08\",\"C09\",\"C10\",\"D01\",\"D02\",\"D05\",\"D06\",\"D07\",\"D08\",\"D10\",\"D11\",\"G01\",\"G02\",\"G03\",\"G04\",\"H01\",\"H02\",\"H03\",\"H04\",\"H05\",\"J01\",\"J02\",\"J04\",\"J05\",\"J06\",\"J07\",\"L01\",\"L02\",\"L03\",\"L04\",\"M01\",\"M02\",\"M03\",\"M04\",\"M05\",\"N01\",\"N02\",\"N03\",\"N04\",\"N05\",\"N06\",\"N07\",\"P01\",\"P02\",\"P03\",\"R01\",\"R03\",\"R05\",\"R06\",\"R07\",\"S01\",\"S02\",\"V01\",\"V03\",\"V04\",\"V07\",\"V08\"]},\"id\":\"1287\",\"type\":\"FactorRange\"},{\"attributes\":{\"data\":{\"ATC2\":[\"A01\",\"A02\",\"A03\",\"A04\",\"A05\",\"A06\",\"A07\",\"A09\",\"A10\",\"A11\",\"A12\",\"A14\",\"A16\",\"B01\",\"B02\",\"B03\",\"B05\",\"C01\",\"C02\",\"C03\",\"C04\",\"C05\",\"C07\",\"C08\",\"C09\",\"C10\",\"D01\",\"D02\",\"D05\",\"D06\",\"D07\",\"D08\",\"D10\",\"D11\",\"G01\",\"G02\",\"G03\",\"G04\",\"H01\",\"H02\",\"H03\",\"H04\",\"H05\",\"J01\",\"J02\",\"J04\",\"J05\",\"J06\",\"J07\",\"L01\",\"L02\",\"L03\",\"L04\",\"M01\",\"M02\",\"M03\",\"M04\",\"M05\",\"N01\",\"N02\",\"N03\",\"N04\",\"N05\",\"N06\",\"N07\",\"P01\",\"P02\",\"P03\",\"R01\",\"R03\",\"R05\",\"R06\",\"R07\",\"S01\",\"S02\",\"V01\",\"V03\",\"V04\",\"V07\",\"V08\"],\"index\":[0,1,2,3,4,5,6,7,8,9,10,11,12,13,14,15,16,17,18,19,20,21,22,23,24,25,26,27,28,29,30,31,32,33,34,35,36,37,38,39,40,41,42,43,44,45,46,47,48,49,50,51,52,53,54,55,56,57,58,59,60,61,62,63,64,65,66,67,68,69,70,71,72,73,74,75,76,77,78,79],\"nb\":{\"__ndarray__\":\"xrl9hbDrnUBzllTuoGzAQKh1Qi1voa9AS1D4YlMMhkD2NmLD4GRkQIDorBulJq1Aqp3uOLdNk0B+rvvFv61dQI2t9uZTN7ZAa6ovSvmPr0B2yy1HpMGZQN0psRp8W8A/It765pZxZ0AxmGgcLoS6QEUDF8Xmz2BAB29hpZoNnUD3JrUeO/aXQAXRGfmiA5RAhLy3Na6mhUC77CK5Z9CjQPY3YxVLylVAWn305wWKdT+oGjSTDiiwQNLumQ62u6BA8NpBw5sstUCfUrJ6LXevQNnS+zrb1ZlApzEbuWQ4h0BQOD7L/aVlQFPpzvI0dYNAcIJ57aepnEAxwXEFctaXQFM5PEUw/3dAu2yNekZGK0B/+HEs6k57QJLAtaeIBkVA1DKeYWEEp0AJUmBRaCagQEsOZmW3YltAcnZElTQjpkC459TjD22iQJtZHkb360BAI6NW8uG+QkD46JbbNuvCQP4aW85AuYBAmPTsfgxbPUASRL/jPPODQI+SQgxfGyFAh/Qith/Yn0CcTDEtCnlzQPH5hhDFJ3NAdG8p9EEZYkA7FYld9CeEQI9oeTTCDrFAo2yyQjxun0D7+WuwOH91QFWDxThNxJFAtXvXJI63aUCueH7KhT2YQHotPP0AieZAm8WlQCj+oUBoeFAOw16LQF/TUYxUAcRA+jJQrOfAtUA0+GLPnlOoQIJXs+0lFnRAN7wjzbdXakB6OvDd2/lCQP6zsQHXcKNAIvruI5A+sUDWBVwb2UeaQBga2dRJWq1AC7lck7/Lvz9G7KV3Ndi3QJ6eaJ5g831A9Yj784q8QkDRcNjpTEtdQATmrvFku0VA+DHb2aQ/Vz9Xpd1cyUOBQA==\",\"dtype\":\"float64\",\"order\":\"little\",\"shape\":[80]},\"nb_sim\":{\"__ndarray__\":\"AAAAAACYmEAAAAAAAMK9QAAAAAAAjKdAAAAAAABggUAAAAAAAIBgQAAAAAAA5KtAAAAAAACAj0AAAAAAAABjQAAAAAAACK1AAAAAAAAMsEAAAAAAAMybQAAAAAAAAAAAAAAAAADAZUAAAAAAAPm5QAAAAAAAQF9AAAAAAACwnUAAAAAAANCPQAAAAAAACJJAAAAAAAAwgUAAAAAAAGijQAAAAAAAgENAAAAAAAAAAAAAAAAAACewQAAAAAAAOqBAAAAAAAAetEAAAAAAAACuQAAAAAAA2JVAAAAAAADwd0AAAAAAAMBlQAAAAAAA0HxAAAAAAAAgmEAAAAAAAKSQQAAAAAAAQHVAAAAAAAAAKEAAAAAAADB4QAAAAAAAAEtAAAAAAAB4pkAAAAAAAFyWQAAAAAAAgFlAAAAAAACyp0AAAAAAAGqjQAAAAAAAADdAAAAAAAAARUAAAAAAgLXBQAAAAAAAyIFAAAAAAAAAOEAAAAAAAICBQAAAAAAAACJAAAAAAAAmoEAAAAAAAOByQAAAAAAAwHJAAAAAAACAYEAAAAAAAMCDQAAAAAAAtKlAAAAAAADwlEAAAAAAALB1QAAAAAAAmItAAAAAAACgbEAAAAAAAEyVQAAAAACgDOZAAAAAAABao0AAAAAAANCJQAAAAAAAzspAAAAAAADUuEAAAAAAAMyqQAAAAAAAoHJAAAAAAACAaEAAAAAAAAA8QAAAAAAA8J5AAAAAAADYsUAAAAAAALSSQAAAAAAA/KtAAAAAAAAAAAAAAAAAAJO4QAAAAAAA8HdAAAAAAACAQkAAAAAAAABXQAAAAAAAADtAAAAAAAAAAAAAAAAAAFB7QA==\",\"dtype\":\"float64\",\"order\":\"little\",\"shape\":[80]}},\"selected\":{\"id\":\"1330\"},\"selection_policy\":{\"id\":\"1329\"}},\"id\":\"1317\",\"type\":\"ColumnDataSource\"},{\"attributes\":{},\"id\":\"1303\",\"type\":\"WheelZoomTool\"},{\"attributes\":{\"source\":{\"id\":\"1317\"}},\"id\":\"1322\",\"type\":\"CDSView\"},{\"attributes\":{\"label\":{\"value\":\"Synth\"},\"renderers\":[{\"id\":\"1321\"}]},\"id\":\"1332\",\"type\":\"LegendItem\"},{\"attributes\":{},\"id\":\"1307\",\"type\":\"HelpTool\"},{\"attributes\":{},\"id\":\"1306\",\"type\":\"ResetTool\"},{\"attributes\":{\"fill_color\":{\"value\":\"orange\"},\"line_color\":{\"value\":\"#1f77b4\"},\"top\":{\"field\":\"nb_sim\"},\"width\":{\"value\":0.4},\"x\":{\"field\":\"ATC2\",\"transform\":{\"id\":\"1316\"}}},\"id\":\"1319\",\"type\":\"VBar\"},{\"attributes\":{\"data\":{\"ATC2\":[\"A01\",\"A02\",\"A03\",\"A04\",\"A05\",\"A06\",\"A07\",\"A09\",\"A10\",\"A11\",\"A12\",\"A14\",\"A16\",\"B01\",\"B02\",\"B03\",\"B05\",\"C01\",\"C02\",\"C03\",\"C04\",\"C05\",\"C07\",\"C08\",\"C09\",\"C10\",\"D01\",\"D02\",\"D05\",\"D06\",\"D07\",\"D08\",\"D10\",\"D11\",\"G01\",\"G02\",\"G03\",\"G04\",\"H01\",\"H02\",\"H03\",\"H04\",\"H05\",\"J01\",\"J02\",\"J04\",\"J05\",\"J06\",\"J07\",\"L01\",\"L02\",\"L03\",\"L04\",\"M01\",\"M02\",\"M03\",\"M04\",\"M05\",\"N01\",\"N02\",\"N03\",\"N04\",\"N05\",\"N06\",\"N07\",\"P01\",\"P02\",\"P03\",\"R01\",\"R03\",\"R05\",\"R06\",\"R07\",\"S01\",\"S02\",\"V01\",\"V03\",\"V04\",\"V07\",\"V08\"],\"index\":[0,1,2,3,4,5,6,7,8,9,10,11,12,13,14,15,16,17,18,19,20,21,22,23,24,25,26,27,28,29,30,31,32,33,34,35,36,37,38,39,40,41,42,43,44,45,46,47,48,49,50,51,52,53,54,55,56,57,58,59,60,61,62,63,64,65,66,67,68,69,70,71,72,73,74,75,76,77,78,79],\"nb\":{\"__ndarray__\":\"xrl9hbDrnUBzllTuoGzAQKh1Qi1voa9AS1D4YlMMhkD2NmLD4GRkQIDorBulJq1Aqp3uOLdNk0B+rvvFv61dQI2t9uZTN7ZAa6ovSvmPr0B2yy1HpMGZQN0psRp8W8A/It765pZxZ0AxmGgcLoS6QEUDF8Xmz2BAB29hpZoNnUD3JrUeO/aXQAXRGfmiA5RAhLy3Na6mhUC77CK5Z9CjQPY3YxVLylVAWn305wWKdT+oGjSTDiiwQNLumQ62u6BA8NpBw5sstUCfUrJ6LXevQNnS+zrb1ZlApzEbuWQ4h0BQOD7L/aVlQFPpzvI0dYNAcIJ57aepnEAxwXEFctaXQFM5PEUw/3dAu2yNekZGK0B/+HEs6k57QJLAtaeIBkVA1DKeYWEEp0AJUmBRaCagQEsOZmW3YltAcnZElTQjpkC459TjD22iQJtZHkb360BAI6NW8uG+QkD46JbbNuvCQP4aW85AuYBAmPTsfgxbPUASRL/jPPODQI+SQgxfGyFAh/Qith/Yn0CcTDEtCnlzQPH5hhDFJ3NAdG8p9EEZYkA7FYld9CeEQI9oeTTCDrFAo2yyQjxun0D7+WuwOH91QFWDxThNxJFAtXvXJI63aUCueH7KhT2YQHotPP0AieZAm8WlQCj+oUBoeFAOw16LQF/TUYxUAcRA+jJQrOfAtUA0+GLPnlOoQIJXs+0lFnRAN7wjzbdXakB6OvDd2/lCQP6zsQHXcKNAIvruI5A+sUDWBVwb2UeaQBga2dRJWq1AC7lck7/Lvz9G7KV3Ndi3QJ6eaJ5g831A9Yj784q8QkDRcNjpTEtdQATmrvFku0VA+DHb2aQ/Vz9Xpd1cyUOBQA==\",\"dtype\":\"float64\",\"order\":\"little\",\"shape\":[80]},\"nb_sim\":{\"__ndarray__\":\"AAAAAACYmEAAAAAAAMK9QAAAAAAAjKdAAAAAAABggUAAAAAAAIBgQAAAAAAA5KtAAAAAAACAj0AAAAAAAABjQAAAAAAACK1AAAAAAAAMsEAAAAAAAMybQAAAAAAAAAAAAAAAAADAZUAAAAAAAPm5QAAAAAAAQF9AAAAAAACwnUAAAAAAANCPQAAAAAAACJJAAAAAAAAwgUAAAAAAAGijQAAAAAAAgENAAAAAAAAAAAAAAAAAACewQAAAAAAAOqBAAAAAAAAetEAAAAAAAACuQAAAAAAA2JVAAAAAAADwd0AAAAAAAMBlQAAAAAAA0HxAAAAAAAAgmEAAAAAAAKSQQAAAAAAAQHVAAAAAAAAAKEAAAAAAADB4QAAAAAAAAEtAAAAAAAB4pkAAAAAAAFyWQAAAAAAAgFlAAAAAAACyp0AAAAAAAGqjQAAAAAAAADdAAAAAAAAARUAAAAAAgLXBQAAAAAAAyIFAAAAAAAAAOEAAAAAAAICBQAAAAAAAACJAAAAAAAAmoEAAAAAAAOByQAAAAAAAwHJAAAAAAACAYEAAAAAAAMCDQAAAAAAAtKlAAAAAAADwlEAAAAAAALB1QAAAAAAAmItAAAAAAACgbEAAAAAAAEyVQAAAAACgDOZAAAAAAABao0AAAAAAANCJQAAAAAAAzspAAAAAAADUuEAAAAAAAMyqQAAAAAAAoHJAAAAAAACAaEAAAAAAAAA8QAAAAAAA8J5AAAAAAADYsUAAAAAAALSSQAAAAAAA/KtAAAAAAAAAAAAAAAAAAJO4QAAAAAAA8HdAAAAAAACAQkAAAAAAAABXQAAAAAAAADtAAAAAAAAAAAAAAAAAAFB7QA==\",\"dtype\":\"float64\",\"order\":\"little\",\"shape\":[80]}},\"selected\":{\"id\":\"1349\"},\"selection_policy\":{\"id\":\"1348\"}},\"id\":\"1334\",\"type\":\"ColumnDataSource\"},{\"attributes\":{},\"id\":\"1299\",\"type\":\"BasicTicker\"},{\"attributes\":{},\"id\":\"1293\",\"type\":\"LinearScale\"},{\"attributes\":{\"axis\":{\"id\":\"1298\"},\"dimension\":1,\"ticker\":null,\"visible\":false},\"id\":\"1301\",\"type\":\"Grid\"},{\"attributes\":{\"data_source\":{\"id\":\"1317\"},\"glyph\":{\"id\":\"1319\"},\"hover_glyph\":null,\"muted_glyph\":null,\"nonselection_glyph\":{\"id\":\"1320\"},\"selection_glyph\":null,\"view\":{\"id\":\"1322\"}},\"id\":\"1321\",\"type\":\"GlyphRenderer\"},{\"attributes\":{\"formatter\":{\"id\":\"1327\"},\"major_label_orientation\":0.7853981633974483,\"ticker\":{\"id\":\"1296\"}},\"id\":\"1295\",\"type\":\"CategoricalAxis\"},{\"attributes\":{},\"id\":\"1329\",\"type\":\"UnionRenderers\"},{\"attributes\":{\"fill_alpha\":{\"value\":0.1},\"fill_color\":{\"value\":\"#1f77b4\"},\"line_alpha\":{\"value\":0.1},\"line_color\":{\"value\":\"#1f77b4\"},\"top\":{\"field\":\"nb\"},\"width\":{\"value\":0.4},\"x\":{\"field\":\"ATC2\",\"transform\":{\"id\":\"1333\"}}},\"id\":\"1337\",\"type\":\"VBar\"},{\"attributes\":{},\"id\":\"1289\",\"type\":\"DataRange1d\"},{\"attributes\":{},\"id\":\"1349\",\"type\":\"Selection\"},{\"attributes\":{\"overlay\":{\"id\":\"1308\"}},\"id\":\"1304\",\"type\":\"BoxZoomTool\"},{\"attributes\":{},\"id\":\"1291\",\"type\":\"CategoricalScale\"}],\"root_ids\":[\"1285\"]},\"title\":\"Bokeh Application\",\"version\":\"2.1.1\"}};\n",
       "  var render_items = [{\"docid\":\"cad1b1f8-8ab8-45a5-bdef-cb5ed2e6e23f\",\"root_ids\":[\"1285\"],\"roots\":{\"1285\":\"c6fe8042-c0fe-4a95-bdb5-664c99415c68\"}}];\n",
       "  root.Bokeh.embed.embed_items_notebook(docs_json, render_items);\n",
       "\n",
       "  }\n",
       "  if (root.Bokeh !== undefined) {\n",
       "    embed_document(root);\n",
       "  } else {\n",
       "    var attempts = 0;\n",
       "    var timer = setInterval(function(root) {\n",
       "      if (root.Bokeh !== undefined) {\n",
       "        clearInterval(timer);\n",
       "        embed_document(root);\n",
       "      } else {\n",
       "        attempts++;\n",
       "        if (attempts > 100) {\n",
       "          clearInterval(timer);\n",
       "          console.log(\"Bokeh: ERROR: Unable to run BokehJS code because BokehJS library is missing\");\n",
       "        }\n",
       "      }\n",
       "    }, 10, root)\n",
       "  }\n",
       "})(window);"
      ],
      "application/vnd.bokehjs_exec.v0+json": ""
     },
     "metadata": {
      "application/vnd.bokehjs_exec.v0+json": {
       "id": "1285"
      }
     },
     "output_type": "display_data"
    }
   ],
   "source": [
    "p = figure(title=None, x_range=df_cmp['ATC2'].to_numpy(), plot_width=1200, plot_height=300)\n",
    "p.xgrid.visible = False\n",
    "p.ygrid.visible = False\n",
    "p.xaxis.major_label_orientation = math.pi/4\n",
    "p.vbar(x=dodge('ATC2', -0.2, range=p.x_range), top='nb_sim', fill_color=\"orange\", width=0.4, source=ColumnDataSource(df_cmp),legend_label=\"Synth\")\n",
    "p.vbar(x=dodge('ATC2', +0.2, range=p.x_range), top='nb', source=ColumnDataSource(df_cmp), width=0.4,legend_label=\"Real\")\n",
    "p.legend.location = \"top_right\"\n",
    "#p.xaxis.axis_label = 'ATC codes'\n",
    "p.yaxis.axis_label = 'Nb'\n",
    "show(p)"
   ]
  },
  {
   "cell_type": "markdown",
   "metadata": {},
   "source": [
    "### Quantitiative Comparisons\n",
    "\n",
    "We perform $\\chi^2$ test, and then a compute some distances."
   ]
  },
  {
   "cell_type": "code",
   "execution_count": 32,
   "metadata": {},
   "outputs": [
    {
     "data": {
      "text/plain": [
       "Power_divergenceResult(statistic=4455.207977025794, pvalue=0.0)"
      ]
     },
     "execution_count": 32,
     "metadata": {},
     "output_type": "execute_result"
    }
   ],
   "source": [
    "chisquare(df_cmp['nb_sim'].to_numpy(), df_cmp['nb'].to_numpy())"
   ]
  },
  {
   "cell_type": "markdown",
   "metadata": {},
   "source": [
    "Here, the p-value is null, then the null hypotheses (i.e. $H_0$: the two samples have the distribution) is rejected."
   ]
  },
  {
   "cell_type": "markdown",
   "metadata": {},
   "source": [
    "We now simply compute the JS divergence in this case (not a continuous distribution)"
   ]
  },
  {
   "cell_type": "code",
   "execution_count": 33,
   "metadata": {},
   "outputs": [
    {
     "name": "stderr",
     "output_type": "stream",
     "text": [
      "<ipython-input-15-953c0830fea7>:3: RuntimeWarning: divide by zero encountered in log\n",
      "  return sum(p[i] * np.log(p[i]/q[i])/np.log(2) for i in range(len(p)))\n",
      "<ipython-input-15-953c0830fea7>:3: RuntimeWarning: invalid value encountered in double_scalars\n",
      "  return sum(p[i] * np.log(p[i]/q[i])/np.log(2) for i in range(len(p)))\n"
     ]
    },
    {
     "data": {
      "text/plain": [
       "nan"
      ]
     },
     "execution_count": 33,
     "metadata": {},
     "output_type": "execute_result"
    }
   ],
   "source": [
    "js_divergence(df_cmp['nb'].to_numpy()/df_cmp['nb'].sum(), df_cmp['nb_sim'].to_numpy()/df_cmp['nb_sim'].sum())"
   ]
  },
  {
   "cell_type": "code",
   "execution_count": 34,
   "metadata": {},
   "outputs": [
    {
     "data": {
      "text/plain": [
       "0.0009889107111981398"
      ]
     },
     "execution_count": 34,
     "metadata": {},
     "output_type": "execute_result"
    }
   ],
   "source": [
    "wasserstein_distance(df_cmp['nb'].to_numpy()/df_cmp['nb'].sum(), df_cmp['nb_sim'].to_numpy()/df_cmp['nb_sim'].sum())"
   ]
  },
  {
   "cell_type": "code",
   "execution_count": 35,
   "metadata": {},
   "outputs": [
    {
     "name": "stdout",
     "output_type": "stream",
     "text": [
      "0.10312596029704404\n",
      "0.18547769176184906\n"
     ]
    }
   ],
   "source": [
    "# Compute of the total absolute difference between the two distributions\n",
    "print( np.sum(np.abs(df_cmp['nb_sim']-df_cmp['nb']))/np.sum(df_cmp['nb']) )\n",
    "# Compute of the mean absolute difference between the two distributions\n",
    "print( np.mean(np.abs(df_cmp['nb_sim']-df_cmp['nb'])/df_cmp['nb']) )"
   ]
  },
  {
   "cell_type": "markdown",
   "metadata": {},
   "source": [
    "### Mean KL divergence"
   ]
  },
  {
   "cell_type": "code",
   "execution_count": 36,
   "metadata": {},
   "outputs": [
    {
     "name": "stdout",
     "output_type": "stream",
     "text": [
      "[0.004256684087469983, 0.003938747505275751, 0.0040126153389123155, 0.004065690977919667, 0.003942539896471847, 0.004179296044895158, 0.003684526187509506, 0.004086835399582545, 0.003997700157755514, 0.004029162123631213]\n",
      "mean: 4.02e-03, var: 2.14e-08\n"
     ]
    }
   ],
   "source": [
    "data = pd.read_csv(\"../data/OPEN_MEDIC_2019.zip\", header=0, sep=';', encoding=\"latin_1\")[['ATC2','BOITES']]\n",
    "data = data.groupby(\"ATC2\").agg({'BOITES':'sum'}).reset_index().rename(columns={'BOITES':\"nb\"})\n",
    "\n",
    "js_vals=[]\n",
    "for i in range(10):\n",
    "    conni = sqlite3.connect(\"snds_Brittany_db%d.db\"%i)\n",
    "    df = pd.read_sql_query(\"SELECT PHA_ATC_C03, sum(PHA_ACT_QSN) FROM er_pha_f JOIN ir_pha_r ON ir_pha_r.PHA_CIP_C13=er_pha_f.PHA_PRS_C13 GROUP BY PHA_ATC_C03;\", conni)\n",
    "    df.rename(columns={'PHA_ATC_C03':'ATC2','sum(PHA_ACT_QSN)':'nb'}, inplace=True)\n",
    "    df_cmp=pd.merge(data,df,how=\"left\",on='ATC2',suffixes=('','_sim')).fillna(0)\n",
    "    df_cmp=df_cmp[df_cmp['nb_sim']!=0]\n",
    "    \n",
    "    js=js_divergence(df_cmp['nb'].to_numpy()/df_cmp['nb'].sum(), df_cmp['nb_sim'].to_numpy()/df_cmp['nb_sim'].sum())\n",
    "    \n",
    "    js_vals.append(js)\n",
    "    conni.close()\n",
    "print(js_vals)\n",
    "print(\"mean: %.2e, var: %.2e\"%(np.mean(js_vals),np.var(js_vals)))"
   ]
  },
  {
   "cell_type": "code",
   "execution_count": 37,
   "metadata": {},
   "outputs": [
    {
     "data": {
      "text/html": [
       "<div>\n",
       "<style scoped>\n",
       "    .dataframe tbody tr th:only-of-type {\n",
       "        vertical-align: middle;\n",
       "    }\n",
       "\n",
       "    .dataframe tbody tr th {\n",
       "        vertical-align: top;\n",
       "    }\n",
       "\n",
       "    .dataframe thead th {\n",
       "        text-align: right;\n",
       "    }\n",
       "</style>\n",
       "<table border=\"1\" class=\"dataframe\">\n",
       "  <thead>\n",
       "    <tr style=\"text-align: right;\">\n",
       "      <th></th>\n",
       "      <th>ATC2</th>\n",
       "      <th>nb</th>\n",
       "      <th>nb_sim</th>\n",
       "    </tr>\n",
       "  </thead>\n",
       "  <tbody>\n",
       "    <tr>\n",
       "      <th>0</th>\n",
       "      <td>A01</td>\n",
       "      <td>22941566</td>\n",
       "      <td>1503.0</td>\n",
       "    </tr>\n",
       "    <tr>\n",
       "      <th>1</th>\n",
       "      <td>A02</td>\n",
       "      <td>100746397</td>\n",
       "      <td>7081.0</td>\n",
       "    </tr>\n",
       "    <tr>\n",
       "      <th>2</th>\n",
       "      <td>A03</td>\n",
       "      <td>48505314</td>\n",
       "      <td>2970.0</td>\n",
       "    </tr>\n",
       "    <tr>\n",
       "      <th>3</th>\n",
       "      <td>A04</td>\n",
       "      <td>8452671</td>\n",
       "      <td>517.0</td>\n",
       "    </tr>\n",
       "    <tr>\n",
       "      <th>4</th>\n",
       "      <td>A05</td>\n",
       "      <td>1954634</td>\n",
       "      <td>149.0</td>\n",
       "    </tr>\n",
       "    <tr>\n",
       "      <th>...</th>\n",
       "      <td>...</td>\n",
       "      <td>...</td>\n",
       "      <td>...</td>\n",
       "    </tr>\n",
       "    <tr>\n",
       "      <th>74</th>\n",
       "      <td>S02</td>\n",
       "      <td>5741148</td>\n",
       "      <td>339.0</td>\n",
       "    </tr>\n",
       "    <tr>\n",
       "      <th>75</th>\n",
       "      <td>V01</td>\n",
       "      <td>448942</td>\n",
       "      <td>25.0</td>\n",
       "    </tr>\n",
       "    <tr>\n",
       "      <th>76</th>\n",
       "      <td>V03</td>\n",
       "      <td>1403824</td>\n",
       "      <td>96.0</td>\n",
       "    </tr>\n",
       "    <tr>\n",
       "      <th>77</th>\n",
       "      <td>V04</td>\n",
       "      <td>520717</td>\n",
       "      <td>33.0</td>\n",
       "    </tr>\n",
       "    <tr>\n",
       "      <th>79</th>\n",
       "      <td>V08</td>\n",
       "      <td>6618860</td>\n",
       "      <td>397.0</td>\n",
       "    </tr>\n",
       "  </tbody>\n",
       "</table>\n",
       "<p>76 rows × 3 columns</p>\n",
       "</div>"
      ],
      "text/plain": [
       "   ATC2         nb  nb_sim\n",
       "0   A01   22941566  1503.0\n",
       "1   A02  100746397  7081.0\n",
       "2   A03   48505314  2970.0\n",
       "3   A04    8452671   517.0\n",
       "4   A05    1954634   149.0\n",
       "..  ...        ...     ...\n",
       "74  S02    5741148   339.0\n",
       "75  V01     448942    25.0\n",
       "76  V03    1403824    96.0\n",
       "77  V04     520717    33.0\n",
       "79  V08    6618860   397.0\n",
       "\n",
       "[76 rows x 3 columns]"
      ]
     },
     "execution_count": 37,
     "metadata": {},
     "output_type": "execute_result"
    }
   ],
   "source": [
    "df_cmp[df_cmp['nb_sim']!=0]"
   ]
  },
  {
   "cell_type": "markdown",
   "metadata": {},
   "source": [
    "## Analysis of medical technical procedures"
   ]
  },
  {
   "cell_type": "code",
   "execution_count": 38,
   "metadata": {},
   "outputs": [
    {
     "data": {
      "text/html": [
       "<div>\n",
       "<style scoped>\n",
       "    .dataframe tbody tr th:only-of-type {\n",
       "        vertical-align: middle;\n",
       "    }\n",
       "\n",
       "    .dataframe tbody tr th {\n",
       "        vertical-align: top;\n",
       "    }\n",
       "\n",
       "    .dataframe thead th {\n",
       "        text-align: right;\n",
       "    }\n",
       "</style>\n",
       "<table border=\"1\" class=\"dataframe\">\n",
       "  <thead>\n",
       "    <tr style=\"text-align: right;\">\n",
       "      <th></th>\n",
       "      <th>ccam</th>\n",
       "      <th>grp</th>\n",
       "      <th>nb</th>\n",
       "    </tr>\n",
       "  </thead>\n",
       "  <tbody>\n",
       "    <tr>\n",
       "      <th>0</th>\n",
       "      <td>ACQH001</td>\n",
       "      <td>ADI</td>\n",
       "      <td>1</td>\n",
       "    </tr>\n",
       "    <tr>\n",
       "      <th>1</th>\n",
       "      <td>ACQH002</td>\n",
       "      <td>ADI</td>\n",
       "      <td>1</td>\n",
       "    </tr>\n",
       "    <tr>\n",
       "      <th>2</th>\n",
       "      <td>ACQH003</td>\n",
       "      <td>ADI</td>\n",
       "      <td>13</td>\n",
       "    </tr>\n",
       "    <tr>\n",
       "      <th>3</th>\n",
       "      <td>ACQJ001</td>\n",
       "      <td>ADI</td>\n",
       "      <td>1</td>\n",
       "    </tr>\n",
       "    <tr>\n",
       "      <th>4</th>\n",
       "      <td>ACQJ002</td>\n",
       "      <td>ADI</td>\n",
       "      <td>37</td>\n",
       "    </tr>\n",
       "  </tbody>\n",
       "</table>\n",
       "</div>"
      ],
      "text/plain": [
       "      ccam  grp  nb\n",
       "0  ACQH001  ADI   1\n",
       "1  ACQH002  ADI   1\n",
       "2  ACQH003  ADI  13\n",
       "3  ACQJ001  ADI   1\n",
       "4  ACQJ002  ADI  37"
      ]
     },
     "execution_count": 38,
     "metadata": {},
     "output_type": "execute_result"
    }
   ],
   "source": [
    "# Database query to extract procedures from the synthetic database\n",
    "df = pd.read_sql_query(\"SELECT CAM_PRS_IDE, CAM_PRS_RGT, count(*) FROM er_cam_f JOIN ir_ccam_v63 ON er_cam_f.CAM_PRS_IDE=ir_ccam_v63.CAM_PRS_IDE_COD GROUP BY CAM_PRS_IDE, CAM_PRS_RGT;\", conn)\n",
    "df.rename(columns={'CAM_PRS_IDE':'ccam','CAM_PRS_RGT':'grp','count(*)':'nb'}, inplace=True)\n",
    "df.head()"
   ]
  },
  {
   "cell_type": "code",
   "execution_count": 39,
   "metadata": {},
   "outputs": [],
   "source": [
    "procedures = pd.read_excel(\"../data/Actes_techniques_de_la_CCAM_en_2016.xls\", sheet_name='Panorama des actes CCAM')\n",
    "procedures.rename(columns={\"Code Acte\":'ccam',\"Code Regroupement\":\"grp\", \"Quantité d'actes \":\"nb\"}, inplace=True)\n",
    "procedures=procedures.groupby(['ccam',\"grp\"]).agg({\"nb\":\"sum\"}).reset_index()"
   ]
  },
  {
   "cell_type": "code",
   "execution_count": 40,
   "metadata": {},
   "outputs": [],
   "source": [
    "#selection of procedures that are actually used in our simulation\n",
    "#procedures=procedures[ (procedures['grp']==\"ADC\") | (procedures['grp']==\"ACO\") |(procedures['grp']==\"ADA\") |(procedures['grp']==\"ADE\") |(procedures['grp']==\"ADI\") |(procedures['grp']==\"ADT\") ]\n",
    "procedures=procedures[ (procedures['grp']==\"ADC\") | (procedures['grp']==\"ACO\") |(procedures['grp']==\"ADE\") |(procedures['grp']==\"ADI\") |(procedures['grp']==\"ADT\") ]\n",
    "procedures=procedures[ (procedures['ccam'].str[:2]!=\"HB\") ]"
   ]
  },
  {
   "cell_type": "code",
   "execution_count": 41,
   "metadata": {},
   "outputs": [
    {
     "data": {
      "text/html": [
       "<div>\n",
       "<style scoped>\n",
       "    .dataframe tbody tr th:only-of-type {\n",
       "        vertical-align: middle;\n",
       "    }\n",
       "\n",
       "    .dataframe tbody tr th {\n",
       "        vertical-align: top;\n",
       "    }\n",
       "\n",
       "    .dataframe thead th {\n",
       "        text-align: right;\n",
       "    }\n",
       "</style>\n",
       "<table border=\"1\" class=\"dataframe\">\n",
       "  <thead>\n",
       "    <tr style=\"text-align: right;\">\n",
       "      <th></th>\n",
       "      <th>ccam</th>\n",
       "      <th>grp</th>\n",
       "      <th>nb</th>\n",
       "    </tr>\n",
       "  </thead>\n",
       "  <tbody>\n",
       "    <tr>\n",
       "      <th>1</th>\n",
       "      <td>AAFA001</td>\n",
       "      <td>ADC</td>\n",
       "      <td>103</td>\n",
       "    </tr>\n",
       "    <tr>\n",
       "      <th>3</th>\n",
       "      <td>AAFA002</td>\n",
       "      <td>ADC</td>\n",
       "      <td>446</td>\n",
       "    </tr>\n",
       "    <tr>\n",
       "      <th>5</th>\n",
       "      <td>AAFA003</td>\n",
       "      <td>ADC</td>\n",
       "      <td>9</td>\n",
       "    </tr>\n",
       "    <tr>\n",
       "      <th>7</th>\n",
       "      <td>AAFA005</td>\n",
       "      <td>ADC</td>\n",
       "      <td>9</td>\n",
       "    </tr>\n",
       "    <tr>\n",
       "      <th>9</th>\n",
       "      <td>AAFA006</td>\n",
       "      <td>ADC</td>\n",
       "      <td>2</td>\n",
       "    </tr>\n",
       "  </tbody>\n",
       "</table>\n",
       "</div>"
      ],
      "text/plain": [
       "      ccam  grp   nb\n",
       "1  AAFA001  ADC  103\n",
       "3  AAFA002  ADC  446\n",
       "5  AAFA003  ADC    9\n",
       "7  AAFA005  ADC    9\n",
       "9  AAFA006  ADC    2"
      ]
     },
     "execution_count": 41,
     "metadata": {},
     "output_type": "execute_result"
    }
   ],
   "source": [
    "procedures.head()"
   ]
  },
  {
   "cell_type": "code",
   "execution_count": 42,
   "metadata": {},
   "outputs": [],
   "source": [
    "procs_tot=procedures.groupby(['ccam']).agg({\"nb\":\"sum\"}).reset_index()"
   ]
  },
  {
   "cell_type": "code",
   "execution_count": 43,
   "metadata": {},
   "outputs": [
    {
     "data": {
      "text/html": [
       "<div>\n",
       "<style scoped>\n",
       "    .dataframe tbody tr th:only-of-type {\n",
       "        vertical-align: middle;\n",
       "    }\n",
       "\n",
       "    .dataframe tbody tr th {\n",
       "        vertical-align: top;\n",
       "    }\n",
       "\n",
       "    .dataframe thead th {\n",
       "        text-align: right;\n",
       "    }\n",
       "</style>\n",
       "<table border=\"1\" class=\"dataframe\">\n",
       "  <thead>\n",
       "    <tr style=\"text-align: right;\">\n",
       "      <th></th>\n",
       "      <th>ccam</th>\n",
       "      <th>nb</th>\n",
       "    </tr>\n",
       "  </thead>\n",
       "  <tbody>\n",
       "    <tr>\n",
       "      <th>0</th>\n",
       "      <td>AAFA001</td>\n",
       "      <td>103</td>\n",
       "    </tr>\n",
       "    <tr>\n",
       "      <th>1</th>\n",
       "      <td>AAFA002</td>\n",
       "      <td>446</td>\n",
       "    </tr>\n",
       "    <tr>\n",
       "      <th>2</th>\n",
       "      <td>AAFA003</td>\n",
       "      <td>9</td>\n",
       "    </tr>\n",
       "    <tr>\n",
       "      <th>3</th>\n",
       "      <td>AAFA005</td>\n",
       "      <td>9</td>\n",
       "    </tr>\n",
       "    <tr>\n",
       "      <th>4</th>\n",
       "      <td>AAFA006</td>\n",
       "      <td>2</td>\n",
       "    </tr>\n",
       "  </tbody>\n",
       "</table>\n",
       "</div>"
      ],
      "text/plain": [
       "      ccam   nb\n",
       "0  AAFA001  103\n",
       "1  AAFA002  446\n",
       "2  AAFA003    9\n",
       "3  AAFA005    9\n",
       "4  AAFA006    2"
      ]
     },
     "execution_count": 43,
     "metadata": {},
     "output_type": "execute_result"
    }
   ],
   "source": [
    "procs_tot.head()"
   ]
  },
  {
   "cell_type": "code",
   "execution_count": 44,
   "metadata": {},
   "outputs": [],
   "source": [
    "procs_tot['nb'] *= ratio"
   ]
  },
  {
   "cell_type": "code",
   "execution_count": 45,
   "metadata": {},
   "outputs": [
    {
     "data": {
      "text/html": [
       "<div>\n",
       "<style scoped>\n",
       "    .dataframe tbody tr th:only-of-type {\n",
       "        vertical-align: middle;\n",
       "    }\n",
       "\n",
       "    .dataframe tbody tr th {\n",
       "        vertical-align: top;\n",
       "    }\n",
       "\n",
       "    .dataframe thead th {\n",
       "        text-align: right;\n",
       "    }\n",
       "</style>\n",
       "<table border=\"1\" class=\"dataframe\">\n",
       "  <thead>\n",
       "    <tr style=\"text-align: right;\">\n",
       "      <th></th>\n",
       "      <th>ccam</th>\n",
       "      <th>nb</th>\n",
       "    </tr>\n",
       "  </thead>\n",
       "  <tbody>\n",
       "    <tr>\n",
       "      <th>0</th>\n",
       "      <td>AAFA001</td>\n",
       "      <td>0.008597</td>\n",
       "    </tr>\n",
       "    <tr>\n",
       "      <th>1</th>\n",
       "      <td>AAFA002</td>\n",
       "      <td>0.037227</td>\n",
       "    </tr>\n",
       "    <tr>\n",
       "      <th>2</th>\n",
       "      <td>AAFA003</td>\n",
       "      <td>0.000751</td>\n",
       "    </tr>\n",
       "    <tr>\n",
       "      <th>3</th>\n",
       "      <td>AAFA005</td>\n",
       "      <td>0.000751</td>\n",
       "    </tr>\n",
       "    <tr>\n",
       "      <th>4</th>\n",
       "      <td>AAFA006</td>\n",
       "      <td>0.000167</td>\n",
       "    </tr>\n",
       "  </tbody>\n",
       "</table>\n",
       "</div>"
      ],
      "text/plain": [
       "      ccam        nb\n",
       "0  AAFA001  0.008597\n",
       "1  AAFA002  0.037227\n",
       "2  AAFA003  0.000751\n",
       "3  AAFA005  0.000751\n",
       "4  AAFA006  0.000167"
      ]
     },
     "execution_count": 45,
     "metadata": {},
     "output_type": "execute_result"
    }
   ],
   "source": [
    "procs_tot.head()"
   ]
  },
  {
   "cell_type": "markdown",
   "metadata": {},
   "source": [
    "### Comparison of the distribution of procedures per groups"
   ]
  },
  {
   "cell_type": "code",
   "execution_count": 46,
   "metadata": {},
   "outputs": [],
   "source": [
    "procs_grp=procedures.groupby(['grp']).agg({\"nb\":\"sum\"}).reset_index()\n",
    "procs_grp['nb'] *= ratio"
   ]
  },
  {
   "cell_type": "code",
   "execution_count": 47,
   "metadata": {},
   "outputs": [],
   "source": [
    "df_grp=df.groupby(\"grp\").agg({\"nb\":\"sum\"}).reset_index()"
   ]
  },
  {
   "cell_type": "code",
   "execution_count": 48,
   "metadata": {},
   "outputs": [
    {
     "data": {
      "text/plain": [
       "Text(0, 0.5, 'nb')"
      ]
     },
     "execution_count": 48,
     "metadata": {},
     "output_type": "execute_result"
    },
    {
     "data": {
      "image/png": "[encoded data removed]",
      "text/plain": [
       "<Figure size 432x288 with 1 Axes>"
      ]
     },
     "metadata": {
      "needs_background": "light"
     },
     "output_type": "display_data"
    }
   ],
   "source": [
    "grps=pd.merge(procs_grp, df_grp,on=\"grp\", suffixes=('','_sim'))\n",
    "\n",
    "fig, axs = plt.subplots()\n",
    "grps.set_index(\"grp\").plot.bar(ax=axs)\n",
    "axs.set_ylabel(\"nb\")"
   ]
  },
  {
   "cell_type": "code",
   "execution_count": 49,
   "metadata": {},
   "outputs": [],
   "source": [
    "procs_ccam=procedures.groupby(['ccam']).agg({\"nb\":\"sum\"}).reset_index()\n",
    "procs_ccam['nb'] *= ratio\n",
    "#procs_ccam['nb'] = procs_ccam['nb'].astype(int)\n",
    "df_ccam=df.groupby(\"ccam\").agg({\"nb\":\"sum\"}).reset_index()\n",
    "ccams=pd.merge(procs_ccam, df_ccam, on=\"ccam\", suffixes=('','_sim'))"
   ]
  },
  {
   "cell_type": "code",
   "execution_count": 50,
   "metadata": {},
   "outputs": [
    {
     "data": {
      "text/html": [
       "\n",
       "\n",
       "\n",
       "\n",
       "\n",
       "\n",
       "  <div class=\"bk-root\" id=\"59964b77-5b26-411e-b3e8-0acd411ea275\" data-root-id=\"1441\"></div>\n"
      ]
     },
     "metadata": {},
     "output_type": "display_data"
    },
    {
     "data": {
      "application/javascript": [
       "(function(root) {\n",
       "  function embed_document(root) {\n",
       "    \n",
       "  var docs_json = {\"ad4fa562-f6ed-4b34-8627-a002bd6d88b4\":{\"roots\":{\"references\":[{\"attributes\":{\"below\":[{\"id\":\"1451\"}],\"center\":[{\"id\":\"1453\"},{\"id\":\"1457\"},{\"id\":\"1487\"}],\"left\":[{\"id\":\"1454\"}],\"plot_height\":300,\"plot_width\":1200,\"renderers\":[{\"id\":\"1477\"},{\"id\":\"1494\"}],\"title\":null,\"toolbar\":{\"id\":\"1465\"},\"x_range\":{\"id\":\"1443\"},\"x_scale\":{\"id\":\"1447\"},\"y_range\":{\"id\":\"1445\"},\"y_scale\":{\"id\":\"1449\"}},\"id\":\"1441\",\"subtype\":\"Figure\",\"type\":\"Plot\"},{\"attributes\":{},\"id\":\"1458\",\"type\":\"PanTool\"},{\"attributes\":{\"source\":{\"id\":\"1490\"}},\"id\":\"1495\",\"type\":\"CDSView\"},{\"attributes\":{\"fill_color\":{\"value\":\"#1f77b4\"},\"line_color\":{\"value\":\"#1f77b4\"},\"top\":{\"field\":\"nb\"},\"width\":{\"value\":0.4},\"x\":{\"field\":\"ccam\",\"transform\":{\"id\":\"1472\"}}},\"id\":\"1475\",\"type\":\"VBar\"},{\"attributes\":{\"fill_alpha\":{\"value\":0.1},\"fill_color\":{\"value\":\"orange\"},\"line_alpha\":{\"value\":0.1},\"line_color\":{\"value\":\"#1f77b4\"},\"top\":{\"field\":\"nb_sim\"},\"width\":{\"value\":0.4},\"x\":{\"field\":\"ccam\",\"transform\":{\"id\":\"1489\"}}},\"id\":\"1493\",\"type\":\"VBar\"},{\"attributes\":{},\"id\":\"1486\",\"type\":\"Selection\"},{\"attributes\":{\"fill_color\":{\"value\":\"orange\"},\"line_color\":{\"value\":\"#1f77b4\"},\"top\":{\"field\":\"nb_sim\"},\"width\":{\"value\":0.4},\"x\":{\"field\":\"ccam\",\"transform\":{\"id\":\"1489\"}}},\"id\":\"1492\",\"type\":\"VBar\"},{\"attributes\":{\"fill_alpha\":{\"value\":0.1},\"fill_color\":{\"value\":\"#1f77b4\"},\"line_alpha\":{\"value\":0.1},\"line_color\":{\"value\":\"#1f77b4\"},\"top\":{\"field\":\"nb\"},\"width\":{\"value\":0.4},\"x\":{\"field\":\"ccam\",\"transform\":{\"id\":\"1472\"}}},\"id\":\"1476\",\"type\":\"VBar\"},{\"attributes\":{\"bottom_units\":\"screen\",\"fill_alpha\":0.5,\"fill_color\":\"lightgrey\",\"left_units\":\"screen\",\"level\":\"overlay\",\"line_alpha\":1.0,\"line_color\":\"black\",\"line_dash\":[4,4],\"line_width\":2,\"right_units\":\"screen\",\"top_units\":\"screen\"},\"id\":\"1464\",\"type\":\"BoxAnnotation\"},{\"attributes\":{\"label\":{\"value\":\"Synth\"},\"renderers\":[{\"id\":\"1494\"}]},\"id\":\"1506\",\"type\":\"LegendItem\"},{\"attributes\":{\"label\":{\"value\":\"Real\"},\"renderers\":[{\"id\":\"1477\"}]},\"id\":\"1488\",\"type\":\"LegendItem\"},{\"attributes\":{\"overlay\":{\"id\":\"1464\"}},\"id\":\"1460\",\"type\":\"BoxZoomTool\"},{\"attributes\":{\"data_source\":{\"id\":\"1490\"},\"glyph\":{\"id\":\"1492\"},\"hover_glyph\":null,\"muted_glyph\":null,\"nonselection_glyph\":{\"id\":\"1493\"},\"selection_glyph\":null,\"view\":{\"id\":\"1495\"}},\"id\":\"1494\",\"type\":\"GlyphRenderer\"},{\"attributes\":{},\"id\":\"1461\",\"type\":\"SaveTool\"},{\"attributes\":{\"data_source\":{\"id\":\"1473\"},\"glyph\":{\"id\":\"1475\"},\"hover_glyph\":null,\"muted_glyph\":null,\"nonselection_glyph\":{\"id\":\"1476\"},\"selection_glyph\":null,\"view\":{\"id\":\"1478\"}},\"id\":\"1477\",\"type\":\"GlyphRenderer\"},{\"attributes\":{},\"id\":\"1485\",\"type\":\"UnionRenderers\"},{\"attributes\":{},\"id\":\"1459\",\"type\":\"WheelZoomTool\"},{\"attributes\":{},\"id\":\"1504\",\"type\":\"UnionRenderers\"},{\"attributes\":{},\"id\":\"1462\",\"type\":\"ResetTool\"},{\"attributes\":{},\"id\":\"1481\",\"type\":\"BasicTickFormatter\"},{\"attributes\":{\"range\":{\"id\":\"1443\"},\"value\":-0.2},\"id\":\"1472\",\"type\":\"Dodge\"},{\"attributes\":{},\"id\":\"1505\",\"type\":\"Selection\"},{\"attributes\":{\"items\":[{\"id\":\"1488\"},{\"id\":\"1506\"}],\"location\":\"top_left\"},\"id\":\"1487\",\"type\":\"Legend\"},{\"attributes\":{\"data\":{\"ccam\":[\"ACQH001\",\"ACQH002\",\"ACQH003\",\"ACQJ001\",\"ACQJ002\",\"ACQK001\",\"ACQL001\",\"ACQN001\",\"AFQH001\",\"AHCA023\",\"AHPC001\",\"BAFA013\",\"BAPA002\",\"BBFA002\",\"BDGA005\",\"BDMA008\",\"BEQP004\",\"BFPP001\",\"BFQM001\",\"BGMA002\",\"BGQP007\",\"BGQP009\",\"BZQP003\",\"CBPA002\",\"DAQL009\",\"DAQL010\",\"DAQM003\",\"DCFA001\",\"DDQH009\",\"DDQH012\",\"DGQH002\",\"DGQM001\",\"DGQM002\",\"DZQM002\",\"DZQM005\",\"DZQM006\",\"DZQM008\",\"EAQJ001\",\"EBCA017\",\"EBFA002\",\"EBQH004\",\"EBQJ002\",\"EBQM001\",\"EBQM002\",\"EBQM003\",\"ECQH010\",\"ECQH011\",\"ECQM002\",\"EDQM001\",\"EFQM001\",\"EJFA002\",\"EJFA006\",\"EJQM001\",\"EJQM003\",\"EJQM004\",\"ELQH002\",\"ELQM002\",\"EZQM001\",\"FCFA019\",\"GFFC005\",\"HAPA001\",\"HCFA009\",\"HCQM001\",\"HEQH001\",\"HEQH002\",\"HHFE002\",\"HHQH001\",\"HKFA006\",\"HLQM001\",\"HMFC004\",\"HPFA001\",\"HQQH002\",\"HZQM001\",\"JAQJ001\",\"JAQL001\",\"JAQL003\",\"JAQM001\",\"JAQM002\",\"JAQM003\",\"JAQM004\",\"JCNM002\",\"JDQJ003\",\"JDQM001\",\"JGFE023\",\"JGFE365\",\"JGQJ001\",\"JHQM001\",\"JJFC006\",\"JKHA002\",\"JKPC001\",\"JKQH001\",\"JLQH002\",\"JNQM001\",\"JQQJ037\",\"JQQM001\",\"JQQM002\",\"JQQM003\",\"JQQM010\",\"JQQM016\",\"JQQM018\",\"JZQH003\",\"KCQL003\",\"KCQM001\",\"LAQJ001\",\"LAQK001\",\"LAQK002\",\"LAQK003\",\"LAQK005\",\"LAQK008\",\"LAQK009\",\"LAQK012\",\"LAQK013\",\"LAQK027\",\"LBQK001\",\"LBQK005\",\"LCQH001\",\"LCQJ001\",\"LCQK001\",\"LCQK002\",\"LDQK001\",\"LDQK002\",\"LDQK004\",\"LDQK005\",\"LEQK001\",\"LEQK002\",\"LFDA001\",\"LFQK001\",\"LFQK002\",\"LGQK001\",\"LHQH001\",\"LHQH006\",\"LHQJ001\",\"LHQJ002\",\"LHQK001\",\"LHQK002\",\"LHQK003\",\"LHQK004\",\"LHQK005\",\"LHQK007\",\"LHQN001\",\"LHQN002\",\"LJQK001\",\"LJQK002\",\"LJQK015\",\"LMMC002\",\"LMMC020\",\"MAQK001\",\"MAQK002\",\"MAQK003\",\"MBQK001\",\"MCQK001\",\"MDQK001\",\"MDQK002\",\"MEMC005\",\"MEQH001\",\"MFPC001\",\"MFQK001\",\"MFQK002\",\"MGQH001\",\"MGQK001\",\"MGQK003\",\"MHQH001\",\"MJDA001\",\"MJFA005\",\"MZQH001\",\"MZQJ001\",\"MZQK002\",\"MZQK003\",\"MZQK004\",\"MZQN001\",\"NAQK007\",\"NAQK015\",\"NAQK023\",\"NAQK049\",\"NAQK071\",\"NBQK001\",\"NCQK001\",\"NDQK001\",\"NDQK002\",\"NDQK003\",\"NDQK004\",\"NEPA001\",\"NEQH002\",\"NEQK010\",\"NEQK012\",\"NEQK035\",\"NEQM001\",\"NFKA006\",\"NFKA008\",\"NFQH001\",\"NFQK001\",\"NFQK002\",\"NFQK003\",\"NFQK004\",\"NGQK001\",\"NGQK002\",\"NJPA029\",\"NZQH001\",\"NZQH002\",\"NZQH005\",\"NZQJ001\",\"NZQK001\",\"NZQK002\",\"NZQK003\",\"NZQK005\",\"NZQK006\",\"NZQN001\",\"PAGA011\",\"PAQK001\",\"PAQK002\",\"PAQK007\",\"PAQL002\",\"PAQL003\",\"PBQM001\",\"PBQM002\",\"PBQM003\",\"PCQM001\",\"PDQN001\",\"QAGA004\",\"QAJA004\",\"QAJA013\",\"QBFA007\",\"QCJA001\",\"QEQJ001\",\"QEQK001\",\"QEQK003\",\"QEQK004\",\"QEQK005\",\"QEQM001\",\"QZFA002\",\"QZFA009\",\"QZFA020\",\"QZFA021\",\"QZFA028\",\"QZFA031\",\"QZFA036\",\"QZGA002\",\"QZJA002\",\"QZJA016\",\"QZJA017\",\"QZQM001\",\"YYYY012\",\"YYYY019\",\"YYYY028\",\"YYYY033\",\"YYYY057\",\"YYYY088\",\"YYYY105\",\"YYYY110\",\"YYYY115\",\"YYYY160\",\"YYYY163\",\"YYYY172\",\"YYYY180\",\"YYYY200\",\"YYYY220\",\"YYYY250\",\"YYYY260\",\"YYYY270\",\"YYYY280\",\"YYYY290\",\"YYYY300\",\"YYYY410\",\"YYYY415\",\"YYYY420\",\"YYYY600\",\"ZBQH001\",\"ZBQK001\",\"ZBQK002\",\"ZBQK003\",\"ZCQH001\",\"ZCQH002\",\"ZCQJ001\",\"ZCQJ002\",\"ZCQJ003\",\"ZCQJ004\",\"ZCQJ005\",\"ZCQJ006\",\"ZCQK002\",\"ZCQK004\",\"ZCQK005\",\"ZCQM001\",\"ZCQM003\",\"ZCQM004\",\"ZCQM005\",\"ZCQM006\",\"ZCQM007\",\"ZCQM008\",\"ZCQM010\",\"ZCQN001\",\"ZCQN002\",\"ZZQH033\",\"ZZQK024\",\"ZZQL007\",\"ZZQL010\",\"ZZQL016\",\"ZZQL017\",\"ZZQL018\",\"ZZQM001\",\"ZZQN001\"],\"index\":[0,1,2,3,4,5,6,7,8,9,10,11,12,13,14,15,16,17,18,19,20,21,22,23,24,25,26,27,28,29,30,31,32,33,34,35,36,37,38,39,40,41,42,43,44,45,46,47,48,49,50,51,52,53,54,55,56,57,58,59,60,61,62,63,64,65,66,67,68,69,70,71,72,73,74,75,76,77,78,79,80,81,82,83,84,85,86,87,88,89,90,91,92,93,94,95,96,97,98,99,100,101,102,103,104,105,106,107,108,109,110,111,112,113,114,115,116,117,118,119,120,121,122,123,124,125,126,127,128,129,130,131,132,133,134,135,136,137,138,139,140,141,142,143,144,145,146,147,148,149,150,151,152,153,154,155,156,157,158,159,160,161,162,163,164,165,166,167,168,169,170,171,172,173,174,175,176,177,178,179,180,181,182,183,184,185,186,187,188,189,190,191,192,193,194,195,196,197,198,199,200,201,202,203,204,205,206,207,208,209,210,211,212,213,214,215,216,217,218,219,220,221,222,223,224,225,226,227,228,229,230,231,232,233,234,235,236,237,238,239,240,241,242,243,244,245,246,247,248,249,250,251,252,253,254,255,256,257,258,259,260,261,262,263,264,265,266,267,268,269,270,271,272,273,274,275,276,277,278,279,280,281,282,283,284,285,286,287,288,289,290,291,292,293,294,295,296,297,298,299],\"nb\":{\"__ndarray__\":\"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\",\"dtype\":\"float64\",\"order\":\"little\",\"shape\":[300]},\"nb_sim\":[1,1,13,1,37,16,1,26,1,1,1,1,1,1,1,1,1,2,16,1,49,3,1,1,9,6,1,1,7,1,1,15,3,3,4,78,1,2,1,1,1,1,20,24,4,6,5,5,11,4,1,1,3,19,27,1,3,1,1,1,1,1,2,2,7,5,1,1,1,1,1,1,1,2,1,1,8,1,7,12,1,3,4,1,1,3,5,1,1,1,6,1,10,7,3,1,2,8,12,9,2,1,15,1,3,4,16,10,1,3,18,17,35,2,1,3,2,1,2,4,49,10,5,9,54,1,65,39,7,3,3,5,2,43,10,4,3,3,15,66,6,9,31,3,4,1,64,43,22,4,2,84,7,1,9,1,11,8,1,53,23,1,1,1,3,1,9,8,2,18,13,127,26,12,22,2,11,75,23,10,17,1,2,22,13,29,5,1,1,7,20,3,73,96,27,55,2,1,2,1,3,17,16,2,15,3,82,1,1,4,35,7,7,1,8,20,61,1,1,2,1,1,2,6,121,1,163,18,62,2,1,2,1,1,1,7,2,1,1,1,18,8,2,11,11,2,6,1,1,5,1,2,21,1,1,3,2,3,3,1,7,20,1,6,19,682,21,31,215,1,58,3,3,9,16,23,2,21,31,13,5,7,12,3,29,5,10,22,10,4,8,31,1,13,2,14,7,1,1,8]},\"selected\":{\"id\":\"1486\"},\"selection_policy\":{\"id\":\"1485\"}},\"id\":\"1473\",\"type\":\"ColumnDataSource\"},{\"attributes\":{\"range\":{\"id\":\"1443\"},\"value\":0.2},\"id\":\"1489\",\"type\":\"Dodge\"},{\"attributes\":{},\"id\":\"1463\",\"type\":\"HelpTool\"},{\"attributes\":{\"end\":1200},\"id\":\"1445\",\"type\":\"Range1d\"},{\"attributes\":{\"axis\":{\"id\":\"1454\"},\"dimension\":1,\"ticker\":null,\"visible\":false},\"id\":\"1457\",\"type\":\"Grid\"},{\"attributes\":{\"factors\":[\"ACQH001\",\"ACQH002\",\"ACQH003\",\"ACQJ001\",\"ACQJ002\",\"ACQK001\",\"ACQL001\",\"ACQN001\",\"AFQH001\",\"AHCA023\",\"AHPC001\",\"BAFA013\",\"BAPA002\",\"BBFA002\",\"BDGA005\",\"BDMA008\",\"BEQP004\",\"BFPP001\",\"BFQM001\",\"BGMA002\",\"BGQP007\",\"BGQP009\",\"BZQP003\",\"CBPA002\",\"DAQL009\",\"DAQL010\",\"DAQM003\",\"DCFA001\",\"DDQH009\",\"DDQH012\",\"DGQH002\",\"DGQM001\",\"DGQM002\",\"DZQM002\",\"DZQM005\",\"DZQM006\",\"DZQM008\",\"EAQJ001\",\"EBCA017\",\"EBFA002\",\"EBQH004\",\"EBQJ002\",\"EBQM001\",\"EBQM002\",\"EBQM003\",\"ECQH010\",\"ECQH011\",\"ECQM002\",\"EDQM001\",\"EFQM001\",\"EJFA002\",\"EJFA006\",\"EJQM001\",\"EJQM003\",\"EJQM004\",\"ELQH002\",\"ELQM002\",\"EZQM001\",\"FCFA019\",\"GFFC005\",\"HAPA001\",\"HCFA009\",\"HCQM001\",\"HEQH001\",\"HEQH002\",\"HHFE002\",\"HHQH001\",\"HKFA006\",\"HLQM001\",\"HMFC004\",\"HPFA001\",\"HQQH002\",\"HZQM001\",\"JAQJ001\",\"JAQL001\",\"JAQL003\",\"JAQM001\",\"JAQM002\",\"JAQM003\",\"JAQM004\",\"JCNM002\",\"JDQJ003\",\"JDQM001\",\"JGFE023\",\"JGFE365\",\"JGQJ001\",\"JHQM001\",\"JJFC006\",\"JKHA002\",\"JKPC001\",\"JKQH001\",\"JLQH002\",\"JNQM001\",\"JQQJ037\",\"JQQM001\",\"JQQM002\",\"JQQM003\",\"JQQM010\",\"JQQM016\",\"JQQM018\",\"JZQH003\",\"KCQL003\",\"KCQM001\",\"LAQJ001\",\"LAQK001\",\"LAQK002\",\"LAQK003\",\"LAQK005\",\"LAQK008\",\"LAQK009\",\"LAQK012\",\"LAQK013\",\"LAQK027\",\"LBQK001\",\"LBQK005\",\"LCQH001\",\"LCQJ001\",\"LCQK001\",\"LCQK002\",\"LDQK001\",\"LDQK002\",\"LDQK004\",\"LDQK005\",\"LEQK001\",\"LEQK002\",\"LFDA001\",\"LFQK001\",\"LFQK002\",\"LGQK001\",\"LHQH001\",\"LHQH006\",\"LHQJ001\",\"LHQJ002\",\"LHQK001\",\"LHQK002\",\"LHQK003\",\"LHQK004\",\"LHQK005\",\"LHQK007\",\"LHQN001\",\"LHQN002\",\"LJQK001\",\"LJQK002\",\"LJQK015\",\"LMMC002\",\"LMMC020\",\"MAQK001\",\"MAQK002\",\"MAQK003\",\"MBQK001\",\"MCQK001\",\"MDQK001\",\"MDQK002\",\"MEMC005\",\"MEQH001\",\"MFPC001\",\"MFQK001\",\"MFQK002\",\"MGQH001\",\"MGQK001\",\"MGQK003\",\"MHQH001\",\"MJDA001\",\"MJFA005\",\"MZQH001\",\"MZQJ001\",\"MZQK002\",\"MZQK003\",\"MZQK004\",\"MZQN001\",\"NAQK007\",\"NAQK015\",\"NAQK023\",\"NAQK049\",\"NAQK071\",\"NBQK001\",\"NCQK001\",\"NDQK001\",\"NDQK002\",\"NDQK003\",\"NDQK004\",\"NEPA001\",\"NEQH002\",\"NEQK010\",\"NEQK012\",\"NEQK035\",\"NEQM001\",\"NFKA006\",\"NFKA008\",\"NFQH001\",\"NFQK001\",\"NFQK002\",\"NFQK003\",\"NFQK004\",\"NGQK001\",\"NGQK002\",\"NJPA029\",\"NZQH001\",\"NZQH002\",\"NZQH005\",\"NZQJ001\",\"NZQK001\",\"NZQK002\",\"NZQK003\",\"NZQK005\",\"NZQK006\",\"NZQN001\",\"PAGA011\",\"PAQK001\",\"PAQK002\",\"PAQK007\",\"PAQL002\",\"PAQL003\",\"PBQM001\",\"PBQM002\",\"PBQM003\",\"PCQM001\",\"PDQN001\",\"QAGA004\",\"QAJA004\",\"QAJA013\",\"QBFA007\",\"QCJA001\",\"QEQJ001\",\"QEQK001\",\"QEQK003\",\"QEQK004\",\"QEQK005\",\"QEQM001\",\"QZFA002\",\"QZFA009\",\"QZFA020\",\"QZFA021\",\"QZFA028\",\"QZFA031\",\"QZFA036\",\"QZGA002\",\"QZJA002\",\"QZJA016\",\"QZJA017\",\"QZQM001\",\"YYYY012\",\"YYYY019\",\"YYYY028\",\"YYYY033\",\"YYYY057\",\"YYYY088\",\"YYYY105\",\"YYYY110\",\"YYYY115\",\"YYYY160\",\"YYYY163\",\"YYYY172\",\"YYYY180\",\"YYYY200\",\"YYYY220\",\"YYYY250\",\"YYYY260\",\"YYYY270\",\"YYYY280\",\"YYYY290\",\"YYYY300\",\"YYYY410\",\"YYYY415\",\"YYYY420\",\"YYYY600\",\"ZBQH001\",\"ZBQK001\",\"ZBQK002\",\"ZBQK003\",\"ZCQH001\",\"ZCQH002\",\"ZCQJ001\",\"ZCQJ002\",\"ZCQJ003\",\"ZCQJ004\",\"ZCQJ005\",\"ZCQJ006\",\"ZCQK002\",\"ZCQK004\",\"ZCQK005\",\"ZCQM001\",\"ZCQM003\",\"ZCQM004\",\"ZCQM005\",\"ZCQM006\",\"ZCQM007\",\"ZCQM008\",\"ZCQM010\",\"ZCQN001\",\"ZCQN002\",\"ZZQH033\",\"ZZQK024\",\"ZZQL007\",\"ZZQL010\",\"ZZQL016\",\"ZZQL017\",\"ZZQL018\",\"ZZQM001\",\"ZZQN001\"]},\"id\":\"1443\",\"type\":\"FactorRange\"},{\"attributes\":{\"active_drag\":\"auto\",\"active_inspect\":\"auto\",\"active_multi\":null,\"active_scroll\":\"auto\",\"active_tap\":\"auto\",\"tools\":[{\"id\":\"1458\"},{\"id\":\"1459\"},{\"id\":\"1460\"},{\"id\":\"1461\"},{\"id\":\"1462\"},{\"id\":\"1463\"}]},\"id\":\"1465\",\"type\":\"Toolbar\"},{\"attributes\":{},\"id\":\"1455\",\"type\":\"BasicTicker\"},{\"attributes\":{\"data\":{\"ccam\":[\"ACQH001\",\"ACQH002\",\"ACQH003\",\"ACQJ001\",\"ACQJ002\",\"ACQK001\",\"ACQL001\",\"ACQN001\",\"AFQH001\",\"AHCA023\",\"AHPC001\",\"BAFA013\",\"BAPA002\",\"BBFA002\",\"BDGA005\",\"BDMA008\",\"BEQP004\",\"BFPP001\",\"BFQM001\",\"BGMA002\",\"BGQP007\",\"BGQP009\",\"BZQP003\",\"CBPA002\",\"DAQL009\",\"DAQL010\",\"DAQM003\",\"DCFA001\",\"DDQH009\",\"DDQH012\",\"DGQH002\",\"DGQM001\",\"DGQM002\",\"DZQM002\",\"DZQM005\",\"DZQM006\",\"DZQM008\",\"EAQJ001\",\"EBCA017\",\"EBFA002\",\"EBQH004\",\"EBQJ002\",\"EBQM001\",\"EBQM002\",\"EBQM003\",\"ECQH010\",\"ECQH011\",\"ECQM002\",\"EDQM001\",\"EFQM001\",\"EJFA002\",\"EJFA006\",\"EJQM001\",\"EJQM003\",\"EJQM004\",\"ELQH002\",\"ELQM002\",\"EZQM001\",\"FCFA019\",\"GFFC005\",\"HAPA001\",\"HCFA009\",\"HCQM001\",\"HEQH001\",\"HEQH002\",\"HHFE002\",\"HHQH001\",\"HKFA006\",\"HLQM001\",\"HMFC004\",\"HPFA001\",\"HQQH002\",\"HZQM001\",\"JAQJ001\",\"JAQL001\",\"JAQL003\",\"JAQM001\",\"JAQM002\",\"JAQM003\",\"JAQM004\",\"JCNM002\",\"JDQJ003\",\"JDQM001\",\"JGFE023\",\"JGFE365\",\"JGQJ001\",\"JHQM001\",\"JJFC006\",\"JKHA002\",\"JKPC001\",\"JKQH001\",\"JLQH002\",\"JNQM001\",\"JQQJ037\",\"JQQM001\",\"JQQM002\",\"JQQM003\",\"JQQM010\",\"JQQM016\",\"JQQM018\",\"JZQH003\",\"KCQL003\",\"KCQM001\",\"LAQJ001\",\"LAQK001\",\"LAQK002\",\"LAQK003\",\"LAQK005\",\"LAQK008\",\"LAQK009\",\"LAQK012\",\"LAQK013\",\"LAQK027\",\"LBQK001\",\"LBQK005\",\"LCQH001\",\"LCQJ001\",\"LCQK001\",\"LCQK002\",\"LDQK001\",\"LDQK002\",\"LDQK004\",\"LDQK005\",\"LEQK001\",\"LEQK002\",\"LFDA001\",\"LFQK001\",\"LFQK002\",\"LGQK001\",\"LHQH001\",\"LHQH006\",\"LHQJ001\",\"LHQJ002\",\"LHQK001\",\"LHQK002\",\"LHQK003\",\"LHQK004\",\"LHQK005\",\"LHQK007\",\"LHQN001\",\"LHQN002\",\"LJQK001\",\"LJQK002\",\"LJQK015\",\"LMMC002\",\"LMMC020\",\"MAQK001\",\"MAQK002\",\"MAQK003\",\"MBQK001\",\"MCQK001\",\"MDQK001\",\"MDQK002\",\"MEMC005\",\"MEQH001\",\"MFPC001\",\"MFQK001\",\"MFQK002\",\"MGQH001\",\"MGQK001\",\"MGQK003\",\"MHQH001\",\"MJDA001\",\"MJFA005\",\"MZQH001\",\"MZQJ001\",\"MZQK002\",\"MZQK003\",\"MZQK004\",\"MZQN001\",\"NAQK007\",\"NAQK015\",\"NAQK023\",\"NAQK049\",\"NAQK071\",\"NBQK001\",\"NCQK001\",\"NDQK001\",\"NDQK002\",\"NDQK003\",\"NDQK004\",\"NEPA001\",\"NEQH002\",\"NEQK010\",\"NEQK012\",\"NEQK035\",\"NEQM001\",\"NFKA006\",\"NFKA008\",\"NFQH001\",\"NFQK001\",\"NFQK002\",\"NFQK003\",\"NFQK004\",\"NGQK001\",\"NGQK002\",\"NJPA029\",\"NZQH001\",\"NZQH002\",\"NZQH005\",\"NZQJ001\",\"NZQK001\",\"NZQK002\",\"NZQK003\",\"NZQK005\",\"NZQK006\",\"NZQN001\",\"PAGA011\",\"PAQK001\",\"PAQK002\",\"PAQK007\",\"PAQL002\",\"PAQL003\",\"PBQM001\",\"PBQM002\",\"PBQM003\",\"PCQM001\",\"PDQN001\",\"QAGA004\",\"QAJA004\",\"QAJA013\",\"QBFA007\",\"QCJA001\",\"QEQJ001\",\"QEQK001\",\"QEQK003\",\"QEQK004\",\"QEQK005\",\"QEQM001\",\"QZFA002\",\"QZFA009\",\"QZFA020\",\"QZFA021\",\"QZFA028\",\"QZFA031\",\"QZFA036\",\"QZGA002\",\"QZJA002\",\"QZJA016\",\"QZJA017\",\"QZQM001\",\"YYYY012\",\"YYYY019\",\"YYYY028\",\"YYYY033\",\"YYYY057\",\"YYYY088\",\"YYYY105\",\"YYYY110\",\"YYYY115\",\"YYYY160\",\"YYYY163\",\"YYYY172\",\"YYYY180\",\"YYYY200\",\"YYYY220\",\"YYYY250\",\"YYYY260\",\"YYYY270\",\"YYYY280\",\"YYYY290\",\"YYYY300\",\"YYYY410\",\"YYYY415\",\"YYYY420\",\"YYYY600\",\"ZBQH001\",\"ZBQK001\",\"ZBQK002\",\"ZBQK003\",\"ZCQH001\",\"ZCQH002\",\"ZCQJ001\",\"ZCQJ002\",\"ZCQJ003\",\"ZCQJ004\",\"ZCQJ005\",\"ZCQJ006\",\"ZCQK002\",\"ZCQK004\",\"ZCQK005\",\"ZCQM001\",\"ZCQM003\",\"ZCQM004\",\"ZCQM005\",\"ZCQM006\",\"ZCQM007\",\"ZCQM008\",\"ZCQM010\",\"ZCQN001\",\"ZCQN002\",\"ZZQH033\",\"ZZQK024\",\"ZZQL007\",\"ZZQL010\",\"ZZQL016\",\"ZZQL017\",\"ZZQL018\",\"ZZQM001\",\"ZZQN001\"],\"index\":[0,1,2,3,4,5,6,7,8,9,10,11,12,13,14,15,16,17,18,19,20,21,22,23,24,25,26,27,28,29,30,31,32,33,34,35,36,37,38,39,40,41,42,43,44,45,46,47,48,49,50,51,52,53,54,55,56,57,58,59,60,61,62,63,64,65,66,67,68,69,70,71,72,73,74,75,76,77,78,79,80,81,82,83,84,85,86,87,88,89,90,91,92,93,94,95,96,97,98,99,100,101,102,103,104,105,106,107,108,109,110,111,112,113,114,115,116,117,118,119,120,121,122,123,124,125,126,127,128,129,130,131,132,133,134,135,136,137,138,139,140,141,142,143,144,145,146,147,148,149,150,151,152,153,154,155,156,157,158,159,160,161,162,163,164,165,166,167,168,169,170,171,172,173,174,175,176,177,178,179,180,181,182,183,184,185,186,187,188,189,190,191,192,193,194,195,196,197,198,199,200,201,202,203,204,205,206,207,208,209,210,211,212,213,214,215,216,217,218,219,220,221,222,223,224,225,226,227,228,229,230,231,232,233,234,235,236,237,238,239,240,241,242,243,244,245,246,247,248,249,250,251,252,253,254,255,256,257,258,259,260,261,262,263,264,265,266,267,268,269,270,271,272,273,274,275,276,277,278,279,280,281,282,283,284,285,286,287,288,289,290,291,292,293,294,295,296,297,298,299],\"nb\":{\"__ndarray__\":\"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\",\"dtype\":\"float64\",\"order\":\"little\",\"shape\":[300]},\"nb_sim\":[1,1,13,1,37,16,1,26,1,1,1,1,1,1,1,1,1,2,16,1,49,3,1,1,9,6,1,1,7,1,1,15,3,3,4,78,1,2,1,1,1,1,20,24,4,6,5,5,11,4,1,1,3,19,27,1,3,1,1,1,1,1,2,2,7,5,1,1,1,1,1,1,1,2,1,1,8,1,7,12,1,3,4,1,1,3,5,1,1,1,6,1,10,7,3,1,2,8,12,9,2,1,15,1,3,4,16,10,1,3,18,17,35,2,1,3,2,1,2,4,49,10,5,9,54,1,65,39,7,3,3,5,2,43,10,4,3,3,15,66,6,9,31,3,4,1,64,43,22,4,2,84,7,1,9,1,11,8,1,53,23,1,1,1,3,1,9,8,2,18,13,127,26,12,22,2,11,75,23,10,17,1,2,22,13,29,5,1,1,7,20,3,73,96,27,55,2,1,2,1,3,17,16,2,15,3,82,1,1,4,35,7,7,1,8,20,61,1,1,2,1,1,2,6,121,1,163,18,62,2,1,2,1,1,1,7,2,1,1,1,18,8,2,11,11,2,6,1,1,5,1,2,21,1,1,3,2,3,3,1,7,20,1,6,19,682,21,31,215,1,58,3,3,9,16,23,2,21,31,13,5,7,12,3,29,5,10,22,10,4,8,31,1,13,2,14,7,1,1,8]},\"selected\":{\"id\":\"1505\"},\"selection_policy\":{\"id\":\"1504\"}},\"id\":\"1490\",\"type\":\"ColumnDataSource\"},{\"attributes\":{},\"id\":\"1483\",\"type\":\"CategoricalTickFormatter\"},{\"attributes\":{\"axis\":{\"id\":\"1451\"},\"ticker\":null,\"visible\":false},\"id\":\"1453\",\"type\":\"Grid\"},{\"attributes\":{\"formatter\":{\"id\":\"1483\"},\"major_label_orientation\":0.7853981633974483,\"ticker\":{\"id\":\"1452\"}},\"id\":\"1451\",\"type\":\"CategoricalAxis\"},{\"attributes\":{\"source\":{\"id\":\"1473\"}},\"id\":\"1478\",\"type\":\"CDSView\"},{\"attributes\":{},\"id\":\"1452\",\"type\":\"CategoricalTicker\"},{\"attributes\":{\"axis_label\":\"Nb\",\"formatter\":{\"id\":\"1481\"},\"ticker\":{\"id\":\"1455\"}},\"id\":\"1454\",\"type\":\"LinearAxis\"},{\"attributes\":{},\"id\":\"1447\",\"type\":\"CategoricalScale\"},{\"attributes\":{},\"id\":\"1449\",\"type\":\"LinearScale\"}],\"root_ids\":[\"1441\"]},\"title\":\"Bokeh Application\",\"version\":\"2.1.1\"}};\n",
       "  var render_items = [{\"docid\":\"ad4fa562-f6ed-4b34-8627-a002bd6d88b4\",\"root_ids\":[\"1441\"],\"roots\":{\"1441\":\"59964b77-5b26-411e-b3e8-0acd411ea275\"}}];\n",
       "  root.Bokeh.embed.embed_items_notebook(docs_json, render_items);\n",
       "\n",
       "  }\n",
       "  if (root.Bokeh !== undefined) {\n",
       "    embed_document(root);\n",
       "  } else {\n",
       "    var attempts = 0;\n",
       "    var timer = setInterval(function(root) {\n",
       "      if (root.Bokeh !== undefined) {\n",
       "        clearInterval(timer);\n",
       "        embed_document(root);\n",
       "      } else {\n",
       "        attempts++;\n",
       "        if (attempts > 100) {\n",
       "          clearInterval(timer);\n",
       "          console.log(\"Bokeh: ERROR: Unable to run BokehJS code because BokehJS library is missing\");\n",
       "        }\n",
       "      }\n",
       "    }, 10, root)\n",
       "  }\n",
       "})(window);"
      ],
      "application/vnd.bokehjs_exec.v0+json": ""
     },
     "metadata": {
      "application/vnd.bokehjs_exec.v0+json": {
       "id": "1441"
      }
     },
     "output_type": "display_data"
    }
   ],
   "source": [
    "p = figure(title=None, x_range=ccams['ccam'].to_numpy(), y_range=(0,1200), plot_width=1200, plot_height=300)\n",
    "p.xgrid.visible = False\n",
    "p.ygrid.visible = False\n",
    "p.xaxis.major_label_orientation = math.pi/4\n",
    "p.vbar(x=dodge('ccam', -0.2, range=p.x_range), top='nb', source=ColumnDataSource(ccams), width=0.4,legend_label=\"Real\")\n",
    "p.vbar(x=dodge('ccam', +0.2, range=p.x_range), top='nb_sim', fill_color=\"orange\", width=0.4, source=ColumnDataSource(ccams),legend_label=\"Synth\")\n",
    "p.legend.location = \"top_left\"\n",
    "#p.xaxis.axis_label = 'CCAM procedures'\n",
    "p.yaxis.axis_label = 'Nb'\n",
    "show(p)"
   ]
  },
  {
   "cell_type": "code",
   "execution_count": 51,
   "metadata": {},
   "outputs": [
    {
     "data": {
      "text/html": [
       "\n",
       "\n",
       "\n",
       "\n",
       "\n",
       "\n",
       "  <div class=\"bk-root\" id=\"c4ff7a7d-54a2-4f65-af8e-a4493d9da971\" data-root-id=\"1607\"></div>\n"
      ]
     },
     "metadata": {},
     "output_type": "display_data"
    },
    {
     "data": {
      "application/javascript": [
       "(function(root) {\n",
       "  function embed_document(root) {\n",
       "    \n",
       "  var docs_json = {\"e38e374f-e676-4f25-a001-41c5d72d3882\":{\"roots\":{\"references\":[{\"attributes\":{\"below\":[{\"id\":\"1617\"}],\"center\":[{\"id\":\"1619\"},{\"id\":\"1623\"},{\"id\":\"1653\"}],\"left\":[{\"id\":\"1620\"}],\"plot_height\":300,\"plot_width\":1200,\"renderers\":[{\"id\":\"1643\"},{\"id\":\"1660\"}],\"title\":null,\"toolbar\":{\"id\":\"1631\"},\"x_range\":{\"id\":\"1609\"},\"x_scale\":{\"id\":\"1613\"},\"y_range\":{\"id\":\"1611\"},\"y_scale\":{\"id\":\"1615\"}},\"id\":\"1607\",\"subtype\":\"Figure\",\"type\":\"Plot\"},{\"attributes\":{\"formatter\":{\"id\":\"1649\"},\"major_label_orientation\":0.7853981633974483,\"ticker\":{\"id\":\"1618\"}},\"id\":\"1617\",\"type\":\"CategoricalAxis\"},{\"attributes\":{\"factors\":[\"NFKA008\",\"NFQH001\",\"NFQK001\",\"NFQK002\",\"NFQK003\",\"NFQK004\",\"NGQK001\",\"NGQK002\",\"NJPA029\",\"NZQH001\",\"NZQH002\",\"NZQH005\",\"NZQJ001\",\"NZQK001\",\"NZQK002\",\"NZQK003\",\"NZQK005\",\"NZQK006\",\"NZQN001\",\"PAGA011\",\"PAQK001\",\"PAQK002\",\"PAQK007\",\"PAQL002\",\"PAQL003\",\"PBQM001\",\"PBQM002\",\"PBQM003\",\"PCQM001\",\"PDQN001\",\"QAGA004\",\"QAJA004\",\"QAJA013\",\"QBFA007\",\"QCJA001\",\"QEQJ001\",\"QEQK001\",\"QEQK003\",\"QEQK004\",\"QEQK005\"]},\"id\":\"1609\",\"type\":\"FactorRange\"},{\"attributes\":{\"source\":{\"id\":\"1656\"}},\"id\":\"1661\",\"type\":\"CDSView\"},{\"attributes\":{},\"id\":\"1624\",\"type\":\"PanTool\"},{\"attributes\":{\"fill_alpha\":{\"value\":0.1},\"fill_color\":{\"value\":\"#1f77b4\"},\"line_alpha\":{\"value\":0.1},\"line_color\":{\"value\":\"#1f77b4\"},\"top\":{\"field\":\"nb\"},\"width\":{\"value\":0.4},\"x\":{\"field\":\"ccam\",\"transform\":{\"id\":\"1638\"}}},\"id\":\"1642\",\"type\":\"VBar\"},{\"attributes\":{},\"id\":\"1647\",\"type\":\"BasicTickFormatter\"},{\"attributes\":{},\"id\":\"1618\",\"type\":\"CategoricalTicker\"},{\"attributes\":{},\"id\":\"1613\",\"type\":\"CategoricalScale\"},{\"attributes\":{\"fill_color\":{\"value\":\"orange\"},\"line_color\":{\"value\":\"#1f77b4\"},\"top\":{\"field\":\"nb_sim\"},\"width\":{\"value\":0.4},\"x\":{\"field\":\"ccam\",\"transform\":{\"id\":\"1655\"}}},\"id\":\"1658\",\"type\":\"VBar\"},{\"attributes\":{},\"id\":\"1649\",\"type\":\"CategoricalTickFormatter\"},{\"attributes\":{\"data_source\":{\"id\":\"1639\"},\"glyph\":{\"id\":\"1641\"},\"hover_glyph\":null,\"muted_glyph\":null,\"nonselection_glyph\":{\"id\":\"1642\"},\"selection_glyph\":null,\"view\":{\"id\":\"1644\"}},\"id\":\"1643\",\"type\":\"GlyphRenderer\"},{\"attributes\":{},\"id\":\"1611\",\"type\":\"DataRange1d\"},{\"attributes\":{},\"id\":\"1615\",\"type\":\"LinearScale\"},{\"attributes\":{\"label\":{\"value\":\"Synth\"},\"renderers\":[{\"id\":\"1660\"}]},\"id\":\"1672\",\"type\":\"LegendItem\"},{\"attributes\":{\"axis\":{\"id\":\"1617\"},\"ticker\":null,\"visible\":false},\"id\":\"1619\",\"type\":\"Grid\"},{\"attributes\":{\"axis_label\":\"Nb\",\"formatter\":{\"id\":\"1647\"},\"ticker\":{\"id\":\"1621\"}},\"id\":\"1620\",\"type\":\"LinearAxis\"},{\"attributes\":{},\"id\":\"1651\",\"type\":\"UnionRenderers\"},{\"attributes\":{\"data_source\":{\"id\":\"1656\"},\"glyph\":{\"id\":\"1658\"},\"hover_glyph\":null,\"muted_glyph\":null,\"nonselection_glyph\":{\"id\":\"1659\"},\"selection_glyph\":null,\"view\":{\"id\":\"1661\"}},\"id\":\"1660\",\"type\":\"GlyphRenderer\"},{\"attributes\":{},\"id\":\"1621\",\"type\":\"BasicTicker\"},{\"attributes\":{\"axis\":{\"id\":\"1620\"},\"dimension\":1,\"ticker\":null,\"visible\":false},\"id\":\"1623\",\"type\":\"Grid\"},{\"attributes\":{},\"id\":\"1652\",\"type\":\"Selection\"},{\"attributes\":{\"fill_color\":{\"value\":\"#1f77b4\"},\"line_color\":{\"value\":\"#1f77b4\"},\"top\":{\"field\":\"nb\"},\"width\":{\"value\":0.4},\"x\":{\"field\":\"ccam\",\"transform\":{\"id\":\"1638\"}}},\"id\":\"1641\",\"type\":\"VBar\"},{\"attributes\":{\"data\":{\"ccam\":[\"ACQH001\",\"ACQH002\",\"ACQH003\",\"ACQJ001\",\"ACQJ002\",\"ACQK001\",\"ACQL001\",\"ACQN001\",\"AFQH001\",\"AHCA023\",\"AHPC001\",\"BAFA013\",\"BAPA002\",\"BBFA002\",\"BDGA005\",\"BDMA008\",\"BEQP004\",\"BFPP001\",\"BFQM001\",\"BGMA002\",\"BGQP007\",\"BGQP009\",\"BZQP003\",\"CBPA002\",\"DAQL009\",\"DAQL010\",\"DAQM003\",\"DCFA001\",\"DDQH009\",\"DDQH012\",\"DGQH002\",\"DGQM001\",\"DGQM002\",\"DZQM002\",\"DZQM005\",\"DZQM006\",\"DZQM008\",\"EAQJ001\",\"EBCA017\",\"EBFA002\",\"EBQH004\",\"EBQJ002\",\"EBQM001\",\"EBQM002\",\"EBQM003\",\"ECQH010\",\"ECQH011\",\"ECQM002\",\"EDQM001\",\"EFQM001\",\"EJFA002\",\"EJFA006\",\"EJQM001\",\"EJQM003\",\"EJQM004\",\"ELQH002\",\"ELQM002\",\"EZQM001\",\"FCFA019\",\"GFFC005\",\"HAPA001\",\"HCFA009\",\"HCQM001\",\"HEQH001\",\"HEQH002\",\"HHFE002\",\"HHQH001\",\"HKFA006\",\"HLQM001\",\"HMFC004\",\"HPFA001\",\"HQQH002\",\"HZQM001\",\"JAQJ001\",\"JAQL001\",\"JAQL003\",\"JAQM001\",\"JAQM002\",\"JAQM003\",\"JAQM004\",\"JCNM002\",\"JDQJ003\",\"JDQM001\",\"JGFE023\",\"JGFE365\",\"JGQJ001\",\"JHQM001\",\"JJFC006\",\"JKHA002\",\"JKPC001\",\"JKQH001\",\"JLQH002\",\"JNQM001\",\"JQQJ037\",\"JQQM001\",\"JQQM002\",\"JQQM003\",\"JQQM010\",\"JQQM016\",\"JQQM018\",\"JZQH003\",\"KCQL003\",\"KCQM001\",\"LAQJ001\",\"LAQK001\",\"LAQK002\",\"LAQK003\",\"LAQK005\",\"LAQK008\",\"LAQK009\",\"LAQK012\",\"LAQK013\",\"LAQK027\",\"LBQK001\",\"LBQK005\",\"LCQH001\",\"LCQJ001\",\"LCQK001\",\"LCQK002\",\"LDQK001\",\"LDQK002\",\"LDQK004\",\"LDQK005\",\"LEQK001\",\"LEQK002\",\"LFDA001\",\"LFQK001\",\"LFQK002\",\"LGQK001\",\"LHQH001\",\"LHQH006\",\"LHQJ001\",\"LHQJ002\",\"LHQK001\",\"LHQK002\",\"LHQK003\",\"LHQK004\",\"LHQK005\",\"LHQK007\",\"LHQN001\",\"LHQN002\",\"LJQK001\",\"LJQK002\",\"LJQK015\",\"LMMC002\",\"LMMC020\",\"MAQK001\",\"MAQK002\",\"MAQK003\",\"MBQK001\",\"MCQK001\",\"MDQK001\",\"MDQK002\",\"MEMC005\",\"MEQH001\",\"MFPC001\",\"MFQK001\",\"MFQK002\",\"MGQH001\",\"MGQK001\",\"MGQK003\",\"MHQH001\",\"MJDA001\",\"MJFA005\",\"MZQH001\",\"MZQJ001\",\"MZQK002\",\"MZQK003\",\"MZQK004\",\"MZQN001\",\"NAQK007\",\"NAQK015\",\"NAQK023\",\"NAQK049\",\"NAQK071\",\"NBQK001\",\"NCQK001\",\"NDQK001\",\"NDQK002\",\"NDQK003\",\"NDQK004\",\"NEPA001\",\"NEQH002\",\"NEQK010\",\"NEQK012\",\"NEQK035\",\"NEQM001\",\"NFKA006\",\"NFKA008\",\"NFQH001\",\"NFQK001\",\"NFQK002\",\"NFQK003\",\"NFQK004\",\"NGQK001\",\"NGQK002\",\"NJPA029\",\"NZQH001\",\"NZQH002\",\"NZQH005\",\"NZQJ001\",\"NZQK001\",\"NZQK002\",\"NZQK003\",\"NZQK005\",\"NZQK006\",\"NZQN001\",\"PAGA011\",\"PAQK001\",\"PAQK002\",\"PAQK007\",\"PAQL002\",\"PAQL003\",\"PBQM001\",\"PBQM002\",\"PBQM003\",\"PCQM001\",\"PDQN001\",\"QAGA004\",\"QAJA004\",\"QAJA013\",\"QBFA007\",\"QCJA001\",\"QEQJ001\",\"QEQK001\",\"QEQK003\",\"QEQK004\",\"QEQK005\",\"QEQM001\",\"QZFA002\",\"QZFA009\",\"QZFA020\",\"QZFA021\",\"QZFA028\",\"QZFA031\",\"QZFA036\",\"QZGA002\",\"QZJA002\",\"QZJA016\",\"QZJA017\",\"QZQM001\",\"YYYY012\",\"YYYY019\",\"YYYY028\",\"YYYY033\",\"YYYY057\",\"YYYY088\",\"YYYY105\",\"YYYY110\",\"YYYY115\",\"YYYY160\",\"YYYY163\",\"YYYY172\",\"YYYY180\",\"YYYY200\",\"YYYY220\",\"YYYY250\",\"YYYY260\",\"YYYY270\",\"YYYY280\",\"YYYY290\",\"YYYY300\",\"YYYY410\",\"YYYY415\",\"YYYY420\",\"YYYY600\",\"ZBQH001\",\"ZBQK001\",\"ZBQK002\",\"ZBQK003\",\"ZCQH001\",\"ZCQH002\",\"ZCQJ001\",\"ZCQJ002\",\"ZCQJ003\",\"ZCQJ004\",\"ZCQJ005\",\"ZCQJ006\",\"ZCQK002\",\"ZCQK004\",\"ZCQK005\",\"ZCQM001\",\"ZCQM003\",\"ZCQM004\",\"ZCQM005\",\"ZCQM006\",\"ZCQM007\",\"ZCQM008\",\"ZCQM010\",\"ZCQN001\",\"ZCQN002\",\"ZZQH033\",\"ZZQK024\",\"ZZQL007\",\"ZZQL010\",\"ZZQL016\",\"ZZQL017\",\"ZZQL018\",\"ZZQM001\",\"ZZQN001\"],\"index\":[0,1,2,3,4,5,6,7,8,9,10,11,12,13,14,15,16,17,18,19,20,21,22,23,24,25,26,27,28,29,30,31,32,33,34,35,36,37,38,39,40,41,42,43,44,45,46,47,48,49,50,51,52,53,54,55,56,57,58,59,60,61,62,63,64,65,66,67,68,69,70,71,72,73,74,75,76,77,78,79,80,81,82,83,84,85,86,87,88,89,90,91,92,93,94,95,96,97,98,99,100,101,102,103,104,105,106,107,108,109,110,111,112,113,114,115,116,117,118,119,120,121,122,123,124,125,126,127,128,129,130,131,132,133,134,135,136,137,138,139,140,141,142,143,144,145,146,147,148,149,150,151,152,153,154,155,156,157,158,159,160,161,162,163,164,165,166,167,168,169,170,171,172,173,174,175,176,177,178,179,180,181,182,183,184,185,186,187,188,189,190,191,192,193,194,195,196,197,198,199,200,201,202,203,204,205,206,207,208,209,210,211,212,213,214,215,216,217,218,219,220,221,222,223,224,225,226,227,228,229,230,231,232,233,234,235,236,237,238,239,240,241,242,243,244,245,246,247,248,249,250,251,252,253,254,255,256,257,258,259,260,261,262,263,264,265,266,267,268,269,270,271,272,273,274,275,276,277,278,279,280,281,282,283,284,285,286,287,288,289,290,291,292,293,294,295,296,297,298,299],\"nb\":{\"__ndarray__\":\"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\",\"dtype\":\"float64\",\"order\":\"little\",\"shape\":[300]},\"nb_sim\":[1,1,13,1,37,16,1,26,1,1,1,1,1,1,1,1,1,2,16,1,49,3,1,1,9,6,1,1,7,1,1,15,3,3,4,78,1,2,1,1,1,1,20,24,4,6,5,5,11,4,1,1,3,19,27,1,3,1,1,1,1,1,2,2,7,5,1,1,1,1,1,1,1,2,1,1,8,1,7,12,1,3,4,1,1,3,5,1,1,1,6,1,10,7,3,1,2,8,12,9,2,1,15,1,3,4,16,10,1,3,18,17,35,2,1,3,2,1,2,4,49,10,5,9,54,1,65,39,7,3,3,5,2,43,10,4,3,3,15,66,6,9,31,3,4,1,64,43,22,4,2,84,7,1,9,1,11,8,1,53,23,1,1,1,3,1,9,8,2,18,13,127,26,12,22,2,11,75,23,10,17,1,2,22,13,29,5,1,1,7,20,3,73,96,27,55,2,1,2,1,3,17,16,2,15,3,82,1,1,4,35,7,7,1,8,20,61,1,1,2,1,1,2,6,121,1,163,18,62,2,1,2,1,1,1,7,2,1,1,1,18,8,2,11,11,2,6,1,1,5,1,2,21,1,1,3,2,3,3,1,7,20,1,6,19,682,21,31,215,1,58,3,3,9,16,23,2,21,31,13,5,7,12,3,29,5,10,22,10,4,8,31,1,13,2,14,7,1,1,8]},\"selected\":{\"id\":\"1652\"},\"selection_policy\":{\"id\":\"1651\"}},\"id\":\"1639\",\"type\":\"ColumnDataSource\"},{\"attributes\":{\"active_drag\":\"auto\",\"active_inspect\":\"auto\",\"active_multi\":null,\"active_scroll\":\"auto\",\"active_tap\":\"auto\",\"tools\":[{\"id\":\"1624\"},{\"id\":\"1625\"},{\"id\":\"1626\"},{\"id\":\"1627\"},{\"id\":\"1628\"},{\"id\":\"1629\"}]},\"id\":\"1631\",\"type\":\"Toolbar\"},{\"attributes\":{},\"id\":\"1625\",\"type\":\"WheelZoomTool\"},{\"attributes\":{\"data\":{\"ccam\":[\"ACQH001\",\"ACQH002\",\"ACQH003\",\"ACQJ001\",\"ACQJ002\",\"ACQK001\",\"ACQL001\",\"ACQN001\",\"AFQH001\",\"AHCA023\",\"AHPC001\",\"BAFA013\",\"BAPA002\",\"BBFA002\",\"BDGA005\",\"BDMA008\",\"BEQP004\",\"BFPP001\",\"BFQM001\",\"BGMA002\",\"BGQP007\",\"BGQP009\",\"BZQP003\",\"CBPA002\",\"DAQL009\",\"DAQL010\",\"DAQM003\",\"DCFA001\",\"DDQH009\",\"DDQH012\",\"DGQH002\",\"DGQM001\",\"DGQM002\",\"DZQM002\",\"DZQM005\",\"DZQM006\",\"DZQM008\",\"EAQJ001\",\"EBCA017\",\"EBFA002\",\"EBQH004\",\"EBQJ002\",\"EBQM001\",\"EBQM002\",\"EBQM003\",\"ECQH010\",\"ECQH011\",\"ECQM002\",\"EDQM001\",\"EFQM001\",\"EJFA002\",\"EJFA006\",\"EJQM001\",\"EJQM003\",\"EJQM004\",\"ELQH002\",\"ELQM002\",\"EZQM001\",\"FCFA019\",\"GFFC005\",\"HAPA001\",\"HCFA009\",\"HCQM001\",\"HEQH001\",\"HEQH002\",\"HHFE002\",\"HHQH001\",\"HKFA006\",\"HLQM001\",\"HMFC004\",\"HPFA001\",\"HQQH002\",\"HZQM001\",\"JAQJ001\",\"JAQL001\",\"JAQL003\",\"JAQM001\",\"JAQM002\",\"JAQM003\",\"JAQM004\",\"JCNM002\",\"JDQJ003\",\"JDQM001\",\"JGFE023\",\"JGFE365\",\"JGQJ001\",\"JHQM001\",\"JJFC006\",\"JKHA002\",\"JKPC001\",\"JKQH001\",\"JLQH002\",\"JNQM001\",\"JQQJ037\",\"JQQM001\",\"JQQM002\",\"JQQM003\",\"JQQM010\",\"JQQM016\",\"JQQM018\",\"JZQH003\",\"KCQL003\",\"KCQM001\",\"LAQJ001\",\"LAQK001\",\"LAQK002\",\"LAQK003\",\"LAQK005\",\"LAQK008\",\"LAQK009\",\"LAQK012\",\"LAQK013\",\"LAQK027\",\"LBQK001\",\"LBQK005\",\"LCQH001\",\"LCQJ001\",\"LCQK001\",\"LCQK002\",\"LDQK001\",\"LDQK002\",\"LDQK004\",\"LDQK005\",\"LEQK001\",\"LEQK002\",\"LFDA001\",\"LFQK001\",\"LFQK002\",\"LGQK001\",\"LHQH001\",\"LHQH006\",\"LHQJ001\",\"LHQJ002\",\"LHQK001\",\"LHQK002\",\"LHQK003\",\"LHQK004\",\"LHQK005\",\"LHQK007\",\"LHQN001\",\"LHQN002\",\"LJQK001\",\"LJQK002\",\"LJQK015\",\"LMMC002\",\"LMMC020\",\"MAQK001\",\"MAQK002\",\"MAQK003\",\"MBQK001\",\"MCQK001\",\"MDQK001\",\"MDQK002\",\"MEMC005\",\"MEQH001\",\"MFPC001\",\"MFQK001\",\"MFQK002\",\"MGQH001\",\"MGQK001\",\"MGQK003\",\"MHQH001\",\"MJDA001\",\"MJFA005\",\"MZQH001\",\"MZQJ001\",\"MZQK002\",\"MZQK003\",\"MZQK004\",\"MZQN001\",\"NAQK007\",\"NAQK015\",\"NAQK023\",\"NAQK049\",\"NAQK071\",\"NBQK001\",\"NCQK001\",\"NDQK001\",\"NDQK002\",\"NDQK003\",\"NDQK004\",\"NEPA001\",\"NEQH002\",\"NEQK010\",\"NEQK012\",\"NEQK035\",\"NEQM001\",\"NFKA006\",\"NFKA008\",\"NFQH001\",\"NFQK001\",\"NFQK002\",\"NFQK003\",\"NFQK004\",\"NGQK001\",\"NGQK002\",\"NJPA029\",\"NZQH001\",\"NZQH002\",\"NZQH005\",\"NZQJ001\",\"NZQK001\",\"NZQK002\",\"NZQK003\",\"NZQK005\",\"NZQK006\",\"NZQN001\",\"PAGA011\",\"PAQK001\",\"PAQK002\",\"PAQK007\",\"PAQL002\",\"PAQL003\",\"PBQM001\",\"PBQM002\",\"PBQM003\",\"PCQM001\",\"PDQN001\",\"QAGA004\",\"QAJA004\",\"QAJA013\",\"QBFA007\",\"QCJA001\",\"QEQJ001\",\"QEQK001\",\"QEQK003\",\"QEQK004\",\"QEQK005\",\"QEQM001\",\"QZFA002\",\"QZFA009\",\"QZFA020\",\"QZFA021\",\"QZFA028\",\"QZFA031\",\"QZFA036\",\"QZGA002\",\"QZJA002\",\"QZJA016\",\"QZJA017\",\"QZQM001\",\"YYYY012\",\"YYYY019\",\"YYYY028\",\"YYYY033\",\"YYYY057\",\"YYYY088\",\"YYYY105\",\"YYYY110\",\"YYYY115\",\"YYYY160\",\"YYYY163\",\"YYYY172\",\"YYYY180\",\"YYYY200\",\"YYYY220\",\"YYYY250\",\"YYYY260\",\"YYYY270\",\"YYYY280\",\"YYYY290\",\"YYYY300\",\"YYYY410\",\"YYYY415\",\"YYYY420\",\"YYYY600\",\"ZBQH001\",\"ZBQK001\",\"ZBQK002\",\"ZBQK003\",\"ZCQH001\",\"ZCQH002\",\"ZCQJ001\",\"ZCQJ002\",\"ZCQJ003\",\"ZCQJ004\",\"ZCQJ005\",\"ZCQJ006\",\"ZCQK002\",\"ZCQK004\",\"ZCQK005\",\"ZCQM001\",\"ZCQM003\",\"ZCQM004\",\"ZCQM005\",\"ZCQM006\",\"ZCQM007\",\"ZCQM008\",\"ZCQM010\",\"ZCQN001\",\"ZCQN002\",\"ZZQH033\",\"ZZQK024\",\"ZZQL007\",\"ZZQL010\",\"ZZQL016\",\"ZZQL017\",\"ZZQL018\",\"ZZQM001\",\"ZZQN001\"],\"index\":[0,1,2,3,4,5,6,7,8,9,10,11,12,13,14,15,16,17,18,19,20,21,22,23,24,25,26,27,28,29,30,31,32,33,34,35,36,37,38,39,40,41,42,43,44,45,46,47,48,49,50,51,52,53,54,55,56,57,58,59,60,61,62,63,64,65,66,67,68,69,70,71,72,73,74,75,76,77,78,79,80,81,82,83,84,85,86,87,88,89,90,91,92,93,94,95,96,97,98,99,100,101,102,103,104,105,106,107,108,109,110,111,112,113,114,115,116,117,118,119,120,121,122,123,124,125,126,127,128,129,130,131,132,133,134,135,136,137,138,139,140,141,142,143,144,145,146,147,148,149,150,151,152,153,154,155,156,157,158,159,160,161,162,163,164,165,166,167,168,169,170,171,172,173,174,175,176,177,178,179,180,181,182,183,184,185,186,187,188,189,190,191,192,193,194,195,196,197,198,199,200,201,202,203,204,205,206,207,208,209,210,211,212,213,214,215,216,217,218,219,220,221,222,223,224,225,226,227,228,229,230,231,232,233,234,235,236,237,238,239,240,241,242,243,244,245,246,247,248,249,250,251,252,253,254,255,256,257,258,259,260,261,262,263,264,265,266,267,268,269,270,271,272,273,274,275,276,277,278,279,280,281,282,283,284,285,286,287,288,289,290,291,292,293,294,295,296,297,298,299],\"nb\":{\"__ndarray__\":\"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\",\"dtype\":\"float64\",\"order\":\"little\",\"shape\":[300]},\"nb_sim\":[1,1,13,1,37,16,1,26,1,1,1,1,1,1,1,1,1,2,16,1,49,3,1,1,9,6,1,1,7,1,1,15,3,3,4,78,1,2,1,1,1,1,20,24,4,6,5,5,11,4,1,1,3,19,27,1,3,1,1,1,1,1,2,2,7,5,1,1,1,1,1,1,1,2,1,1,8,1,7,12,1,3,4,1,1,3,5,1,1,1,6,1,10,7,3,1,2,8,12,9,2,1,15,1,3,4,16,10,1,3,18,17,35,2,1,3,2,1,2,4,49,10,5,9,54,1,65,39,7,3,3,5,2,43,10,4,3,3,15,66,6,9,31,3,4,1,64,43,22,4,2,84,7,1,9,1,11,8,1,53,23,1,1,1,3,1,9,8,2,18,13,127,26,12,22,2,11,75,23,10,17,1,2,22,13,29,5,1,1,7,20,3,73,96,27,55,2,1,2,1,3,17,16,2,15,3,82,1,1,4,35,7,7,1,8,20,61,1,1,2,1,1,2,6,121,1,163,18,62,2,1,2,1,1,1,7,2,1,1,1,18,8,2,11,11,2,6,1,1,5,1,2,21,1,1,3,2,3,3,1,7,20,1,6,19,682,21,31,215,1,58,3,3,9,16,23,2,21,31,13,5,7,12,3,29,5,10,22,10,4,8,31,1,13,2,14,7,1,1,8]},\"selected\":{\"id\":\"1671\"},\"selection_policy\":{\"id\":\"1670\"}},\"id\":\"1656\",\"type\":\"ColumnDataSource\"},{\"attributes\":{},\"id\":\"1629\",\"type\":\"HelpTool\"},{\"attributes\":{},\"id\":\"1670\",\"type\":\"UnionRenderers\"},{\"attributes\":{\"overlay\":{\"id\":\"1630\"}},\"id\":\"1626\",\"type\":\"BoxZoomTool\"},{\"attributes\":{},\"id\":\"1627\",\"type\":\"SaveTool\"},{\"attributes\":{\"items\":[{\"id\":\"1654\"},{\"id\":\"1672\"}],\"location\":\"top_left\"},\"id\":\"1653\",\"type\":\"Legend\"},{\"attributes\":{},\"id\":\"1628\",\"type\":\"ResetTool\"},{\"attributes\":{\"label\":{\"value\":\"Real\"},\"renderers\":[{\"id\":\"1643\"}]},\"id\":\"1654\",\"type\":\"LegendItem\"},{\"attributes\":{\"source\":{\"id\":\"1639\"}},\"id\":\"1644\",\"type\":\"CDSView\"},{\"attributes\":{\"range\":{\"id\":\"1609\"},\"value\":-0.2},\"id\":\"1638\",\"type\":\"Dodge\"},{\"attributes\":{\"fill_alpha\":{\"value\":0.1},\"fill_color\":{\"value\":\"orange\"},\"line_alpha\":{\"value\":0.1},\"line_color\":{\"value\":\"#1f77b4\"},\"top\":{\"field\":\"nb_sim\"},\"width\":{\"value\":0.4},\"x\":{\"field\":\"ccam\",\"transform\":{\"id\":\"1655\"}}},\"id\":\"1659\",\"type\":\"VBar\"},{\"attributes\":{\"bottom_units\":\"screen\",\"fill_alpha\":0.5,\"fill_color\":\"lightgrey\",\"left_units\":\"screen\",\"level\":\"overlay\",\"line_alpha\":1.0,\"line_color\":\"black\",\"line_dash\":[4,4],\"line_width\":2,\"right_units\":\"screen\",\"top_units\":\"screen\"},\"id\":\"1630\",\"type\":\"BoxAnnotation\"},{\"attributes\":{},\"id\":\"1671\",\"type\":\"Selection\"},{\"attributes\":{\"range\":{\"id\":\"1609\"},\"value\":0.2},\"id\":\"1655\",\"type\":\"Dodge\"}],\"root_ids\":[\"1607\"]},\"title\":\"Bokeh Application\",\"version\":\"2.1.1\"}};\n",
       "  var render_items = [{\"docid\":\"e38e374f-e676-4f25-a001-41c5d72d3882\",\"root_ids\":[\"1607\"],\"roots\":{\"1607\":\"c4ff7a7d-54a2-4f65-af8e-a4493d9da971\"}}];\n",
       "  root.Bokeh.embed.embed_items_notebook(docs_json, render_items);\n",
       "\n",
       "  }\n",
       "  if (root.Bokeh !== undefined) {\n",
       "    embed_document(root);\n",
       "  } else {\n",
       "    var attempts = 0;\n",
       "    var timer = setInterval(function(root) {\n",
       "      if (root.Bokeh !== undefined) {\n",
       "        clearInterval(timer);\n",
       "        embed_document(root);\n",
       "      } else {\n",
       "        attempts++;\n",
       "        if (attempts > 100) {\n",
       "          clearInterval(timer);\n",
       "          console.log(\"Bokeh: ERROR: Unable to run BokehJS code because BokehJS library is missing\");\n",
       "        }\n",
       "      }\n",
       "    }, 10, root)\n",
       "  }\n",
       "})(window);"
      ],
      "application/vnd.bokehjs_exec.v0+json": ""
     },
     "metadata": {
      "application/vnd.bokehjs_exec.v0+json": {
       "id": "1607"
      }
     },
     "output_type": "display_data"
    }
   ],
   "source": [
    "p = figure(title=None, x_range=ccams['ccam'][ (ccams['ccam']>=\"NFKA008\") & (ccams['ccam']<=\"QEQK005\") ].to_numpy(), plot_width=1200, plot_height=300)\n",
    "p.xgrid.visible = False\n",
    "p.ygrid.visible = False\n",
    "p.xaxis.major_label_orientation = math.pi/4\n",
    "p.vbar(x=dodge('ccam', -0.2, range=p.x_range), top='nb', source=ColumnDataSource(ccams), width=0.4,legend_label=\"Real\")\n",
    "p.vbar(x=dodge('ccam', +0.2, range=p.x_range), top='nb_sim', fill_color=\"orange\", width=0.4, source=ColumnDataSource(ccams),legend_label=\"Synth\")\n",
    "p.legend.location = \"top_left\"\n",
    "#p.xaxis.axis_label = 'CCAM procedures'\n",
    "p.yaxis.axis_label = 'Nb'\n",
    "show(p)"
   ]
  },
  {
   "cell_type": "markdown",
   "metadata": {},
   "source": [
    "### Quantitiative Comparisons\n",
    "\n",
    "We perform $\\chi^2$ test, and then a compute some distances."
   ]
  },
  {
   "cell_type": "code",
   "execution_count": 52,
   "metadata": {},
   "outputs": [
    {
     "data": {
      "text/plain": [
       "Power_divergenceResult(statistic=31.805278124652393, pvalue=2.0966509016075656e-06)"
      ]
     },
     "execution_count": 52,
     "metadata": {},
     "output_type": "execute_result"
    }
   ],
   "source": [
    "chisquare(ccams['nb_sim'][ (ccams['nb_sim']>5) & (ccams['nb']>5) & (ccams['ccam']>=\"NFKA008\") & (ccams['ccam']<=\"NGQK002\") ].to_numpy(), ccams['nb'][ (ccams['nb_sim']>5) & (ccams['nb']>5) & (ccams['ccam']>=\"NFKA008\") & (ccams['ccam']<=\"NGQK002\") ].to_numpy(), ddof=1)"
   ]
  },
  {
   "cell_type": "markdown",
   "metadata": {},
   "source": [
    "Here, the $p$-value is null, then the null hypotheses (i.e. $H_0$: the two samples have the distribution) is rejected."
   ]
  },
  {
   "cell_type": "markdown",
   "metadata": {},
   "source": [
    "We now simply compute the JS divergence in this case (not a continuous distribution)"
   ]
  },
  {
   "cell_type": "code",
   "execution_count": 53,
   "metadata": {},
   "outputs": [
    {
     "data": {
      "text/plain": [
       "0.04540202491160743"
      ]
     },
     "execution_count": 53,
     "metadata": {},
     "output_type": "execute_result"
    }
   ],
   "source": [
    "js_divergence(ccams['nb'].to_numpy()/ccams['nb'].sum(), ccams['nb_sim'].to_numpy()/ccams['nb_sim'].sum())"
   ]
  },
  {
   "cell_type": "code",
   "execution_count": 54,
   "metadata": {},
   "outputs": [
    {
     "data": {
      "text/plain": [
       "0.0004518950575312791"
      ]
     },
     "execution_count": 54,
     "metadata": {},
     "output_type": "execute_result"
    }
   ],
   "source": [
    "wasserstein_distance(ccams['nb'].to_numpy()/ccams['nb'].sum(), ccams['nb_sim'].to_numpy()/ccams['nb_sim'].sum())"
   ]
  },
  {
   "cell_type": "code",
   "execution_count": 55,
   "metadata": {},
   "outputs": [
    {
     "name": "stdout",
     "output_type": "stream",
     "text": [
      "0.4161264236987232\n",
      "2.7442594910472167\n"
     ]
    }
   ],
   "source": [
    "# Compute of the total absolute difference between the two distributions\n",
    "print( np.sum(np.abs(ccams['nb_sim']-ccams['nb']))/np.sum(ccams['nb']) )\n",
    "# Compute of the mean absolute difference between the two distributions\n",
    "print( np.mean(np.abs(ccams['nb_sim']-ccams['nb'])/ccams['nb']) )"
   ]
  },
  {
   "cell_type": "markdown",
   "metadata": {},
   "source": [
    "### Mean KL divergence"
   ]
  },
  {
   "cell_type": "code",
   "execution_count": 56,
   "metadata": {},
   "outputs": [
    {
     "name": "stdout",
     "output_type": "stream",
     "text": [
      "[0.045402024911607455, 0.051106238080038086, 0.04339915022792285, 0.04542304443399771, 0.04235728934358842, 0.04891123804051785, 0.04647097213141391, 0.04954112982086515, 0.0403210245307285, 0.04261943111058985]\n",
      "mean: 4.56e-02, var: 1.10e-05\n"
     ]
    }
   ],
   "source": [
    "procedures = pd.read_excel(\"../data/Actes_techniques_de_la_CCAM_en_2016.xls\", sheet_name='Panorama des actes CCAM')\n",
    "procedures.rename(columns={\"Code Acte\":'ccam',\"Code Regroupement\":\"grp\", \"Quantité d'actes \":\"nb\"}, inplace=True)\n",
    "procedures=procedures[ (procedures['grp']==\"ADC\") | (procedures['grp']==\"ACO\") |(procedures['grp']==\"ADE\") |(procedures['grp']==\"ADI\") |(procedures['grp']==\"ADT\") ]\n",
    "procedures=procedures[ (procedures['ccam'].str[:2]!=\"HB\") ]\n",
    "procs_ccam=procedures.groupby(['ccam']).agg({\"nb\":\"sum\"}).reset_index()\n",
    "\n",
    "js_vals=[]\n",
    "for i in range(10):\n",
    "    conni = sqlite3.connect(\"snds_Brittany_db%d.db\"%i)\n",
    "    df = pd.read_sql_query(\"SELECT CAM_PRS_IDE, CAM_PRS_RGT, count(*) FROM er_cam_f JOIN ir_ccam_v63 ON er_cam_f.CAM_PRS_IDE=ir_ccam_v63.CAM_PRS_IDE_COD GROUP BY CAM_PRS_IDE, CAM_PRS_RGT;\", conni)\n",
    "    df.rename(columns={'CAM_PRS_IDE':'ccam','CAM_PRS_RGT':'grp','count(*)':'nb'}, inplace=True)\n",
    "    df_ccam=df.groupby(\"ccam\").agg({\"nb\":\"sum\"}).reset_index()\n",
    "    ccams=pd.merge(procs_ccam, df_ccam, on=\"ccam\", suffixes=('','_sim'))\n",
    "    js=js_divergence(ccams['nb'].to_numpy()/ccams['nb'].sum(), ccams['nb_sim'].to_numpy()/ccams['nb_sim'].sum())\n",
    "    js_vals.append(js)\n",
    "    conni.close()\n",
    "print(js_vals)\n",
    "print(\"mean: %.2e, var: %.2e\"%(np.mean(js_vals),np.var(js_vals)))"
   ]
  },
  {
   "cell_type": "code",
   "execution_count": null,
   "metadata": {},
   "outputs": [],
   "source": []
  }
 ],
 "metadata": {
  "kernelspec": {
   "display_name": "Python 3",
   "language": "python",
   "name": "python3"
  },
  "language_info": {
   "codemirror_mode": {
    "name": "ipython",
    "version": 3
   },
   "file_extension": ".py",
   "mimetype": "text/x-python",
   "name": "python",
   "nbconvert_exporter": "python",
   "pygments_lexer": "ipython3",
   "version": "3.8.5"
  }
 },
 "nbformat": 4,
 "nbformat_minor": 4
}
