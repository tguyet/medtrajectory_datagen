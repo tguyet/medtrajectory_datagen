{
 "cells": [
  {
   "cell_type": "markdown",
   "metadata": {},
   "source": [
    "# Comparison between real distributions and synthetic distributions"
   ]
  },
  {
   "cell_type": "code",
   "execution_count": 1,
   "metadata": {},
   "outputs": [
    {
     "data": {
      "text/html": [
       "\n",
       "    <div class=\"bk-root\">\n",
       "        <a href=\"https://bokeh.org\" target=\"_blank\" class=\"bk-logo bk-logo-small bk-logo-notebook\"></a>\n",
       "        <span id=\"1001\">Loading BokehJS ...</span>\n",
       "    </div>"
      ]
     },
     "metadata": {},
     "output_type": "display_data"
    },
    {
     "data": {
      "application/javascript": [
       "\n",
       "(function(root) {\n",
       "  function now() {\n",
       "    return new Date();\n",
       "  }\n",
       "\n",
       "  var force = true;\n",
       "\n",
       "  if (typeof root._bokeh_onload_callbacks === \"undefined\" || force === true) {\n",
       "    root._bokeh_onload_callbacks = [];\n",
       "    root._bokeh_is_loading = undefined;\n",
       "  }\n",
       "\n",
       "  var JS_MIME_TYPE = 'application/javascript';\n",
       "  var HTML_MIME_TYPE = 'text/html';\n",
       "  var EXEC_MIME_TYPE = 'application/vnd.bokehjs_exec.v0+json';\n",
       "  var CLASS_NAME = 'output_bokeh rendered_html';\n",
       "\n",
       "  /**\n",
       "   * Render data to the DOM node\n",
       "   */\n",
       "  function render(props, node) {\n",
       "    var script = document.createElement(\"script\");\n",
       "    node.appendChild(script);\n",
       "  }\n",
       "\n",
       "  /**\n",
       "   * Handle when an output is cleared or removed\n",
       "   */\n",
       "  function handleClearOutput(event, handle) {\n",
       "    var cell = handle.cell;\n",
       "\n",
       "    var id = cell.output_area._bokeh_element_id;\n",
       "    var server_id = cell.output_area._bokeh_server_id;\n",
       "    // Clean up Bokeh references\n",
       "    if (id != null && id in Bokeh.index) {\n",
       "      Bokeh.index[id].model.document.clear();\n",
       "      delete Bokeh.index[id];\n",
       "    }\n",
       "\n",
       "    if (server_id !== undefined) {\n",
       "      // Clean up Bokeh references\n",
       "      var cmd = \"from bokeh.io.state import curstate; print(curstate().uuid_to_server['\" + server_id + \"'].get_sessions()[0].document.roots[0]._id)\";\n",
       "      cell.notebook.kernel.execute(cmd, {\n",
       "        iopub: {\n",
       "          output: function(msg) {\n",
       "            var id = msg.content.text.trim();\n",
       "            if (id in Bokeh.index) {\n",
       "              Bokeh.index[id].model.document.clear();\n",
       "              delete Bokeh.index[id];\n",
       "            }\n",
       "          }\n",
       "        }\n",
       "      });\n",
       "      // Destroy server and session\n",
       "      var cmd = \"import bokeh.io.notebook as ion; ion.destroy_server('\" + server_id + \"')\";\n",
       "      cell.notebook.kernel.execute(cmd);\n",
       "    }\n",
       "  }\n",
       "\n",
       "  /**\n",
       "   * Handle when a new output is added\n",
       "   */\n",
       "  function handleAddOutput(event, handle) {\n",
       "    var output_area = handle.output_area;\n",
       "    var output = handle.output;\n",
       "\n",
       "    // limit handleAddOutput to display_data with EXEC_MIME_TYPE content only\n",
       "    if ((output.output_type != \"display_data\") || (!output.data.hasOwnProperty(EXEC_MIME_TYPE))) {\n",
       "      return\n",
       "    }\n",
       "\n",
       "    var toinsert = output_area.element.find(\".\" + CLASS_NAME.split(' ')[0]);\n",
       "\n",
       "    if (output.metadata[EXEC_MIME_TYPE][\"id\"] !== undefined) {\n",
       "      toinsert[toinsert.length - 1].firstChild.textContent = output.data[JS_MIME_TYPE];\n",
       "      // store reference to embed id on output_area\n",
       "      output_area._bokeh_element_id = output.metadata[EXEC_MIME_TYPE][\"id\"];\n",
       "    }\n",
       "    if (output.metadata[EXEC_MIME_TYPE][\"server_id\"] !== undefined) {\n",
       "      var bk_div = document.createElement(\"div\");\n",
       "      bk_div.innerHTML = output.data[HTML_MIME_TYPE];\n",
       "      var script_attrs = bk_div.children[0].attributes;\n",
       "      for (var i = 0; i < script_attrs.length; i++) {\n",
       "        toinsert[toinsert.length - 1].firstChild.setAttribute(script_attrs[i].name, script_attrs[i].value);\n",
       "        toinsert[toinsert.length - 1].firstChild.textContent = bk_div.children[0].textContent\n",
       "      }\n",
       "      // store reference to server id on output_area\n",
       "      output_area._bokeh_server_id = output.metadata[EXEC_MIME_TYPE][\"server_id\"];\n",
       "    }\n",
       "  }\n",
       "\n",
       "  function register_renderer(events, OutputArea) {\n",
       "\n",
       "    function append_mime(data, metadata, element) {\n",
       "      // create a DOM node to render to\n",
       "      var toinsert = this.create_output_subarea(\n",
       "        metadata,\n",
       "        CLASS_NAME,\n",
       "        EXEC_MIME_TYPE\n",
       "      );\n",
       "      this.keyboard_manager.register_events(toinsert);\n",
       "      // Render to node\n",
       "      var props = {data: data, metadata: metadata[EXEC_MIME_TYPE]};\n",
       "      render(props, toinsert[toinsert.length - 1]);\n",
       "      element.append(toinsert);\n",
       "      return toinsert\n",
       "    }\n",
       "\n",
       "    /* Handle when an output is cleared or removed */\n",
       "    events.on('clear_output.CodeCell', handleClearOutput);\n",
       "    events.on('delete.Cell', handleClearOutput);\n",
       "\n",
       "    /* Handle when a new output is added */\n",
       "    events.on('output_added.OutputArea', handleAddOutput);\n",
       "\n",
       "    /**\n",
       "     * Register the mime type and append_mime function with output_area\n",
       "     */\n",
       "    OutputArea.prototype.register_mime_type(EXEC_MIME_TYPE, append_mime, {\n",
       "      /* Is output safe? */\n",
       "      safe: true,\n",
       "      /* Index of renderer in `output_area.display_order` */\n",
       "      index: 0\n",
       "    });\n",
       "  }\n",
       "\n",
       "  // register the mime type if in Jupyter Notebook environment and previously unregistered\n",
       "  if (root.Jupyter !== undefined) {\n",
       "    var events = require('base/js/events');\n",
       "    var OutputArea = require('notebook/js/outputarea').OutputArea;\n",
       "\n",
       "    if (OutputArea.prototype.mime_types().indexOf(EXEC_MIME_TYPE) == -1) {\n",
       "      register_renderer(events, OutputArea);\n",
       "    }\n",
       "  }\n",
       "\n",
       "  \n",
       "  if (typeof (root._bokeh_timeout) === \"undefined\" || force === true) {\n",
       "    root._bokeh_timeout = Date.now() + 5000;\n",
       "    root._bokeh_failed_load = false;\n",
       "  }\n",
       "\n",
       "  var NB_LOAD_WARNING = {'data': {'text/html':\n",
       "     \"<div style='background-color: #fdd'>\\n\"+\n",
       "     \"<p>\\n\"+\n",
       "     \"BokehJS does not appear to have successfully loaded. If loading BokehJS from CDN, this \\n\"+\n",
       "     \"may be due to a slow or bad network connection. Possible fixes:\\n\"+\n",
       "     \"</p>\\n\"+\n",
       "     \"<ul>\\n\"+\n",
       "     \"<li>re-rerun `output_notebook()` to attempt to load from CDN again, or</li>\\n\"+\n",
       "     \"<li>use INLINE resources instead, as so:</li>\\n\"+\n",
       "     \"</ul>\\n\"+\n",
       "     \"<code>\\n\"+\n",
       "     \"from bokeh.resources import INLINE\\n\"+\n",
       "     \"output_notebook(resources=INLINE)\\n\"+\n",
       "     \"</code>\\n\"+\n",
       "     \"</div>\"}};\n",
       "\n",
       "  function display_loaded() {\n",
       "    var el = document.getElementById(\"1001\");\n",
       "    if (el != null) {\n",
       "      el.textContent = \"BokehJS is loading...\";\n",
       "    }\n",
       "    if (root.Bokeh !== undefined) {\n",
       "      if (el != null) {\n",
       "        el.textContent = \"BokehJS \" + root.Bokeh.version + \" successfully loaded.\";\n",
       "      }\n",
       "    } else if (Date.now() < root._bokeh_timeout) {\n",
       "      setTimeout(display_loaded, 100)\n",
       "    }\n",
       "  }\n",
       "\n",
       "\n",
       "  function run_callbacks() {\n",
       "    try {\n",
       "      root._bokeh_onload_callbacks.forEach(function(callback) {\n",
       "        if (callback != null)\n",
       "          callback();\n",
       "      });\n",
       "    } finally {\n",
       "      delete root._bokeh_onload_callbacks\n",
       "    }\n",
       "    console.debug(\"Bokeh: all callbacks have finished\");\n",
       "  }\n",
       "\n",
       "  function load_libs(css_urls, js_urls, callback) {\n",
       "    if (css_urls == null) css_urls = [];\n",
       "    if (js_urls == null) js_urls = [];\n",
       "\n",
       "    root._bokeh_onload_callbacks.push(callback);\n",
       "    if (root._bokeh_is_loading > 0) {\n",
       "      console.debug(\"Bokeh: BokehJS is being loaded, scheduling callback at\", now());\n",
       "      return null;\n",
       "    }\n",
       "    if (js_urls == null || js_urls.length === 0) {\n",
       "      run_callbacks();\n",
       "      return null;\n",
       "    }\n",
       "    console.debug(\"Bokeh: BokehJS not loaded, scheduling load and callback at\", now());\n",
       "    root._bokeh_is_loading = css_urls.length + js_urls.length;\n",
       "\n",
       "    function on_load() {\n",
       "      root._bokeh_is_loading--;\n",
       "      if (root._bokeh_is_loading === 0) {\n",
       "        console.debug(\"Bokeh: all BokehJS libraries/stylesheets loaded\");\n",
       "        run_callbacks()\n",
       "      }\n",
       "    }\n",
       "\n",
       "    function on_error() {\n",
       "      console.error(\"failed to load \" + url);\n",
       "    }\n",
       "\n",
       "    for (var i = 0; i < css_urls.length; i++) {\n",
       "      var url = css_urls[i];\n",
       "      const element = document.createElement(\"link\");\n",
       "      element.onload = on_load;\n",
       "      element.onerror = on_error;\n",
       "      element.rel = \"stylesheet\";\n",
       "      element.type = \"text/css\";\n",
       "      element.href = url;\n",
       "      console.debug(\"Bokeh: injecting link tag for BokehJS stylesheet: \", url);\n",
       "      document.body.appendChild(element);\n",
       "    }\n",
       "\n",
       "    const hashes = {\"https://cdn.bokeh.org/bokeh/release/bokeh-2.1.1.min.js\": \"kLr4fYcqcSpbuI95brIH3vnnYCquzzSxHPU6XGQCIkQRGJwhg0StNbj1eegrHs12\", \"https://cdn.bokeh.org/bokeh/release/bokeh-widgets-2.1.1.min.js\": \"xIGPmVtaOm+z0BqfSOMn4lOR6ciex448GIKG4eE61LsAvmGj48XcMQZtKcE/UXZe\", \"https://cdn.bokeh.org/bokeh/release/bokeh-tables-2.1.1.min.js\": \"Dc9u1wF/0zApGIWoBbH77iWEHtdmkuYWG839Uzmv8y8yBLXebjO9ZnERsde5Ln/P\", \"https://cdn.bokeh.org/bokeh/release/bokeh-gl-2.1.1.min.js\": \"cT9JaBz7GiRXdENrJLZNSC6eMNF3nh3fa5fTF51Svp+ukxPdwcU5kGXGPBgDCa2j\"};\n",
       "\n",
       "    for (var i = 0; i < js_urls.length; i++) {\n",
       "      var url = js_urls[i];\n",
       "      var element = document.createElement('script');\n",
       "      element.onload = on_load;\n",
       "      element.onerror = on_error;\n",
       "      element.async = false;\n",
       "      element.src = url;\n",
       "      if (url in hashes) {\n",
       "        element.crossOrigin = \"anonymous\";\n",
       "        element.integrity = \"sha384-\" + hashes[url];\n",
       "      }\n",
       "      console.debug(\"Bokeh: injecting script tag for BokehJS library: \", url);\n",
       "      document.head.appendChild(element);\n",
       "    }\n",
       "  };\n",
       "\n",
       "  function inject_raw_css(css) {\n",
       "    const element = document.createElement(\"style\");\n",
       "    element.appendChild(document.createTextNode(css));\n",
       "    document.body.appendChild(element);\n",
       "  }\n",
       "\n",
       "  \n",
       "  var js_urls = [\"https://cdn.bokeh.org/bokeh/release/bokeh-2.1.1.min.js\", \"https://cdn.bokeh.org/bokeh/release/bokeh-widgets-2.1.1.min.js\", \"https://cdn.bokeh.org/bokeh/release/bokeh-tables-2.1.1.min.js\", \"https://cdn.bokeh.org/bokeh/release/bokeh-gl-2.1.1.min.js\"];\n",
       "  var css_urls = [];\n",
       "  \n",
       "\n",
       "  var inline_js = [\n",
       "    function(Bokeh) {\n",
       "      Bokeh.set_log_level(\"info\");\n",
       "    },\n",
       "    function(Bokeh) {\n",
       "    \n",
       "    \n",
       "    }\n",
       "  ];\n",
       "\n",
       "  function run_inline_js() {\n",
       "    \n",
       "    if (root.Bokeh !== undefined || force === true) {\n",
       "      \n",
       "    for (var i = 0; i < inline_js.length; i++) {\n",
       "      inline_js[i].call(root, root.Bokeh);\n",
       "    }\n",
       "    if (force === true) {\n",
       "        display_loaded();\n",
       "      }} else if (Date.now() < root._bokeh_timeout) {\n",
       "      setTimeout(run_inline_js, 100);\n",
       "    } else if (!root._bokeh_failed_load) {\n",
       "      console.log(\"Bokeh: BokehJS failed to load within specified timeout.\");\n",
       "      root._bokeh_failed_load = true;\n",
       "    } else if (force !== true) {\n",
       "      var cell = $(document.getElementById(\"1001\")).parents('.cell').data().cell;\n",
       "      cell.output_area.append_execute_result(NB_LOAD_WARNING)\n",
       "    }\n",
       "\n",
       "  }\n",
       "\n",
       "  if (root._bokeh_is_loading === 0) {\n",
       "    console.debug(\"Bokeh: BokehJS loaded, going straight to plotting\");\n",
       "    run_inline_js();\n",
       "  } else {\n",
       "    load_libs(css_urls, js_urls, function() {\n",
       "      console.debug(\"Bokeh: BokehJS plotting callback run at\", now());\n",
       "      run_inline_js();\n",
       "    });\n",
       "  }\n",
       "}(window));"
      ],
      "application/vnd.bokehjs_load.v0+json": "\n(function(root) {\n  function now() {\n    return new Date();\n  }\n\n  var force = true;\n\n  if (typeof root._bokeh_onload_callbacks === \"undefined\" || force === true) {\n    root._bokeh_onload_callbacks = [];\n    root._bokeh_is_loading = undefined;\n  }\n\n  \n\n  \n  if (typeof (root._bokeh_timeout) === \"undefined\" || force === true) {\n    root._bokeh_timeout = Date.now() + 5000;\n    root._bokeh_failed_load = false;\n  }\n\n  var NB_LOAD_WARNING = {'data': {'text/html':\n     \"<div style='background-color: #fdd'>\\n\"+\n     \"<p>\\n\"+\n     \"BokehJS does not appear to have successfully loaded. If loading BokehJS from CDN, this \\n\"+\n     \"may be due to a slow or bad network connection. Possible fixes:\\n\"+\n     \"</p>\\n\"+\n     \"<ul>\\n\"+\n     \"<li>re-rerun `output_notebook()` to attempt to load from CDN again, or</li>\\n\"+\n     \"<li>use INLINE resources instead, as so:</li>\\n\"+\n     \"</ul>\\n\"+\n     \"<code>\\n\"+\n     \"from bokeh.resources import INLINE\\n\"+\n     \"output_notebook(resources=INLINE)\\n\"+\n     \"</code>\\n\"+\n     \"</div>\"}};\n\n  function display_loaded() {\n    var el = document.getElementById(\"1001\");\n    if (el != null) {\n      el.textContent = \"BokehJS is loading...\";\n    }\n    if (root.Bokeh !== undefined) {\n      if (el != null) {\n        el.textContent = \"BokehJS \" + root.Bokeh.version + \" successfully loaded.\";\n      }\n    } else if (Date.now() < root._bokeh_timeout) {\n      setTimeout(display_loaded, 100)\n    }\n  }\n\n\n  function run_callbacks() {\n    try {\n      root._bokeh_onload_callbacks.forEach(function(callback) {\n        if (callback != null)\n          callback();\n      });\n    } finally {\n      delete root._bokeh_onload_callbacks\n    }\n    console.debug(\"Bokeh: all callbacks have finished\");\n  }\n\n  function load_libs(css_urls, js_urls, callback) {\n    if (css_urls == null) css_urls = [];\n    if (js_urls == null) js_urls = [];\n\n    root._bokeh_onload_callbacks.push(callback);\n    if (root._bokeh_is_loading > 0) {\n      console.debug(\"Bokeh: BokehJS is being loaded, scheduling callback at\", now());\n      return null;\n    }\n    if (js_urls == null || js_urls.length === 0) {\n      run_callbacks();\n      return null;\n    }\n    console.debug(\"Bokeh: BokehJS not loaded, scheduling load and callback at\", now());\n    root._bokeh_is_loading = css_urls.length + js_urls.length;\n\n    function on_load() {\n      root._bokeh_is_loading--;\n      if (root._bokeh_is_loading === 0) {\n        console.debug(\"Bokeh: all BokehJS libraries/stylesheets loaded\");\n        run_callbacks()\n      }\n    }\n\n    function on_error() {\n      console.error(\"failed to load \" + url);\n    }\n\n    for (var i = 0; i < css_urls.length; i++) {\n      var url = css_urls[i];\n      const element = document.createElement(\"link\");\n      element.onload = on_load;\n      element.onerror = on_error;\n      element.rel = \"stylesheet\";\n      element.type = \"text/css\";\n      element.href = url;\n      console.debug(\"Bokeh: injecting link tag for BokehJS stylesheet: \", url);\n      document.body.appendChild(element);\n    }\n\n    const hashes = {\"https://cdn.bokeh.org/bokeh/release/bokeh-2.1.1.min.js\": \"kLr4fYcqcSpbuI95brIH3vnnYCquzzSxHPU6XGQCIkQRGJwhg0StNbj1eegrHs12\", \"https://cdn.bokeh.org/bokeh/release/bokeh-widgets-2.1.1.min.js\": \"xIGPmVtaOm+z0BqfSOMn4lOR6ciex448GIKG4eE61LsAvmGj48XcMQZtKcE/UXZe\", \"https://cdn.bokeh.org/bokeh/release/bokeh-tables-2.1.1.min.js\": \"Dc9u1wF/0zApGIWoBbH77iWEHtdmkuYWG839Uzmv8y8yBLXebjO9ZnERsde5Ln/P\", \"https://cdn.bokeh.org/bokeh/release/bokeh-gl-2.1.1.min.js\": \"cT9JaBz7GiRXdENrJLZNSC6eMNF3nh3fa5fTF51Svp+ukxPdwcU5kGXGPBgDCa2j\"};\n\n    for (var i = 0; i < js_urls.length; i++) {\n      var url = js_urls[i];\n      var element = document.createElement('script');\n      element.onload = on_load;\n      element.onerror = on_error;\n      element.async = false;\n      element.src = url;\n      if (url in hashes) {\n        element.crossOrigin = \"anonymous\";\n        element.integrity = \"sha384-\" + hashes[url];\n      }\n      console.debug(\"Bokeh: injecting script tag for BokehJS library: \", url);\n      document.head.appendChild(element);\n    }\n  };\n\n  function inject_raw_css(css) {\n    const element = document.createElement(\"style\");\n    element.appendChild(document.createTextNode(css));\n    document.body.appendChild(element);\n  }\n\n  \n  var js_urls = [\"https://cdn.bokeh.org/bokeh/release/bokeh-2.1.1.min.js\", \"https://cdn.bokeh.org/bokeh/release/bokeh-widgets-2.1.1.min.js\", \"https://cdn.bokeh.org/bokeh/release/bokeh-tables-2.1.1.min.js\", \"https://cdn.bokeh.org/bokeh/release/bokeh-gl-2.1.1.min.js\"];\n  var css_urls = [];\n  \n\n  var inline_js = [\n    function(Bokeh) {\n      Bokeh.set_log_level(\"info\");\n    },\n    function(Bokeh) {\n    \n    \n    }\n  ];\n\n  function run_inline_js() {\n    \n    if (root.Bokeh !== undefined || force === true) {\n      \n    for (var i = 0; i < inline_js.length; i++) {\n      inline_js[i].call(root, root.Bokeh);\n    }\n    if (force === true) {\n        display_loaded();\n      }} else if (Date.now() < root._bokeh_timeout) {\n      setTimeout(run_inline_js, 100);\n    } else if (!root._bokeh_failed_load) {\n      console.log(\"Bokeh: BokehJS failed to load within specified timeout.\");\n      root._bokeh_failed_load = true;\n    } else if (force !== true) {\n      var cell = $(document.getElementById(\"1001\")).parents('.cell').data().cell;\n      cell.output_area.append_execute_result(NB_LOAD_WARNING)\n    }\n\n  }\n\n  if (root._bokeh_is_loading === 0) {\n    console.debug(\"Bokeh: BokehJS loaded, going straight to plotting\");\n    run_inline_js();\n  } else {\n    load_libs(css_urls, js_urls, function() {\n      console.debug(\"Bokeh: BokehJS plotting callback run at\", now());\n      run_inline_js();\n    });\n  }\n}(window));"
     },
     "metadata": {},
     "output_type": "display_data"
    }
   ],
   "source": [
    "import sqlite3\n",
    "import pandas as pd\n",
    "import numpy as np\n",
    "from scipy.stats import wasserstein_distance\n",
    "from scipy.stats import chisquare, chi2_contingency\n",
    "\n",
    "import matplotlib.pyplot as plt\n",
    "import math\n",
    "from bokeh.io import push_notebook, show, output_notebook, export_png, export_svgs\n",
    "from bokeh.plotting import figure\n",
    "from bokeh.models import ColumnDataSource\n",
    "from bokeh.transform import dodge\n",
    "output_notebook()"
   ]
  },
  {
   "cell_type": "markdown",
   "metadata": {},
   "source": [
    "Choice of the synthetic database"
   ]
  },
  {
   "cell_type": "code",
   "execution_count": 2,
   "metadata": {},
   "outputs": [],
   "source": [
    "\"\"\"\n",
    "# Simulation of the departement Bouche du Rhone and Var\n",
    "conn = sqlite3.connect(\"snds_8313.db\")\n",
    "dpt1=\"83\"\n",
    "dpt2=\"13\"\n",
    "\"\"\"\n",
    "\"\"\"\n",
    "# Simulation of the departement Cotes d'Armor and Iles et Vilaine\n",
    "conn = sqlite3.connect(\"snds_2235.db\")\n",
    "dpt1=\"22\"\n",
    "dpt2=\"35\"\n",
    "\"\"\"\n",
    "conn = sqlite3.connect(\"snds_2235.db\")\n",
    "dpt1=\"22\"\n",
    "dpt2=\"35\""
   ]
  },
  {
   "cell_type": "markdown",
   "metadata": {},
   "source": [
    "## Analysis of the synthetic population structure"
   ]
  },
  {
   "cell_type": "markdown",
   "metadata": {},
   "source": [
    "We start by loading the real population structure from raw data."
   ]
  },
  {
   "cell_type": "code",
   "execution_count": 3,
   "metadata": {},
   "outputs": [
    {
     "name": "stderr",
     "output_type": "stream",
     "text": [
      "/home/tguyet/.local/lib/python3.8/site-packages/IPython/core/interactiveshell.py:3062: DtypeWarning: Columns (3) have mixed types.Specify dtype option on import or set low_memory=False.\n",
      "  has_raised = await self.run_ast_nodes(code_ast.body, cell_name,\n"
     ]
    }
   ],
   "source": [
    "import os.path\n",
    "outdir=\"../datarep\"\n",
    "pop_saq = pd.read_csv( os.path.join(outdir,\"pop.csv\") )\n",
    "pop_tot = pop_saq['pop'].sum()"
   ]
  },
  {
   "cell_type": "markdown",
   "metadata": {},
   "source": [
    "And new, we extract the synthetic population structure from the database"
   ]
  },
  {
   "cell_type": "code",
   "execution_count": 4,
   "metadata": {},
   "outputs": [],
   "source": [
    "# On effectue une requête pour extraire les informations sur la population\n",
    "df = pd.read_sql_query(\"SELECT BEN_SEX_COD, BEN_RES_DPT, BEN_NAI_ANN, count(*) FROM IR_BEN_R GROUP BY BEN_SEX_COD, BEN_RES_DPT, BEN_NAI_ANN;\", conn)\n",
    "df.rename(columns={'BEN_SEX_COD':'sex','BEN_RES_DPT':'dpt', 'count(*)':'count'}, inplace=True)\n",
    "df['age']=2019-df.BEN_NAI_ANN\n",
    "df=df[['sex','dpt','age','count']]"
   ]
  },
  {
   "cell_type": "markdown",
   "metadata": {},
   "source": [
    "### Comparison of ages"
   ]
  },
  {
   "cell_type": "code",
   "execution_count": 5,
   "metadata": {},
   "outputs": [
    {
     "data": {
      "text/plain": [
       "<matplotlib.axes._subplots.AxesSubplot at 0x7fbf374c20d0>"
      ]
     },
     "execution_count": 5,
     "metadata": {},
     "output_type": "execute_result"
    },
    {
     "data": {
      "image/png": "[encoded data removed]",
      "text/plain": [
       "<Figure size 432x288 with 1 Axes>"
      ]
     },
     "metadata": {
      "needs_background": "light"
     },
     "output_type": "display_data"
    }
   ],
   "source": [
    "df_age=df.groupby([\"age\"]).agg({\"count\":\"sum\"}).reset_index()\n",
    "df_age.plot(x='age',y=\"count\")"
   ]
  },
  {
   "cell_type": "code",
   "execution_count": 6,
   "metadata": {},
   "outputs": [
    {
     "data": {
      "text/html": [
       "<div>\n",
       "<style scoped>\n",
       "    .dataframe tbody tr th:only-of-type {\n",
       "        vertical-align: middle;\n",
       "    }\n",
       "\n",
       "    .dataframe tbody tr th {\n",
       "        vertical-align: top;\n",
       "    }\n",
       "\n",
       "    .dataframe thead th {\n",
       "        text-align: right;\n",
       "    }\n",
       "</style>\n",
       "<table border=\"1\" class=\"dataframe\">\n",
       "  <thead>\n",
       "    <tr style=\"text-align: right;\">\n",
       "      <th></th>\n",
       "      <th>bin</th>\n",
       "      <th>count</th>\n",
       "    </tr>\n",
       "  </thead>\n",
       "  <tbody>\n",
       "    <tr>\n",
       "      <th>0</th>\n",
       "      <td>0</td>\n",
       "      <td>503</td>\n",
       "    </tr>\n",
       "    <tr>\n",
       "      <th>1</th>\n",
       "      <td>5</td>\n",
       "      <td>490</td>\n",
       "    </tr>\n",
       "    <tr>\n",
       "      <th>2</th>\n",
       "      <td>10</td>\n",
       "      <td>496</td>\n",
       "    </tr>\n",
       "    <tr>\n",
       "      <th>3</th>\n",
       "      <td>15</td>\n",
       "      <td>482</td>\n",
       "    </tr>\n",
       "    <tr>\n",
       "      <th>4</th>\n",
       "      <td>20</td>\n",
       "      <td>437</td>\n",
       "    </tr>\n",
       "  </tbody>\n",
       "</table>\n",
       "</div>"
      ],
      "text/plain": [
       "  bin  count\n",
       "0   0    503\n",
       "1   5    490\n",
       "2  10    496\n",
       "3  15    482\n",
       "4  20    437"
      ]
     },
     "execution_count": 6,
     "metadata": {},
     "output_type": "execute_result"
    }
   ],
   "source": [
    "# Ages are grouped in 5-years group to have the same structure as the real data\n",
    "age_bins=list(np.arange(0,100,5))\n",
    "age_bins.append(125)\n",
    "df_age['bin']=pd.cut(df_age.age,bins=age_bins,include_lowest=True, labels=age_bins[:-1])\n",
    "df_age_agg=df_age.groupby('bin').agg({\"count\":\"sum\"}).reset_index()\n",
    "df_age_agg.head()"
   ]
  },
  {
   "cell_type": "code",
   "execution_count": 7,
   "metadata": {},
   "outputs": [
    {
     "data": {
      "text/plain": [
       "<matplotlib.axes._subplots.AxesSubplot at 0x7fbf36d27850>"
      ]
     },
     "execution_count": 7,
     "metadata": {},
     "output_type": "execute_result"
    },
    {
     "data": {
      "image/png": "[encoded data removed]",
      "text/plain": [
       "<Figure size 432x288 with 1 Axes>"
      ]
     },
     "metadata": {
      "needs_background": "light"
     },
     "output_type": "display_data"
    }
   ],
   "source": [
    "df_age_agg.plot.bar(x='bin',y=\"count\")"
   ]
  },
  {
   "cell_type": "code",
   "execution_count": 8,
   "metadata": {},
   "outputs": [],
   "source": [
    "#real population (selection of the two generated populations)\n",
    "pop_seq_dpt=pop_saq[ (pop_saq['dpt']==dpt1) | (pop_saq['dpt']==dpt2)].groupby(['age']).agg({'pop':'sum'}).reset_index()\n",
    "real_pop_size=sum(pop_seq_dpt['pop'])"
   ]
  },
  {
   "cell_type": "code",
   "execution_count": 9,
   "metadata": {},
   "outputs": [],
   "source": [
    "#the number of patients of the real population is proportionnaly scaled to the level of the synthetic database\n",
    "ratio = sum(df_age_agg['count'])/sum(pop_seq_dpt['pop'])\n",
    "pop_seq_dpt['pop'] *= ratio"
   ]
  },
  {
   "cell_type": "code",
   "execution_count": 10,
   "metadata": {},
   "outputs": [
    {
     "data": {
      "text/plain": [
       "<matplotlib.axes._subplots.AxesSubplot at 0x7fbf36cda970>"
      ]
     },
     "execution_count": 10,
     "metadata": {},
     "output_type": "execute_result"
    },
    {
     "data": {
      "image/png": "[encoded data removed]",
      "text/plain": [
       "<Figure size 432x288 with 1 Axes>"
      ]
     },
     "metadata": {
      "needs_background": "light"
     },
     "output_type": "display_data"
    }
   ],
   "source": [
    "pop_seq_dpt.plot.bar(x=\"age\",y=\"pop\")"
   ]
  },
  {
   "cell_type": "code",
   "execution_count": 11,
   "metadata": {},
   "outputs": [
    {
     "data": {
      "text/html": [
       "\n",
       "\n",
       "\n",
       "\n",
       "\n",
       "\n",
       "  <div class=\"bk-root\" id=\"9d12273c-458b-4375-9886-08d59b7b9ca2\" data-root-id=\"1002\"></div>\n"
      ]
     },
     "metadata": {},
     "output_type": "display_data"
    },
    {
     "data": {
      "application/javascript": [
       "(function(root) {\n",
       "  function embed_document(root) {\n",
       "    \n",
       "  var docs_json = {\"4941707a-7f03-4688-85ef-1514e72ec59b\":{\"roots\":{\"references\":[{\"attributes\":{\"below\":[{\"id\":\"1012\"}],\"center\":[{\"id\":\"1015\"},{\"id\":\"1019\"},{\"id\":\"1049\"}],\"left\":[{\"id\":\"1016\"}],\"plot_height\":300,\"renderers\":[{\"id\":\"1039\"},{\"id\":\"1056\"}],\"title\":null,\"toolbar\":{\"id\":\"1027\"},\"x_range\":{\"id\":\"1004\"},\"x_scale\":{\"id\":\"1008\"},\"y_range\":{\"id\":\"1006\"},\"y_scale\":{\"id\":\"1010\"}},\"id\":\"1002\",\"subtype\":\"Figure\",\"type\":\"Plot\"},{\"attributes\":{\"data\":{\"age\":[0,5,10,15,20,25,30,35,40,45,50,55,60,65,70,75,80,85,90,95],\"index\":[0,1,2,3,4,5,6,7,8,9,10,11,12,13,14,15,16,17,18,19],\"pop\":{\"__ndarray__\":\"NVdvnJb1eUCYXdhxPuR8QCexwW1mLn1A7ABfU8U1fUCY5XfJ+1Z6QIDgZVYcoHhAtBklCBZeekDIOOgoNqR7QIt6KhhIMn5AoyobLz2TfkCg/NvTm5p9QCPBDX9Zk3xAPiOvx/2we0DSKGUBxy57QMUl20D2M3JAqSI0mhQncECtCbNhjeVrQEnFlVnwMWNA7uVXCAr0UUDngfIZ9BgxQA==\",\"dtype\":\"float64\",\"order\":\"little\",\"shape\":[20]},\"pop_sim\":[503,490,496,482,437,382,428,461,498,507,485,472,438,418,270,219,175,94,29,4]},\"selected\":{\"id\":\"1046\"},\"selection_policy\":{\"id\":\"1047\"}},\"id\":\"1035\",\"type\":\"ColumnDataSource\"},{\"attributes\":{\"label\":{\"value\":\"Synth\"},\"renderers\":[{\"id\":\"1056\"}]},\"id\":\"1068\",\"type\":\"LegendItem\"},{\"attributes\":{\"fill_alpha\":{\"value\":0.1},\"fill_color\":{\"value\":\"#1f77b4\"},\"line_alpha\":{\"value\":0.1},\"line_color\":{\"value\":\"#1f77b4\"},\"top\":{\"field\":\"pop\"},\"width\":{\"value\":1},\"x\":{\"field\":\"age\",\"transform\":{\"id\":\"1034\"}}},\"id\":\"1038\",\"type\":\"VBar\"},{\"attributes\":{\"active_drag\":\"auto\",\"active_inspect\":\"auto\",\"active_multi\":null,\"active_scroll\":\"auto\",\"active_tap\":\"auto\",\"tools\":[{\"id\":\"1020\"},{\"id\":\"1021\"},{\"id\":\"1022\"},{\"id\":\"1023\"},{\"id\":\"1024\"},{\"id\":\"1025\"}]},\"id\":\"1027\",\"type\":\"Toolbar\"},{\"attributes\":{\"source\":{\"id\":\"1052\"}},\"id\":\"1057\",\"type\":\"CDSView\"},{\"attributes\":{\"formatter\":{\"id\":\"1043\"},\"major_label_orientation\":0.7853981633974483,\"ticker\":{\"id\":\"1013\"}},\"id\":\"1012\",\"type\":\"LinearAxis\"},{\"attributes\":{},\"id\":\"1020\",\"type\":\"PanTool\"},{\"attributes\":{},\"id\":\"1025\",\"type\":\"HelpTool\"},{\"attributes\":{},\"id\":\"1021\",\"type\":\"WheelZoomTool\"},{\"attributes\":{\"range\":{\"id\":\"1004\"},\"value\":-0.5},\"id\":\"1034\",\"type\":\"Dodge\"},{\"attributes\":{},\"id\":\"1066\",\"type\":\"UnionRenderers\"},{\"attributes\":{\"end\":96,\"start\":-1},\"id\":\"1004\",\"type\":\"Range1d\"},{\"attributes\":{},\"id\":\"1045\",\"type\":\"BasicTickFormatter\"},{\"attributes\":{},\"id\":\"1024\",\"type\":\"ResetTool\"},{\"attributes\":{\"label\":{\"value\":\"Real\"},\"renderers\":[{\"id\":\"1039\"}]},\"id\":\"1050\",\"type\":\"LegendItem\"},{\"attributes\":{},\"id\":\"1023\",\"type\":\"SaveTool\"},{\"attributes\":{\"overlay\":{\"id\":\"1026\"}},\"id\":\"1022\",\"type\":\"BoxZoomTool\"},{\"attributes\":{},\"id\":\"1008\",\"type\":\"LinearScale\"},{\"attributes\":{\"data\":{\"age\":[0,5,10,15,20,25,30,35,40,45,50,55,60,65,70,75,80,85,90,95],\"index\":[0,1,2,3,4,5,6,7,8,9,10,11,12,13,14,15,16,17,18,19],\"pop\":{\"__ndarray__\":\"NVdvnJb1eUCYXdhxPuR8QCexwW1mLn1A7ABfU8U1fUCY5XfJ+1Z6QIDgZVYcoHhAtBklCBZeekDIOOgoNqR7QIt6KhhIMn5AoyobLz2TfkCg/NvTm5p9QCPBDX9Zk3xAPiOvx/2we0DSKGUBxy57QMUl20D2M3JAqSI0mhQncECtCbNhjeVrQEnFlVnwMWNA7uVXCAr0UUDngfIZ9BgxQA==\",\"dtype\":\"float64\",\"order\":\"little\",\"shape\":[20]},\"pop_sim\":[503,490,496,482,437,382,428,461,498,507,485,472,438,418,270,219,175,94,29,4]},\"selected\":{\"id\":\"1065\"},\"selection_policy\":{\"id\":\"1066\"}},\"id\":\"1052\",\"type\":\"ColumnDataSource\"},{\"attributes\":{\"fill_color\":{\"value\":\"#1f77b4\"},\"line_color\":{\"value\":\"#1f77b4\"},\"top\":{\"field\":\"pop\"},\"width\":{\"value\":1},\"x\":{\"field\":\"age\",\"transform\":{\"id\":\"1034\"}}},\"id\":\"1037\",\"type\":\"VBar\"},{\"attributes\":{\"source\":{\"id\":\"1035\"}},\"id\":\"1040\",\"type\":\"CDSView\"},{\"attributes\":{},\"id\":\"1013\",\"type\":\"BasicTicker\"},{\"attributes\":{\"bottom_units\":\"screen\",\"fill_alpha\":0.5,\"fill_color\":\"lightgrey\",\"left_units\":\"screen\",\"level\":\"overlay\",\"line_alpha\":1.0,\"line_color\":\"black\",\"line_dash\":[4,4],\"line_width\":2,\"right_units\":\"screen\",\"top_units\":\"screen\"},\"id\":\"1026\",\"type\":\"BoxAnnotation\"},{\"attributes\":{},\"id\":\"1043\",\"type\":\"BasicTickFormatter\"},{\"attributes\":{},\"id\":\"1047\",\"type\":\"UnionRenderers\"},{\"attributes\":{\"data_source\":{\"id\":\"1052\"},\"glyph\":{\"id\":\"1054\"},\"hover_glyph\":null,\"muted_glyph\":null,\"nonselection_glyph\":{\"id\":\"1055\"},\"selection_glyph\":null,\"view\":{\"id\":\"1057\"}},\"id\":\"1056\",\"type\":\"GlyphRenderer\"},{\"attributes\":{\"end\":700},\"id\":\"1006\",\"type\":\"Range1d\"},{\"attributes\":{\"axis\":{\"id\":\"1016\"},\"dimension\":1,\"ticker\":null,\"visible\":false},\"id\":\"1019\",\"type\":\"Grid\"},{\"attributes\":{\"axis\":{\"id\":\"1012\"},\"ticker\":null,\"visible\":false},\"id\":\"1015\",\"type\":\"Grid\"},{\"attributes\":{\"items\":[{\"id\":\"1050\"},{\"id\":\"1068\"}]},\"id\":\"1049\",\"type\":\"Legend\"},{\"attributes\":{},\"id\":\"1017\",\"type\":\"BasicTicker\"},{\"attributes\":{},\"id\":\"1046\",\"type\":\"Selection\"},{\"attributes\":{\"fill_color\":{\"value\":\"orange\"},\"line_color\":{\"value\":\"#1f77b4\"},\"top\":{\"field\":\"pop_sim\"},\"width\":{\"value\":1},\"x\":{\"field\":\"age\",\"transform\":{\"id\":\"1051\"}}},\"id\":\"1054\",\"type\":\"VBar\"},{\"attributes\":{\"data_source\":{\"id\":\"1035\"},\"glyph\":{\"id\":\"1037\"},\"hover_glyph\":null,\"muted_glyph\":null,\"nonselection_glyph\":{\"id\":\"1038\"},\"selection_glyph\":null,\"view\":{\"id\":\"1040\"}},\"id\":\"1039\",\"type\":\"GlyphRenderer\"},{\"attributes\":{\"axis_label\":\"Nb\",\"formatter\":{\"id\":\"1045\"},\"ticker\":{\"id\":\"1017\"}},\"id\":\"1016\",\"type\":\"LinearAxis\"},{\"attributes\":{\"range\":{\"id\":\"1004\"},\"value\":0.5},\"id\":\"1051\",\"type\":\"Dodge\"},{\"attributes\":{\"fill_alpha\":{\"value\":0.1},\"fill_color\":{\"value\":\"orange\"},\"line_alpha\":{\"value\":0.1},\"line_color\":{\"value\":\"#1f77b4\"},\"top\":{\"field\":\"pop_sim\"},\"width\":{\"value\":1},\"x\":{\"field\":\"age\",\"transform\":{\"id\":\"1051\"}}},\"id\":\"1055\",\"type\":\"VBar\"},{\"attributes\":{},\"id\":\"1010\",\"type\":\"LinearScale\"},{\"attributes\":{},\"id\":\"1065\",\"type\":\"Selection\"}],\"root_ids\":[\"1002\"]},\"title\":\"Bokeh Application\",\"version\":\"2.1.1\"}};\n",
       "  var render_items = [{\"docid\":\"4941707a-7f03-4688-85ef-1514e72ec59b\",\"root_ids\":[\"1002\"],\"roots\":{\"1002\":\"9d12273c-458b-4375-9886-08d59b7b9ca2\"}}];\n",
       "  root.Bokeh.embed.embed_items_notebook(docs_json, render_items);\n",
       "\n",
       "  }\n",
       "  if (root.Bokeh !== undefined) {\n",
       "    embed_document(root);\n",
       "  } else {\n",
       "    var attempts = 0;\n",
       "    var timer = setInterval(function(root) {\n",
       "      if (root.Bokeh !== undefined) {\n",
       "        clearInterval(timer);\n",
       "        embed_document(root);\n",
       "      } else {\n",
       "        attempts++;\n",
       "        if (attempts > 100) {\n",
       "          clearInterval(timer);\n",
       "          console.log(\"Bokeh: ERROR: Unable to run BokehJS code because BokehJS library is missing\");\n",
       "        }\n",
       "      }\n",
       "    }, 10, root)\n",
       "  }\n",
       "})(window);"
      ],
      "application/vnd.bokehjs_exec.v0+json": ""
     },
     "metadata": {
      "application/vnd.bokehjs_exec.v0+json": {
       "id": "1002"
      }
     },
     "output_type": "display_data"
    }
   ],
   "source": [
    "# We draw a graph to compare the two distributions\n",
    "pops=pd.merge(pop_seq_dpt, df_age_agg, left_on=\"age\", right_on=\"bin\")[['age','pop','count']].rename(columns={'count':'pop_sim'})\n",
    "\n",
    "p = figure(title=None, x_range=(-1,96), y_range=(0,700), plot_width=600, plot_height=300)\n",
    "p.xgrid.visible = False\n",
    "p.ygrid.visible = False\n",
    "p.xaxis.major_label_orientation = math.pi/4\n",
    "p.vbar(x=dodge('age', -0.5, range=p.x_range), top='pop', source=ColumnDataSource(pops), width=1,legend_label=\"Real\")\n",
    "p.vbar(x=dodge('age', +0.5, range=p.x_range), top='pop_sim', fill_color=\"orange\", width=1, source=ColumnDataSource(pops),legend_label=\"Synth\")\n",
    "p.legend.location = \"top_right\"\n",
    "#p.xaxis.axis_label = 'ATC codes'\n",
    "p.yaxis.axis_label = 'Nb'\n",
    "show(p)"
   ]
  },
  {
   "cell_type": "code",
   "execution_count": 12,
   "metadata": {},
   "outputs": [
    {
     "name": "stdout",
     "output_type": "stream",
     "text": [
      "0.07089113531905383\n",
      "0.14271080019170973\n"
     ]
    }
   ],
   "source": [
    "# Compute of the total absolute difference between the two distributions\n",
    "print( np.sum(np.abs(pops['pop_sim']-pops['pop']))/np.sum(pops['pop']) )\n",
    "# Compute of the mean absolute difference between the two distributions\n",
    "print( np.mean(np.abs(pops['pop_sim']-pops['pop'])/pops['pop']) )"
   ]
  },
  {
   "cell_type": "markdown",
   "metadata": {},
   "source": [
    "### Kolmogorov-Smirnov test\n",
    "The Kolmogorov-Smirnov test tests whether two one-dimensional distributions differ. \n",
    "\n",
    "$D_{n,m}=\\max(F_r(x),F_s(x))$ where $F_r$ (resp. $F_s$) is the cumulative distribution function of the real population (resp. synthetic population), and $m$, $n$ are the population sizes (number of samples).\n",
    "\n",
    "the null hypothesis is rejected at level $\\alpha$ (ie it really differs) if the difference is above a critical value:\n",
    "$$D_{n,m}>c(\\alpha)\\sqrt{\\frac{n + m}{n\\cdot m}}$$\n",
    "\n",
    "where $c\\left(\\alpha\\right)=\\sqrt{-\\ln\\left(\\tfrac{\\alpha}{2}\\right)\\cdot \\tfrac{1}{2}}$.\n",
    "\n",
    "<br>\n",
    "\n",
    "In the following, we use $n=m$ equals to the size of the sampled database. \n"
   ]
  },
  {
   "cell_type": "code",
   "execution_count": 13,
   "metadata": {},
   "outputs": [],
   "source": [
    "# Cumulative distribution functions\n",
    "P_r = pops['pop'].to_numpy()/pops['pop'].sum()\n",
    "CDF_r = np.cumsum(P_r)\n",
    "P_s = pops['pop_sim'].to_numpy()/pops['pop_sim'].sum()\n",
    "CDF_s = np.cumsum(P_s)"
   ]
  },
  {
   "cell_type": "code",
   "execution_count": 14,
   "metadata": {},
   "outputs": [
    {
     "name": "stdout",
     "output_type": "stream",
     "text": [
      "False\n",
      "0.033798076120968634\n",
      "0.2400785049232967\n"
     ]
    }
   ],
   "source": [
    "#Implementation of the Kolmogorov-Smirnov test\n",
    "alpha=0.05 #95% critical value \n",
    "m=sum(df_age_agg['count'])\n",
    "n=real_pop_size\n",
    "statistic=np.max(np.abs(CDF_r-CDF_s))\n",
    "critical_value= np.sqrt(-np.log(alpha/2)*0.5)*np.sqrt( (n+m)/(m*m) )\n",
    "print(statistic>critical_value)\n",
    "print(statistic)\n",
    "print(critical_value)"
   ]
  },
  {
   "cell_type": "markdown",
   "metadata": {},
   "source": [
    "We conclude that the distributions are not significantly different (p<0.05)."
   ]
  },
  {
   "cell_type": "markdown",
   "metadata": {},
   "source": [
    "### KL Divergence / JS divergence\n",
    "\n",
    "Kullback-Leibler (KL) Divergence is a measure based on entropy to compare two distributions $P$ and $P$. The Jensen-Shannon is the symmetric version of KL divergence.\n",
    "\n",
    "$$D_\\text{KL}(P \\parallel Q) = \\sum_{x\\in\\mathcal{X}} P(x) \\log\\left(\\frac{P(x)}{Q(x)}\\right)$$\n",
    "\n",
    "and \n",
    "$$D_\\text{JS}(P \\parallel Q) = \\frac{1}{2}D_\\text{KL}(P \\parallel Q) + \\frac{1}{2}D_\\text{KL}(Q \\parallel P)$$"
   ]
  },
  {
   "cell_type": "code",
   "execution_count": 15,
   "metadata": {},
   "outputs": [],
   "source": [
    "# calculate the kl divergence\n",
    "def kl_divergence(p, q):\n",
    "    return sum(p[i] * np.log(p[i]/q[i])/np.log(2) for i in range(len(p)))\n",
    " \n",
    "# calculate the js divergence\n",
    "def js_divergence(p, q):\n",
    "    m = 0.5 * (p + q)\n",
    "    return 0.5 * kl_divergence(p, m) + 0.5 * kl_divergence(q, m)"
   ]
  },
  {
   "cell_type": "markdown",
   "metadata": {},
   "source": [
    "Then, we simply have to apply the function on our distributions\n",
    "\n"
   ]
  },
  {
   "cell_type": "code",
   "execution_count": 16,
   "metadata": {},
   "outputs": [
    {
     "data": {
      "text/plain": [
       "0.003185998903671821"
      ]
     },
     "execution_count": 16,
     "metadata": {},
     "output_type": "execute_result"
    }
   ],
   "source": [
    "js_divergence(pops['pop'].to_numpy()/pops['pop'].sum(), pops['pop_sim'].to_numpy()/pops['pop_sim'].sum())"
   ]
  },
  {
   "cell_type": "markdown",
   "metadata": {},
   "source": [
    "### Wasserstein distance (Earth's mover distance)"
   ]
  },
  {
   "cell_type": "code",
   "execution_count": 17,
   "metadata": {},
   "outputs": [
    {
     "data": {
      "text/plain": [
       "0.003242889047420164"
      ]
     },
     "execution_count": 17,
     "metadata": {},
     "output_type": "execute_result"
    }
   ],
   "source": [
    "wasserstein_distance(pops['pop'].to_numpy()/pops['pop'].sum(), pops['pop_sim'].to_numpy()/pops['pop_sim'].sum())"
   ]
  },
  {
   "cell_type": "markdown",
   "metadata": {},
   "source": [
    "### Now ... the same for genders\n"
   ]
  },
  {
   "cell_type": "code",
   "execution_count": 18,
   "metadata": {},
   "outputs": [
    {
     "data": {
      "text/html": [
       "<div>\n",
       "<style scoped>\n",
       "    .dataframe tbody tr th:only-of-type {\n",
       "        vertical-align: middle;\n",
       "    }\n",
       "\n",
       "    .dataframe tbody tr th {\n",
       "        vertical-align: top;\n",
       "    }\n",
       "\n",
       "    .dataframe thead th {\n",
       "        text-align: right;\n",
       "    }\n",
       "</style>\n",
       "<table border=\"1\" class=\"dataframe\">\n",
       "  <thead>\n",
       "    <tr style=\"text-align: right;\">\n",
       "      <th></th>\n",
       "      <th>sex</th>\n",
       "      <th>count</th>\n",
       "    </tr>\n",
       "  </thead>\n",
       "  <tbody>\n",
       "    <tr>\n",
       "      <th>0</th>\n",
       "      <td>1</td>\n",
       "      <td>3499</td>\n",
       "    </tr>\n",
       "    <tr>\n",
       "      <th>1</th>\n",
       "      <td>2</td>\n",
       "      <td>3789</td>\n",
       "    </tr>\n",
       "  </tbody>\n",
       "</table>\n",
       "</div>"
      ],
      "text/plain": [
       "   sex  count\n",
       "0    1   3499\n",
       "1    2   3789"
      ]
     },
     "execution_count": 18,
     "metadata": {},
     "output_type": "execute_result"
    }
   ],
   "source": [
    "df_sex=df.groupby([\"sex\"]).agg({\"count\":\"sum\"}).reset_index()\n",
    "df_sex"
   ]
  },
  {
   "cell_type": "code",
   "execution_count": 19,
   "metadata": {},
   "outputs": [
    {
     "data": {
      "text/html": [
       "<div>\n",
       "<style scoped>\n",
       "    .dataframe tbody tr th:only-of-type {\n",
       "        vertical-align: middle;\n",
       "    }\n",
       "\n",
       "    .dataframe tbody tr th {\n",
       "        vertical-align: top;\n",
       "    }\n",
       "\n",
       "    .dataframe thead th {\n",
       "        text-align: right;\n",
       "    }\n",
       "</style>\n",
       "<table border=\"1\" class=\"dataframe\">\n",
       "  <thead>\n",
       "    <tr style=\"text-align: right;\">\n",
       "      <th></th>\n",
       "      <th>sex</th>\n",
       "      <th>pop</th>\n",
       "    </tr>\n",
       "  </thead>\n",
       "  <tbody>\n",
       "    <tr>\n",
       "      <th>0</th>\n",
       "      <td>1</td>\n",
       "      <td>803202.200578</td>\n",
       "    </tr>\n",
       "    <tr>\n",
       "      <th>1</th>\n",
       "      <td>2</td>\n",
       "      <td>849321.477434</td>\n",
       "    </tr>\n",
       "  </tbody>\n",
       "</table>\n",
       "</div>"
      ],
      "text/plain": [
       "   sex            pop\n",
       "0    1  803202.200578\n",
       "1    2  849321.477434"
      ]
     },
     "execution_count": 19,
     "metadata": {},
     "output_type": "execute_result"
    }
   ],
   "source": [
    "pop_sex_dpt=pop_saq[ (pop_saq['dpt']==dpt1) | (pop_saq['dpt']==dpt2)].groupby(['sex']).agg({'pop':'sum'}).reset_index()\n",
    "pop_sex_dpt"
   ]
  },
  {
   "cell_type": "code",
   "execution_count": 20,
   "metadata": {},
   "outputs": [],
   "source": [
    "#same proportion for figures\n",
    "pop_sex_dpt['pop'] = ratio*pop_sex_dpt['pop']\n",
    "pops_sex=pd.merge(pop_sex_dpt,df_sex,on='sex').rename(columns={\"count\":\"pop_sim\"})"
   ]
  },
  {
   "cell_type": "code",
   "execution_count": 21,
   "metadata": {},
   "outputs": [
    {
     "data": {
      "text/html": [
       "\n",
       "\n",
       "\n",
       "\n",
       "\n",
       "\n",
       "  <div class=\"bk-root\" id=\"ac5ecc3c-5450-47b7-8c81-efe8e88b37e3\" data-root-id=\"1139\"></div>\n"
      ]
     },
     "metadata": {},
     "output_type": "display_data"
    },
    {
     "data": {
      "application/javascript": [
       "(function(root) {\n",
       "  function embed_document(root) {\n",
       "    \n",
       "  var docs_json = {\"506b87c6-69cf-4425-b83b-f5a98a4524f9\":{\"roots\":{\"references\":[{\"attributes\":{\"below\":[{\"id\":\"1149\"}],\"center\":[{\"id\":\"1151\"},{\"id\":\"1155\"},{\"id\":\"1185\"}],\"left\":[{\"id\":\"1152\"}],\"plot_height\":300,\"plot_width\":400,\"renderers\":[{\"id\":\"1175\"},{\"id\":\"1192\"}],\"title\":null,\"toolbar\":{\"id\":\"1163\"},\"x_range\":{\"id\":\"1141\"},\"x_scale\":{\"id\":\"1145\"},\"y_range\":{\"id\":\"1143\"},\"y_scale\":{\"id\":\"1147\"}},\"id\":\"1139\",\"subtype\":\"Figure\",\"type\":\"Plot\"},{\"attributes\":{\"data\":{\"index\":[0,1],\"pop\":{\"__ndarray__\":\"XUeYiJqsq0C4uGd3ZUOtQA==\",\"dtype\":\"float64\",\"order\":\"little\",\"shape\":[2]},\"pop_sim\":[3499,3789],\"sex\":[\"M\",\"F\"]},\"selected\":{\"id\":\"1201\"},\"selection_policy\":{\"id\":\"1202\"}},\"id\":\"1188\",\"type\":\"ColumnDataSource\"},{\"attributes\":{\"label\":{\"value\":\"Real\"},\"renderers\":[{\"id\":\"1175\"}]},\"id\":\"1186\",\"type\":\"LegendItem\"},{\"attributes\":{},\"id\":\"1161\",\"type\":\"HelpTool\"},{\"attributes\":{},\"id\":\"1159\",\"type\":\"SaveTool\"},{\"attributes\":{},\"id\":\"1156\",\"type\":\"PanTool\"},{\"attributes\":{},\"id\":\"1160\",\"type\":\"ResetTool\"},{\"attributes\":{},\"id\":\"1145\",\"type\":\"CategoricalScale\"},{\"attributes\":{\"overlay\":{\"id\":\"1162\"}},\"id\":\"1158\",\"type\":\"BoxZoomTool\"},{\"attributes\":{},\"id\":\"1179\",\"type\":\"CategoricalTickFormatter\"},{\"attributes\":{\"axis_label\":\"Nb\",\"formatter\":{\"id\":\"1181\"},\"ticker\":{\"id\":\"1153\"}},\"id\":\"1152\",\"type\":\"LinearAxis\"},{\"attributes\":{\"range\":{\"id\":\"1141\"},\"value\":0.2},\"id\":\"1187\",\"type\":\"Dodge\"},{\"attributes\":{},\"id\":\"1181\",\"type\":\"BasicTickFormatter\"},{\"attributes\":{\"bottom_units\":\"screen\",\"fill_alpha\":0.5,\"fill_color\":\"lightgrey\",\"left_units\":\"screen\",\"level\":\"overlay\",\"line_alpha\":1.0,\"line_color\":\"black\",\"line_dash\":[4,4],\"line_width\":2,\"right_units\":\"screen\",\"top_units\":\"screen\"},\"id\":\"1162\",\"type\":\"BoxAnnotation\"},{\"attributes\":{},\"id\":\"1150\",\"type\":\"CategoricalTicker\"},{\"attributes\":{},\"id\":\"1201\",\"type\":\"Selection\"},{\"attributes\":{\"data_source\":{\"id\":\"1171\"},\"glyph\":{\"id\":\"1173\"},\"hover_glyph\":null,\"muted_glyph\":null,\"nonselection_glyph\":{\"id\":\"1174\"},\"selection_glyph\":null,\"view\":{\"id\":\"1176\"}},\"id\":\"1175\",\"type\":\"GlyphRenderer\"},{\"attributes\":{},\"id\":\"1202\",\"type\":\"UnionRenderers\"},{\"attributes\":{\"items\":[{\"id\":\"1186\"},{\"id\":\"1204\"}],\"location\":\"bottom_right\"},\"id\":\"1185\",\"type\":\"Legend\"},{\"attributes\":{\"axis\":{\"id\":\"1149\"},\"ticker\":null,\"visible\":false},\"id\":\"1151\",\"type\":\"Grid\"},{\"attributes\":{\"fill_color\":{\"value\":\"orange\"},\"line_color\":{\"value\":\"#1f77b4\"},\"top\":{\"field\":\"pop_sim\"},\"width\":{\"value\":0.4},\"x\":{\"field\":\"sex\",\"transform\":{\"id\":\"1187\"}}},\"id\":\"1190\",\"type\":\"VBar\"},{\"attributes\":{},\"id\":\"1182\",\"type\":\"Selection\"},{\"attributes\":{},\"id\":\"1147\",\"type\":\"LinearScale\"},{\"attributes\":{\"active_drag\":\"auto\",\"active_inspect\":\"auto\",\"active_multi\":null,\"active_scroll\":\"auto\",\"active_tap\":\"auto\",\"tools\":[{\"id\":\"1156\"},{\"id\":\"1157\"},{\"id\":\"1158\"},{\"id\":\"1159\"},{\"id\":\"1160\"},{\"id\":\"1161\"}]},\"id\":\"1163\",\"type\":\"Toolbar\"},{\"attributes\":{\"fill_alpha\":{\"value\":0.1},\"fill_color\":{\"value\":\"#1f77b4\"},\"line_alpha\":{\"value\":0.1},\"line_color\":{\"value\":\"#1f77b4\"},\"top\":{\"field\":\"pop\"},\"width\":{\"value\":0.4},\"x\":{\"field\":\"sex\",\"transform\":{\"id\":\"1170\"}}},\"id\":\"1174\",\"type\":\"VBar\"},{\"attributes\":{\"fill_alpha\":{\"value\":0.1},\"fill_color\":{\"value\":\"orange\"},\"line_alpha\":{\"value\":0.1},\"line_color\":{\"value\":\"#1f77b4\"},\"top\":{\"field\":\"pop_sim\"},\"width\":{\"value\":0.4},\"x\":{\"field\":\"sex\",\"transform\":{\"id\":\"1187\"}}},\"id\":\"1191\",\"type\":\"VBar\"},{\"attributes\":{\"source\":{\"id\":\"1188\"}},\"id\":\"1193\",\"type\":\"CDSView\"},{\"attributes\":{\"range\":{\"id\":\"1141\"},\"value\":-0.2},\"id\":\"1170\",\"type\":\"Dodge\"},{\"attributes\":{},\"id\":\"1183\",\"type\":\"UnionRenderers\"},{\"attributes\":{\"axis\":{\"id\":\"1152\"},\"dimension\":1,\"ticker\":null,\"visible\":false},\"id\":\"1155\",\"type\":\"Grid\"},{\"attributes\":{\"data\":{\"index\":[0,1],\"pop\":{\"__ndarray__\":\"XUeYiJqsq0C4uGd3ZUOtQA==\",\"dtype\":\"float64\",\"order\":\"little\",\"shape\":[2]},\"pop_sim\":[3499,3789],\"sex\":[\"M\",\"F\"]},\"selected\":{\"id\":\"1182\"},\"selection_policy\":{\"id\":\"1183\"}},\"id\":\"1171\",\"type\":\"ColumnDataSource\"},{\"attributes\":{\"fill_color\":{\"value\":\"#1f77b4\"},\"line_color\":{\"value\":\"#1f77b4\"},\"top\":{\"field\":\"pop\"},\"width\":{\"value\":0.4},\"x\":{\"field\":\"sex\",\"transform\":{\"id\":\"1170\"}}},\"id\":\"1173\",\"type\":\"VBar\"},{\"attributes\":{},\"id\":\"1153\",\"type\":\"BasicTicker\"},{\"attributes\":{\"end\":5000},\"id\":\"1143\",\"type\":\"Range1d\"},{\"attributes\":{\"formatter\":{\"id\":\"1179\"},\"major_label_orientation\":0.7853981633974483,\"ticker\":{\"id\":\"1150\"}},\"id\":\"1149\",\"type\":\"CategoricalAxis\"},{\"attributes\":{\"source\":{\"id\":\"1171\"}},\"id\":\"1176\",\"type\":\"CDSView\"},{\"attributes\":{\"label\":{\"value\":\"Synth\"},\"renderers\":[{\"id\":\"1192\"}]},\"id\":\"1204\",\"type\":\"LegendItem\"},{\"attributes\":{\"factors\":[\"M\",\"F\"]},\"id\":\"1141\",\"type\":\"FactorRange\"},{\"attributes\":{},\"id\":\"1157\",\"type\":\"WheelZoomTool\"},{\"attributes\":{\"data_source\":{\"id\":\"1188\"},\"glyph\":{\"id\":\"1190\"},\"hover_glyph\":null,\"muted_glyph\":null,\"nonselection_glyph\":{\"id\":\"1191\"},\"selection_glyph\":null,\"view\":{\"id\":\"1193\"}},\"id\":\"1192\",\"type\":\"GlyphRenderer\"}],\"root_ids\":[\"1139\"]},\"title\":\"Bokeh Application\",\"version\":\"2.1.1\"}};\n",
       "  var render_items = [{\"docid\":\"506b87c6-69cf-4425-b83b-f5a98a4524f9\",\"root_ids\":[\"1139\"],\"roots\":{\"1139\":\"ac5ecc3c-5450-47b7-8c81-efe8e88b37e3\"}}];\n",
       "  root.Bokeh.embed.embed_items_notebook(docs_json, render_items);\n",
       "\n",
       "  }\n",
       "  if (root.Bokeh !== undefined) {\n",
       "    embed_document(root);\n",
       "  } else {\n",
       "    var attempts = 0;\n",
       "    var timer = setInterval(function(root) {\n",
       "      if (root.Bokeh !== undefined) {\n",
       "        clearInterval(timer);\n",
       "        embed_document(root);\n",
       "      } else {\n",
       "        attempts++;\n",
       "        if (attempts > 100) {\n",
       "          clearInterval(timer);\n",
       "          console.log(\"Bokeh: ERROR: Unable to run BokehJS code because BokehJS library is missing\");\n",
       "        }\n",
       "      }\n",
       "    }, 10, root)\n",
       "  }\n",
       "})(window);"
      ],
      "application/vnd.bokehjs_exec.v0+json": ""
     },
     "metadata": {
      "application/vnd.bokehjs_exec.v0+json": {
       "id": "1139"
      }
     },
     "output_type": "display_data"
    }
   ],
   "source": [
    "pops_sex['sex']=pops_sex['sex'].astype(\"str\").str.replace(\"1\",\"M\").replace(\"2\",\"F\")\n",
    "p = figure(title=None, x_range=pops_sex['sex'].to_numpy(), y_range=(0,5000), plot_width=400, plot_height=300)\n",
    "p.xgrid.visible = False\n",
    "p.ygrid.visible = False\n",
    "p.xaxis.major_label_orientation = math.pi/4\n",
    "p.vbar(x=dodge('sex', -0.2, range=p.x_range), top='pop', source=ColumnDataSource(pops_sex), width=0.4,legend_label=\"Real\")\n",
    "p.vbar(x=dodge('sex', +0.2, range=p.x_range), top='pop_sim', fill_color=\"orange\", width=0.4, source=ColumnDataSource(pops_sex),legend_label=\"Synth\")\n",
    "p.legend.location = \"bottom_right\"\n",
    "#p.xaxis.axis_label = 'ATC codes'\n",
    "p.yaxis.axis_label = 'Nb'\n",
    "show(p)"
   ]
  },
  {
   "cell_type": "markdown",
   "metadata": {},
   "source": [
    "### Quantitiative Comparisons\n",
    "\n",
    "We perform $\\chi^2$ test, and then we compute some distances."
   ]
  },
  {
   "cell_type": "code",
   "execution_count": 22,
   "metadata": {},
   "outputs": [
    {
     "data": {
      "text/plain": [
       "Power_divergenceResult(statistic=1.0299173880525148, pvalue=0.3101780716287681)"
      ]
     },
     "execution_count": 22,
     "metadata": {},
     "output_type": "execute_result"
    }
   ],
   "source": [
    "chisquare(pops_sex['pop_sim'].to_numpy(), pops_sex['pop'].to_numpy())"
   ]
  },
  {
   "cell_type": "markdown",
   "metadata": {},
   "source": [
    "Here, the p-value is >0.05, then the null hypotheses (i.e. $H_0$: the two samples have the distribution) can not be rejected."
   ]
  },
  {
   "cell_type": "markdown",
   "metadata": {},
   "source": [
    "We simply compute the JS divergence in this case (not a continuous distribution)"
   ]
  },
  {
   "cell_type": "code",
   "execution_count": 23,
   "metadata": {},
   "outputs": [
    {
     "data": {
      "text/plain": [
       "2.5494157302622354e-05"
      ]
     },
     "execution_count": 23,
     "metadata": {},
     "output_type": "execute_result"
    }
   ],
   "source": [
    "js_divergence(pops_sex['pop'].to_numpy()/pops_sex['pop'].sum(), pops_sex['pop_sim'].to_numpy()/pops_sex['pop_sim'].sum())"
   ]
  },
  {
   "cell_type": "code",
   "execution_count": 24,
   "metadata": {},
   "outputs": [
    {
     "data": {
      "text/plain": [
       "0.0059415235161789925"
      ]
     },
     "execution_count": 24,
     "metadata": {},
     "output_type": "execute_result"
    }
   ],
   "source": [
    "wasserstein_distance(pops_sex['pop'].to_numpy()/pops_sex['pop'].sum(), pops_sex['pop_sim'].to_numpy()/pops_sex['pop_sim'].sum())"
   ]
  },
  {
   "cell_type": "markdown",
   "metadata": {},
   "source": [
    "## Analysis of the drug distributions"
   ]
  },
  {
   "cell_type": "code",
   "execution_count": 25,
   "metadata": {},
   "outputs": [
    {
     "data": {
      "text/html": [
       "<div>\n",
       "<style scoped>\n",
       "    .dataframe tbody tr th:only-of-type {\n",
       "        vertical-align: middle;\n",
       "    }\n",
       "\n",
       "    .dataframe tbody tr th {\n",
       "        vertical-align: top;\n",
       "    }\n",
       "\n",
       "    .dataframe thead th {\n",
       "        text-align: right;\n",
       "    }\n",
       "</style>\n",
       "<table border=\"1\" class=\"dataframe\">\n",
       "  <thead>\n",
       "    <tr style=\"text-align: right;\">\n",
       "      <th></th>\n",
       "      <th>ATC2</th>\n",
       "      <th>nb</th>\n",
       "    </tr>\n",
       "  </thead>\n",
       "  <tbody>\n",
       "    <tr>\n",
       "      <th>0</th>\n",
       "      <td>A01</td>\n",
       "      <td>1941</td>\n",
       "    </tr>\n",
       "    <tr>\n",
       "      <th>1</th>\n",
       "      <td>A02</td>\n",
       "      <td>9503</td>\n",
       "    </tr>\n",
       "    <tr>\n",
       "      <th>2</th>\n",
       "      <td>A03</td>\n",
       "      <td>3832</td>\n",
       "    </tr>\n",
       "    <tr>\n",
       "      <th>3</th>\n",
       "      <td>A04</td>\n",
       "      <td>727</td>\n",
       "    </tr>\n",
       "    <tr>\n",
       "      <th>4</th>\n",
       "      <td>A05</td>\n",
       "      <td>161</td>\n",
       "    </tr>\n",
       "    <tr>\n",
       "      <th>...</th>\n",
       "      <td>...</td>\n",
       "      <td>...</td>\n",
       "    </tr>\n",
       "    <tr>\n",
       "      <th>72</th>\n",
       "      <td>S02</td>\n",
       "      <td>470</td>\n",
       "    </tr>\n",
       "    <tr>\n",
       "      <th>73</th>\n",
       "      <td>V01</td>\n",
       "      <td>45</td>\n",
       "    </tr>\n",
       "    <tr>\n",
       "      <th>74</th>\n",
       "      <td>V03</td>\n",
       "      <td>104</td>\n",
       "    </tr>\n",
       "    <tr>\n",
       "      <th>75</th>\n",
       "      <td>V04</td>\n",
       "      <td>39</td>\n",
       "    </tr>\n",
       "    <tr>\n",
       "      <th>76</th>\n",
       "      <td>V08</td>\n",
       "      <td>545</td>\n",
       "    </tr>\n",
       "  </tbody>\n",
       "</table>\n",
       "<p>77 rows × 2 columns</p>\n",
       "</div>"
      ],
      "text/plain": [
       "   ATC2    nb\n",
       "0   A01  1941\n",
       "1   A02  9503\n",
       "2   A03  3832\n",
       "3   A04   727\n",
       "4   A05   161\n",
       "..  ...   ...\n",
       "72  S02   470\n",
       "73  V01    45\n",
       "74  V03   104\n",
       "75  V04    39\n",
       "76  V08   545\n",
       "\n",
       "[77 rows x 2 columns]"
      ]
     },
     "execution_count": 25,
     "metadata": {},
     "output_type": "execute_result"
    }
   ],
   "source": [
    "# On effectue une requête pour extraire les informations sur les médicaments (nombres de prescriptions par ATC 3)\n",
    "# -> là on a les chiffres généré pour 2 départements, sur 1 an\n",
    "df = pd.read_sql_query(\"SELECT PHA_ATC_C03, sum(PHA_ACT_QSN) FROM er_pha_f JOIN ir_pha_r ON ir_pha_r.PHA_CIP_C13=er_pha_f.PHA_PRS_C13 GROUP BY PHA_ATC_C03;\", conn)\n",
    "df.rename(columns={'PHA_ATC_C03':'ATC2','sum(PHA_ACT_QSN)':'nb'}, inplace=True)\n",
    "df"
   ]
  },
  {
   "cell_type": "code",
   "execution_count": 26,
   "metadata": {},
   "outputs": [],
   "source": [
    "# data for the French population, during a year\n",
    "data = pd.read_csv(\"../data/OPEN_MEDIC_2019.zip\", header=0, sep=';', encoding=\"latin_1\")[['ATC2','BOITES']]\n",
    "data = data.groupby(\"ATC2\").agg({'BOITES':'sum'}).reset_index().rename(columns={'BOITES':\"nb\"})"
   ]
  },
  {
   "cell_type": "code",
   "execution_count": 27,
   "metadata": {},
   "outputs": [
    {
     "data": {
      "text/html": [
       "<div>\n",
       "<style scoped>\n",
       "    .dataframe tbody tr th:only-of-type {\n",
       "        vertical-align: middle;\n",
       "    }\n",
       "\n",
       "    .dataframe tbody tr th {\n",
       "        vertical-align: top;\n",
       "    }\n",
       "\n",
       "    .dataframe thead th {\n",
       "        text-align: right;\n",
       "    }\n",
       "</style>\n",
       "<table border=\"1\" class=\"dataframe\">\n",
       "  <thead>\n",
       "    <tr style=\"text-align: right;\">\n",
       "      <th></th>\n",
       "      <th>ATC2</th>\n",
       "      <th>nb</th>\n",
       "    </tr>\n",
       "  </thead>\n",
       "  <tbody>\n",
       "    <tr>\n",
       "      <th>0</th>\n",
       "      <td>A01</td>\n",
       "      <td>22941566</td>\n",
       "    </tr>\n",
       "    <tr>\n",
       "      <th>1</th>\n",
       "      <td>A02</td>\n",
       "      <td>100746397</td>\n",
       "    </tr>\n",
       "    <tr>\n",
       "      <th>2</th>\n",
       "      <td>A03</td>\n",
       "      <td>48505314</td>\n",
       "    </tr>\n",
       "    <tr>\n",
       "      <th>3</th>\n",
       "      <td>A04</td>\n",
       "      <td>8452671</td>\n",
       "    </tr>\n",
       "    <tr>\n",
       "      <th>4</th>\n",
       "      <td>A05</td>\n",
       "      <td>1954634</td>\n",
       "    </tr>\n",
       "  </tbody>\n",
       "</table>\n",
       "</div>"
      ],
      "text/plain": [
       "  ATC2         nb\n",
       "0  A01   22941566\n",
       "1  A02  100746397\n",
       "2  A03   48505314\n",
       "3  A04    8452671\n",
       "4  A05    1954634"
      ]
     },
     "execution_count": 27,
     "metadata": {},
     "output_type": "execute_result"
    }
   ],
   "source": [
    "data.head()"
   ]
  },
  {
   "cell_type": "code",
   "execution_count": 28,
   "metadata": {},
   "outputs": [],
   "source": [
    "#we compute the population proportionality ratio\n",
    "ratio = sum( df_age_agg['count'] )/pop_tot"
   ]
  },
  {
   "cell_type": "code",
   "execution_count": 29,
   "metadata": {},
   "outputs": [
    {
     "data": {
      "text/html": [
       "<div>\n",
       "<style scoped>\n",
       "    .dataframe tbody tr th:only-of-type {\n",
       "        vertical-align: middle;\n",
       "    }\n",
       "\n",
       "    .dataframe tbody tr th {\n",
       "        vertical-align: top;\n",
       "    }\n",
       "\n",
       "    .dataframe thead th {\n",
       "        text-align: right;\n",
       "    }\n",
       "</style>\n",
       "<table border=\"1\" class=\"dataframe\">\n",
       "  <thead>\n",
       "    <tr style=\"text-align: right;\">\n",
       "      <th></th>\n",
       "      <th>ATC2</th>\n",
       "      <th>nb</th>\n",
       "      <th>nb_sim</th>\n",
       "    </tr>\n",
       "  </thead>\n",
       "  <tbody>\n",
       "    <tr>\n",
       "      <th>0</th>\n",
       "      <td>A01</td>\n",
       "      <td>2519.580129</td>\n",
       "      <td>1941.0</td>\n",
       "    </tr>\n",
       "    <tr>\n",
       "      <th>1</th>\n",
       "      <td>A02</td>\n",
       "      <td>11064.572487</td>\n",
       "      <td>9503.0</td>\n",
       "    </tr>\n",
       "    <tr>\n",
       "      <th>2</th>\n",
       "      <td>A03</td>\n",
       "      <td>5327.143985</td>\n",
       "      <td>3832.0</td>\n",
       "    </tr>\n",
       "    <tr>\n",
       "      <th>3</th>\n",
       "      <td>A04</td>\n",
       "      <td>928.322935</td>\n",
       "      <td>727.0</td>\n",
       "    </tr>\n",
       "    <tr>\n",
       "      <th>4</th>\n",
       "      <td>A05</td>\n",
       "      <td>214.669608</td>\n",
       "      <td>161.0</td>\n",
       "    </tr>\n",
       "  </tbody>\n",
       "</table>\n",
       "</div>"
      ],
      "text/plain": [
       "  ATC2            nb  nb_sim\n",
       "0  A01   2519.580129  1941.0\n",
       "1  A02  11064.572487  9503.0\n",
       "2  A03   5327.143985  3832.0\n",
       "3  A04    928.322935   727.0\n",
       "4  A05    214.669608   161.0"
      ]
     },
     "execution_count": 29,
     "metadata": {},
     "output_type": "execute_result"
    }
   ],
   "source": [
    "df_cmp=pd.merge(data,df,how=\"left\",on='ATC2',suffixes=('','_sim')).fillna(0)\n",
    "df_cmp['nb'] *= ratio\n",
    "df_cmp.head()"
   ]
  },
  {
   "cell_type": "code",
   "execution_count": 30,
   "metadata": {},
   "outputs": [
    {
     "data": {
      "text/html": [
       "\n",
       "\n",
       "\n",
       "\n",
       "\n",
       "\n",
       "  <div class=\"bk-root\" id=\"51f9070d-b7b6-4ee5-8239-25c45519b94e\" data-root-id=\"1285\"></div>\n"
      ]
     },
     "metadata": {},
     "output_type": "display_data"
    },
    {
     "data": {
      "application/javascript": [
       "(function(root) {\n",
       "  function embed_document(root) {\n",
       "    \n",
       "  var docs_json = {\"f584bc82-4c89-45b9-a1fe-10a75c50e45f\":{\"roots\":{\"references\":[{\"attributes\":{\"below\":[{\"id\":\"1295\"}],\"center\":[{\"id\":\"1297\"},{\"id\":\"1301\"},{\"id\":\"1331\"}],\"left\":[{\"id\":\"1298\"}],\"plot_height\":300,\"plot_width\":1200,\"renderers\":[{\"id\":\"1321\"},{\"id\":\"1338\"}],\"title\":null,\"toolbar\":{\"id\":\"1309\"},\"x_range\":{\"id\":\"1287\"},\"x_scale\":{\"id\":\"1291\"},\"y_range\":{\"id\":\"1289\"},\"y_scale\":{\"id\":\"1293\"}},\"id\":\"1285\",\"subtype\":\"Figure\",\"type\":\"Plot\"},{\"attributes\":{\"fill_color\":{\"value\":\"orange\"},\"line_color\":{\"value\":\"#1f77b4\"},\"top\":{\"field\":\"nb_sim\"},\"width\":{\"value\":0.4},\"x\":{\"field\":\"ATC2\",\"transform\":{\"id\":\"1316\"}}},\"id\":\"1319\",\"type\":\"VBar\"},{\"attributes\":{},\"id\":\"1289\",\"type\":\"DataRange1d\"},{\"attributes\":{\"data_source\":{\"id\":\"1317\"},\"glyph\":{\"id\":\"1319\"},\"hover_glyph\":null,\"muted_glyph\":null,\"nonselection_glyph\":{\"id\":\"1320\"},\"selection_glyph\":null,\"view\":{\"id\":\"1322\"}},\"id\":\"1321\",\"type\":\"GlyphRenderer\"},{\"attributes\":{},\"id\":\"1303\",\"type\":\"WheelZoomTool\"},{\"attributes\":{},\"id\":\"1327\",\"type\":\"BasicTickFormatter\"},{\"attributes\":{\"formatter\":{\"id\":\"1325\"},\"major_label_orientation\":0.7853981633974483,\"ticker\":{\"id\":\"1296\"}},\"id\":\"1295\",\"type\":\"CategoricalAxis\"},{\"attributes\":{\"label\":{\"value\":\"Synth\"},\"renderers\":[{\"id\":\"1321\"}]},\"id\":\"1332\",\"type\":\"LegendItem\"},{\"attributes\":{\"data\":{\"ATC2\":[\"A01\",\"A02\",\"A03\",\"A04\",\"A05\",\"A06\",\"A07\",\"A09\",\"A10\",\"A11\",\"A12\",\"A14\",\"A16\",\"B01\",\"B02\",\"B03\",\"B05\",\"C01\",\"C02\",\"C03\",\"C04\",\"C05\",\"C07\",\"C08\",\"C09\",\"C10\",\"D01\",\"D02\",\"D05\",\"D06\",\"D07\",\"D08\",\"D10\",\"D11\",\"G01\",\"G02\",\"G03\",\"G04\",\"H01\",\"H02\",\"H03\",\"H04\",\"H05\",\"J01\",\"J02\",\"J04\",\"J05\",\"J06\",\"J07\",\"L01\",\"L02\",\"L03\",\"L04\",\"M01\",\"M02\",\"M03\",\"M04\",\"M05\",\"N01\",\"N02\",\"N03\",\"N04\",\"N05\",\"N06\",\"N07\",\"P01\",\"P02\",\"P03\",\"R01\",\"R03\",\"R05\",\"R06\",\"R07\",\"S01\",\"S02\",\"V01\",\"V03\",\"V04\",\"V07\",\"V08\"],\"index\":[0,1,2,3,4,5,6,7,8,9,10,11,12,13,14,15,16,17,18,19,20,21,22,23,24,25,26,27,28,29,30,31,32,33,34,35,36,37,38,39,40,41,42,43,44,45,46,47,48,49,50,51,52,53,54,55,56,57,58,59,60,61,62,63,64,65,66,67,68,69,70,71,72,73,74,75,76,77,78,79],\"nb\":{\"__ndarray__\":\"poa1Bimvo0ARLURHSZzFQMNEMdwkz7RAMz4kX5UCjUCbPlZubdVqQGru/UmHLbNAtC6i3B1mmUAQM10uaYZjQOqHYPIpO71AiWttNajDtEBmi9wE1PGgQC4cqqG6hcU/ptqDO6jYbkCEXUWsz3HBQGqlztDnHmZAB/ub+A0do0BjDpJ/LoefQHj0Tyd7VZpAC40Rudd8jEARqKWeEhKqQMfLeFmzq1xAvhqa5iJXfD8FeCbxD0K1QKnVaAZXBKZAl3a5mjncu0AFZ6kbWLO0QI1M54Qg/6BA+cXmn2aNjkDsEwya73tsQEf/RdgTmolAZgjt90zbokDG538FXF2fQLFQerz3kn9AGWcrroDxMUCD5xS2L/eBQIegm70gqktAm6tS0fZIrkDtmT9a5D+lQDHTXqc2BGJAaTTKCrAgrUCP1Qiyhj6oQG441ufUQ0ZAKy0Bsy6qSEATKk4ng+TIQFypyBQbAYZAF2/CAgFQQ0A9b7F65z+KQAZ37640giZAcizliR/zpEDtJAroHp95QDftJVowNHlAAmGOcULQZ0Ch8KpMRIWKQNznQEyccbZA7htiE3atpEAURUqJ7Eh8QB7LmE96YJdAoPSISDHrcECcZdcE/OSfQFoArU6hpu1A+gpMFpqsp0ALqKqnnAGSQOlLpUtyUspAxh0tCVmfvEDioOSmBwGwQENRd3zWbXpACg07eY9UcUATEBf0x/dIQCxwi+ZUlKlAqOjdfoKwtkB1Mce0HkqhQPR35PGAT7NAN7KuSPvqxD9/RkMErl+/QEF7jcw3tINAnjgekRqnSEDVqyC2pEVjQG9pidoYmExAsFFl2PCWXj/d/+n1YbeGQA==\",\"dtype\":\"float64\",\"order\":\"little\",\"shape\":[80]},\"nb_sim\":{\"__ndarray__\":\"AAAAAABUnkAAAAAAgI/CQAAAAAAA8K1AAAAAAAC4hkAAAAAAACBkQAAAAAAAvLBAAAAAAABclEAAAAAAAGBmQAAAAAAAbLJAAAAAAAB3s0AAAAAAANCgQAAAAAAAAAAAAAAAAABAbEAAAAAAgHjAQAAAAAAAwGVAAAAAAAD8oUAAAAAAAGiVQAAAAAAAIJZAAAAAAAAwhEAAAAAAAL6nQAAAAAAAgE1AAAAAAAAAAAAAAAAAAH+0QAAAAAAA1qRAAAAAAABBuUAAAAAAAC+zQAAAAAAAwJpAAAAAAAC4gEAAAAAAAKBmQAAAAAAACIJAAAAAAAA4nUAAAAAAAESWQAAAAAAAsHlAAAAAAAAALEAAAAAAAJB9QAAAAAAAAEdAAAAAAAACrEAAAAAAAECfQAAAAAAAYGBAAAAAAADYrUAAAAAAACCnQAAAAAAAAENAAAAAAAAAQkAAAAAAAH7GQAAAAAAAIIZAAAAAAAAAPkAAAAAAANiIQAAAAAAAACBAAAAAAAD2pEAAAAAAAPB4QAAAAAAAUHVAAAAAAABAYkAAAAAAABCIQAAAAAAADrBAAAAAAABYm0AAAAAAAGB8QAAAAAAA2JJAAAAAAADgcUAAAAAAAEybQAAAAABgaOtAAAAAAAAiqUAAAAAAACSQQAAAAACAzdBAAAAAAADqvUAAAAAAAEWxQAAAAAAA4HJAAAAAAACgbUAAAAAAAIBDQAAAAAAAgKRAAAAAAADCtkAAAAAAALCXQAAAAAAAYLFAAAAAAAAAAAAAAAAAABW+QAAAAAAAYH1AAAAAAACARkAAAAAAAABaQAAAAAAAgENAAAAAAAAAAAAAAAAAAAiBQA==\",\"dtype\":\"float64\",\"order\":\"little\",\"shape\":[80]}},\"selected\":{\"id\":\"1347\"},\"selection_policy\":{\"id\":\"1348\"}},\"id\":\"1334\",\"type\":\"ColumnDataSource\"},{\"attributes\":{\"axis_label\":\"Nb\",\"formatter\":{\"id\":\"1327\"},\"ticker\":{\"id\":\"1299\"}},\"id\":\"1298\",\"type\":\"LinearAxis\"},{\"attributes\":{},\"id\":\"1347\",\"type\":\"Selection\"},{\"attributes\":{\"source\":{\"id\":\"1317\"}},\"id\":\"1322\",\"type\":\"CDSView\"},{\"attributes\":{},\"id\":\"1305\",\"type\":\"SaveTool\"},{\"attributes\":{},\"id\":\"1348\",\"type\":\"UnionRenderers\"},{\"attributes\":{},\"id\":\"1329\",\"type\":\"UnionRenderers\"},{\"attributes\":{\"data_source\":{\"id\":\"1334\"},\"glyph\":{\"id\":\"1336\"},\"hover_glyph\":null,\"muted_glyph\":null,\"nonselection_glyph\":{\"id\":\"1337\"},\"selection_glyph\":null,\"view\":{\"id\":\"1339\"}},\"id\":\"1338\",\"type\":\"GlyphRenderer\"},{\"attributes\":{},\"id\":\"1306\",\"type\":\"ResetTool\"},{\"attributes\":{\"source\":{\"id\":\"1334\"}},\"id\":\"1339\",\"type\":\"CDSView\"},{\"attributes\":{\"items\":[{\"id\":\"1332\"},{\"id\":\"1350\"}]},\"id\":\"1331\",\"type\":\"Legend\"},{\"attributes\":{},\"id\":\"1299\",\"type\":\"BasicTicker\"},{\"attributes\":{},\"id\":\"1328\",\"type\":\"Selection\"},{\"attributes\":{},\"id\":\"1302\",\"type\":\"PanTool\"},{\"attributes\":{\"factors\":[\"A01\",\"A02\",\"A03\",\"A04\",\"A05\",\"A06\",\"A07\",\"A09\",\"A10\",\"A11\",\"A12\",\"A14\",\"A16\",\"B01\",\"B02\",\"B03\",\"B05\",\"C01\",\"C02\",\"C03\",\"C04\",\"C05\",\"C07\",\"C08\",\"C09\",\"C10\",\"D01\",\"D02\",\"D05\",\"D06\",\"D07\",\"D08\",\"D10\",\"D11\",\"G01\",\"G02\",\"G03\",\"G04\",\"H01\",\"H02\",\"H03\",\"H04\",\"H05\",\"J01\",\"J02\",\"J04\",\"J05\",\"J06\",\"J07\",\"L01\",\"L02\",\"L03\",\"L04\",\"M01\",\"M02\",\"M03\",\"M04\",\"M05\",\"N01\",\"N02\",\"N03\",\"N04\",\"N05\",\"N06\",\"N07\",\"P01\",\"P02\",\"P03\",\"R01\",\"R03\",\"R05\",\"R06\",\"R07\",\"S01\",\"S02\",\"V01\",\"V03\",\"V04\",\"V07\",\"V08\"]},\"id\":\"1287\",\"type\":\"FactorRange\"},{\"attributes\":{\"range\":{\"id\":\"1287\"},\"value\":0.2},\"id\":\"1333\",\"type\":\"Dodge\"},{\"attributes\":{},\"id\":\"1291\",\"type\":\"CategoricalScale\"},{\"attributes\":{},\"id\":\"1307\",\"type\":\"HelpTool\"},{\"attributes\":{\"range\":{\"id\":\"1287\"},\"value\":-0.2},\"id\":\"1316\",\"type\":\"Dodge\"},{\"attributes\":{\"bottom_units\":\"screen\",\"fill_alpha\":0.5,\"fill_color\":\"lightgrey\",\"left_units\":\"screen\",\"level\":\"overlay\",\"line_alpha\":1.0,\"line_color\":\"black\",\"line_dash\":[4,4],\"line_width\":2,\"right_units\":\"screen\",\"top_units\":\"screen\"},\"id\":\"1308\",\"type\":\"BoxAnnotation\"},{\"attributes\":{\"fill_alpha\":{\"value\":0.1},\"fill_color\":{\"value\":\"orange\"},\"line_alpha\":{\"value\":0.1},\"line_color\":{\"value\":\"#1f77b4\"},\"top\":{\"field\":\"nb_sim\"},\"width\":{\"value\":0.4},\"x\":{\"field\":\"ATC2\",\"transform\":{\"id\":\"1316\"}}},\"id\":\"1320\",\"type\":\"VBar\"},{\"attributes\":{},\"id\":\"1293\",\"type\":\"LinearScale\"},{\"attributes\":{},\"id\":\"1325\",\"type\":\"CategoricalTickFormatter\"},{\"attributes\":{\"overlay\":{\"id\":\"1308\"}},\"id\":\"1304\",\"type\":\"BoxZoomTool\"},{\"attributes\":{},\"id\":\"1296\",\"type\":\"CategoricalTicker\"},{\"attributes\":{\"data\":{\"ATC2\":[\"A01\",\"A02\",\"A03\",\"A04\",\"A05\",\"A06\",\"A07\",\"A09\",\"A10\",\"A11\",\"A12\",\"A14\",\"A16\",\"B01\",\"B02\",\"B03\",\"B05\",\"C01\",\"C02\",\"C03\",\"C04\",\"C05\",\"C07\",\"C08\",\"C09\",\"C10\",\"D01\",\"D02\",\"D05\",\"D06\",\"D07\",\"D08\",\"D10\",\"D11\",\"G01\",\"G02\",\"G03\",\"G04\",\"H01\",\"H02\",\"H03\",\"H04\",\"H05\",\"J01\",\"J02\",\"J04\",\"J05\",\"J06\",\"J07\",\"L01\",\"L02\",\"L03\",\"L04\",\"M01\",\"M02\",\"M03\",\"M04\",\"M05\",\"N01\",\"N02\",\"N03\",\"N04\",\"N05\",\"N06\",\"N07\",\"P01\",\"P02\",\"P03\",\"R01\",\"R03\",\"R05\",\"R06\",\"R07\",\"S01\",\"S02\",\"V01\",\"V03\",\"V04\",\"V07\",\"V08\"],\"index\":[0,1,2,3,4,5,6,7,8,9,10,11,12,13,14,15,16,17,18,19,20,21,22,23,24,25,26,27,28,29,30,31,32,33,34,35,36,37,38,39,40,41,42,43,44,45,46,47,48,49,50,51,52,53,54,55,56,57,58,59,60,61,62,63,64,65,66,67,68,69,70,71,72,73,74,75,76,77,78,79],\"nb\":{\"__ndarray__\":\"poa1Bimvo0ARLURHSZzFQMNEMdwkz7RAMz4kX5UCjUCbPlZubdVqQGru/UmHLbNAtC6i3B1mmUAQM10uaYZjQOqHYPIpO71AiWttNajDtEBmi9wE1PGgQC4cqqG6hcU/ptqDO6jYbkCEXUWsz3HBQGqlztDnHmZAB/ub+A0do0BjDpJ/LoefQHj0Tyd7VZpAC40Rudd8jEARqKWeEhKqQMfLeFmzq1xAvhqa5iJXfD8FeCbxD0K1QKnVaAZXBKZAl3a5mjncu0AFZ6kbWLO0QI1M54Qg/6BA+cXmn2aNjkDsEwya73tsQEf/RdgTmolAZgjt90zbokDG538FXF2fQLFQerz3kn9AGWcrroDxMUCD5xS2L/eBQIegm70gqktAm6tS0fZIrkDtmT9a5D+lQDHTXqc2BGJAaTTKCrAgrUCP1Qiyhj6oQG441ufUQ0ZAKy0Bsy6qSEATKk4ng+TIQFypyBQbAYZAF2/CAgFQQ0A9b7F65z+KQAZ37640giZAcizliR/zpEDtJAroHp95QDftJVowNHlAAmGOcULQZ0Ch8KpMRIWKQNznQEyccbZA7htiE3atpEAURUqJ7Eh8QB7LmE96YJdAoPSISDHrcECcZdcE/OSfQFoArU6hpu1A+gpMFpqsp0ALqKqnnAGSQOlLpUtyUspAxh0tCVmfvEDioOSmBwGwQENRd3zWbXpACg07eY9UcUATEBf0x/dIQCxwi+ZUlKlAqOjdfoKwtkB1Mce0HkqhQPR35PGAT7NAN7KuSPvqxD9/RkMErl+/QEF7jcw3tINAnjgekRqnSEDVqyC2pEVjQG9pidoYmExAsFFl2PCWXj/d/+n1YbeGQA==\",\"dtype\":\"float64\",\"order\":\"little\",\"shape\":[80]},\"nb_sim\":{\"__ndarray__\":\"AAAAAABUnkAAAAAAgI/CQAAAAAAA8K1AAAAAAAC4hkAAAAAAACBkQAAAAAAAvLBAAAAAAABclEAAAAAAAGBmQAAAAAAAbLJAAAAAAAB3s0AAAAAAANCgQAAAAAAAAAAAAAAAAABAbEAAAAAAgHjAQAAAAAAAwGVAAAAAAAD8oUAAAAAAAGiVQAAAAAAAIJZAAAAAAAAwhEAAAAAAAL6nQAAAAAAAgE1AAAAAAAAAAAAAAAAAAH+0QAAAAAAA1qRAAAAAAABBuUAAAAAAAC+zQAAAAAAAwJpAAAAAAAC4gEAAAAAAAKBmQAAAAAAACIJAAAAAAAA4nUAAAAAAAESWQAAAAAAAsHlAAAAAAAAALEAAAAAAAJB9QAAAAAAAAEdAAAAAAAACrEAAAAAAAECfQAAAAAAAYGBAAAAAAADYrUAAAAAAACCnQAAAAAAAAENAAAAAAAAAQkAAAAAAAH7GQAAAAAAAIIZAAAAAAAAAPkAAAAAAANiIQAAAAAAAACBAAAAAAAD2pEAAAAAAAPB4QAAAAAAAUHVAAAAAAABAYkAAAAAAABCIQAAAAAAADrBAAAAAAABYm0AAAAAAAGB8QAAAAAAA2JJAAAAAAADgcUAAAAAAAEybQAAAAABgaOtAAAAAAAAiqUAAAAAAACSQQAAAAACAzdBAAAAAAADqvUAAAAAAAEWxQAAAAAAA4HJAAAAAAACgbUAAAAAAAIBDQAAAAAAAgKRAAAAAAADCtkAAAAAAALCXQAAAAAAAYLFAAAAAAAAAAAAAAAAAABW+QAAAAAAAYH1AAAAAAACARkAAAAAAAABaQAAAAAAAgENAAAAAAAAAAAAAAAAAAAiBQA==\",\"dtype\":\"float64\",\"order\":\"little\",\"shape\":[80]}},\"selected\":{\"id\":\"1328\"},\"selection_policy\":{\"id\":\"1329\"}},\"id\":\"1317\",\"type\":\"ColumnDataSource\"},{\"attributes\":{\"fill_color\":{\"value\":\"#1f77b4\"},\"line_color\":{\"value\":\"#1f77b4\"},\"top\":{\"field\":\"nb\"},\"width\":{\"value\":0.4},\"x\":{\"field\":\"ATC2\",\"transform\":{\"id\":\"1333\"}}},\"id\":\"1336\",\"type\":\"VBar\"},{\"attributes\":{\"axis\":{\"id\":\"1295\"},\"ticker\":null,\"visible\":false},\"id\":\"1297\",\"type\":\"Grid\"},{\"attributes\":{\"fill_alpha\":{\"value\":0.1},\"fill_color\":{\"value\":\"#1f77b4\"},\"line_alpha\":{\"value\":0.1},\"line_color\":{\"value\":\"#1f77b4\"},\"top\":{\"field\":\"nb\"},\"width\":{\"value\":0.4},\"x\":{\"field\":\"ATC2\",\"transform\":{\"id\":\"1333\"}}},\"id\":\"1337\",\"type\":\"VBar\"},{\"attributes\":{\"axis\":{\"id\":\"1298\"},\"dimension\":1,\"ticker\":null,\"visible\":false},\"id\":\"1301\",\"type\":\"Grid\"},{\"attributes\":{\"active_drag\":\"auto\",\"active_inspect\":\"auto\",\"active_multi\":null,\"active_scroll\":\"auto\",\"active_tap\":\"auto\",\"tools\":[{\"id\":\"1302\"},{\"id\":\"1303\"},{\"id\":\"1304\"},{\"id\":\"1305\"},{\"id\":\"1306\"},{\"id\":\"1307\"}]},\"id\":\"1309\",\"type\":\"Toolbar\"},{\"attributes\":{\"label\":{\"value\":\"Real\"},\"renderers\":[{\"id\":\"1338\"}]},\"id\":\"1350\",\"type\":\"LegendItem\"}],\"root_ids\":[\"1285\"]},\"title\":\"Bokeh Application\",\"version\":\"2.1.1\"}};\n",
       "  var render_items = [{\"docid\":\"f584bc82-4c89-45b9-a1fe-10a75c50e45f\",\"root_ids\":[\"1285\"],\"roots\":{\"1285\":\"51f9070d-b7b6-4ee5-8239-25c45519b94e\"}}];\n",
       "  root.Bokeh.embed.embed_items_notebook(docs_json, render_items);\n",
       "\n",
       "  }\n",
       "  if (root.Bokeh !== undefined) {\n",
       "    embed_document(root);\n",
       "  } else {\n",
       "    var attempts = 0;\n",
       "    var timer = setInterval(function(root) {\n",
       "      if (root.Bokeh !== undefined) {\n",
       "        clearInterval(timer);\n",
       "        embed_document(root);\n",
       "      } else {\n",
       "        attempts++;\n",
       "        if (attempts > 100) {\n",
       "          clearInterval(timer);\n",
       "          console.log(\"Bokeh: ERROR: Unable to run BokehJS code because BokehJS library is missing\");\n",
       "        }\n",
       "      }\n",
       "    }, 10, root)\n",
       "  }\n",
       "})(window);"
      ],
      "application/vnd.bokehjs_exec.v0+json": ""
     },
     "metadata": {
      "application/vnd.bokehjs_exec.v0+json": {
       "id": "1285"
      }
     },
     "output_type": "display_data"
    }
   ],
   "source": [
    "p = figure(title=None, x_range=df_cmp['ATC2'].to_numpy(), plot_width=1200, plot_height=300)\n",
    "p.xgrid.visible = False\n",
    "p.ygrid.visible = False\n",
    "p.xaxis.major_label_orientation = math.pi/4\n",
    "p.vbar(x=dodge('ATC2', -0.2, range=p.x_range), top='nb_sim', fill_color=\"orange\", width=0.4, source=ColumnDataSource(df_cmp),legend_label=\"Synth\")\n",
    "p.vbar(x=dodge('ATC2', +0.2, range=p.x_range), top='nb', source=ColumnDataSource(df_cmp), width=0.4,legend_label=\"Real\")\n",
    "p.legend.location = \"top_right\"\n",
    "#p.xaxis.axis_label = 'ATC codes'\n",
    "p.yaxis.axis_label = 'Nb'\n",
    "show(p)"
   ]
  },
  {
   "cell_type": "markdown",
   "metadata": {},
   "source": [
    "### Quantitiative Comparisons\n",
    "\n",
    "We perform $\\chi^2$ test, and then a compute some distances."
   ]
  },
  {
   "cell_type": "code",
   "execution_count": 31,
   "metadata": {},
   "outputs": [
    {
     "data": {
      "text/plain": [
       "Power_divergenceResult(statistic=6512.677162690217, pvalue=0.0)"
      ]
     },
     "execution_count": 31,
     "metadata": {},
     "output_type": "execute_result"
    }
   ],
   "source": [
    "chisquare(df_cmp['nb_sim'].to_numpy(), df_cmp['nb'].to_numpy())"
   ]
  },
  {
   "cell_type": "markdown",
   "metadata": {},
   "source": [
    "Here, the p-value is null, then the null hypotheses (i.e. $H_0$: the two samples have the distribution) is rejected."
   ]
  },
  {
   "cell_type": "markdown",
   "metadata": {},
   "source": [
    "We now simply compute the JS divergence in this case (not a continuous distribution)"
   ]
  },
  {
   "cell_type": "code",
   "execution_count": 32,
   "metadata": {},
   "outputs": [
    {
     "name": "stderr",
     "output_type": "stream",
     "text": [
      "<ipython-input-15-953c0830fea7>:3: RuntimeWarning: divide by zero encountered in log\n",
      "  return sum(p[i] * np.log(p[i]/q[i])/np.log(2) for i in range(len(p)))\n",
      "<ipython-input-15-953c0830fea7>:3: RuntimeWarning: invalid value encountered in double_scalars\n",
      "  return sum(p[i] * np.log(p[i]/q[i])/np.log(2) for i in range(len(p)))\n"
     ]
    },
    {
     "data": {
      "text/plain": [
       "nan"
      ]
     },
     "execution_count": 32,
     "metadata": {},
     "output_type": "execute_result"
    }
   ],
   "source": [
    "js_divergence(df_cmp['nb'].to_numpy()/df_cmp['nb'].sum(), df_cmp['nb_sim'].to_numpy()/df_cmp['nb_sim'].sum())"
   ]
  },
  {
   "cell_type": "code",
   "execution_count": 33,
   "metadata": {},
   "outputs": [
    {
     "data": {
      "text/plain": [
       "0.0009224829477298312"
      ]
     },
     "execution_count": 33,
     "metadata": {},
     "output_type": "execute_result"
    }
   ],
   "source": [
    "wasserstein_distance(df_cmp['nb'].to_numpy()/df_cmp['nb'].sum(), df_cmp['nb_sim'].to_numpy()/df_cmp['nb_sim'].sum())"
   ]
  },
  {
   "cell_type": "code",
   "execution_count": 34,
   "metadata": {},
   "outputs": [
    {
     "name": "stdout",
     "output_type": "stream",
     "text": [
      "0.1264402365710224\n",
      "0.20731764539312633\n"
     ]
    }
   ],
   "source": [
    "# Compute of the total absolute difference between the two distributions\n",
    "print( np.sum(np.abs(df_cmp['nb_sim']-df_cmp['nb']))/np.sum(df_cmp['nb']) )\n",
    "# Compute of the mean absolute difference between the two distributions\n",
    "print( np.mean(np.abs(df_cmp['nb_sim']-df_cmp['nb'])/df_cmp['nb']) )"
   ]
  },
  {
   "cell_type": "markdown",
   "metadata": {},
   "source": [
    "## Analysis of medical technical procedures"
   ]
  },
  {
   "cell_type": "code",
   "execution_count": 35,
   "metadata": {},
   "outputs": [
    {
     "data": {
      "text/html": [
       "<div>\n",
       "<style scoped>\n",
       "    .dataframe tbody tr th:only-of-type {\n",
       "        vertical-align: middle;\n",
       "    }\n",
       "\n",
       "    .dataframe tbody tr th {\n",
       "        vertical-align: top;\n",
       "    }\n",
       "\n",
       "    .dataframe thead th {\n",
       "        text-align: right;\n",
       "    }\n",
       "</style>\n",
       "<table border=\"1\" class=\"dataframe\">\n",
       "  <thead>\n",
       "    <tr style=\"text-align: right;\">\n",
       "      <th></th>\n",
       "      <th>ccam</th>\n",
       "      <th>grp</th>\n",
       "      <th>nb</th>\n",
       "    </tr>\n",
       "  </thead>\n",
       "  <tbody>\n",
       "    <tr>\n",
       "      <th>0</th>\n",
       "      <td>ACQH001</td>\n",
       "      <td>ADI</td>\n",
       "      <td>1</td>\n",
       "    </tr>\n",
       "    <tr>\n",
       "      <th>1</th>\n",
       "      <td>ACQH002</td>\n",
       "      <td>ADI</td>\n",
       "      <td>2</td>\n",
       "    </tr>\n",
       "    <tr>\n",
       "      <th>2</th>\n",
       "      <td>ACQH003</td>\n",
       "      <td>ADI</td>\n",
       "      <td>22</td>\n",
       "    </tr>\n",
       "    <tr>\n",
       "      <th>3</th>\n",
       "      <td>ACQJ001</td>\n",
       "      <td>ADI</td>\n",
       "      <td>1</td>\n",
       "    </tr>\n",
       "    <tr>\n",
       "      <th>4</th>\n",
       "      <td>ACQJ002</td>\n",
       "      <td>ADI</td>\n",
       "      <td>43</td>\n",
       "    </tr>\n",
       "  </tbody>\n",
       "</table>\n",
       "</div>"
      ],
      "text/plain": [
       "      ccam  grp  nb\n",
       "0  ACQH001  ADI   1\n",
       "1  ACQH002  ADI   2\n",
       "2  ACQH003  ADI  22\n",
       "3  ACQJ001  ADI   1\n",
       "4  ACQJ002  ADI  43"
      ]
     },
     "execution_count": 35,
     "metadata": {},
     "output_type": "execute_result"
    }
   ],
   "source": [
    "# Database query to extract procedures from the synthetic database\n",
    "df = pd.read_sql_query(\"SELECT CAM_PRS_IDE, CAM_PRS_RGT, count(*) FROM er_cam_f JOIN ir_ccam_v63 ON er_cam_f.CAM_PRS_IDE=ir_ccam_v63.CAM_PRS_IDE_COD GROUP BY CAM_PRS_IDE, CAM_PRS_RGT;\", conn)\n",
    "df.rename(columns={'CAM_PRS_IDE':'ccam','CAM_PRS_RGT':'grp','count(*)':'nb'}, inplace=True)\n",
    "df.head()"
   ]
  },
  {
   "cell_type": "code",
   "execution_count": 36,
   "metadata": {},
   "outputs": [],
   "source": [
    "procedures = pd.read_excel(\"../data/Actes_techniques_de_la_CCAM_en_2016.xls\", sheet_name='Panorama des actes CCAM')\n",
    "procedures.rename(columns={\"Code Acte\":'ccam',\"Code Regroupement\":\"grp\", \"Quantité d'actes \":\"nb\"}, inplace=True)\n",
    "procedures=procedures.groupby(['ccam',\"grp\"]).agg({\"nb\":\"sum\"}).reset_index()"
   ]
  },
  {
   "cell_type": "code",
   "execution_count": 37,
   "metadata": {},
   "outputs": [],
   "source": [
    "#selection of procedures that are actually used in our simulation\n",
    "#procedures=procedures[ (procedures['grp']==\"ADC\") | (procedures['grp']==\"ACO\") |(procedures['grp']==\"ADA\") |(procedures['grp']==\"ADE\") |(procedures['grp']==\"ADI\") |(procedures['grp']==\"ADT\") ]\n",
    "procedures=procedures[ (procedures['grp']==\"ADC\") | (procedures['grp']==\"ACO\") |(procedures['grp']==\"ADE\") |(procedures['grp']==\"ADI\") |(procedures['grp']==\"ADT\") ]\n",
    "procedures=procedures[ (procedures['ccam'].str[:2]!=\"HB\") ]"
   ]
  },
  {
   "cell_type": "code",
   "execution_count": 38,
   "metadata": {},
   "outputs": [
    {
     "data": {
      "text/html": [
       "<div>\n",
       "<style scoped>\n",
       "    .dataframe tbody tr th:only-of-type {\n",
       "        vertical-align: middle;\n",
       "    }\n",
       "\n",
       "    .dataframe tbody tr th {\n",
       "        vertical-align: top;\n",
       "    }\n",
       "\n",
       "    .dataframe thead th {\n",
       "        text-align: right;\n",
       "    }\n",
       "</style>\n",
       "<table border=\"1\" class=\"dataframe\">\n",
       "  <thead>\n",
       "    <tr style=\"text-align: right;\">\n",
       "      <th></th>\n",
       "      <th>ccam</th>\n",
       "      <th>grp</th>\n",
       "      <th>nb</th>\n",
       "    </tr>\n",
       "  </thead>\n",
       "  <tbody>\n",
       "    <tr>\n",
       "      <th>1</th>\n",
       "      <td>AAFA001</td>\n",
       "      <td>ADC</td>\n",
       "      <td>103</td>\n",
       "    </tr>\n",
       "    <tr>\n",
       "      <th>3</th>\n",
       "      <td>AAFA002</td>\n",
       "      <td>ADC</td>\n",
       "      <td>446</td>\n",
       "    </tr>\n",
       "    <tr>\n",
       "      <th>5</th>\n",
       "      <td>AAFA003</td>\n",
       "      <td>ADC</td>\n",
       "      <td>9</td>\n",
       "    </tr>\n",
       "    <tr>\n",
       "      <th>7</th>\n",
       "      <td>AAFA005</td>\n",
       "      <td>ADC</td>\n",
       "      <td>9</td>\n",
       "    </tr>\n",
       "    <tr>\n",
       "      <th>9</th>\n",
       "      <td>AAFA006</td>\n",
       "      <td>ADC</td>\n",
       "      <td>2</td>\n",
       "    </tr>\n",
       "  </tbody>\n",
       "</table>\n",
       "</div>"
      ],
      "text/plain": [
       "      ccam  grp   nb\n",
       "1  AAFA001  ADC  103\n",
       "3  AAFA002  ADC  446\n",
       "5  AAFA003  ADC    9\n",
       "7  AAFA005  ADC    9\n",
       "9  AAFA006  ADC    2"
      ]
     },
     "execution_count": 38,
     "metadata": {},
     "output_type": "execute_result"
    }
   ],
   "source": [
    "procedures.head()"
   ]
  },
  {
   "cell_type": "code",
   "execution_count": 39,
   "metadata": {},
   "outputs": [],
   "source": [
    "procs_tot=procedures.groupby(['ccam']).agg({\"nb\":\"sum\"}).reset_index()"
   ]
  },
  {
   "cell_type": "code",
   "execution_count": 40,
   "metadata": {},
   "outputs": [
    {
     "data": {
      "text/html": [
       "<div>\n",
       "<style scoped>\n",
       "    .dataframe tbody tr th:only-of-type {\n",
       "        vertical-align: middle;\n",
       "    }\n",
       "\n",
       "    .dataframe tbody tr th {\n",
       "        vertical-align: top;\n",
       "    }\n",
       "\n",
       "    .dataframe thead th {\n",
       "        text-align: right;\n",
       "    }\n",
       "</style>\n",
       "<table border=\"1\" class=\"dataframe\">\n",
       "  <thead>\n",
       "    <tr style=\"text-align: right;\">\n",
       "      <th></th>\n",
       "      <th>ccam</th>\n",
       "      <th>nb</th>\n",
       "    </tr>\n",
       "  </thead>\n",
       "  <tbody>\n",
       "    <tr>\n",
       "      <th>0</th>\n",
       "      <td>AAFA001</td>\n",
       "      <td>103</td>\n",
       "    </tr>\n",
       "    <tr>\n",
       "      <th>1</th>\n",
       "      <td>AAFA002</td>\n",
       "      <td>446</td>\n",
       "    </tr>\n",
       "    <tr>\n",
       "      <th>2</th>\n",
       "      <td>AAFA003</td>\n",
       "      <td>9</td>\n",
       "    </tr>\n",
       "    <tr>\n",
       "      <th>3</th>\n",
       "      <td>AAFA005</td>\n",
       "      <td>9</td>\n",
       "    </tr>\n",
       "    <tr>\n",
       "      <th>4</th>\n",
       "      <td>AAFA006</td>\n",
       "      <td>2</td>\n",
       "    </tr>\n",
       "  </tbody>\n",
       "</table>\n",
       "</div>"
      ],
      "text/plain": [
       "      ccam   nb\n",
       "0  AAFA001  103\n",
       "1  AAFA002  446\n",
       "2  AAFA003    9\n",
       "3  AAFA005    9\n",
       "4  AAFA006    2"
      ]
     },
     "execution_count": 40,
     "metadata": {},
     "output_type": "execute_result"
    }
   ],
   "source": [
    "procs_tot.head()"
   ]
  },
  {
   "cell_type": "code",
   "execution_count": 41,
   "metadata": {},
   "outputs": [],
   "source": [
    "procs_tot['nb'] *= ratio"
   ]
  },
  {
   "cell_type": "code",
   "execution_count": 42,
   "metadata": {},
   "outputs": [
    {
     "data": {
      "text/html": [
       "<div>\n",
       "<style scoped>\n",
       "    .dataframe tbody tr th:only-of-type {\n",
       "        vertical-align: middle;\n",
       "    }\n",
       "\n",
       "    .dataframe tbody tr th {\n",
       "        vertical-align: top;\n",
       "    }\n",
       "\n",
       "    .dataframe thead th {\n",
       "        text-align: right;\n",
       "    }\n",
       "</style>\n",
       "<table border=\"1\" class=\"dataframe\">\n",
       "  <thead>\n",
       "    <tr style=\"text-align: right;\">\n",
       "      <th></th>\n",
       "      <th>ccam</th>\n",
       "      <th>nb</th>\n",
       "    </tr>\n",
       "  </thead>\n",
       "  <tbody>\n",
       "    <tr>\n",
       "      <th>0</th>\n",
       "      <td>AAFA001</td>\n",
       "      <td>0.011312</td>\n",
       "    </tr>\n",
       "    <tr>\n",
       "      <th>1</th>\n",
       "      <td>AAFA002</td>\n",
       "      <td>0.048982</td>\n",
       "    </tr>\n",
       "    <tr>\n",
       "      <th>2</th>\n",
       "      <td>AAFA003</td>\n",
       "      <td>0.000988</td>\n",
       "    </tr>\n",
       "    <tr>\n",
       "      <th>3</th>\n",
       "      <td>AAFA005</td>\n",
       "      <td>0.000988</td>\n",
       "    </tr>\n",
       "    <tr>\n",
       "      <th>4</th>\n",
       "      <td>AAFA006</td>\n",
       "      <td>0.000220</td>\n",
       "    </tr>\n",
       "  </tbody>\n",
       "</table>\n",
       "</div>"
      ],
      "text/plain": [
       "      ccam        nb\n",
       "0  AAFA001  0.011312\n",
       "1  AAFA002  0.048982\n",
       "2  AAFA003  0.000988\n",
       "3  AAFA005  0.000988\n",
       "4  AAFA006  0.000220"
      ]
     },
     "execution_count": 42,
     "metadata": {},
     "output_type": "execute_result"
    }
   ],
   "source": [
    "procs_tot.head()"
   ]
  },
  {
   "cell_type": "markdown",
   "metadata": {},
   "source": [
    "### Comparison of the distribution of procedures per groups"
   ]
  },
  {
   "cell_type": "code",
   "execution_count": 43,
   "metadata": {},
   "outputs": [],
   "source": [
    "procs_grp=procedures.groupby(['grp']).agg({\"nb\":\"sum\"}).reset_index()\n",
    "procs_grp['nb'] *= ratio"
   ]
  },
  {
   "cell_type": "code",
   "execution_count": 44,
   "metadata": {},
   "outputs": [],
   "source": [
    "df_grp=df.groupby(\"grp\").agg({\"nb\":\"sum\"}).reset_index()"
   ]
  },
  {
   "cell_type": "code",
   "execution_count": 45,
   "metadata": {},
   "outputs": [
    {
     "data": {
      "image/png": "[encoded data removed]",
      "text/plain": [
       "<Figure size 432x288 with 1 Axes>"
      ]
     },
     "metadata": {
      "needs_background": "light"
     },
     "output_type": "display_data"
    }
   ],
   "source": [
    "grps=pd.merge(procs_grp, df_grp,on=\"grp\", suffixes=('','_sim'))\n",
    "\n",
    "fig, axs = plt.subplots()\n",
    "grps.set_index(\"grp\").plot.bar(ax=axs)\n",
    "axs.set_ylabel(\"nb\")\n",
    "fig.savefig(\"ccam_grp_\"+str(dpt1)+str(dpt2)+\".svg\")"
   ]
  },
  {
   "cell_type": "code",
   "execution_count": 46,
   "metadata": {},
   "outputs": [],
   "source": [
    "procs_ccam=procedures.groupby(['ccam']).agg({\"nb\":\"sum\"}).reset_index()\n",
    "procs_ccam['nb'] *= ratio\n",
    "#procs_ccam['nb'] = procs_ccam['nb'].astype(int)\n",
    "df_ccam=df.groupby(\"ccam\").agg({\"nb\":\"sum\"}).reset_index()\n",
    "ccams=pd.merge(procs_ccam, df_ccam, on=\"ccam\", suffixes=('','_sim'))"
   ]
  },
  {
   "cell_type": "code",
   "execution_count": 47,
   "metadata": {},
   "outputs": [
    {
     "data": {
      "text/html": [
       "\n",
       "\n",
       "\n",
       "\n",
       "\n",
       "\n",
       "  <div class=\"bk-root\" id=\"2fe6fec9-ec0a-44f2-be4d-17cf6281b247\" data-root-id=\"1441\"></div>\n"
      ]
     },
     "metadata": {},
     "output_type": "display_data"
    },
    {
     "data": {
      "application/javascript": [
       "(function(root) {\n",
       "  function embed_document(root) {\n",
       "    \n",
       "  var docs_json = {\"784de6b5-c59b-4148-9b62-e21b80956793\":{\"roots\":{\"references\":[{\"attributes\":{\"below\":[{\"id\":\"1451\"}],\"center\":[{\"id\":\"1453\"},{\"id\":\"1457\"},{\"id\":\"1487\"}],\"left\":[{\"id\":\"1454\"}],\"plot_height\":300,\"plot_width\":1200,\"renderers\":[{\"id\":\"1477\"},{\"id\":\"1494\"}],\"title\":null,\"toolbar\":{\"id\":\"1465\"},\"x_range\":{\"id\":\"1443\"},\"x_scale\":{\"id\":\"1447\"},\"y_range\":{\"id\":\"1445\"},\"y_scale\":{\"id\":\"1449\"}},\"id\":\"1441\",\"subtype\":\"Figure\",\"type\":\"Plot\"},{\"attributes\":{\"formatter\":{\"id\":\"1481\"},\"major_label_orientation\":0.7853981633974483,\"ticker\":{\"id\":\"1452\"}},\"id\":\"1451\",\"type\":\"CategoricalAxis\"},{\"attributes\":{},\"id\":\"1481\",\"type\":\"CategoricalTickFormatter\"},{\"attributes\":{},\"id\":\"1484\",\"type\":\"Selection\"},{\"attributes\":{},\"id\":\"1483\",\"type\":\"BasicTickFormatter\"},{\"attributes\":{},\"id\":\"1503\",\"type\":\"Selection\"},{\"attributes\":{},\"id\":\"1504\",\"type\":\"UnionRenderers\"},{\"attributes\":{},\"id\":\"1485\",\"type\":\"UnionRenderers\"},{\"attributes\":{},\"id\":\"1458\",\"type\":\"PanTool\"},{\"attributes\":{\"items\":[{\"id\":\"1488\"},{\"id\":\"1506\"}],\"location\":\"top_left\"},\"id\":\"1487\",\"type\":\"Legend\"},{\"attributes\":{},\"id\":\"1459\",\"type\":\"WheelZoomTool\"},{\"attributes\":{\"data\":{\"ccam\":[\"ACQH001\",\"ACQH002\",\"ACQH003\",\"ACQJ001\",\"ACQJ002\",\"ACQK001\",\"ACQK003\",\"ACQL001\",\"ACQL002\",\"ACQN001\",\"AFQH001\",\"AFQH002\",\"AHCA023\",\"AHPA009\",\"BAFA013\",\"BEQP002\",\"BEQP004\",\"BFPA002\",\"BFPP001\",\"BFQM001\",\"BGFA001\",\"BGQP007\",\"BZQM001\",\"BZQM002\",\"DAQL009\",\"DAQL010\",\"DAQL011\",\"DAQL014\",\"DAQM003\",\"DDQH009\",\"DDQH012\",\"DGQH001\",\"DGQM001\",\"DGQM002\",\"DHQH006\",\"DZQJ006\",\"DZQM002\",\"DZQM005\",\"DZQM006\",\"DZQM008\",\"DZQN001\",\"EAQJ001\",\"EBLA003\",\"EBQH004\",\"EBQJ001\",\"EBQM001\",\"EBQM002\",\"EBQM003\",\"ECQH010\",\"ECQH011\",\"ECQM002\",\"EDQM001\",\"EEQH005\",\"EFQM001\",\"EGFA007\",\"EGFA010\",\"EJFA006\",\"EJQM001\",\"EJQM003\",\"EJQM004\",\"EKQH002\",\"ELQH002\",\"ELQM001\",\"ELQM002\",\"EMQH001\",\"EMQJ001\",\"EZQM001\",\"GDFE002\",\"GFQL002\",\"GFQL006\",\"GFQM001\",\"GGNC001\",\"HCQM001\",\"HEQH001\",\"HEQH002\",\"HFMP002\",\"HHFE002\",\"HHFE004\",\"HHFE006\",\"HHSE003\",\"HLFA019\",\"HLJA001\",\"HLQM001\",\"HMQH006\",\"HMQH007\",\"HZQM001\",\"JANE002\",\"JAQJ001\",\"JAQM001\",\"JAQM002\",\"JAQM003\",\"JAQM004\",\"JBPE001\",\"JBQH002\",\"JBQH003\",\"JCLE002\",\"JDFE003\",\"JDNE001\",\"JDQH001\",\"JDQJ002\",\"JDQM001\",\"JGQJ001\",\"JHFA009\",\"JHQM001\",\"JJFC010\",\"JJPC003\",\"JKFA020\",\"JKFA031\",\"JKHA002\",\"JKNE001\",\"JKQH001\",\"JNQM001\",\"JQQJ037\",\"JQQM001\",\"JQQM002\",\"JQQM003\",\"JQQM010\",\"JQQM015\",\"JQQM016\",\"JQQM018\",\"KCQL003\",\"KCQM001\",\"KDQM001\",\"LAQJ001\",\"LAQK001\",\"LAQK002\",\"LAQK003\",\"LAQK005\",\"LAQK009\",\"LAQK012\",\"LAQK013\",\"LAQK027\",\"LBQK005\",\"LCJA003\",\"LCQH001\",\"LCQJ001\",\"LCQK002\",\"LDQK001\",\"LDQK002\",\"LDQK004\",\"LDQK005\",\"LEQK001\",\"LEQK002\",\"LFAA002\",\"LFFA001\",\"LFQK001\",\"LFQK002\",\"LGQK001\",\"LHQH001\",\"LHQH002\",\"LHQH006\",\"LHQJ001\",\"LHQK001\",\"LHQK002\",\"LHQK003\",\"LHQK004\",\"LHQK005\",\"LHQK007\",\"LHQN001\",\"LHQN002\",\"LJQK001\",\"LJQK002\",\"LJQK015\",\"LMMA004\",\"LMMA009\",\"LMMA012\",\"LMMA017\",\"LMSA002\",\"MAQK001\",\"MAQK002\",\"MAQK003\",\"MBQK001\",\"MCCA005\",\"MCQK001\",\"MDCB003\",\"MDQK001\",\"MDQK002\",\"MEKA005\",\"MEMC003\",\"MEMC004\",\"MEQH001\",\"MFQK001\",\"MFQK002\",\"MGQH001\",\"MGQK001\",\"MGQK003\",\"MHQH001\",\"MJEC002\",\"MJFA010\",\"MJJA001\",\"MZQH001\",\"MZQH002\",\"MZQJ001\",\"MZQK002\",\"MZQK003\",\"MZQK004\",\"MZQN001\",\"NAQK007\",\"NAQK015\",\"NAQK023\",\"NAQK049\",\"NAQK071\",\"NBQK001\",\"NCQK001\",\"NDPA014\",\"NDQK001\",\"NDQK002\",\"NDQK003\",\"NDQK004\",\"NEKA020\",\"NEQH002\",\"NEQK010\",\"NEQK012\",\"NEQK035\",\"NEQM001\",\"NFFC002\",\"NFFC004\",\"NFKA001\",\"NFKA008\",\"NFQH001\",\"NFQK001\",\"NFQK002\",\"NFQK003\",\"NFQK004\",\"NGQH001\",\"NGQK001\",\"NGQK002\",\"NHDA004\",\"NJFA005\",\"NJPA029\",\"NZQH002\",\"NZQH005\",\"NZQJ001\",\"NZQK001\",\"NZQK002\",\"NZQK003\",\"NZQK005\",\"NZQK006\",\"NZQN001\",\"PAQK003\",\"PAQK007\",\"PAQL002\",\"PAQL003\",\"PAQL008\",\"PAQL009\",\"PBQM001\",\"PBQM002\",\"PBQM003\",\"PBQM004\",\"PCCA002\",\"PCQM001\",\"PDQK001\",\"PDQN001\",\"QAJA004\",\"QAMA002\",\"QCJA001\",\"QCJA003\",\"QEQJ001\",\"QEQK001\",\"QEQK004\",\"QEQK005\",\"QEQM001\",\"QEQN001\",\"QZFA001\",\"QZFA004\",\"QZFA007\",\"QZFA009\",\"QZFA010\",\"QZFA020\",\"QZFA036\",\"QZGA002\",\"QZHA001\",\"QZJA002\",\"QZJA012\",\"QZJA015\",\"QZJA017\",\"QZMA004\",\"QZQM001\",\"YYYY012\",\"YYYY019\",\"YYYY028\",\"YYYY033\",\"YYYY034\",\"YYYY057\",\"YYYY088\",\"YYYY115\",\"YYYY120\",\"YYYY145\",\"YYYY163\",\"YYYY172\",\"YYYY190\",\"YYYY200\",\"YYYY212\",\"YYYY220\",\"YYYY240\",\"YYYY250\",\"YYYY260\",\"YYYY270\",\"YYYY290\",\"YYYY300\",\"YYYY410\",\"YYYY415\",\"YYYY420\",\"YYYY600\",\"ZBQH001\",\"ZBQK001\",\"ZBQK002\",\"ZBQK003\",\"ZCQH001\",\"ZCQH002\",\"ZCQJ001\",\"ZCQJ002\",\"ZCQJ003\",\"ZCQJ004\",\"ZCQJ005\",\"ZCQJ006\",\"ZCQK001\",\"ZCQK002\",\"ZCQK003\",\"ZCQK004\",\"ZCQK005\",\"ZCQM001\",\"ZCQM002\",\"ZCQM003\",\"ZCQM004\",\"ZCQM005\",\"ZCQM006\",\"ZCQM007\",\"ZCQM008\",\"ZCQM010\",\"ZCQM011\",\"ZCQN001\",\"ZCQN002\",\"ZZQH033\",\"ZZQK024\",\"ZZQL007\",\"ZZQL013\",\"ZZQL016\",\"ZZQL017\",\"ZZQL018\",\"ZZQL019\",\"ZZQM001\",\"ZZQN001\"],\"index\":[0,1,2,3,4,5,6,7,8,9,10,11,12,13,14,15,16,17,18,19,20,21,22,23,24,25,26,27,28,29,30,31,32,33,34,35,36,37,38,39,40,41,42,43,44,45,46,47,48,49,50,51,52,53,54,55,56,57,58,59,60,61,62,63,64,65,66,67,68,69,70,71,72,73,74,75,76,77,78,79,80,81,82,83,84,85,86,87,88,89,90,91,92,93,94,95,96,97,98,99,100,101,102,103,104,105,106,107,108,109,110,111,112,113,114,115,116,117,118,119,120,121,122,123,124,125,126,127,128,129,130,131,132,133,134,135,136,137,138,139,140,141,142,143,144,145,146,147,148,149,150,151,152,153,154,155,156,157,158,159,160,161,162,163,164,165,166,167,168,169,170,171,172,173,174,175,176,177,178,179,180,181,182,183,184,185,186,187,188,189,190,191,192,193,194,195,196,197,198,199,200,201,202,203,204,205,206,207,208,209,210,211,212,213,214,215,216,217,218,219,220,221,222,223,224,225,226,227,228,229,230,231,232,233,234,235,236,237,238,239,240,241,242,243,244,245,246,247,248,249,250,251,252,253,254,255,256,257,258,259,260,261,262,263,264,265,266,267,268,269,270,271,272,273,274,275,276,277,278,279,280,281,282,283,284,285,286,287,288,289,290,291,292,293,294,295,296,297,298,299,300,301,302,303,304,305,306,307,308,309,310,311,312,313,314,315,316,317,318,319,320,321,322,323,324,325,326,327,328,329,330,331,332,333,334,335,336,337,338,339,340,341,342],\"nb\":{\"__ndarray__\":\"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\",\"dtype\":\"float64\",\"order\":\"little\",\"shape\":[343]},\"nb_sim\":[1,2,22,1,43,32,1,1,1,20,3,1,1,2,1,1,5,1,6,16,1,54,2,1,9,6,1,3,1,7,4,2,12,5,1,1,4,2,125,2,2,2,2,2,1,24,26,6,9,7,5,10,2,2,1,1,1,8,29,30,2,1,1,6,6,1,1,1,4,1,1,1,3,1,10,1,7,1,1,1,1,1,1,1,1,1,1,6,11,5,12,15,1,1,1,1,1,1,2,1,2,1,1,3,1,1,1,1,1,1,8,15,6,5,3,2,16,1,18,17,2,32,1,5,6,2,24,16,8,20,31,29,2,1,1,4,6,5,56,6,3,11,62,1,1,61,50,3,5,1,2,6,67,16,6,4,2,20,74,2,5,30,2,1,1,1,1,1,84,62,16,4,1,7,1,98,12,1,1,1,11,19,12,3,51,21,1,1,1,1,7,3,2,22,29,2,29,14,189,32,8,34,2,5,1,90,26,15,13,1,2,38,15,32,5,1,4,1,2,7,36,8,114,145,2,23,40,1,1,1,4,1,7,16,22,2,25,1,97,1,38,15,5,1,1,3,12,24,2,1,47,1,2,1,2,1,1,6,178,199,24,87,1,2,3,1,1,1,1,8,2,2,1,3,1,1,1,27,13,2,12,11,1,4,3,10,1,5,3,26,1,1,1,2,1,2,7,3,2,15,1,5,32,938,30,46,269,1,66,3,5,17,18,29,2,22,1,51,1,23,3,5,2,23,3,43,9,7,28,13,2,3,10,59,6,21,3,21,9,1,3,4,9]},\"selected\":{\"id\":\"1484\"},\"selection_policy\":{\"id\":\"1485\"}},\"id\":\"1473\",\"type\":\"ColumnDataSource\"},{\"attributes\":{\"active_drag\":\"auto\",\"active_inspect\":\"auto\",\"active_multi\":null,\"active_scroll\":\"auto\",\"active_tap\":\"auto\",\"tools\":[{\"id\":\"1458\"},{\"id\":\"1459\"},{\"id\":\"1460\"},{\"id\":\"1461\"},{\"id\":\"1462\"},{\"id\":\"1463\"}]},\"id\":\"1465\",\"type\":\"Toolbar\"},{\"attributes\":{\"fill_alpha\":{\"value\":0.1},\"fill_color\":{\"value\":\"#1f77b4\"},\"line_alpha\":{\"value\":0.1},\"line_color\":{\"value\":\"#1f77b4\"},\"top\":{\"field\":\"nb\"},\"width\":{\"value\":0.4},\"x\":{\"field\":\"ccam\",\"transform\":{\"id\":\"1472\"}}},\"id\":\"1476\",\"type\":\"VBar\"},{\"attributes\":{},\"id\":\"1447\",\"type\":\"CategoricalScale\"},{\"attributes\":{\"axis_label\":\"Nb\",\"formatter\":{\"id\":\"1483\"},\"ticker\":{\"id\":\"1455\"}},\"id\":\"1454\",\"type\":\"LinearAxis\"},{\"attributes\":{\"source\":{\"id\":\"1473\"}},\"id\":\"1478\",\"type\":\"CDSView\"},{\"attributes\":{\"data\":{\"ccam\":[\"ACQH001\",\"ACQH002\",\"ACQH003\",\"ACQJ001\",\"ACQJ002\",\"ACQK001\",\"ACQK003\",\"ACQL001\",\"ACQL002\",\"ACQN001\",\"AFQH001\",\"AFQH002\",\"AHCA023\",\"AHPA009\",\"BAFA013\",\"BEQP002\",\"BEQP004\",\"BFPA002\",\"BFPP001\",\"BFQM001\",\"BGFA001\",\"BGQP007\",\"BZQM001\",\"BZQM002\",\"DAQL009\",\"DAQL010\",\"DAQL011\",\"DAQL014\",\"DAQM003\",\"DDQH009\",\"DDQH012\",\"DGQH001\",\"DGQM001\",\"DGQM002\",\"DHQH006\",\"DZQJ006\",\"DZQM002\",\"DZQM005\",\"DZQM006\",\"DZQM008\",\"DZQN001\",\"EAQJ001\",\"EBLA003\",\"EBQH004\",\"EBQJ001\",\"EBQM001\",\"EBQM002\",\"EBQM003\",\"ECQH010\",\"ECQH011\",\"ECQM002\",\"EDQM001\",\"EEQH005\",\"EFQM001\",\"EGFA007\",\"EGFA010\",\"EJFA006\",\"EJQM001\",\"EJQM003\",\"EJQM004\",\"EKQH002\",\"ELQH002\",\"ELQM001\",\"ELQM002\",\"EMQH001\",\"EMQJ001\",\"EZQM001\",\"GDFE002\",\"GFQL002\",\"GFQL006\",\"GFQM001\",\"GGNC001\",\"HCQM001\",\"HEQH001\",\"HEQH002\",\"HFMP002\",\"HHFE002\",\"HHFE004\",\"HHFE006\",\"HHSE003\",\"HLFA019\",\"HLJA001\",\"HLQM001\",\"HMQH006\",\"HMQH007\",\"HZQM001\",\"JANE002\",\"JAQJ001\",\"JAQM001\",\"JAQM002\",\"JAQM003\",\"JAQM004\",\"JBPE001\",\"JBQH002\",\"JBQH003\",\"JCLE002\",\"JDFE003\",\"JDNE001\",\"JDQH001\",\"JDQJ002\",\"JDQM001\",\"JGQJ001\",\"JHFA009\",\"JHQM001\",\"JJFC010\",\"JJPC003\",\"JKFA020\",\"JKFA031\",\"JKHA002\",\"JKNE001\",\"JKQH001\",\"JNQM001\",\"JQQJ037\",\"JQQM001\",\"JQQM002\",\"JQQM003\",\"JQQM010\",\"JQQM015\",\"JQQM016\",\"JQQM018\",\"KCQL003\",\"KCQM001\",\"KDQM001\",\"LAQJ001\",\"LAQK001\",\"LAQK002\",\"LAQK003\",\"LAQK005\",\"LAQK009\",\"LAQK012\",\"LAQK013\",\"LAQK027\",\"LBQK005\",\"LCJA003\",\"LCQH001\",\"LCQJ001\",\"LCQK002\",\"LDQK001\",\"LDQK002\",\"LDQK004\",\"LDQK005\",\"LEQK001\",\"LEQK002\",\"LFAA002\",\"LFFA001\",\"LFQK001\",\"LFQK002\",\"LGQK001\",\"LHQH001\",\"LHQH002\",\"LHQH006\",\"LHQJ001\",\"LHQK001\",\"LHQK002\",\"LHQK003\",\"LHQK004\",\"LHQK005\",\"LHQK007\",\"LHQN001\",\"LHQN002\",\"LJQK001\",\"LJQK002\",\"LJQK015\",\"LMMA004\",\"LMMA009\",\"LMMA012\",\"LMMA017\",\"LMSA002\",\"MAQK001\",\"MAQK002\",\"MAQK003\",\"MBQK001\",\"MCCA005\",\"MCQK001\",\"MDCB003\",\"MDQK001\",\"MDQK002\",\"MEKA005\",\"MEMC003\",\"MEMC004\",\"MEQH001\",\"MFQK001\",\"MFQK002\",\"MGQH001\",\"MGQK001\",\"MGQK003\",\"MHQH001\",\"MJEC002\",\"MJFA010\",\"MJJA001\",\"MZQH001\",\"MZQH002\",\"MZQJ001\",\"MZQK002\",\"MZQK003\",\"MZQK004\",\"MZQN001\",\"NAQK007\",\"NAQK015\",\"NAQK023\",\"NAQK049\",\"NAQK071\",\"NBQK001\",\"NCQK001\",\"NDPA014\",\"NDQK001\",\"NDQK002\",\"NDQK003\",\"NDQK004\",\"NEKA020\",\"NEQH002\",\"NEQK010\",\"NEQK012\",\"NEQK035\",\"NEQM001\",\"NFFC002\",\"NFFC004\",\"NFKA001\",\"NFKA008\",\"NFQH001\",\"NFQK001\",\"NFQK002\",\"NFQK003\",\"NFQK004\",\"NGQH001\",\"NGQK001\",\"NGQK002\",\"NHDA004\",\"NJFA005\",\"NJPA029\",\"NZQH002\",\"NZQH005\",\"NZQJ001\",\"NZQK001\",\"NZQK002\",\"NZQK003\",\"NZQK005\",\"NZQK006\",\"NZQN001\",\"PAQK003\",\"PAQK007\",\"PAQL002\",\"PAQL003\",\"PAQL008\",\"PAQL009\",\"PBQM001\",\"PBQM002\",\"PBQM003\",\"PBQM004\",\"PCCA002\",\"PCQM001\",\"PDQK001\",\"PDQN001\",\"QAJA004\",\"QAMA002\",\"QCJA001\",\"QCJA003\",\"QEQJ001\",\"QEQK001\",\"QEQK004\",\"QEQK005\",\"QEQM001\",\"QEQN001\",\"QZFA001\",\"QZFA004\",\"QZFA007\",\"QZFA009\",\"QZFA010\",\"QZFA020\",\"QZFA036\",\"QZGA002\",\"QZHA001\",\"QZJA002\",\"QZJA012\",\"QZJA015\",\"QZJA017\",\"QZMA004\",\"QZQM001\",\"YYYY012\",\"YYYY019\",\"YYYY028\",\"YYYY033\",\"YYYY034\",\"YYYY057\",\"YYYY088\",\"YYYY115\",\"YYYY120\",\"YYYY145\",\"YYYY163\",\"YYYY172\",\"YYYY190\",\"YYYY200\",\"YYYY212\",\"YYYY220\",\"YYYY240\",\"YYYY250\",\"YYYY260\",\"YYYY270\",\"YYYY290\",\"YYYY300\",\"YYYY410\",\"YYYY415\",\"YYYY420\",\"YYYY600\",\"ZBQH001\",\"ZBQK001\",\"ZBQK002\",\"ZBQK003\",\"ZCQH001\",\"ZCQH002\",\"ZCQJ001\",\"ZCQJ002\",\"ZCQJ003\",\"ZCQJ004\",\"ZCQJ005\",\"ZCQJ006\",\"ZCQK001\",\"ZCQK002\",\"ZCQK003\",\"ZCQK004\",\"ZCQK005\",\"ZCQM001\",\"ZCQM002\",\"ZCQM003\",\"ZCQM004\",\"ZCQM005\",\"ZCQM006\",\"ZCQM007\",\"ZCQM008\",\"ZCQM010\",\"ZCQM011\",\"ZCQN001\",\"ZCQN002\",\"ZZQH033\",\"ZZQK024\",\"ZZQL007\",\"ZZQL013\",\"ZZQL016\",\"ZZQL017\",\"ZZQL018\",\"ZZQL019\",\"ZZQM001\",\"ZZQN001\"],\"index\":[0,1,2,3,4,5,6,7,8,9,10,11,12,13,14,15,16,17,18,19,20,21,22,23,24,25,26,27,28,29,30,31,32,33,34,35,36,37,38,39,40,41,42,43,44,45,46,47,48,49,50,51,52,53,54,55,56,57,58,59,60,61,62,63,64,65,66,67,68,69,70,71,72,73,74,75,76,77,78,79,80,81,82,83,84,85,86,87,88,89,90,91,92,93,94,95,96,97,98,99,100,101,102,103,104,105,106,107,108,109,110,111,112,113,114,115,116,117,118,119,120,121,122,123,124,125,126,127,128,129,130,131,132,133,134,135,136,137,138,139,140,141,142,143,144,145,146,147,148,149,150,151,152,153,154,155,156,157,158,159,160,161,162,163,164,165,166,167,168,169,170,171,172,173,174,175,176,177,178,179,180,181,182,183,184,185,186,187,188,189,190,191,192,193,194,195,196,197,198,199,200,201,202,203,204,205,206,207,208,209,210,211,212,213,214,215,216,217,218,219,220,221,222,223,224,225,226,227,228,229,230,231,232,233,234,235,236,237,238,239,240,241,242,243,244,245,246,247,248,249,250,251,252,253,254,255,256,257,258,259,260,261,262,263,264,265,266,267,268,269,270,271,272,273,274,275,276,277,278,279,280,281,282,283,284,285,286,287,288,289,290,291,292,293,294,295,296,297,298,299,300,301,302,303,304,305,306,307,308,309,310,311,312,313,314,315,316,317,318,319,320,321,322,323,324,325,326,327,328,329,330,331,332,333,334,335,336,337,338,339,340,341,342],\"nb\":{\"__ndarray__\":\"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\",\"dtype\":\"float64\",\"order\":\"little\",\"shape\":[343]},\"nb_sim\":[1,2,22,1,43,32,1,1,1,20,3,1,1,2,1,1,5,1,6,16,1,54,2,1,9,6,1,3,1,7,4,2,12,5,1,1,4,2,125,2,2,2,2,2,1,24,26,6,9,7,5,10,2,2,1,1,1,8,29,30,2,1,1,6,6,1,1,1,4,1,1,1,3,1,10,1,7,1,1,1,1,1,1,1,1,1,1,6,11,5,12,15,1,1,1,1,1,1,2,1,2,1,1,3,1,1,1,1,1,1,8,15,6,5,3,2,16,1,18,17,2,32,1,5,6,2,24,16,8,20,31,29,2,1,1,4,6,5,56,6,3,11,62,1,1,61,50,3,5,1,2,6,67,16,6,4,2,20,74,2,5,30,2,1,1,1,1,1,84,62,16,4,1,7,1,98,12,1,1,1,11,19,12,3,51,21,1,1,1,1,7,3,2,22,29,2,29,14,189,32,8,34,2,5,1,90,26,15,13,1,2,38,15,32,5,1,4,1,2,7,36,8,114,145,2,23,40,1,1,1,4,1,7,16,22,2,25,1,97,1,38,15,5,1,1,3,12,24,2,1,47,1,2,1,2,1,1,6,178,199,24,87,1,2,3,1,1,1,1,8,2,2,1,3,1,1,1,27,13,2,12,11,1,4,3,10,1,5,3,26,1,1,1,2,1,2,7,3,2,15,1,5,32,938,30,46,269,1,66,3,5,17,18,29,2,22,1,51,1,23,3,5,2,23,3,43,9,7,28,13,2,3,10,59,6,21,3,21,9,1,3,4,9]},\"selected\":{\"id\":\"1503\"},\"selection_policy\":{\"id\":\"1504\"}},\"id\":\"1490\",\"type\":\"ColumnDataSource\"},{\"attributes\":{\"axis\":{\"id\":\"1451\"},\"ticker\":null,\"visible\":false},\"id\":\"1453\",\"type\":\"Grid\"},{\"attributes\":{\"label\":{\"value\":\"Synth\"},\"renderers\":[{\"id\":\"1494\"}]},\"id\":\"1506\",\"type\":\"LegendItem\"},{\"attributes\":{\"range\":{\"id\":\"1443\"},\"value\":-0.2},\"id\":\"1472\",\"type\":\"Dodge\"},{\"attributes\":{\"label\":{\"value\":\"Real\"},\"renderers\":[{\"id\":\"1477\"}]},\"id\":\"1488\",\"type\":\"LegendItem\"},{\"attributes\":{},\"id\":\"1452\",\"type\":\"CategoricalTicker\"},{\"attributes\":{\"fill_alpha\":{\"value\":0.1},\"fill_color\":{\"value\":\"orange\"},\"line_alpha\":{\"value\":0.1},\"line_color\":{\"value\":\"#1f77b4\"},\"top\":{\"field\":\"nb_sim\"},\"width\":{\"value\":0.4},\"x\":{\"field\":\"ccam\",\"transform\":{\"id\":\"1489\"}}},\"id\":\"1493\",\"type\":\"VBar\"},{\"attributes\":{},\"id\":\"1463\",\"type\":\"HelpTool\"},{\"attributes\":{},\"id\":\"1462\",\"type\":\"ResetTool\"},{\"attributes\":{\"end\":1200},\"id\":\"1445\",\"type\":\"Range1d\"},{\"attributes\":{},\"id\":\"1461\",\"type\":\"SaveTool\"},{\"attributes\":{\"fill_color\":{\"value\":\"#1f77b4\"},\"line_color\":{\"value\":\"#1f77b4\"},\"top\":{\"field\":\"nb\"},\"width\":{\"value\":0.4},\"x\":{\"field\":\"ccam\",\"transform\":{\"id\":\"1472\"}}},\"id\":\"1475\",\"type\":\"VBar\"},{\"attributes\":{\"data_source\":{\"id\":\"1473\"},\"glyph\":{\"id\":\"1475\"},\"hover_glyph\":null,\"muted_glyph\":null,\"nonselection_glyph\":{\"id\":\"1476\"},\"selection_glyph\":null,\"view\":{\"id\":\"1478\"}},\"id\":\"1477\",\"type\":\"GlyphRenderer\"},{\"attributes\":{},\"id\":\"1449\",\"type\":\"LinearScale\"},{\"attributes\":{},\"id\":\"1455\",\"type\":\"BasicTicker\"},{\"attributes\":{\"fill_color\":{\"value\":\"orange\"},\"line_color\":{\"value\":\"#1f77b4\"},\"top\":{\"field\":\"nb_sim\"},\"width\":{\"value\":0.4},\"x\":{\"field\":\"ccam\",\"transform\":{\"id\":\"1489\"}}},\"id\":\"1492\",\"type\":\"VBar\"},{\"attributes\":{\"bottom_units\":\"screen\",\"fill_alpha\":0.5,\"fill_color\":\"lightgrey\",\"left_units\":\"screen\",\"level\":\"overlay\",\"line_alpha\":1.0,\"line_color\":\"black\",\"line_dash\":[4,4],\"line_width\":2,\"right_units\":\"screen\",\"top_units\":\"screen\"},\"id\":\"1464\",\"type\":\"BoxAnnotation\"},{\"attributes\":{\"range\":{\"id\":\"1443\"},\"value\":0.2},\"id\":\"1489\",\"type\":\"Dodge\"},{\"attributes\":{\"data_source\":{\"id\":\"1490\"},\"glyph\":{\"id\":\"1492\"},\"hover_glyph\":null,\"muted_glyph\":null,\"nonselection_glyph\":{\"id\":\"1493\"},\"selection_glyph\":null,\"view\":{\"id\":\"1495\"}},\"id\":\"1494\",\"type\":\"GlyphRenderer\"},{\"attributes\":{\"factors\":[\"ACQH001\",\"ACQH002\",\"ACQH003\",\"ACQJ001\",\"ACQJ002\",\"ACQK001\",\"ACQK003\",\"ACQL001\",\"ACQL002\",\"ACQN001\",\"AFQH001\",\"AFQH002\",\"AHCA023\",\"AHPA009\",\"BAFA013\",\"BEQP002\",\"BEQP004\",\"BFPA002\",\"BFPP001\",\"BFQM001\",\"BGFA001\",\"BGQP007\",\"BZQM001\",\"BZQM002\",\"DAQL009\",\"DAQL010\",\"DAQL011\",\"DAQL014\",\"DAQM003\",\"DDQH009\",\"DDQH012\",\"DGQH001\",\"DGQM001\",\"DGQM002\",\"DHQH006\",\"DZQJ006\",\"DZQM002\",\"DZQM005\",\"DZQM006\",\"DZQM008\",\"DZQN001\",\"EAQJ001\",\"EBLA003\",\"EBQH004\",\"EBQJ001\",\"EBQM001\",\"EBQM002\",\"EBQM003\",\"ECQH010\",\"ECQH011\",\"ECQM002\",\"EDQM001\",\"EEQH005\",\"EFQM001\",\"EGFA007\",\"EGFA010\",\"EJFA006\",\"EJQM001\",\"EJQM003\",\"EJQM004\",\"EKQH002\",\"ELQH002\",\"ELQM001\",\"ELQM002\",\"EMQH001\",\"EMQJ001\",\"EZQM001\",\"GDFE002\",\"GFQL002\",\"GFQL006\",\"GFQM001\",\"GGNC001\",\"HCQM001\",\"HEQH001\",\"HEQH002\",\"HFMP002\",\"HHFE002\",\"HHFE004\",\"HHFE006\",\"HHSE003\",\"HLFA019\",\"HLJA001\",\"HLQM001\",\"HMQH006\",\"HMQH007\",\"HZQM001\",\"JANE002\",\"JAQJ001\",\"JAQM001\",\"JAQM002\",\"JAQM003\",\"JAQM004\",\"JBPE001\",\"JBQH002\",\"JBQH003\",\"JCLE002\",\"JDFE003\",\"JDNE001\",\"JDQH001\",\"JDQJ002\",\"JDQM001\",\"JGQJ001\",\"JHFA009\",\"JHQM001\",\"JJFC010\",\"JJPC003\",\"JKFA020\",\"JKFA031\",\"JKHA002\",\"JKNE001\",\"JKQH001\",\"JNQM001\",\"JQQJ037\",\"JQQM001\",\"JQQM002\",\"JQQM003\",\"JQQM010\",\"JQQM015\",\"JQQM016\",\"JQQM018\",\"KCQL003\",\"KCQM001\",\"KDQM001\",\"LAQJ001\",\"LAQK001\",\"LAQK002\",\"LAQK003\",\"LAQK005\",\"LAQK009\",\"LAQK012\",\"LAQK013\",\"LAQK027\",\"LBQK005\",\"LCJA003\",\"LCQH001\",\"LCQJ001\",\"LCQK002\",\"LDQK001\",\"LDQK002\",\"LDQK004\",\"LDQK005\",\"LEQK001\",\"LEQK002\",\"LFAA002\",\"LFFA001\",\"LFQK001\",\"LFQK002\",\"LGQK001\",\"LHQH001\",\"LHQH002\",\"LHQH006\",\"LHQJ001\",\"LHQK001\",\"LHQK002\",\"LHQK003\",\"LHQK004\",\"LHQK005\",\"LHQK007\",\"LHQN001\",\"LHQN002\",\"LJQK001\",\"LJQK002\",\"LJQK015\",\"LMMA004\",\"LMMA009\",\"LMMA012\",\"LMMA017\",\"LMSA002\",\"MAQK001\",\"MAQK002\",\"MAQK003\",\"MBQK001\",\"MCCA005\",\"MCQK001\",\"MDCB003\",\"MDQK001\",\"MDQK002\",\"MEKA005\",\"MEMC003\",\"MEMC004\",\"MEQH001\",\"MFQK001\",\"MFQK002\",\"MGQH001\",\"MGQK001\",\"MGQK003\",\"MHQH001\",\"MJEC002\",\"MJFA010\",\"MJJA001\",\"MZQH001\",\"MZQH002\",\"MZQJ001\",\"MZQK002\",\"MZQK003\",\"MZQK004\",\"MZQN001\",\"NAQK007\",\"NAQK015\",\"NAQK023\",\"NAQK049\",\"NAQK071\",\"NBQK001\",\"NCQK001\",\"NDPA014\",\"NDQK001\",\"NDQK002\",\"NDQK003\",\"NDQK004\",\"NEKA020\",\"NEQH002\",\"NEQK010\",\"NEQK012\",\"NEQK035\",\"NEQM001\",\"NFFC002\",\"NFFC004\",\"NFKA001\",\"NFKA008\",\"NFQH001\",\"NFQK001\",\"NFQK002\",\"NFQK003\",\"NFQK004\",\"NGQH001\",\"NGQK001\",\"NGQK002\",\"NHDA004\",\"NJFA005\",\"NJPA029\",\"NZQH002\",\"NZQH005\",\"NZQJ001\",\"NZQK001\",\"NZQK002\",\"NZQK003\",\"NZQK005\",\"NZQK006\",\"NZQN001\",\"PAQK003\",\"PAQK007\",\"PAQL002\",\"PAQL003\",\"PAQL008\",\"PAQL009\",\"PBQM001\",\"PBQM002\",\"PBQM003\",\"PBQM004\",\"PCCA002\",\"PCQM001\",\"PDQK001\",\"PDQN001\",\"QAJA004\",\"QAMA002\",\"QCJA001\",\"QCJA003\",\"QEQJ001\",\"QEQK001\",\"QEQK004\",\"QEQK005\",\"QEQM001\",\"QEQN001\",\"QZFA001\",\"QZFA004\",\"QZFA007\",\"QZFA009\",\"QZFA010\",\"QZFA020\",\"QZFA036\",\"QZGA002\",\"QZHA001\",\"QZJA002\",\"QZJA012\",\"QZJA015\",\"QZJA017\",\"QZMA004\",\"QZQM001\",\"YYYY012\",\"YYYY019\",\"YYYY028\",\"YYYY033\",\"YYYY034\",\"YYYY057\",\"YYYY088\",\"YYYY115\",\"YYYY120\",\"YYYY145\",\"YYYY163\",\"YYYY172\",\"YYYY190\",\"YYYY200\",\"YYYY212\",\"YYYY220\",\"YYYY240\",\"YYYY250\",\"YYYY260\",\"YYYY270\",\"YYYY290\",\"YYYY300\",\"YYYY410\",\"YYYY415\",\"YYYY420\",\"YYYY600\",\"ZBQH001\",\"ZBQK001\",\"ZBQK002\",\"ZBQK003\",\"ZCQH001\",\"ZCQH002\",\"ZCQJ001\",\"ZCQJ002\",\"ZCQJ003\",\"ZCQJ004\",\"ZCQJ005\",\"ZCQJ006\",\"ZCQK001\",\"ZCQK002\",\"ZCQK003\",\"ZCQK004\",\"ZCQK005\",\"ZCQM001\",\"ZCQM002\",\"ZCQM003\",\"ZCQM004\",\"ZCQM005\",\"ZCQM006\",\"ZCQM007\",\"ZCQM008\",\"ZCQM010\",\"ZCQM011\",\"ZCQN001\",\"ZCQN002\",\"ZZQH033\",\"ZZQK024\",\"ZZQL007\",\"ZZQL013\",\"ZZQL016\",\"ZZQL017\",\"ZZQL018\",\"ZZQL019\",\"ZZQM001\",\"ZZQN001\"]},\"id\":\"1443\",\"type\":\"FactorRange\"},{\"attributes\":{\"axis\":{\"id\":\"1454\"},\"dimension\":1,\"ticker\":null,\"visible\":false},\"id\":\"1457\",\"type\":\"Grid\"},{\"attributes\":{\"source\":{\"id\":\"1490\"}},\"id\":\"1495\",\"type\":\"CDSView\"},{\"attributes\":{\"overlay\":{\"id\":\"1464\"}},\"id\":\"1460\",\"type\":\"BoxZoomTool\"}],\"root_ids\":[\"1441\"]},\"title\":\"Bokeh Application\",\"version\":\"2.1.1\"}};\n",
       "  var render_items = [{\"docid\":\"784de6b5-c59b-4148-9b62-e21b80956793\",\"root_ids\":[\"1441\"],\"roots\":{\"1441\":\"2fe6fec9-ec0a-44f2-be4d-17cf6281b247\"}}];\n",
       "  root.Bokeh.embed.embed_items_notebook(docs_json, render_items);\n",
       "\n",
       "  }\n",
       "  if (root.Bokeh !== undefined) {\n",
       "    embed_document(root);\n",
       "  } else {\n",
       "    var attempts = 0;\n",
       "    var timer = setInterval(function(root) {\n",
       "      if (root.Bokeh !== undefined) {\n",
       "        clearInterval(timer);\n",
       "        embed_document(root);\n",
       "      } else {\n",
       "        attempts++;\n",
       "        if (attempts > 100) {\n",
       "          clearInterval(timer);\n",
       "          console.log(\"Bokeh: ERROR: Unable to run BokehJS code because BokehJS library is missing\");\n",
       "        }\n",
       "      }\n",
       "    }, 10, root)\n",
       "  }\n",
       "})(window);"
      ],
      "application/vnd.bokehjs_exec.v0+json": ""
     },
     "metadata": {
      "application/vnd.bokehjs_exec.v0+json": {
       "id": "1441"
      }
     },
     "output_type": "display_data"
    }
   ],
   "source": [
    "p = figure(title=None, x_range=ccams['ccam'].to_numpy(), y_range=(0,1200), plot_width=1200, plot_height=300)\n",
    "p.xgrid.visible = False\n",
    "p.ygrid.visible = False\n",
    "p.xaxis.major_label_orientation = math.pi/4\n",
    "p.vbar(x=dodge('ccam', -0.2, range=p.x_range), top='nb', source=ColumnDataSource(ccams), width=0.4,legend_label=\"Real\")\n",
    "p.vbar(x=dodge('ccam', +0.2, range=p.x_range), top='nb_sim', fill_color=\"orange\", width=0.4, source=ColumnDataSource(ccams),legend_label=\"Synth\")\n",
    "p.legend.location = \"top_left\"\n",
    "#p.xaxis.axis_label = 'CCAM procedures'\n",
    "p.yaxis.axis_label = 'Nb'\n",
    "show(p)"
   ]
  },
  {
   "cell_type": "code",
   "execution_count": 48,
   "metadata": {},
   "outputs": [
    {
     "data": {
      "text/html": [
       "\n",
       "\n",
       "\n",
       "\n",
       "\n",
       "\n",
       "  <div class=\"bk-root\" id=\"c5f4d476-3164-42b0-ab53-0b33a8b48e47\" data-root-id=\"1607\"></div>\n"
      ]
     },
     "metadata": {},
     "output_type": "display_data"
    },
    {
     "data": {
      "application/javascript": [
       "(function(root) {\n",
       "  function embed_document(root) {\n",
       "    \n",
       "  var docs_json = {\"ba594078-acd8-46f1-825b-45177a0f33b0\":{\"roots\":{\"references\":[{\"attributes\":{\"below\":[{\"id\":\"1617\"}],\"center\":[{\"id\":\"1619\"},{\"id\":\"1623\"},{\"id\":\"1653\"}],\"left\":[{\"id\":\"1620\"}],\"plot_height\":300,\"plot_width\":1200,\"renderers\":[{\"id\":\"1643\"},{\"id\":\"1660\"}],\"title\":null,\"toolbar\":{\"id\":\"1631\"},\"x_range\":{\"id\":\"1609\"},\"x_scale\":{\"id\":\"1613\"},\"y_range\":{\"id\":\"1611\"},\"y_scale\":{\"id\":\"1615\"}},\"id\":\"1607\",\"subtype\":\"Figure\",\"type\":\"Plot\"},{\"attributes\":{},\"id\":\"1649\",\"type\":\"BasicTickFormatter\"},{\"attributes\":{},\"id\":\"1624\",\"type\":\"PanTool\"},{\"attributes\":{\"axis_label\":\"Nb\",\"formatter\":{\"id\":\"1649\"},\"ticker\":{\"id\":\"1621\"}},\"id\":\"1620\",\"type\":\"LinearAxis\"},{\"attributes\":{\"label\":{\"value\":\"Synth\"},\"renderers\":[{\"id\":\"1660\"}]},\"id\":\"1672\",\"type\":\"LegendItem\"},{\"attributes\":{\"range\":{\"id\":\"1609\"},\"value\":0.2},\"id\":\"1655\",\"type\":\"Dodge\"},{\"attributes\":{},\"id\":\"1618\",\"type\":\"CategoricalTicker\"},{\"attributes\":{\"fill_alpha\":{\"value\":0.1},\"fill_color\":{\"value\":\"#1f77b4\"},\"line_alpha\":{\"value\":0.1},\"line_color\":{\"value\":\"#1f77b4\"},\"top\":{\"field\":\"nb\"},\"width\":{\"value\":0.4},\"x\":{\"field\":\"ccam\",\"transform\":{\"id\":\"1638\"}}},\"id\":\"1642\",\"type\":\"VBar\"},{\"attributes\":{},\"id\":\"1625\",\"type\":\"WheelZoomTool\"},{\"attributes\":{\"fill_color\":{\"value\":\"#1f77b4\"},\"line_color\":{\"value\":\"#1f77b4\"},\"top\":{\"field\":\"nb\"},\"width\":{\"value\":0.4},\"x\":{\"field\":\"ccam\",\"transform\":{\"id\":\"1638\"}}},\"id\":\"1641\",\"type\":\"VBar\"},{\"attributes\":{\"bottom_units\":\"screen\",\"fill_alpha\":0.5,\"fill_color\":\"lightgrey\",\"left_units\":\"screen\",\"level\":\"overlay\",\"line_alpha\":1.0,\"line_color\":\"black\",\"line_dash\":[4,4],\"line_width\":2,\"right_units\":\"screen\",\"top_units\":\"screen\"},\"id\":\"1630\",\"type\":\"BoxAnnotation\"},{\"attributes\":{\"data_source\":{\"id\":\"1656\"},\"glyph\":{\"id\":\"1658\"},\"hover_glyph\":null,\"muted_glyph\":null,\"nonselection_glyph\":{\"id\":\"1659\"},\"selection_glyph\":null,\"view\":{\"id\":\"1661\"}},\"id\":\"1660\",\"type\":\"GlyphRenderer\"},{\"attributes\":{\"data\":{\"ccam\":[\"ACQH001\",\"ACQH002\",\"ACQH003\",\"ACQJ001\",\"ACQJ002\",\"ACQK001\",\"ACQK003\",\"ACQL001\",\"ACQL002\",\"ACQN001\",\"AFQH001\",\"AFQH002\",\"AHCA023\",\"AHPA009\",\"BAFA013\",\"BEQP002\",\"BEQP004\",\"BFPA002\",\"BFPP001\",\"BFQM001\",\"BGFA001\",\"BGQP007\",\"BZQM001\",\"BZQM002\",\"DAQL009\",\"DAQL010\",\"DAQL011\",\"DAQL014\",\"DAQM003\",\"DDQH009\",\"DDQH012\",\"DGQH001\",\"DGQM001\",\"DGQM002\",\"DHQH006\",\"DZQJ006\",\"DZQM002\",\"DZQM005\",\"DZQM006\",\"DZQM008\",\"DZQN001\",\"EAQJ001\",\"EBLA003\",\"EBQH004\",\"EBQJ001\",\"EBQM001\",\"EBQM002\",\"EBQM003\",\"ECQH010\",\"ECQH011\",\"ECQM002\",\"EDQM001\",\"EEQH005\",\"EFQM001\",\"EGFA007\",\"EGFA010\",\"EJFA006\",\"EJQM001\",\"EJQM003\",\"EJQM004\",\"EKQH002\",\"ELQH002\",\"ELQM001\",\"ELQM002\",\"EMQH001\",\"EMQJ001\",\"EZQM001\",\"GDFE002\",\"GFQL002\",\"GFQL006\",\"GFQM001\",\"GGNC001\",\"HCQM001\",\"HEQH001\",\"HEQH002\",\"HFMP002\",\"HHFE002\",\"HHFE004\",\"HHFE006\",\"HHSE003\",\"HLFA019\",\"HLJA001\",\"HLQM001\",\"HMQH006\",\"HMQH007\",\"HZQM001\",\"JANE002\",\"JAQJ001\",\"JAQM001\",\"JAQM002\",\"JAQM003\",\"JAQM004\",\"JBPE001\",\"JBQH002\",\"JBQH003\",\"JCLE002\",\"JDFE003\",\"JDNE001\",\"JDQH001\",\"JDQJ002\",\"JDQM001\",\"JGQJ001\",\"JHFA009\",\"JHQM001\",\"JJFC010\",\"JJPC003\",\"JKFA020\",\"JKFA031\",\"JKHA002\",\"JKNE001\",\"JKQH001\",\"JNQM001\",\"JQQJ037\",\"JQQM001\",\"JQQM002\",\"JQQM003\",\"JQQM010\",\"JQQM015\",\"JQQM016\",\"JQQM018\",\"KCQL003\",\"KCQM001\",\"KDQM001\",\"LAQJ001\",\"LAQK001\",\"LAQK002\",\"LAQK003\",\"LAQK005\",\"LAQK009\",\"LAQK012\",\"LAQK013\",\"LAQK027\",\"LBQK005\",\"LCJA003\",\"LCQH001\",\"LCQJ001\",\"LCQK002\",\"LDQK001\",\"LDQK002\",\"LDQK004\",\"LDQK005\",\"LEQK001\",\"LEQK002\",\"LFAA002\",\"LFFA001\",\"LFQK001\",\"LFQK002\",\"LGQK001\",\"LHQH001\",\"LHQH002\",\"LHQH006\",\"LHQJ001\",\"LHQK001\",\"LHQK002\",\"LHQK003\",\"LHQK004\",\"LHQK005\",\"LHQK007\",\"LHQN001\",\"LHQN002\",\"LJQK001\",\"LJQK002\",\"LJQK015\",\"LMMA004\",\"LMMA009\",\"LMMA012\",\"LMMA017\",\"LMSA002\",\"MAQK001\",\"MAQK002\",\"MAQK003\",\"MBQK001\",\"MCCA005\",\"MCQK001\",\"MDCB003\",\"MDQK001\",\"MDQK002\",\"MEKA005\",\"MEMC003\",\"MEMC004\",\"MEQH001\",\"MFQK001\",\"MFQK002\",\"MGQH001\",\"MGQK001\",\"MGQK003\",\"MHQH001\",\"MJEC002\",\"MJFA010\",\"MJJA001\",\"MZQH001\",\"MZQH002\",\"MZQJ001\",\"MZQK002\",\"MZQK003\",\"MZQK004\",\"MZQN001\",\"NAQK007\",\"NAQK015\",\"NAQK023\",\"NAQK049\",\"NAQK071\",\"NBQK001\",\"NCQK001\",\"NDPA014\",\"NDQK001\",\"NDQK002\",\"NDQK003\",\"NDQK004\",\"NEKA020\",\"NEQH002\",\"NEQK010\",\"NEQK012\",\"NEQK035\",\"NEQM001\",\"NFFC002\",\"NFFC004\",\"NFKA001\",\"NFKA008\",\"NFQH001\",\"NFQK001\",\"NFQK002\",\"NFQK003\",\"NFQK004\",\"NGQH001\",\"NGQK001\",\"NGQK002\",\"NHDA004\",\"NJFA005\",\"NJPA029\",\"NZQH002\",\"NZQH005\",\"NZQJ001\",\"NZQK001\",\"NZQK002\",\"NZQK003\",\"NZQK005\",\"NZQK006\",\"NZQN001\",\"PAQK003\",\"PAQK007\",\"PAQL002\",\"PAQL003\",\"PAQL008\",\"PAQL009\",\"PBQM001\",\"PBQM002\",\"PBQM003\",\"PBQM004\",\"PCCA002\",\"PCQM001\",\"PDQK001\",\"PDQN001\",\"QAJA004\",\"QAMA002\",\"QCJA001\",\"QCJA003\",\"QEQJ001\",\"QEQK001\",\"QEQK004\",\"QEQK005\",\"QEQM001\",\"QEQN001\",\"QZFA001\",\"QZFA004\",\"QZFA007\",\"QZFA009\",\"QZFA010\",\"QZFA020\",\"QZFA036\",\"QZGA002\",\"QZHA001\",\"QZJA002\",\"QZJA012\",\"QZJA015\",\"QZJA017\",\"QZMA004\",\"QZQM001\",\"YYYY012\",\"YYYY019\",\"YYYY028\",\"YYYY033\",\"YYYY034\",\"YYYY057\",\"YYYY088\",\"YYYY115\",\"YYYY120\",\"YYYY145\",\"YYYY163\",\"YYYY172\",\"YYYY190\",\"YYYY200\",\"YYYY212\",\"YYYY220\",\"YYYY240\",\"YYYY250\",\"YYYY260\",\"YYYY270\",\"YYYY290\",\"YYYY300\",\"YYYY410\",\"YYYY415\",\"YYYY420\",\"YYYY600\",\"ZBQH001\",\"ZBQK001\",\"ZBQK002\",\"ZBQK003\",\"ZCQH001\",\"ZCQH002\",\"ZCQJ001\",\"ZCQJ002\",\"ZCQJ003\",\"ZCQJ004\",\"ZCQJ005\",\"ZCQJ006\",\"ZCQK001\",\"ZCQK002\",\"ZCQK003\",\"ZCQK004\",\"ZCQK005\",\"ZCQM001\",\"ZCQM002\",\"ZCQM003\",\"ZCQM004\",\"ZCQM005\",\"ZCQM006\",\"ZCQM007\",\"ZCQM008\",\"ZCQM010\",\"ZCQM011\",\"ZCQN001\",\"ZCQN002\",\"ZZQH033\",\"ZZQK024\",\"ZZQL007\",\"ZZQL013\",\"ZZQL016\",\"ZZQL017\",\"ZZQL018\",\"ZZQL019\",\"ZZQM001\",\"ZZQN001\"],\"index\":[0,1,2,3,4,5,6,7,8,9,10,11,12,13,14,15,16,17,18,19,20,21,22,23,24,25,26,27,28,29,30,31,32,33,34,35,36,37,38,39,40,41,42,43,44,45,46,47,48,49,50,51,52,53,54,55,56,57,58,59,60,61,62,63,64,65,66,67,68,69,70,71,72,73,74,75,76,77,78,79,80,81,82,83,84,85,86,87,88,89,90,91,92,93,94,95,96,97,98,99,100,101,102,103,104,105,106,107,108,109,110,111,112,113,114,115,116,117,118,119,120,121,122,123,124,125,126,127,128,129,130,131,132,133,134,135,136,137,138,139,140,141,142,143,144,145,146,147,148,149,150,151,152,153,154,155,156,157,158,159,160,161,162,163,164,165,166,167,168,169,170,171,172,173,174,175,176,177,178,179,180,181,182,183,184,185,186,187,188,189,190,191,192,193,194,195,196,197,198,199,200,201,202,203,204,205,206,207,208,209,210,211,212,213,214,215,216,217,218,219,220,221,222,223,224,225,226,227,228,229,230,231,232,233,234,235,236,237,238,239,240,241,242,243,244,245,246,247,248,249,250,251,252,253,254,255,256,257,258,259,260,261,262,263,264,265,266,267,268,269,270,271,272,273,274,275,276,277,278,279,280,281,282,283,284,285,286,287,288,289,290,291,292,293,294,295,296,297,298,299,300,301,302,303,304,305,306,307,308,309,310,311,312,313,314,315,316,317,318,319,320,321,322,323,324,325,326,327,328,329,330,331,332,333,334,335,336,337,338,339,340,341,342],\"nb\":{\"__ndarray__\":\"BW9HBHuu2j+W1mgJ3yUAQMWzi65S2zdA55YdxBrH8T9IrBLiZcZLQGcIv27WGkNA0GPcdyFB6z8WHbmdA7/dP6AlXIpvzM8/EkH9Wen1QECk7nWSCDnbP9to3tSIXNw/O/0wnJud1D/K/Av9/HIaQCiTCVg7hAlA3I1v986btD8yvlxPG6sKQLdU8WaEQro/gf8+bnTaPUD12uNABjtKQBZebUMH4s8/pwuurEh9U0BX713ZcmgQQBhHMRcYxvQ/VwoZfwWmMEAeZ8tEYlkZQME8uoBuPrs/i9veEYcq/j8kBuhCnqoYQNKq5c66jSBApfyf5JgkEUCzyLpt4Gz4P4Rvqn5i8kNA66o+sJz6IUAumkFWsz/BPw5TP4dWHtM/lMEEZ1zIIkBO3RR3XfMtQGg+IlSw8XlAvEo+v4AG7z/95YGT0TDyP6kVfYMi6Og/5K8vKPzqGkCb4jEWmDn4P2WJ062jwd8/J+V9//NmV0C7tDye9dlTQMWOqZfeDCRAFxsOCtjuJkBqbyb5uU0LQI1osFszUBtAH1Q1C7uRP0DIvd3D+qPCP0temnWCpx1AWi93Lm479z+mJBeC9OuyP7mWu8xHofI/MkZHQvkIOUD//QQltIpWQKAFI35PYllABW9HBHuu6j/zUD1kw5cKQDWXSz1w0wJAnkyYQOHbHkCLR6aBp6QSQCEGmHet9uQ/XRK5WqgHEkCz7UuQJqywP9to3tSIXPw/jUq3oINk0z99W7aIIa36PxRJjN9S4sc/oFy98Y1LH0Dr7e20vKHuP9TFSNpFpSJAfGMOaOrM8j/FoJIBBzRAQH1RY0o8CRhAqZflzikuHUC3UCDQdbaxP8j+kWn+xrQ/lbdZjm/+gT/aUSc54lQWQN00aWUcIdE/Vl7gH+Iy5z9oMQgD2/4OQK6B5IkkyvQ/QZmMRuziNkAtqajhp5k5QNpXzgfj6CxAP1tuUA2UOkDJ+OP0I5xLQES8l/wwzqQ/evBkQt8G9T8S+5gDuNe+P3PKHcn3Iw9ABjN6tUVT5z/3pRL2SO7cP0J+eQZSf/g//FqrqEGP/z9e0MH+o7oyQH77HQx1miFARakBw4kGG0CzWKWlf8QwQGjUMNoZ+PI/yQ+iNqQ65D8ksng8yUPAP6ckPKkeaP8/cDLp/ULaE0CoXokI7yoDQFuIzYsRah5AWhK6g+XiSUD2O/yW8P85QCsMWkxH3h1ATZQ7ZW5aFUBykcECvSAVQCUEUFcmBkxAfC6DOL5V8T9UqpTTSZpJQKRZOcHfx0tAPJgBlBF3AEAnZOeqlT1dQMTomkWKixZArd6Wi7tU9D/qTkwmODwaQFSarW4XjhpAMGZCAp8PPkB4xm8HmV0zQGjiL4jjqxFAaOKZoWEiQkBGB8qE4MxAQLkxNVPzL0hAUsSqeHSpBkD0qIN+Q0bWPy1C+zszkRVA49HUUpDm/j+/sK4rkaAQQCLJtGi4XwtA4b+0QsfyU0Ai/Glg8s4uQLdBNgaz/hNAFgR8lVtjLUBwMjTxA59TQCT7qei/Avc/1VVYOQ959z/GWK/krVhWQOsjJrRnuU1AHrUWuwSKIECg2z/CfwkaQCI7I6fZbdY/YP13jdVvEUCNtCWa43gkQLGSfZYFZlVAp9U3YSMCM0CAhEPmPLAiQDpss+IKaBtAF/KrUIMjFkB1MomUJEI7QP6MgQKMgFpAebru9rmLFEArMtaKhiElQAp0a36G/kJARvq18g8dEUDeklZOnWPzPxMY0kY19/4/9x/+Ol2YDEASdV8hogXiP5X83sqBraw/qVUn529VW0BE1xRWSahTQHtupFzQmkJAjRy+W1GFF0DckUCO3SftP21RfQn7FRdAP0iz7ztQ5D/g16LU/BZgQLFaUDmrlCdAeuQ7zAdbpD+JG1jQoJX9P7WAxKjTZcQ/apd4b+uYMEBmNE2+0UM5QIzQoLeogixAQCYOxadUAEAo4qkDVS9QQI5Yr6hzgT9AnZo7UYsy5D8J+339HoQMQIP8qL5PBug/BRZBcsgz1z/RQiJphkkWQFPnioryXO0/ob5WSvOdDUDESXVP+uw0QF1m/JN5WztAPGvzatibA0DniODJ1q9BQH2dBFbwRDBAQlwydzJ0bkDmtKxlTDxJQAalFMFqdDFAQqsE8bz8P0B9aMoa8lwaQKuczCX49StAEuue9tGf5T9VfLq01GxeQGBMUAjNwj5AskWT0+M1NEAcSdOy70g5QEdw9cc/txRAbjZqyWCyCEC8m+BvkMxCQAJTUXf+uDdAVUQ8Y0wMRUCjuepi3MEpQIB1WRx6+PQ/XxmbEJNTG0CcgdOkHJ+8P67M620NkQlA+zIP5LtLIUA4wRSrsmlFQJzaXHWddyVA+KxZqxk6YkAAGz5oMapmQL2s1xfmWP0/kq+fZD/aQ0CWMOn3MpdPQBFM/WdNOuE/gFzxbwtlzT+nJDypHmj/P+Tw483/DQ1AtVszho0m3D9XtzZ9hWEeQJuiaIyNGjVAbEBBb1GPOEDhh2i/r28FQJhEJDJCjTxAWAusAPeDEUAfR5g5r7leQP2kze3NDdA/RgeFkozSTEDCIpJczd4rQDM34LYEryBAa80T4jqQ7T93gWeMuFDDP6Jqj6kWESdAFTW6lYSHQ0Akz6UBPd1ZQMxi+So/ryZAq5zMJfj1yz8uJ2t8zxJtQMTccc+y36U/LX0IEzYg4T9rztnWCRgQQCUgYDIwvhtAmjSmvVAcJkBFf7TtOzfbP9+U1OuHRSNA1265P6R1bEC2RsHy0khwQJ7iVRSF2jxApoiAU0cDdEA1Ew26doXgP2w1L+J2+gVAZ9VzkBoiIEAxaOxsjQQNQIue1ttnF+g/EIBy17l13D8rr4IjhtcBQGLdofRZ5UhAXtZozaROKUAUvdBVZvgwQPpmB5L25CFA3/1Xye5VFUADTj0q7wLyPzEmTauQ3RtAPuRDX+T1B0CjQFRTP5JZQBAsA9HkDjRAmCZXRJa0A0Bgdg6dcp9BQBbZQ6QUkC5AJLZJ09fP6D+Vw6crcSb/P1tEM2v4viJASbaQxBGiJUBDUoGd2N/xPxcyddqNQglAeGkVoAn5AUBfCaEDrRtSQOgtQkyskPE/jMG27eXKDkCZnJYZxk73P+a27La8uvc/edf8lXBzzT/pl1irBH8EQBjFyMsQgCBAzs6NJ4J/GUD3X6KdPTsTQMWo9uKp6C9AOfhJRc3V9T/WycHWTAsdQE4Ozw973kZAAHpYEFdrkkAkyp5bdIhCQBWOlFoz70dA2wMa7gVEeECBtg3CfRvnP7wPK+cQrVdAipkaKWCHIEByXclUgoc0QINj2aKSbEFAYKZ5AYbaVkB0Ytx4VGJCQCsQBrwr7glAEGhr3sviWkAdbjgIMnXCP45aG8fnEk1Ai9veEYcq/j+TOZc1sAw/QNh1optoWBhAOKVu6SYoNkCYowPdlWoQQKXFY6SkIU5Ayn86PdNAMUAYz2b9tuhiQPlk2ug5kj1AwVl3K/eWOEAPoppAHM9VQIJLXBId3UhAZDr7MqxuAkC02co6huD3P5ndSr/JcSlA2Tl+22iyTkBnDT3VY0cZQN+Jwl6tsDBARINgXSBH9z/3YXjVL0MxQDS58GcEzyZAWE8h+uWyAECKKJcGOH30Pw8GYmt7T/A/Yv8aUurNLUA=\",\"dtype\":\"float64\",\"order\":\"little\",\"shape\":[343]},\"nb_sim\":[1,2,22,1,43,32,1,1,1,20,3,1,1,2,1,1,5,1,6,16,1,54,2,1,9,6,1,3,1,7,4,2,12,5,1,1,4,2,125,2,2,2,2,2,1,24,26,6,9,7,5,10,2,2,1,1,1,8,29,30,2,1,1,6,6,1,1,1,4,1,1,1,3,1,10,1,7,1,1,1,1,1,1,1,1,1,1,6,11,5,12,15,1,1,1,1,1,1,2,1,2,1,1,3,1,1,1,1,1,1,8,15,6,5,3,2,16,1,18,17,2,32,1,5,6,2,24,16,8,20,31,29,2,1,1,4,6,5,56,6,3,11,62,1,1,61,50,3,5,1,2,6,67,16,6,4,2,20,74,2,5,30,2,1,1,1,1,1,84,62,16,4,1,7,1,98,12,1,1,1,11,19,12,3,51,21,1,1,1,1,7,3,2,22,29,2,29,14,189,32,8,34,2,5,1,90,26,15,13,1,2,38,15,32,5,1,4,1,2,7,36,8,114,145,2,23,40,1,1,1,4,1,7,16,22,2,25,1,97,1,38,15,5,1,1,3,12,24,2,1,47,1,2,1,2,1,1,6,178,199,24,87,1,2,3,1,1,1,1,8,2,2,1,3,1,1,1,27,13,2,12,11,1,4,3,10,1,5,3,26,1,1,1,2,1,2,7,3,2,15,1,5,32,938,30,46,269,1,66,3,5,17,18,29,2,22,1,51,1,23,3,5,2,23,3,43,9,7,28,13,2,3,10,59,6,21,3,21,9,1,3,4,9]},\"selected\":{\"id\":\"1669\"},\"selection_policy\":{\"id\":\"1670\"}},\"id\":\"1656\",\"type\":\"ColumnDataSource\"},{\"attributes\":{},\"id\":\"1650\",\"type\":\"Selection\"},{\"attributes\":{\"items\":[{\"id\":\"1654\"},{\"id\":\"1672\"}],\"location\":\"top_left\"},\"id\":\"1653\",\"type\":\"Legend\"},{\"attributes\":{\"overlay\":{\"id\":\"1630\"}},\"id\":\"1626\",\"type\":\"BoxZoomTool\"},{\"attributes\":{},\"id\":\"1651\",\"type\":\"UnionRenderers\"},{\"attributes\":{},\"id\":\"1669\",\"type\":\"Selection\"},{\"attributes\":{},\"id\":\"1670\",\"type\":\"UnionRenderers\"},{\"attributes\":{\"data_source\":{\"id\":\"1639\"},\"glyph\":{\"id\":\"1641\"},\"hover_glyph\":null,\"muted_glyph\":null,\"nonselection_glyph\":{\"id\":\"1642\"},\"selection_glyph\":null,\"view\":{\"id\":\"1644\"}},\"id\":\"1643\",\"type\":\"GlyphRenderer\"},{\"attributes\":{\"source\":{\"id\":\"1639\"}},\"id\":\"1644\",\"type\":\"CDSView\"},{\"attributes\":{},\"id\":\"1615\",\"type\":\"LinearScale\"},{\"attributes\":{\"range\":{\"id\":\"1609\"},\"value\":-0.2},\"id\":\"1638\",\"type\":\"Dodge\"},{\"attributes\":{\"data\":{\"ccam\":[\"ACQH001\",\"ACQH002\",\"ACQH003\",\"ACQJ001\",\"ACQJ002\",\"ACQK001\",\"ACQK003\",\"ACQL001\",\"ACQL002\",\"ACQN001\",\"AFQH001\",\"AFQH002\",\"AHCA023\",\"AHPA009\",\"BAFA013\",\"BEQP002\",\"BEQP004\",\"BFPA002\",\"BFPP001\",\"BFQM001\",\"BGFA001\",\"BGQP007\",\"BZQM001\",\"BZQM002\",\"DAQL009\",\"DAQL010\",\"DAQL011\",\"DAQL014\",\"DAQM003\",\"DDQH009\",\"DDQH012\",\"DGQH001\",\"DGQM001\",\"DGQM002\",\"DHQH006\",\"DZQJ006\",\"DZQM002\",\"DZQM005\",\"DZQM006\",\"DZQM008\",\"DZQN001\",\"EAQJ001\",\"EBLA003\",\"EBQH004\",\"EBQJ001\",\"EBQM001\",\"EBQM002\",\"EBQM003\",\"ECQH010\",\"ECQH011\",\"ECQM002\",\"EDQM001\",\"EEQH005\",\"EFQM001\",\"EGFA007\",\"EGFA010\",\"EJFA006\",\"EJQM001\",\"EJQM003\",\"EJQM004\",\"EKQH002\",\"ELQH002\",\"ELQM001\",\"ELQM002\",\"EMQH001\",\"EMQJ001\",\"EZQM001\",\"GDFE002\",\"GFQL002\",\"GFQL006\",\"GFQM001\",\"GGNC001\",\"HCQM001\",\"HEQH001\",\"HEQH002\",\"HFMP002\",\"HHFE002\",\"HHFE004\",\"HHFE006\",\"HHSE003\",\"HLFA019\",\"HLJA001\",\"HLQM001\",\"HMQH006\",\"HMQH007\",\"HZQM001\",\"JANE002\",\"JAQJ001\",\"JAQM001\",\"JAQM002\",\"JAQM003\",\"JAQM004\",\"JBPE001\",\"JBQH002\",\"JBQH003\",\"JCLE002\",\"JDFE003\",\"JDNE001\",\"JDQH001\",\"JDQJ002\",\"JDQM001\",\"JGQJ001\",\"JHFA009\",\"JHQM001\",\"JJFC010\",\"JJPC003\",\"JKFA020\",\"JKFA031\",\"JKHA002\",\"JKNE001\",\"JKQH001\",\"JNQM001\",\"JQQJ037\",\"JQQM001\",\"JQQM002\",\"JQQM003\",\"JQQM010\",\"JQQM015\",\"JQQM016\",\"JQQM018\",\"KCQL003\",\"KCQM001\",\"KDQM001\",\"LAQJ001\",\"LAQK001\",\"LAQK002\",\"LAQK003\",\"LAQK005\",\"LAQK009\",\"LAQK012\",\"LAQK013\",\"LAQK027\",\"LBQK005\",\"LCJA003\",\"LCQH001\",\"LCQJ001\",\"LCQK002\",\"LDQK001\",\"LDQK002\",\"LDQK004\",\"LDQK005\",\"LEQK001\",\"LEQK002\",\"LFAA002\",\"LFFA001\",\"LFQK001\",\"LFQK002\",\"LGQK001\",\"LHQH001\",\"LHQH002\",\"LHQH006\",\"LHQJ001\",\"LHQK001\",\"LHQK002\",\"LHQK003\",\"LHQK004\",\"LHQK005\",\"LHQK007\",\"LHQN001\",\"LHQN002\",\"LJQK001\",\"LJQK002\",\"LJQK015\",\"LMMA004\",\"LMMA009\",\"LMMA012\",\"LMMA017\",\"LMSA002\",\"MAQK001\",\"MAQK002\",\"MAQK003\",\"MBQK001\",\"MCCA005\",\"MCQK001\",\"MDCB003\",\"MDQK001\",\"MDQK002\",\"MEKA005\",\"MEMC003\",\"MEMC004\",\"MEQH001\",\"MFQK001\",\"MFQK002\",\"MGQH001\",\"MGQK001\",\"MGQK003\",\"MHQH001\",\"MJEC002\",\"MJFA010\",\"MJJA001\",\"MZQH001\",\"MZQH002\",\"MZQJ001\",\"MZQK002\",\"MZQK003\",\"MZQK004\",\"MZQN001\",\"NAQK007\",\"NAQK015\",\"NAQK023\",\"NAQK049\",\"NAQK071\",\"NBQK001\",\"NCQK001\",\"NDPA014\",\"NDQK001\",\"NDQK002\",\"NDQK003\",\"NDQK004\",\"NEKA020\",\"NEQH002\",\"NEQK010\",\"NEQK012\",\"NEQK035\",\"NEQM001\",\"NFFC002\",\"NFFC004\",\"NFKA001\",\"NFKA008\",\"NFQH001\",\"NFQK001\",\"NFQK002\",\"NFQK003\",\"NFQK004\",\"NGQH001\",\"NGQK001\",\"NGQK002\",\"NHDA004\",\"NJFA005\",\"NJPA029\",\"NZQH002\",\"NZQH005\",\"NZQJ001\",\"NZQK001\",\"NZQK002\",\"NZQK003\",\"NZQK005\",\"NZQK006\",\"NZQN001\",\"PAQK003\",\"PAQK007\",\"PAQL002\",\"PAQL003\",\"PAQL008\",\"PAQL009\",\"PBQM001\",\"PBQM002\",\"PBQM003\",\"PBQM004\",\"PCCA002\",\"PCQM001\",\"PDQK001\",\"PDQN001\",\"QAJA004\",\"QAMA002\",\"QCJA001\",\"QCJA003\",\"QEQJ001\",\"QEQK001\",\"QEQK004\",\"QEQK005\",\"QEQM001\",\"QEQN001\",\"QZFA001\",\"QZFA004\",\"QZFA007\",\"QZFA009\",\"QZFA010\",\"QZFA020\",\"QZFA036\",\"QZGA002\",\"QZHA001\",\"QZJA002\",\"QZJA012\",\"QZJA015\",\"QZJA017\",\"QZMA004\",\"QZQM001\",\"YYYY012\",\"YYYY019\",\"YYYY028\",\"YYYY033\",\"YYYY034\",\"YYYY057\",\"YYYY088\",\"YYYY115\",\"YYYY120\",\"YYYY145\",\"YYYY163\",\"YYYY172\",\"YYYY190\",\"YYYY200\",\"YYYY212\",\"YYYY220\",\"YYYY240\",\"YYYY250\",\"YYYY260\",\"YYYY270\",\"YYYY290\",\"YYYY300\",\"YYYY410\",\"YYYY415\",\"YYYY420\",\"YYYY600\",\"ZBQH001\",\"ZBQK001\",\"ZBQK002\",\"ZBQK003\",\"ZCQH001\",\"ZCQH002\",\"ZCQJ001\",\"ZCQJ002\",\"ZCQJ003\",\"ZCQJ004\",\"ZCQJ005\",\"ZCQJ006\",\"ZCQK001\",\"ZCQK002\",\"ZCQK003\",\"ZCQK004\",\"ZCQK005\",\"ZCQM001\",\"ZCQM002\",\"ZCQM003\",\"ZCQM004\",\"ZCQM005\",\"ZCQM006\",\"ZCQM007\",\"ZCQM008\",\"ZCQM010\",\"ZCQM011\",\"ZCQN001\",\"ZCQN002\",\"ZZQH033\",\"ZZQK024\",\"ZZQL007\",\"ZZQL013\",\"ZZQL016\",\"ZZQL017\",\"ZZQL018\",\"ZZQL019\",\"ZZQM001\",\"ZZQN001\"],\"index\":[0,1,2,3,4,5,6,7,8,9,10,11,12,13,14,15,16,17,18,19,20,21,22,23,24,25,26,27,28,29,30,31,32,33,34,35,36,37,38,39,40,41,42,43,44,45,46,47,48,49,50,51,52,53,54,55,56,57,58,59,60,61,62,63,64,65,66,67,68,69,70,71,72,73,74,75,76,77,78,79,80,81,82,83,84,85,86,87,88,89,90,91,92,93,94,95,96,97,98,99,100,101,102,103,104,105,106,107,108,109,110,111,112,113,114,115,116,117,118,119,120,121,122,123,124,125,126,127,128,129,130,131,132,133,134,135,136,137,138,139,140,141,142,143,144,145,146,147,148,149,150,151,152,153,154,155,156,157,158,159,160,161,162,163,164,165,166,167,168,169,170,171,172,173,174,175,176,177,178,179,180,181,182,183,184,185,186,187,188,189,190,191,192,193,194,195,196,197,198,199,200,201,202,203,204,205,206,207,208,209,210,211,212,213,214,215,216,217,218,219,220,221,222,223,224,225,226,227,228,229,230,231,232,233,234,235,236,237,238,239,240,241,242,243,244,245,246,247,248,249,250,251,252,253,254,255,256,257,258,259,260,261,262,263,264,265,266,267,268,269,270,271,272,273,274,275,276,277,278,279,280,281,282,283,284,285,286,287,288,289,290,291,292,293,294,295,296,297,298,299,300,301,302,303,304,305,306,307,308,309,310,311,312,313,314,315,316,317,318,319,320,321,322,323,324,325,326,327,328,329,330,331,332,333,334,335,336,337,338,339,340,341,342],\"nb\":{\"__ndarray__\":\"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\",\"dtype\":\"float64\",\"order\":\"little\",\"shape\":[343]},\"nb_sim\":[1,2,22,1,43,32,1,1,1,20,3,1,1,2,1,1,5,1,6,16,1,54,2,1,9,6,1,3,1,7,4,2,12,5,1,1,4,2,125,2,2,2,2,2,1,24,26,6,9,7,5,10,2,2,1,1,1,8,29,30,2,1,1,6,6,1,1,1,4,1,1,1,3,1,10,1,7,1,1,1,1,1,1,1,1,1,1,6,11,5,12,15,1,1,1,1,1,1,2,1,2,1,1,3,1,1,1,1,1,1,8,15,6,5,3,2,16,1,18,17,2,32,1,5,6,2,24,16,8,20,31,29,2,1,1,4,6,5,56,6,3,11,62,1,1,61,50,3,5,1,2,6,67,16,6,4,2,20,74,2,5,30,2,1,1,1,1,1,84,62,16,4,1,7,1,98,12,1,1,1,11,19,12,3,51,21,1,1,1,1,7,3,2,22,29,2,29,14,189,32,8,34,2,5,1,90,26,15,13,1,2,38,15,32,5,1,4,1,2,7,36,8,114,145,2,23,40,1,1,1,4,1,7,16,22,2,25,1,97,1,38,15,5,1,1,3,12,24,2,1,47,1,2,1,2,1,1,6,178,199,24,87,1,2,3,1,1,1,1,8,2,2,1,3,1,1,1,27,13,2,12,11,1,4,3,10,1,5,3,26,1,1,1,2,1,2,7,3,2,15,1,5,32,938,30,46,269,1,66,3,5,17,18,29,2,22,1,51,1,23,3,5,2,23,3,43,9,7,28,13,2,3,10,59,6,21,3,21,9,1,3,4,9]},\"selected\":{\"id\":\"1650\"},\"selection_policy\":{\"id\":\"1651\"}},\"id\":\"1639\",\"type\":\"ColumnDataSource\"},{\"attributes\":{},\"id\":\"1647\",\"type\":\"CategoricalTickFormatter\"},{\"attributes\":{},\"id\":\"1621\",\"type\":\"BasicTicker\"},{\"attributes\":{\"factors\":[\"NFKA008\",\"NFQH001\",\"NFQK001\",\"NFQK002\",\"NFQK003\",\"NFQK004\",\"NGQH001\",\"NGQK001\",\"NGQK002\",\"NHDA004\",\"NJFA005\",\"NJPA029\",\"NZQH002\",\"NZQH005\",\"NZQJ001\",\"NZQK001\",\"NZQK002\",\"NZQK003\",\"NZQK005\",\"NZQK006\",\"NZQN001\",\"PAQK003\",\"PAQK007\",\"PAQL002\",\"PAQL003\",\"PAQL008\",\"PAQL009\",\"PBQM001\",\"PBQM002\",\"PBQM003\",\"PBQM004\",\"PCCA002\",\"PCQM001\",\"PDQK001\",\"PDQN001\",\"QAJA004\",\"QAMA002\",\"QCJA001\",\"QCJA003\",\"QEQJ001\",\"QEQK001\",\"QEQK004\",\"QEQK005\"]},\"id\":\"1609\",\"type\":\"FactorRange\"},{\"attributes\":{\"source\":{\"id\":\"1656\"}},\"id\":\"1661\",\"type\":\"CDSView\"},{\"attributes\":{\"active_drag\":\"auto\",\"active_inspect\":\"auto\",\"active_multi\":null,\"active_scroll\":\"auto\",\"active_tap\":\"auto\",\"tools\":[{\"id\":\"1624\"},{\"id\":\"1625\"},{\"id\":\"1626\"},{\"id\":\"1627\"},{\"id\":\"1628\"},{\"id\":\"1629\"}]},\"id\":\"1631\",\"type\":\"Toolbar\"},{\"attributes\":{\"formatter\":{\"id\":\"1647\"},\"major_label_orientation\":0.7853981633974483,\"ticker\":{\"id\":\"1618\"}},\"id\":\"1617\",\"type\":\"CategoricalAxis\"},{\"attributes\":{},\"id\":\"1628\",\"type\":\"ResetTool\"},{\"attributes\":{},\"id\":\"1627\",\"type\":\"SaveTool\"},{\"attributes\":{\"label\":{\"value\":\"Real\"},\"renderers\":[{\"id\":\"1643\"}]},\"id\":\"1654\",\"type\":\"LegendItem\"},{\"attributes\":{},\"id\":\"1629\",\"type\":\"HelpTool\"},{\"attributes\":{\"axis\":{\"id\":\"1620\"},\"dimension\":1,\"ticker\":null,\"visible\":false},\"id\":\"1623\",\"type\":\"Grid\"},{\"attributes\":{},\"id\":\"1613\",\"type\":\"CategoricalScale\"},{\"attributes\":{\"axis\":{\"id\":\"1617\"},\"ticker\":null,\"visible\":false},\"id\":\"1619\",\"type\":\"Grid\"},{\"attributes\":{\"fill_alpha\":{\"value\":0.1},\"fill_color\":{\"value\":\"orange\"},\"line_alpha\":{\"value\":0.1},\"line_color\":{\"value\":\"#1f77b4\"},\"top\":{\"field\":\"nb_sim\"},\"width\":{\"value\":0.4},\"x\":{\"field\":\"ccam\",\"transform\":{\"id\":\"1655\"}}},\"id\":\"1659\",\"type\":\"VBar\"},{\"attributes\":{},\"id\":\"1611\",\"type\":\"DataRange1d\"},{\"attributes\":{\"fill_color\":{\"value\":\"orange\"},\"line_color\":{\"value\":\"#1f77b4\"},\"top\":{\"field\":\"nb_sim\"},\"width\":{\"value\":0.4},\"x\":{\"field\":\"ccam\",\"transform\":{\"id\":\"1655\"}}},\"id\":\"1658\",\"type\":\"VBar\"}],\"root_ids\":[\"1607\"]},\"title\":\"Bokeh Application\",\"version\":\"2.1.1\"}};\n",
       "  var render_items = [{\"docid\":\"ba594078-acd8-46f1-825b-45177a0f33b0\",\"root_ids\":[\"1607\"],\"roots\":{\"1607\":\"c5f4d476-3164-42b0-ab53-0b33a8b48e47\"}}];\n",
       "  root.Bokeh.embed.embed_items_notebook(docs_json, render_items);\n",
       "\n",
       "  }\n",
       "  if (root.Bokeh !== undefined) {\n",
       "    embed_document(root);\n",
       "  } else {\n",
       "    var attempts = 0;\n",
       "    var timer = setInterval(function(root) {\n",
       "      if (root.Bokeh !== undefined) {\n",
       "        clearInterval(timer);\n",
       "        embed_document(root);\n",
       "      } else {\n",
       "        attempts++;\n",
       "        if (attempts > 100) {\n",
       "          clearInterval(timer);\n",
       "          console.log(\"Bokeh: ERROR: Unable to run BokehJS code because BokehJS library is missing\");\n",
       "        }\n",
       "      }\n",
       "    }, 10, root)\n",
       "  }\n",
       "})(window);"
      ],
      "application/vnd.bokehjs_exec.v0+json": ""
     },
     "metadata": {
      "application/vnd.bokehjs_exec.v0+json": {
       "id": "1607"
      }
     },
     "output_type": "display_data"
    }
   ],
   "source": [
    "p = figure(title=None, x_range=ccams['ccam'][ (ccams['ccam']>=\"NFKA008\") & (ccams['ccam']<=\"QEQK005\") ].to_numpy(), plot_width=1200, plot_height=300)\n",
    "p.xgrid.visible = False\n",
    "p.ygrid.visible = False\n",
    "p.xaxis.major_label_orientation = math.pi/4\n",
    "p.vbar(x=dodge('ccam', -0.2, range=p.x_range), top='nb', source=ColumnDataSource(ccams), width=0.4,legend_label=\"Real\")\n",
    "p.vbar(x=dodge('ccam', +0.2, range=p.x_range), top='nb_sim', fill_color=\"orange\", width=0.4, source=ColumnDataSource(ccams),legend_label=\"Synth\")\n",
    "p.legend.location = \"top_left\"\n",
    "#p.xaxis.axis_label = 'CCAM procedures'\n",
    "p.yaxis.axis_label = 'Nb'\n",
    "show(p)"
   ]
  },
  {
   "cell_type": "markdown",
   "metadata": {},
   "source": [
    "### Quantitiative Comparisons\n",
    "\n",
    "We perform $\\chi^2$ test, and then a compute some distances."
   ]
  },
  {
   "cell_type": "code",
   "execution_count": 49,
   "metadata": {},
   "outputs": [
    {
     "data": {
      "text/plain": [
       "Power_divergenceResult(statistic=31.848218437400966, pvalue=6.366896456000184e-06)"
      ]
     },
     "execution_count": 49,
     "metadata": {},
     "output_type": "execute_result"
    }
   ],
   "source": [
    "chisquare(ccams['nb_sim'][ (ccams['nb_sim']>5) & (ccams['nb']>5) & (ccams['ccam']>=\"NFKA008\") & (ccams['ccam']<=\"NGQK002\") ].to_numpy(), ccams['nb'][ (ccams['nb_sim']>5) & (ccams['nb']>5) & (ccams['ccam']>=\"NFKA008\") & (ccams['ccam']<=\"NGQK002\") ].to_numpy(), ddof=1)"
   ]
  },
  {
   "cell_type": "markdown",
   "metadata": {},
   "source": [
    "Here, the $p$-value is null, then the null hypotheses (i.e. $H_0$: the two samples have the distribution) is rejected."
   ]
  },
  {
   "cell_type": "markdown",
   "metadata": {},
   "source": [
    "We now simply compute the JS divergence in this case (not a continuous distribution)"
   ]
  },
  {
   "cell_type": "code",
   "execution_count": 50,
   "metadata": {},
   "outputs": [
    {
     "data": {
      "text/plain": [
       "0.04455242321596659"
      ]
     },
     "execution_count": 50,
     "metadata": {},
     "output_type": "execute_result"
    }
   ],
   "source": [
    "js_divergence(ccams['nb'].to_numpy()/ccams['nb'].sum(), ccams['nb_sim'].to_numpy()/ccams['nb_sim'].sum())"
   ]
  },
  {
   "cell_type": "code",
   "execution_count": 51,
   "metadata": {},
   "outputs": [
    {
     "data": {
      "text/plain": [
       "0.0003764122598231488"
      ]
     },
     "execution_count": 51,
     "metadata": {},
     "output_type": "execute_result"
    }
   ],
   "source": [
    "wasserstein_distance(ccams['nb'].to_numpy()/ccams['nb'].sum(), ccams['nb_sim'].to_numpy()/ccams['nb_sim'].sum())"
   ]
  },
  {
   "cell_type": "code",
   "execution_count": 52,
   "metadata": {},
   "outputs": [
    {
     "name": "stdout",
     "output_type": "stream",
     "text": [
      "0.42376656479603786\n",
      "1.5748851864202984\n"
     ]
    }
   ],
   "source": [
    "# Compute of the total absolute difference between the two distributions\n",
    "print( np.sum(np.abs(ccams['nb_sim']-ccams['nb']))/np.sum(ccams['nb']) )\n",
    "# Compute of the mean absolute difference between the two distributions\n",
    "print( np.mean(np.abs(ccams['nb_sim']-ccams['nb'])/ccams['nb']) )"
   ]
  },
  {
   "cell_type": "code",
   "execution_count": null,
   "metadata": {},
   "outputs": [],
   "source": []
  }
 ],
 "metadata": {
  "kernelspec": {
   "display_name": "Python 3",
   "language": "python",
   "name": "python3"
  },
  "language_info": {
   "codemirror_mode": {
    "name": "ipython",
    "version": 3
   },
   "file_extension": ".py",
   "mimetype": "text/x-python",
   "name": "python",
   "nbconvert_exporter": "python",
   "pygments_lexer": "ipython3",
   "version": "3.8.5"
  }
 },
 "nbformat": 4,
 "nbformat_minor": 4
}
