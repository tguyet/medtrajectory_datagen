{
 "cells": [
  {
   "cell_type": "code",
   "execution_count": 1,
   "metadata": {},
   "outputs": [
    {
     "data": {
      "text/html": [
       "\n",
       "    <div class=\"bk-root\">\n",
       "        <a href=\"https://bokeh.org\" target=\"_blank\" class=\"bk-logo bk-logo-small bk-logo-notebook\"></a>\n",
       "        <span id=\"1001\">Loading BokehJS ...</span>\n",
       "    </div>"
      ]
     },
     "metadata": {},
     "output_type": "display_data"
    },
    {
     "data": {
      "application/javascript": [
       "\n",
       "(function(root) {\n",
       "  function now() {\n",
       "    return new Date();\n",
       "  }\n",
       "\n",
       "  var force = true;\n",
       "\n",
       "  if (typeof root._bokeh_onload_callbacks === \"undefined\" || force === true) {\n",
       "    root._bokeh_onload_callbacks = [];\n",
       "    root._bokeh_is_loading = undefined;\n",
       "  }\n",
       "\n",
       "  var JS_MIME_TYPE = 'application/javascript';\n",
       "  var HTML_MIME_TYPE = 'text/html';\n",
       "  var EXEC_MIME_TYPE = 'application/vnd.bokehjs_exec.v0+json';\n",
       "  var CLASS_NAME = 'output_bokeh rendered_html';\n",
       "\n",
       "  /**\n",
       "   * Render data to the DOM node\n",
       "   */\n",
       "  function render(props, node) {\n",
       "    var script = document.createElement(\"script\");\n",
       "    node.appendChild(script);\n",
       "  }\n",
       "\n",
       "  /**\n",
       "   * Handle when an output is cleared or removed\n",
       "   */\n",
       "  function handleClearOutput(event, handle) {\n",
       "    var cell = handle.cell;\n",
       "\n",
       "    var id = cell.output_area._bokeh_element_id;\n",
       "    var server_id = cell.output_area._bokeh_server_id;\n",
       "    // Clean up Bokeh references\n",
       "    if (id != null && id in Bokeh.index) {\n",
       "      Bokeh.index[id].model.document.clear();\n",
       "      delete Bokeh.index[id];\n",
       "    }\n",
       "\n",
       "    if (server_id !== undefined) {\n",
       "      // Clean up Bokeh references\n",
       "      var cmd = \"from bokeh.io.state import curstate; print(curstate().uuid_to_server['\" + server_id + \"'].get_sessions()[0].document.roots[0]._id)\";\n",
       "      cell.notebook.kernel.execute(cmd, {\n",
       "        iopub: {\n",
       "          output: function(msg) {\n",
       "            var id = msg.content.text.trim();\n",
       "            if (id in Bokeh.index) {\n",
       "              Bokeh.index[id].model.document.clear();\n",
       "              delete Bokeh.index[id];\n",
       "            }\n",
       "          }\n",
       "        }\n",
       "      });\n",
       "      // Destroy server and session\n",
       "      var cmd = \"import bokeh.io.notebook as ion; ion.destroy_server('\" + server_id + \"')\";\n",
       "      cell.notebook.kernel.execute(cmd);\n",
       "    }\n",
       "  }\n",
       "\n",
       "  /**\n",
       "   * Handle when a new output is added\n",
       "   */\n",
       "  function handleAddOutput(event, handle) {\n",
       "    var output_area = handle.output_area;\n",
       "    var output = handle.output;\n",
       "\n",
       "    // limit handleAddOutput to display_data with EXEC_MIME_TYPE content only\n",
       "    if ((output.output_type != \"display_data\") || (!output.data.hasOwnProperty(EXEC_MIME_TYPE))) {\n",
       "      return\n",
       "    }\n",
       "\n",
       "    var toinsert = output_area.element.find(\".\" + CLASS_NAME.split(' ')[0]);\n",
       "\n",
       "    if (output.metadata[EXEC_MIME_TYPE][\"id\"] !== undefined) {\n",
       "      toinsert[toinsert.length - 1].firstChild.textContent = output.data[JS_MIME_TYPE];\n",
       "      // store reference to embed id on output_area\n",
       "      output_area._bokeh_element_id = output.metadata[EXEC_MIME_TYPE][\"id\"];\n",
       "    }\n",
       "    if (output.metadata[EXEC_MIME_TYPE][\"server_id\"] !== undefined) {\n",
       "      var bk_div = document.createElement(\"div\");\n",
       "      bk_div.innerHTML = output.data[HTML_MIME_TYPE];\n",
       "      var script_attrs = bk_div.children[0].attributes;\n",
       "      for (var i = 0; i < script_attrs.length; i++) {\n",
       "        toinsert[toinsert.length - 1].firstChild.setAttribute(script_attrs[i].name, script_attrs[i].value);\n",
       "        toinsert[toinsert.length - 1].firstChild.textContent = bk_div.children[0].textContent\n",
       "      }\n",
       "      // store reference to server id on output_area\n",
       "      output_area._bokeh_server_id = output.metadata[EXEC_MIME_TYPE][\"server_id\"];\n",
       "    }\n",
       "  }\n",
       "\n",
       "  function register_renderer(events, OutputArea) {\n",
       "\n",
       "    function append_mime(data, metadata, element) {\n",
       "      // create a DOM node to render to\n",
       "      var toinsert = this.create_output_subarea(\n",
       "        metadata,\n",
       "        CLASS_NAME,\n",
       "        EXEC_MIME_TYPE\n",
       "      );\n",
       "      this.keyboard_manager.register_events(toinsert);\n",
       "      // Render to node\n",
       "      var props = {data: data, metadata: metadata[EXEC_MIME_TYPE]};\n",
       "      render(props, toinsert[toinsert.length - 1]);\n",
       "      element.append(toinsert);\n",
       "      return toinsert\n",
       "    }\n",
       "\n",
       "    /* Handle when an output is cleared or removed */\n",
       "    events.on('clear_output.CodeCell', handleClearOutput);\n",
       "    events.on('delete.Cell', handleClearOutput);\n",
       "\n",
       "    /* Handle when a new output is added */\n",
       "    events.on('output_added.OutputArea', handleAddOutput);\n",
       "\n",
       "    /**\n",
       "     * Register the mime type and append_mime function with output_area\n",
       "     */\n",
       "    OutputArea.prototype.register_mime_type(EXEC_MIME_TYPE, append_mime, {\n",
       "      /* Is output safe? */\n",
       "      safe: true,\n",
       "      /* Index of renderer in `output_area.display_order` */\n",
       "      index: 0\n",
       "    });\n",
       "  }\n",
       "\n",
       "  // register the mime type if in Jupyter Notebook environment and previously unregistered\n",
       "  if (root.Jupyter !== undefined) {\n",
       "    var events = require('base/js/events');\n",
       "    var OutputArea = require('notebook/js/outputarea').OutputArea;\n",
       "\n",
       "    if (OutputArea.prototype.mime_types().indexOf(EXEC_MIME_TYPE) == -1) {\n",
       "      register_renderer(events, OutputArea);\n",
       "    }\n",
       "  }\n",
       "\n",
       "  \n",
       "  if (typeof (root._bokeh_timeout) === \"undefined\" || force === true) {\n",
       "    root._bokeh_timeout = Date.now() + 5000;\n",
       "    root._bokeh_failed_load = false;\n",
       "  }\n",
       "\n",
       "  var NB_LOAD_WARNING = {'data': {'text/html':\n",
       "     \"<div style='background-color: #fdd'>\\n\"+\n",
       "     \"<p>\\n\"+\n",
       "     \"BokehJS does not appear to have successfully loaded. If loading BokehJS from CDN, this \\n\"+\n",
       "     \"may be due to a slow or bad network connection. Possible fixes:\\n\"+\n",
       "     \"</p>\\n\"+\n",
       "     \"<ul>\\n\"+\n",
       "     \"<li>re-rerun `output_notebook()` to attempt to load from CDN again, or</li>\\n\"+\n",
       "     \"<li>use INLINE resources instead, as so:</li>\\n\"+\n",
       "     \"</ul>\\n\"+\n",
       "     \"<code>\\n\"+\n",
       "     \"from bokeh.resources import INLINE\\n\"+\n",
       "     \"output_notebook(resources=INLINE)\\n\"+\n",
       "     \"</code>\\n\"+\n",
       "     \"</div>\"}};\n",
       "\n",
       "  function display_loaded() {\n",
       "    var el = document.getElementById(\"1001\");\n",
       "    if (el != null) {\n",
       "      el.textContent = \"BokehJS is loading...\";\n",
       "    }\n",
       "    if (root.Bokeh !== undefined) {\n",
       "      if (el != null) {\n",
       "        el.textContent = \"BokehJS \" + root.Bokeh.version + \" successfully loaded.\";\n",
       "      }\n",
       "    } else if (Date.now() < root._bokeh_timeout) {\n",
       "      setTimeout(display_loaded, 100)\n",
       "    }\n",
       "  }\n",
       "\n",
       "\n",
       "  function run_callbacks() {\n",
       "    try {\n",
       "      root._bokeh_onload_callbacks.forEach(function(callback) {\n",
       "        if (callback != null)\n",
       "          callback();\n",
       "      });\n",
       "    } finally {\n",
       "      delete root._bokeh_onload_callbacks\n",
       "    }\n",
       "    console.debug(\"Bokeh: all callbacks have finished\");\n",
       "  }\n",
       "\n",
       "  function load_libs(css_urls, js_urls, callback) {\n",
       "    if (css_urls == null) css_urls = [];\n",
       "    if (js_urls == null) js_urls = [];\n",
       "\n",
       "    root._bokeh_onload_callbacks.push(callback);\n",
       "    if (root._bokeh_is_loading > 0) {\n",
       "      console.debug(\"Bokeh: BokehJS is being loaded, scheduling callback at\", now());\n",
       "      return null;\n",
       "    }\n",
       "    if (js_urls == null || js_urls.length === 0) {\n",
       "      run_callbacks();\n",
       "      return null;\n",
       "    }\n",
       "    console.debug(\"Bokeh: BokehJS not loaded, scheduling load and callback at\", now());\n",
       "    root._bokeh_is_loading = css_urls.length + js_urls.length;\n",
       "\n",
       "    function on_load() {\n",
       "      root._bokeh_is_loading--;\n",
       "      if (root._bokeh_is_loading === 0) {\n",
       "        console.debug(\"Bokeh: all BokehJS libraries/stylesheets loaded\");\n",
       "        run_callbacks()\n",
       "      }\n",
       "    }\n",
       "\n",
       "    function on_error() {\n",
       "      console.error(\"failed to load \" + url);\n",
       "    }\n",
       "\n",
       "    for (var i = 0; i < css_urls.length; i++) {\n",
       "      var url = css_urls[i];\n",
       "      const element = document.createElement(\"link\");\n",
       "      element.onload = on_load;\n",
       "      element.onerror = on_error;\n",
       "      element.rel = \"stylesheet\";\n",
       "      element.type = \"text/css\";\n",
       "      element.href = url;\n",
       "      console.debug(\"Bokeh: injecting link tag for BokehJS stylesheet: \", url);\n",
       "      document.body.appendChild(element);\n",
       "    }\n",
       "\n",
       "    const hashes = {\"https://cdn.bokeh.org/bokeh/release/bokeh-2.1.1.min.js\": \"kLr4fYcqcSpbuI95brIH3vnnYCquzzSxHPU6XGQCIkQRGJwhg0StNbj1eegrHs12\", \"https://cdn.bokeh.org/bokeh/release/bokeh-widgets-2.1.1.min.js\": \"xIGPmVtaOm+z0BqfSOMn4lOR6ciex448GIKG4eE61LsAvmGj48XcMQZtKcE/UXZe\", \"https://cdn.bokeh.org/bokeh/release/bokeh-tables-2.1.1.min.js\": \"Dc9u1wF/0zApGIWoBbH77iWEHtdmkuYWG839Uzmv8y8yBLXebjO9ZnERsde5Ln/P\", \"https://cdn.bokeh.org/bokeh/release/bokeh-gl-2.1.1.min.js\": \"cT9JaBz7GiRXdENrJLZNSC6eMNF3nh3fa5fTF51Svp+ukxPdwcU5kGXGPBgDCa2j\"};\n",
       "\n",
       "    for (var i = 0; i < js_urls.length; i++) {\n",
       "      var url = js_urls[i];\n",
       "      var element = document.createElement('script');\n",
       "      element.onload = on_load;\n",
       "      element.onerror = on_error;\n",
       "      element.async = false;\n",
       "      element.src = url;\n",
       "      if (url in hashes) {\n",
       "        element.crossOrigin = \"anonymous\";\n",
       "        element.integrity = \"sha384-\" + hashes[url];\n",
       "      }\n",
       "      console.debug(\"Bokeh: injecting script tag for BokehJS library: \", url);\n",
       "      document.head.appendChild(element);\n",
       "    }\n",
       "  };\n",
       "\n",
       "  function inject_raw_css(css) {\n",
       "    const element = document.createElement(\"style\");\n",
       "    element.appendChild(document.createTextNode(css));\n",
       "    document.body.appendChild(element);\n",
       "  }\n",
       "\n",
       "  \n",
       "  var js_urls = [\"https://cdn.bokeh.org/bokeh/release/bokeh-2.1.1.min.js\", \"https://cdn.bokeh.org/bokeh/release/bokeh-widgets-2.1.1.min.js\", \"https://cdn.bokeh.org/bokeh/release/bokeh-tables-2.1.1.min.js\", \"https://cdn.bokeh.org/bokeh/release/bokeh-gl-2.1.1.min.js\"];\n",
       "  var css_urls = [];\n",
       "  \n",
       "\n",
       "  var inline_js = [\n",
       "    function(Bokeh) {\n",
       "      Bokeh.set_log_level(\"info\");\n",
       "    },\n",
       "    function(Bokeh) {\n",
       "    \n",
       "    \n",
       "    }\n",
       "  ];\n",
       "\n",
       "  function run_inline_js() {\n",
       "    \n",
       "    if (root.Bokeh !== undefined || force === true) {\n",
       "      \n",
       "    for (var i = 0; i < inline_js.length; i++) {\n",
       "      inline_js[i].call(root, root.Bokeh);\n",
       "    }\n",
       "    if (force === true) {\n",
       "        display_loaded();\n",
       "      }} else if (Date.now() < root._bokeh_timeout) {\n",
       "      setTimeout(run_inline_js, 100);\n",
       "    } else if (!root._bokeh_failed_load) {\n",
       "      console.log(\"Bokeh: BokehJS failed to load within specified timeout.\");\n",
       "      root._bokeh_failed_load = true;\n",
       "    } else if (force !== true) {\n",
       "      var cell = $(document.getElementById(\"1001\")).parents('.cell').data().cell;\n",
       "      cell.output_area.append_execute_result(NB_LOAD_WARNING)\n",
       "    }\n",
       "\n",
       "  }\n",
       "\n",
       "  if (root._bokeh_is_loading === 0) {\n",
       "    console.debug(\"Bokeh: BokehJS loaded, going straight to plotting\");\n",
       "    run_inline_js();\n",
       "  } else {\n",
       "    load_libs(css_urls, js_urls, function() {\n",
       "      console.debug(\"Bokeh: BokehJS plotting callback run at\", now());\n",
       "      run_inline_js();\n",
       "    });\n",
       "  }\n",
       "}(window));"
      ],
      "application/vnd.bokehjs_load.v0+json": "\n(function(root) {\n  function now() {\n    return new Date();\n  }\n\n  var force = true;\n\n  if (typeof root._bokeh_onload_callbacks === \"undefined\" || force === true) {\n    root._bokeh_onload_callbacks = [];\n    root._bokeh_is_loading = undefined;\n  }\n\n  \n\n  \n  if (typeof (root._bokeh_timeout) === \"undefined\" || force === true) {\n    root._bokeh_timeout = Date.now() + 5000;\n    root._bokeh_failed_load = false;\n  }\n\n  var NB_LOAD_WARNING = {'data': {'text/html':\n     \"<div style='background-color: #fdd'>\\n\"+\n     \"<p>\\n\"+\n     \"BokehJS does not appear to have successfully loaded. If loading BokehJS from CDN, this \\n\"+\n     \"may be due to a slow or bad network connection. Possible fixes:\\n\"+\n     \"</p>\\n\"+\n     \"<ul>\\n\"+\n     \"<li>re-rerun `output_notebook()` to attempt to load from CDN again, or</li>\\n\"+\n     \"<li>use INLINE resources instead, as so:</li>\\n\"+\n     \"</ul>\\n\"+\n     \"<code>\\n\"+\n     \"from bokeh.resources import INLINE\\n\"+\n     \"output_notebook(resources=INLINE)\\n\"+\n     \"</code>\\n\"+\n     \"</div>\"}};\n\n  function display_loaded() {\n    var el = document.getElementById(\"1001\");\n    if (el != null) {\n      el.textContent = \"BokehJS is loading...\";\n    }\n    if (root.Bokeh !== undefined) {\n      if (el != null) {\n        el.textContent = \"BokehJS \" + root.Bokeh.version + \" successfully loaded.\";\n      }\n    } else if (Date.now() < root._bokeh_timeout) {\n      setTimeout(display_loaded, 100)\n    }\n  }\n\n\n  function run_callbacks() {\n    try {\n      root._bokeh_onload_callbacks.forEach(function(callback) {\n        if (callback != null)\n          callback();\n      });\n    } finally {\n      delete root._bokeh_onload_callbacks\n    }\n    console.debug(\"Bokeh: all callbacks have finished\");\n  }\n\n  function load_libs(css_urls, js_urls, callback) {\n    if (css_urls == null) css_urls = [];\n    if (js_urls == null) js_urls = [];\n\n    root._bokeh_onload_callbacks.push(callback);\n    if (root._bokeh_is_loading > 0) {\n      console.debug(\"Bokeh: BokehJS is being loaded, scheduling callback at\", now());\n      return null;\n    }\n    if (js_urls == null || js_urls.length === 0) {\n      run_callbacks();\n      return null;\n    }\n    console.debug(\"Bokeh: BokehJS not loaded, scheduling load and callback at\", now());\n    root._bokeh_is_loading = css_urls.length + js_urls.length;\n\n    function on_load() {\n      root._bokeh_is_loading--;\n      if (root._bokeh_is_loading === 0) {\n        console.debug(\"Bokeh: all BokehJS libraries/stylesheets loaded\");\n        run_callbacks()\n      }\n    }\n\n    function on_error() {\n      console.error(\"failed to load \" + url);\n    }\n\n    for (var i = 0; i < css_urls.length; i++) {\n      var url = css_urls[i];\n      const element = document.createElement(\"link\");\n      element.onload = on_load;\n      element.onerror = on_error;\n      element.rel = \"stylesheet\";\n      element.type = \"text/css\";\n      element.href = url;\n      console.debug(\"Bokeh: injecting link tag for BokehJS stylesheet: \", url);\n      document.body.appendChild(element);\n    }\n\n    const hashes = {\"https://cdn.bokeh.org/bokeh/release/bokeh-2.1.1.min.js\": \"kLr4fYcqcSpbuI95brIH3vnnYCquzzSxHPU6XGQCIkQRGJwhg0StNbj1eegrHs12\", \"https://cdn.bokeh.org/bokeh/release/bokeh-widgets-2.1.1.min.js\": \"xIGPmVtaOm+z0BqfSOMn4lOR6ciex448GIKG4eE61LsAvmGj48XcMQZtKcE/UXZe\", \"https://cdn.bokeh.org/bokeh/release/bokeh-tables-2.1.1.min.js\": \"Dc9u1wF/0zApGIWoBbH77iWEHtdmkuYWG839Uzmv8y8yBLXebjO9ZnERsde5Ln/P\", \"https://cdn.bokeh.org/bokeh/release/bokeh-gl-2.1.1.min.js\": \"cT9JaBz7GiRXdENrJLZNSC6eMNF3nh3fa5fTF51Svp+ukxPdwcU5kGXGPBgDCa2j\"};\n\n    for (var i = 0; i < js_urls.length; i++) {\n      var url = js_urls[i];\n      var element = document.createElement('script');\n      element.onload = on_load;\n      element.onerror = on_error;\n      element.async = false;\n      element.src = url;\n      if (url in hashes) {\n        element.crossOrigin = \"anonymous\";\n        element.integrity = \"sha384-\" + hashes[url];\n      }\n      console.debug(\"Bokeh: injecting script tag for BokehJS library: \", url);\n      document.head.appendChild(element);\n    }\n  };\n\n  function inject_raw_css(css) {\n    const element = document.createElement(\"style\");\n    element.appendChild(document.createTextNode(css));\n    document.body.appendChild(element);\n  }\n\n  \n  var js_urls = [\"https://cdn.bokeh.org/bokeh/release/bokeh-2.1.1.min.js\", \"https://cdn.bokeh.org/bokeh/release/bokeh-widgets-2.1.1.min.js\", \"https://cdn.bokeh.org/bokeh/release/bokeh-tables-2.1.1.min.js\", \"https://cdn.bokeh.org/bokeh/release/bokeh-gl-2.1.1.min.js\"];\n  var css_urls = [];\n  \n\n  var inline_js = [\n    function(Bokeh) {\n      Bokeh.set_log_level(\"info\");\n    },\n    function(Bokeh) {\n    \n    \n    }\n  ];\n\n  function run_inline_js() {\n    \n    if (root.Bokeh !== undefined || force === true) {\n      \n    for (var i = 0; i < inline_js.length; i++) {\n      inline_js[i].call(root, root.Bokeh);\n    }\n    if (force === true) {\n        display_loaded();\n      }} else if (Date.now() < root._bokeh_timeout) {\n      setTimeout(run_inline_js, 100);\n    } else if (!root._bokeh_failed_load) {\n      console.log(\"Bokeh: BokehJS failed to load within specified timeout.\");\n      root._bokeh_failed_load = true;\n    } else if (force !== true) {\n      var cell = $(document.getElementById(\"1001\")).parents('.cell').data().cell;\n      cell.output_area.append_execute_result(NB_LOAD_WARNING)\n    }\n\n  }\n\n  if (root._bokeh_is_loading === 0) {\n    console.debug(\"Bokeh: BokehJS loaded, going straight to plotting\");\n    run_inline_js();\n  } else {\n    load_libs(css_urls, js_urls, function() {\n      console.debug(\"Bokeh: BokehJS plotting callback run at\", now());\n      run_inline_js();\n    });\n  }\n}(window));"
     },
     "metadata": {},
     "output_type": "display_data"
    }
   ],
   "source": [
    "import sqlite3\n",
    "import pandas as pd\n",
    "import numpy as np\n",
    "import matplotlib.pyplot as plt\n",
    "import math\n",
    "from bokeh.io import push_notebook, show, output_notebook\n",
    "from bokeh.plotting import figure\n",
    "from bokeh.models import ColumnDataSource\n",
    "output_notebook()"
   ]
  },
  {
   "cell_type": "markdown",
   "metadata": {},
   "source": [
    "On commence par charger la vraie population"
   ]
  },
  {
   "cell_type": "code",
   "execution_count": 2,
   "metadata": {},
   "outputs": [
    {
     "name": "stderr",
     "output_type": "stream",
     "text": [
      "/home/tguyet/.local/lib/python3.8/site-packages/IPython/core/interactiveshell.py:3062: DtypeWarning: Columns (3) have mixed types.Specify dtype option on import or set low_memory=False.\n",
      "  has_raised = await self.run_ast_nodes(code_ast.body, cell_name,\n"
     ]
    }
   ],
   "source": [
    "import os.path\n",
    "outdir=\"../datarep\"\n",
    "pop_saq = pd.read_csv( os.path.join(outdir,\"pop.csv\") )\n",
    "pop_tot = pop_saq['pop'].sum()"
   ]
  },
  {
   "cell_type": "code",
   "execution_count": 3,
   "metadata": {},
   "outputs": [
    {
     "data": {
      "text/plain": [
       "'\\n# Cas de la simulation pour les départements 22 et 35\\nconn = sqlite3.connect(\"snds_2235.db\")\\ndpt1=\"22\"\\ndpt2=\"35\"\\n'"
      ]
     },
     "execution_count": 3,
     "metadata": {},
     "output_type": "execute_result"
    }
   ],
   "source": [
    "# Cas de la simulation pour les départements 83 et 13\n",
    "\"\"\"\n",
    "conn = sqlite3.connect(\"snds_8313.db\")\n",
    "dpt1=\"83\"\n",
    "dpt2=\"13\"\n",
    "\"\"\"\n",
    "\"\"\"\n",
    "# Cas de la simulation pour les départements 22 et 35\n",
    "conn = sqlite3.connect(\"snds_2235.db\")\n",
    "dpt1=\"22\"\n",
    "dpt2=\"35\"\n",
    "\"\"\""
   ]
  },
  {
   "cell_type": "code",
   "execution_count": 4,
   "metadata": {},
   "outputs": [],
   "source": [
    "conn = sqlite3.connect(\"snds_8313.db\")\n",
    "dpt1=\"83\"\n",
    "dpt2=\"13\""
   ]
  },
  {
   "cell_type": "markdown",
   "metadata": {},
   "source": [
    "## Comparaison des répartitions de population"
   ]
  },
  {
   "cell_type": "code",
   "execution_count": 5,
   "metadata": {},
   "outputs": [],
   "source": [
    "# On effectue une requête pour extraire les informations sur la population\n",
    "df = pd.read_sql_query(\"SELECT BEN_SEX_COD, BEN_RES_DPT, BEN_NAI_ANN, count(*) FROM IR_BEN_R GROUP BY BEN_SEX_COD, BEN_RES_DPT, BEN_NAI_ANN;\", conn)\n",
    "df.rename(columns={'BEN_SEX_COD':'sex','BEN_RES_DPT':'dpt', 'count(*)':'count'}, inplace=True)\n",
    "df['age']=2019-df.BEN_NAI_ANN\n",
    "df=df[['sex','dpt','age','count']]"
   ]
  },
  {
   "cell_type": "markdown",
   "metadata": {},
   "source": [
    "### Comparaison des ages"
   ]
  },
  {
   "cell_type": "code",
   "execution_count": 6,
   "metadata": {},
   "outputs": [
    {
     "data": {
      "text/plain": [
       "<matplotlib.axes._subplots.AxesSubplot at 0x7f3fafb650d0>"
      ]
     },
     "execution_count": 6,
     "metadata": {},
     "output_type": "execute_result"
    },
    {
     "data": {
      "image/png": "[encoded data removed]",
      "text/plain": [
       "<Figure size 432x288 with 1 Axes>"
      ]
     },
     "metadata": {
      "needs_background": "light"
     },
     "output_type": "display_data"
    }
   ],
   "source": [
    "df_age=df.groupby([\"age\"]).agg({\"count\":\"sum\"}).reset_index()\n",
    "df_age.plot(x='age',y=\"count\")"
   ]
  },
  {
   "cell_type": "code",
   "execution_count": 7,
   "metadata": {},
   "outputs": [
    {
     "data": {
      "text/html": [
       "<div>\n",
       "<style scoped>\n",
       "    .dataframe tbody tr th:only-of-type {\n",
       "        vertical-align: middle;\n",
       "    }\n",
       "\n",
       "    .dataframe tbody tr th {\n",
       "        vertical-align: top;\n",
       "    }\n",
       "\n",
       "    .dataframe thead th {\n",
       "        text-align: right;\n",
       "    }\n",
       "</style>\n",
       "<table border=\"1\" class=\"dataframe\">\n",
       "  <thead>\n",
       "    <tr style=\"text-align: right;\">\n",
       "      <th></th>\n",
       "      <th>bin</th>\n",
       "      <th>count</th>\n",
       "    </tr>\n",
       "  </thead>\n",
       "  <tbody>\n",
       "    <tr>\n",
       "      <th>0</th>\n",
       "      <td>0</td>\n",
       "      <td>626</td>\n",
       "    </tr>\n",
       "    <tr>\n",
       "      <th>1</th>\n",
       "      <td>5</td>\n",
       "      <td>528</td>\n",
       "    </tr>\n",
       "    <tr>\n",
       "      <th>2</th>\n",
       "      <td>10</td>\n",
       "      <td>565</td>\n",
       "    </tr>\n",
       "    <tr>\n",
       "      <th>3</th>\n",
       "      <td>15</td>\n",
       "      <td>533</td>\n",
       "    </tr>\n",
       "    <tr>\n",
       "      <th>4</th>\n",
       "      <td>20</td>\n",
       "      <td>504</td>\n",
       "    </tr>\n",
       "  </tbody>\n",
       "</table>\n",
       "</div>"
      ],
      "text/plain": [
       "  bin  count\n",
       "0   0    626\n",
       "1   5    528\n",
       "2  10    565\n",
       "3  15    533\n",
       "4  20    504"
      ]
     },
     "execution_count": 7,
     "metadata": {},
     "output_type": "execute_result"
    }
   ],
   "source": [
    "#Besoin de faire des aggrégats pour comparer\n",
    "age_bins=list(np.arange(0,100,5))\n",
    "age_bins.append(125)\n",
    "df_age['bin']=pd.cut(df_age.age,bins=age_bins,include_lowest=True, labels=age_bins[:-1])\n",
    "df_age_agg=df_age.groupby('bin').agg({\"count\":\"sum\"}).reset_index()\n",
    "df_age_agg.head()"
   ]
  },
  {
   "cell_type": "code",
   "execution_count": 8,
   "metadata": {},
   "outputs": [
    {
     "data": {
      "text/plain": [
       "<matplotlib.axes._subplots.AxesSubplot at 0x7f3fafaa77f0>"
      ]
     },
     "execution_count": 8,
     "metadata": {},
     "output_type": "execute_result"
    },
    {
     "data": {
      "image/png": "[encoded data removed]",
      "text/plain": [
       "<Figure size 432x288 with 1 Axes>"
      ]
     },
     "metadata": {
      "needs_background": "light"
     },
     "output_type": "display_data"
    }
   ],
   "source": [
    "df_age_agg.plot.bar(x='bin',y=\"count\")\n"
   ]
  },
  {
   "cell_type": "code",
   "execution_count": 9,
   "metadata": {},
   "outputs": [],
   "source": [
    "pop_seq_dpt=pop_saq[ (pop_saq['dpt']==dpt1) | (pop_saq['dpt']==dpt2)].groupby(['age']).agg({'pop':'sum'}).reset_index()"
   ]
  },
  {
   "cell_type": "code",
   "execution_count": 10,
   "metadata": {},
   "outputs": [],
   "source": [
    "#on ramène la population\n",
    "ratio = sum(df_age_agg['count'])/sum(pop_seq_dpt['pop'])\n",
    "pop_seq_dpt['pop'] *= ratio"
   ]
  },
  {
   "cell_type": "code",
   "execution_count": 11,
   "metadata": {},
   "outputs": [
    {
     "data": {
      "text/plain": [
       "<matplotlib.axes._subplots.AxesSubplot at 0x7f3faf337f10>"
      ]
     },
     "execution_count": 11,
     "metadata": {},
     "output_type": "execute_result"
    },
    {
     "data": {
      "image/png": "[encoded data removed]",
      "text/plain": [
       "<Figure size 432x288 with 1 Axes>"
      ]
     },
     "metadata": {
      "needs_background": "light"
     },
     "output_type": "display_data"
    }
   ],
   "source": [
    "pop_seq_dpt.plot.bar(x=\"age\",y=\"pop\")"
   ]
  },
  {
   "cell_type": "code",
   "execution_count": 12,
   "metadata": {},
   "outputs": [
    {
     "data": {
      "image/png": "[encoded data removed]",
      "text/plain": [
       "<Figure size 576x288 with 1 Axes>"
      ]
     },
     "metadata": {
      "needs_background": "light"
     },
     "output_type": "display_data"
    }
   ],
   "source": [
    "#On construit finalement un beau graphiques\n",
    "pops=pd.merge(pop_seq_dpt, df_age_agg, left_on=\"age\", right_on=\"bin\")[['age','pop','count']].rename(columns={'count':'pop_sim'})\n",
    "\n",
    "fig, axs = plt.subplots(figsize=(8,4))\n",
    "pops.set_index(\"age\").plot.bar(ax=axs)\n",
    "axs.set_ylabel(\"nb\")\n",
    "fig.savefig(\"pop_age_\"+str(dpt1)+str(dpt2)+\".svg\")"
   ]
  },
  {
   "cell_type": "code",
   "execution_count": 13,
   "metadata": {},
   "outputs": [
    {
     "name": "stdout",
     "output_type": "stream",
     "text": [
      "0.06316212312922018\n",
      "0.11321244653837718\n"
     ]
    }
   ],
   "source": [
    "# calcul de la difference absolue relative \"globale\"\n",
    "print( np.sum(np.abs(pops['pop_sim']-pops['pop']))/np.sum(pops['pop']) )\n",
    "#calcul de la différente relative moyenne (entâchée à cause de grosses différences relatives aux extreminées notamment chez les vieux!!)\n",
    "print( np.mean(np.abs(pops['pop_sim']-pops['pop'])/pops['pop']) )"
   ]
  },
  {
   "cell_type": "markdown",
   "metadata": {},
   "source": [
    "### On fait maintenant pour les sexes\n",
    "Dans ce cas, c'est plus simple ... il n'y a pas de binarisation des âges à faire"
   ]
  },
  {
   "cell_type": "code",
   "execution_count": 14,
   "metadata": {},
   "outputs": [
    {
     "data": {
      "text/html": [
       "<div>\n",
       "<style scoped>\n",
       "    .dataframe tbody tr th:only-of-type {\n",
       "        vertical-align: middle;\n",
       "    }\n",
       "\n",
       "    .dataframe tbody tr th {\n",
       "        vertical-align: top;\n",
       "    }\n",
       "\n",
       "    .dataframe thead th {\n",
       "        text-align: right;\n",
       "    }\n",
       "</style>\n",
       "<table border=\"1\" class=\"dataframe\">\n",
       "  <thead>\n",
       "    <tr style=\"text-align: right;\">\n",
       "      <th></th>\n",
       "      <th>sex</th>\n",
       "      <th>count</th>\n",
       "    </tr>\n",
       "  </thead>\n",
       "  <tbody>\n",
       "    <tr>\n",
       "      <th>0</th>\n",
       "      <td>1</td>\n",
       "      <td>4393</td>\n",
       "    </tr>\n",
       "    <tr>\n",
       "      <th>1</th>\n",
       "      <td>2</td>\n",
       "      <td>4808</td>\n",
       "    </tr>\n",
       "  </tbody>\n",
       "</table>\n",
       "</div>"
      ],
      "text/plain": [
       "   sex  count\n",
       "0    1   4393\n",
       "1    2   4808"
      ]
     },
     "execution_count": 14,
     "metadata": {},
     "output_type": "execute_result"
    }
   ],
   "source": [
    "df_sex=df.groupby([\"sex\"]).agg({\"count\":\"sum\"}).reset_index()\n",
    "df_sex"
   ]
  },
  {
   "cell_type": "code",
   "execution_count": 15,
   "metadata": {},
   "outputs": [
    {
     "data": {
      "text/html": [
       "<div>\n",
       "<style scoped>\n",
       "    .dataframe tbody tr th:only-of-type {\n",
       "        vertical-align: middle;\n",
       "    }\n",
       "\n",
       "    .dataframe tbody tr th {\n",
       "        vertical-align: top;\n",
       "    }\n",
       "\n",
       "    .dataframe thead th {\n",
       "        text-align: right;\n",
       "    }\n",
       "</style>\n",
       "<table border=\"1\" class=\"dataframe\">\n",
       "  <thead>\n",
       "    <tr style=\"text-align: right;\">\n",
       "      <th></th>\n",
       "      <th>sex</th>\n",
       "      <th>pop</th>\n",
       "    </tr>\n",
       "  </thead>\n",
       "  <tbody>\n",
       "    <tr>\n",
       "      <th>0</th>\n",
       "      <td>1</td>\n",
       "      <td>1.473403e+06</td>\n",
       "    </tr>\n",
       "    <tr>\n",
       "      <th>1</th>\n",
       "      <td>2</td>\n",
       "      <td>1.599484e+06</td>\n",
       "    </tr>\n",
       "  </tbody>\n",
       "</table>\n",
       "</div>"
      ],
      "text/plain": [
       "   sex           pop\n",
       "0    1  1.473403e+06\n",
       "1    2  1.599484e+06"
      ]
     },
     "execution_count": 15,
     "metadata": {},
     "output_type": "execute_result"
    }
   ],
   "source": [
    "pop_sex_dpt=pop_saq[ (pop_saq['dpt']==dpt1) | (pop_saq['dpt']==dpt2)].groupby(['sex']).agg({'pop':'sum'}).reset_index()\n",
    "pop_sex_dpt"
   ]
  },
  {
   "cell_type": "code",
   "execution_count": 16,
   "metadata": {},
   "outputs": [],
   "source": [
    "#on ramène la population\n",
    "pop_sex_dpt['pop'] = ratio*pop_sex_dpt['pop']\n",
    "#on merge les jeux de données\n",
    "pops_sex=pd.merge(pop_sex_dpt,df_sex,on='sex').rename(columns={\"count\":\"pop_sim\"})"
   ]
  },
  {
   "cell_type": "code",
   "execution_count": 17,
   "metadata": {},
   "outputs": [
    {
     "data": {
      "image/png": "[encoded data removed]",
      "text/plain": [
       "<Figure size 432x288 with 1 Axes>"
      ]
     },
     "metadata": {
      "needs_background": "light"
     },
     "output_type": "display_data"
    }
   ],
   "source": [
    "fig, axs = plt.subplots()\n",
    "pops_sex.set_index(\"sex\").plot.bar(ax=axs)\n",
    "axs.set_ylabel(\"nb\")\n",
    "fig.savefig(\"pop_sex_\"+str(dpt1)+str(dpt2)+\".svg\")"
   ]
  },
  {
   "cell_type": "markdown",
   "metadata": {},
   "source": [
    "## On passe maintenant à une comparaison des distributions de médicaments"
   ]
  },
  {
   "cell_type": "code",
   "execution_count": 18,
   "metadata": {},
   "outputs": [
    {
     "data": {
      "text/html": [
       "<div>\n",
       "<style scoped>\n",
       "    .dataframe tbody tr th:only-of-type {\n",
       "        vertical-align: middle;\n",
       "    }\n",
       "\n",
       "    .dataframe tbody tr th {\n",
       "        vertical-align: top;\n",
       "    }\n",
       "\n",
       "    .dataframe thead th {\n",
       "        text-align: right;\n",
       "    }\n",
       "</style>\n",
       "<table border=\"1\" class=\"dataframe\">\n",
       "  <thead>\n",
       "    <tr style=\"text-align: right;\">\n",
       "      <th></th>\n",
       "      <th>ATC2</th>\n",
       "      <th>nb</th>\n",
       "    </tr>\n",
       "  </thead>\n",
       "  <tbody>\n",
       "    <tr>\n",
       "      <th>0</th>\n",
       "      <td>A01</td>\n",
       "      <td>4378</td>\n",
       "    </tr>\n",
       "    <tr>\n",
       "      <th>1</th>\n",
       "      <td>A02</td>\n",
       "      <td>16461</td>\n",
       "    </tr>\n",
       "    <tr>\n",
       "      <th>2</th>\n",
       "      <td>A03</td>\n",
       "      <td>8951</td>\n",
       "    </tr>\n",
       "    <tr>\n",
       "      <th>3</th>\n",
       "      <td>A04</td>\n",
       "      <td>1438</td>\n",
       "    </tr>\n",
       "    <tr>\n",
       "      <th>4</th>\n",
       "      <td>A05</td>\n",
       "      <td>428</td>\n",
       "    </tr>\n",
       "    <tr>\n",
       "      <th>...</th>\n",
       "      <td>...</td>\n",
       "      <td>...</td>\n",
       "    </tr>\n",
       "    <tr>\n",
       "      <th>73</th>\n",
       "      <td>S02</td>\n",
       "      <td>1065</td>\n",
       "    </tr>\n",
       "    <tr>\n",
       "      <th>74</th>\n",
       "      <td>V01</td>\n",
       "      <td>50</td>\n",
       "    </tr>\n",
       "    <tr>\n",
       "      <th>75</th>\n",
       "      <td>V03</td>\n",
       "      <td>174</td>\n",
       "    </tr>\n",
       "    <tr>\n",
       "      <th>76</th>\n",
       "      <td>V04</td>\n",
       "      <td>89</td>\n",
       "    </tr>\n",
       "    <tr>\n",
       "      <th>77</th>\n",
       "      <td>V08</td>\n",
       "      <td>1108</td>\n",
       "    </tr>\n",
       "  </tbody>\n",
       "</table>\n",
       "<p>78 rows × 2 columns</p>\n",
       "</div>"
      ],
      "text/plain": [
       "   ATC2     nb\n",
       "0   A01   4378\n",
       "1   A02  16461\n",
       "2   A03   8951\n",
       "3   A04   1438\n",
       "4   A05    428\n",
       "..  ...    ...\n",
       "73  S02   1065\n",
       "74  V01     50\n",
       "75  V03    174\n",
       "76  V04     89\n",
       "77  V08   1108\n",
       "\n",
       "[78 rows x 2 columns]"
      ]
     },
     "execution_count": 18,
     "metadata": {},
     "output_type": "execute_result"
    }
   ],
   "source": [
    "# On effectue une requête pour extraire les informations sur les médicaments (nombres de prescriptions par ATC 3)\n",
    "# -> là on a les chiffres généré pour 2 départements, sur 1 an\n",
    "df = pd.read_sql_query(\"SELECT PHA_ATC_C03, sum(PHA_ACT_QSN) FROM er_pha_f JOIN ir_pha_r ON ir_pha_r.PHA_CIP_C13=er_pha_f.PHA_PRS_C13 GROUP BY PHA_ATC_C03;\", conn)\n",
    "df.rename(columns={'PHA_ATC_C03':'ATC2','sum(PHA_ACT_QSN)':'nb'}, inplace=True)\n",
    "df"
   ]
  },
  {
   "cell_type": "code",
   "execution_count": 19,
   "metadata": {},
   "outputs": [],
   "source": [
    "# données pour toute la population française, sur 1 an\n",
    "data = pd.read_csv(\"../data/OPEN_MEDIC_2019.zip\", header=0, sep=';', encoding=\"latin_1\")[['ATC2','BOITES']]\n",
    "data = data.groupby(\"ATC2\").agg({'BOITES':'sum'}).reset_index().rename(columns={'BOITES':\"nb\"})"
   ]
  },
  {
   "cell_type": "code",
   "execution_count": 20,
   "metadata": {},
   "outputs": [
    {
     "data": {
      "text/html": [
       "<div>\n",
       "<style scoped>\n",
       "    .dataframe tbody tr th:only-of-type {\n",
       "        vertical-align: middle;\n",
       "    }\n",
       "\n",
       "    .dataframe tbody tr th {\n",
       "        vertical-align: top;\n",
       "    }\n",
       "\n",
       "    .dataframe thead th {\n",
       "        text-align: right;\n",
       "    }\n",
       "</style>\n",
       "<table border=\"1\" class=\"dataframe\">\n",
       "  <thead>\n",
       "    <tr style=\"text-align: right;\">\n",
       "      <th></th>\n",
       "      <th>ATC2</th>\n",
       "      <th>nb</th>\n",
       "    </tr>\n",
       "  </thead>\n",
       "  <tbody>\n",
       "    <tr>\n",
       "      <th>0</th>\n",
       "      <td>A01</td>\n",
       "      <td>22941566</td>\n",
       "    </tr>\n",
       "    <tr>\n",
       "      <th>1</th>\n",
       "      <td>A02</td>\n",
       "      <td>100746397</td>\n",
       "    </tr>\n",
       "    <tr>\n",
       "      <th>2</th>\n",
       "      <td>A03</td>\n",
       "      <td>48505314</td>\n",
       "    </tr>\n",
       "    <tr>\n",
       "      <th>3</th>\n",
       "      <td>A04</td>\n",
       "      <td>8452671</td>\n",
       "    </tr>\n",
       "    <tr>\n",
       "      <th>4</th>\n",
       "      <td>A05</td>\n",
       "      <td>1954634</td>\n",
       "    </tr>\n",
       "  </tbody>\n",
       "</table>\n",
       "</div>"
      ],
      "text/plain": [
       "  ATC2         nb\n",
       "0  A01   22941566\n",
       "1  A02  100746397\n",
       "2  A03   48505314\n",
       "3  A04    8452671\n",
       "4  A05    1954634"
      ]
     },
     "execution_count": 20,
     "metadata": {},
     "output_type": "execute_result"
    }
   ],
   "source": [
    "data.head()"
   ]
  },
  {
   "cell_type": "code",
   "execution_count": 21,
   "metadata": {},
   "outputs": [],
   "source": [
    "#on calcule le ratio pour se ramener à des populations comparables\n",
    "ratio = sum( df_age_agg['count'] )/pop_tot"
   ]
  },
  {
   "cell_type": "code",
   "execution_count": 22,
   "metadata": {},
   "outputs": [
    {
     "data": {
      "text/html": [
       "<div>\n",
       "<style scoped>\n",
       "    .dataframe tbody tr th:only-of-type {\n",
       "        vertical-align: middle;\n",
       "    }\n",
       "\n",
       "    .dataframe tbody tr th {\n",
       "        vertical-align: top;\n",
       "    }\n",
       "\n",
       "    .dataframe thead th {\n",
       "        text-align: right;\n",
       "    }\n",
       "</style>\n",
       "<table border=\"1\" class=\"dataframe\">\n",
       "  <thead>\n",
       "    <tr style=\"text-align: right;\">\n",
       "      <th></th>\n",
       "      <th>ATC2</th>\n",
       "      <th>nb</th>\n",
       "      <th>nb_sim</th>\n",
       "    </tr>\n",
       "  </thead>\n",
       "  <tbody>\n",
       "    <tr>\n",
       "      <th>0</th>\n",
       "      <td>A01</td>\n",
       "      <td>3180.935342</td>\n",
       "      <td>4378.0</td>\n",
       "    </tr>\n",
       "    <tr>\n",
       "      <th>1</th>\n",
       "      <td>A02</td>\n",
       "      <td>13968.870946</td>\n",
       "      <td>16461.0</td>\n",
       "    </tr>\n",
       "    <tr>\n",
       "      <th>2</th>\n",
       "      <td>A03</td>\n",
       "      <td>6725.446186</td>\n",
       "      <td>8951.0</td>\n",
       "    </tr>\n",
       "    <tr>\n",
       "      <th>3</th>\n",
       "      <td>A04</td>\n",
       "      <td>1171.994968</td>\n",
       "      <td>1438.0</td>\n",
       "    </tr>\n",
       "    <tr>\n",
       "      <th>4</th>\n",
       "      <td>A05</td>\n",
       "      <td>271.017435</td>\n",
       "      <td>428.0</td>\n",
       "    </tr>\n",
       "  </tbody>\n",
       "</table>\n",
       "</div>"
      ],
      "text/plain": [
       "  ATC2            nb   nb_sim\n",
       "0  A01   3180.935342   4378.0\n",
       "1  A02  13968.870946  16461.0\n",
       "2  A03   6725.446186   8951.0\n",
       "3  A04   1171.994968   1438.0\n",
       "4  A05    271.017435    428.0"
      ]
     },
     "execution_count": 22,
     "metadata": {},
     "output_type": "execute_result"
    }
   ],
   "source": [
    "df_cmp=pd.merge(data,df,how=\"left\",on='ATC2',suffixes=('','_sim')).fillna(0)\n",
    "df_cmp['nb'] *= ratio\n",
    "df_cmp.head()"
   ]
  },
  {
   "cell_type": "code",
   "execution_count": 23,
   "metadata": {},
   "outputs": [
    {
     "data": {
      "image/png": "[encoded data removed]",
      "text/plain": [
       "<Figure size 1080x288 with 1 Axes>"
      ]
     },
     "metadata": {
      "needs_background": "light"
     },
     "output_type": "display_data"
    }
   ],
   "source": [
    "fig, axs = plt.subplots(figsize=(15, 4))\n",
    "df_cmp.set_index(\"ATC2\").plot.bar(ax=axs)\n",
    "axs.set_ylabel(\"nb\")\n",
    "fig.savefig(\"ATC2_\"+str(dpt1)+str(dpt2)+\".svg\")"
   ]
  },
  {
   "cell_type": "code",
   "execution_count": 24,
   "metadata": {},
   "outputs": [
    {
     "name": "stdout",
     "output_type": "stream",
     "text": [
      "0.1252246520517605\n",
      "0.22529974399859531\n"
     ]
    }
   ],
   "source": [
    "# calcul de la difference absolue relative \"globale\"\n",
    "print( np.sum(np.abs(df_cmp['nb_sim']-df_cmp['nb']))/np.sum(df_cmp['nb']) )\n",
    "#calcul de la différente relative moyenne (entâchée à cause de grosses différences relatives aux extreminées notamment chez les vieux!!)\n",
    "print( np.mean(np.abs(df_cmp['nb_sim']-df_cmp['nb'])/df_cmp['nb']) )"
   ]
  },
  {
   "cell_type": "markdown",
   "metadata": {},
   "source": [
    "## Même chose pour les actes CCAM"
   ]
  },
  {
   "cell_type": "code",
   "execution_count": 25,
   "metadata": {},
   "outputs": [
    {
     "data": {
      "text/html": [
       "<div>\n",
       "<style scoped>\n",
       "    .dataframe tbody tr th:only-of-type {\n",
       "        vertical-align: middle;\n",
       "    }\n",
       "\n",
       "    .dataframe tbody tr th {\n",
       "        vertical-align: top;\n",
       "    }\n",
       "\n",
       "    .dataframe thead th {\n",
       "        text-align: right;\n",
       "    }\n",
       "</style>\n",
       "<table border=\"1\" class=\"dataframe\">\n",
       "  <thead>\n",
       "    <tr style=\"text-align: right;\">\n",
       "      <th></th>\n",
       "      <th>ccam</th>\n",
       "      <th>grp</th>\n",
       "      <th>nb</th>\n",
       "    </tr>\n",
       "  </thead>\n",
       "  <tbody>\n",
       "    <tr>\n",
       "      <th>0</th>\n",
       "      <td>AAQM002</td>\n",
       "      <td>ADE</td>\n",
       "      <td>3</td>\n",
       "    </tr>\n",
       "    <tr>\n",
       "      <th>1</th>\n",
       "      <td>ACQH001</td>\n",
       "      <td>ADI</td>\n",
       "      <td>1</td>\n",
       "    </tr>\n",
       "    <tr>\n",
       "      <th>2</th>\n",
       "      <td>ACQH002</td>\n",
       "      <td>ADI</td>\n",
       "      <td>1</td>\n",
       "    </tr>\n",
       "    <tr>\n",
       "      <th>3</th>\n",
       "      <td>ACQH003</td>\n",
       "      <td>ADI</td>\n",
       "      <td>36</td>\n",
       "    </tr>\n",
       "    <tr>\n",
       "      <th>4</th>\n",
       "      <td>ACQH004</td>\n",
       "      <td>ADI</td>\n",
       "      <td>1</td>\n",
       "    </tr>\n",
       "    <tr>\n",
       "      <th>...</th>\n",
       "      <td>...</td>\n",
       "      <td>...</td>\n",
       "      <td>...</td>\n",
       "    </tr>\n",
       "    <tr>\n",
       "      <th>509</th>\n",
       "      <td>ZZQL018</td>\n",
       "      <td>ADI</td>\n",
       "      <td>2</td>\n",
       "    </tr>\n",
       "    <tr>\n",
       "      <th>510</th>\n",
       "      <td>ZZQL019</td>\n",
       "      <td>ADI</td>\n",
       "      <td>2</td>\n",
       "    </tr>\n",
       "    <tr>\n",
       "      <th>511</th>\n",
       "      <td>ZZQM001</td>\n",
       "      <td>ADE</td>\n",
       "      <td>1</td>\n",
       "    </tr>\n",
       "    <tr>\n",
       "      <th>512</th>\n",
       "      <td>ZZQM004</td>\n",
       "      <td>ADE</td>\n",
       "      <td>1</td>\n",
       "    </tr>\n",
       "    <tr>\n",
       "      <th>513</th>\n",
       "      <td>ZZQN001</td>\n",
       "      <td>ADI</td>\n",
       "      <td>24</td>\n",
       "    </tr>\n",
       "  </tbody>\n",
       "</table>\n",
       "<p>514 rows × 3 columns</p>\n",
       "</div>"
      ],
      "text/plain": [
       "        ccam  grp  nb\n",
       "0    AAQM002  ADE   3\n",
       "1    ACQH001  ADI   1\n",
       "2    ACQH002  ADI   1\n",
       "3    ACQH003  ADI  36\n",
       "4    ACQH004  ADI   1\n",
       "..       ...  ...  ..\n",
       "509  ZZQL018  ADI   2\n",
       "510  ZZQL019  ADI   2\n",
       "511  ZZQM001  ADE   1\n",
       "512  ZZQM004  ADE   1\n",
       "513  ZZQN001  ADI  24\n",
       "\n",
       "[514 rows x 3 columns]"
      ]
     },
     "execution_count": 25,
     "metadata": {},
     "output_type": "execute_result"
    }
   ],
   "source": [
    "# On effectue une requête pour extraire les informations sur les médicaments (nombres de prescriptions par ATC 3)\n",
    "# -> là on a les chiffres généré pour 2 départements, sur 1 an\n",
    "df = pd.read_sql_query(\"SELECT CAM_PRS_IDE, CAM_PRS_RGT, count(*) FROM er_cam_f JOIN ir_ccam_v63 ON er_cam_f.CAM_PRS_IDE=ir_ccam_v63.CAM_PRS_IDE_COD GROUP BY CAM_PRS_IDE, CAM_PRS_RGT;\", conn)\n",
    "df.rename(columns={'CAM_PRS_IDE':'ccam','CAM_PRS_RGT':'grp','count(*)':'nb'}, inplace=True)\n",
    "df"
   ]
  },
  {
   "cell_type": "code",
   "execution_count": 26,
   "metadata": {},
   "outputs": [],
   "source": [
    "actes = pd.read_excel(\"../data/Actes_techniques_de_la_CCAM_en_2016.xls\", sheet_name='Panorama des actes CCAM')\n",
    "actes.rename(columns={\"Code Acte\":'ccam',\"Code Regroupement\":\"grp\", \"Quantité d'actes \":\"nb\"}, inplace=True)\n",
    "actes=actes.groupby(['ccam',\"grp\"]).agg({\"nb\":\"sum\"}).reset_index()"
   ]
  },
  {
   "cell_type": "code",
   "execution_count": 27,
   "metadata": {},
   "outputs": [],
   "source": [
    "#sélection des actes qui sont effectivement utilisés dans la simulation\n",
    "actes=actes[ (actes['grp']==\"ADC\") | (actes['grp']==\"ACO\") |(actes['grp']==\"ADA\") |(actes['grp']==\"ADE\") |(actes['grp']==\"ADI\") |(actes['grp']==\"ADT\") ]\n",
    "actes=actes[ (actes['ccam'].str[:2]!=\"HB\") ]"
   ]
  },
  {
   "cell_type": "code",
   "execution_count": 28,
   "metadata": {},
   "outputs": [
    {
     "data": {
      "text/html": [
       "<div>\n",
       "<style scoped>\n",
       "    .dataframe tbody tr th:only-of-type {\n",
       "        vertical-align: middle;\n",
       "    }\n",
       "\n",
       "    .dataframe tbody tr th {\n",
       "        vertical-align: top;\n",
       "    }\n",
       "\n",
       "    .dataframe thead th {\n",
       "        text-align: right;\n",
       "    }\n",
       "</style>\n",
       "<table border=\"1\" class=\"dataframe\">\n",
       "  <thead>\n",
       "    <tr style=\"text-align: right;\">\n",
       "      <th></th>\n",
       "      <th>ccam</th>\n",
       "      <th>grp</th>\n",
       "      <th>nb</th>\n",
       "    </tr>\n",
       "  </thead>\n",
       "  <tbody>\n",
       "    <tr>\n",
       "      <th>0</th>\n",
       "      <td>AAFA001</td>\n",
       "      <td>ADA</td>\n",
       "      <td>93</td>\n",
       "    </tr>\n",
       "    <tr>\n",
       "      <th>1</th>\n",
       "      <td>AAFA001</td>\n",
       "      <td>ADC</td>\n",
       "      <td>103</td>\n",
       "    </tr>\n",
       "    <tr>\n",
       "      <th>2</th>\n",
       "      <td>AAFA002</td>\n",
       "      <td>ADA</td>\n",
       "      <td>382</td>\n",
       "    </tr>\n",
       "    <tr>\n",
       "      <th>3</th>\n",
       "      <td>AAFA002</td>\n",
       "      <td>ADC</td>\n",
       "      <td>446</td>\n",
       "    </tr>\n",
       "    <tr>\n",
       "      <th>4</th>\n",
       "      <td>AAFA003</td>\n",
       "      <td>ADA</td>\n",
       "      <td>9</td>\n",
       "    </tr>\n",
       "  </tbody>\n",
       "</table>\n",
       "</div>"
      ],
      "text/plain": [
       "      ccam  grp   nb\n",
       "0  AAFA001  ADA   93\n",
       "1  AAFA001  ADC  103\n",
       "2  AAFA002  ADA  382\n",
       "3  AAFA002  ADC  446\n",
       "4  AAFA003  ADA    9"
      ]
     },
     "execution_count": 28,
     "metadata": {},
     "output_type": "execute_result"
    }
   ],
   "source": [
    "actes.head()"
   ]
  },
  {
   "cell_type": "code",
   "execution_count": 29,
   "metadata": {},
   "outputs": [],
   "source": [
    "actes_tot=actes.groupby(['ccam']).agg({\"nb\":\"sum\"}).reset_index()"
   ]
  },
  {
   "cell_type": "code",
   "execution_count": 30,
   "metadata": {},
   "outputs": [
    {
     "data": {
      "text/html": [
       "<div>\n",
       "<style scoped>\n",
       "    .dataframe tbody tr th:only-of-type {\n",
       "        vertical-align: middle;\n",
       "    }\n",
       "\n",
       "    .dataframe tbody tr th {\n",
       "        vertical-align: top;\n",
       "    }\n",
       "\n",
       "    .dataframe thead th {\n",
       "        text-align: right;\n",
       "    }\n",
       "</style>\n",
       "<table border=\"1\" class=\"dataframe\">\n",
       "  <thead>\n",
       "    <tr style=\"text-align: right;\">\n",
       "      <th></th>\n",
       "      <th>ccam</th>\n",
       "      <th>nb</th>\n",
       "    </tr>\n",
       "  </thead>\n",
       "  <tbody>\n",
       "    <tr>\n",
       "      <th>0</th>\n",
       "      <td>AAFA001</td>\n",
       "      <td>196</td>\n",
       "    </tr>\n",
       "    <tr>\n",
       "      <th>1</th>\n",
       "      <td>AAFA002</td>\n",
       "      <td>828</td>\n",
       "    </tr>\n",
       "    <tr>\n",
       "      <th>2</th>\n",
       "      <td>AAFA003</td>\n",
       "      <td>18</td>\n",
       "    </tr>\n",
       "    <tr>\n",
       "      <th>3</th>\n",
       "      <td>AAFA005</td>\n",
       "      <td>17</td>\n",
       "    </tr>\n",
       "    <tr>\n",
       "      <th>4</th>\n",
       "      <td>AAFA006</td>\n",
       "      <td>4</td>\n",
       "    </tr>\n",
       "  </tbody>\n",
       "</table>\n",
       "</div>"
      ],
      "text/plain": [
       "      ccam   nb\n",
       "0  AAFA001  196\n",
       "1  AAFA002  828\n",
       "2  AAFA003   18\n",
       "3  AAFA005   17\n",
       "4  AAFA006    4"
      ]
     },
     "execution_count": 30,
     "metadata": {},
     "output_type": "execute_result"
    }
   ],
   "source": [
    "actes_tot.head()"
   ]
  },
  {
   "cell_type": "code",
   "execution_count": 31,
   "metadata": {},
   "outputs": [],
   "source": [
    "actes_tot['nb'] *= ratio"
   ]
  },
  {
   "cell_type": "code",
   "execution_count": 32,
   "metadata": {},
   "outputs": [
    {
     "data": {
      "text/html": [
       "<div>\n",
       "<style scoped>\n",
       "    .dataframe tbody tr th:only-of-type {\n",
       "        vertical-align: middle;\n",
       "    }\n",
       "\n",
       "    .dataframe tbody tr th {\n",
       "        vertical-align: top;\n",
       "    }\n",
       "\n",
       "    .dataframe thead th {\n",
       "        text-align: right;\n",
       "    }\n",
       "</style>\n",
       "<table border=\"1\" class=\"dataframe\">\n",
       "  <thead>\n",
       "    <tr style=\"text-align: right;\">\n",
       "      <th></th>\n",
       "      <th>ccam</th>\n",
       "      <th>nb</th>\n",
       "    </tr>\n",
       "  </thead>\n",
       "  <tbody>\n",
       "    <tr>\n",
       "      <th>0</th>\n",
       "      <td>AAFA001</td>\n",
       "      <td>0.027176</td>\n",
       "    </tr>\n",
       "    <tr>\n",
       "      <th>1</th>\n",
       "      <td>AAFA002</td>\n",
       "      <td>0.114805</td>\n",
       "    </tr>\n",
       "    <tr>\n",
       "      <th>2</th>\n",
       "      <td>AAFA003</td>\n",
       "      <td>0.002496</td>\n",
       "    </tr>\n",
       "    <tr>\n",
       "      <th>3</th>\n",
       "      <td>AAFA005</td>\n",
       "      <td>0.002357</td>\n",
       "    </tr>\n",
       "    <tr>\n",
       "      <th>4</th>\n",
       "      <td>AAFA006</td>\n",
       "      <td>0.000555</td>\n",
       "    </tr>\n",
       "  </tbody>\n",
       "</table>\n",
       "</div>"
      ],
      "text/plain": [
       "      ccam        nb\n",
       "0  AAFA001  0.027176\n",
       "1  AAFA002  0.114805\n",
       "2  AAFA003  0.002496\n",
       "3  AAFA005  0.002357\n",
       "4  AAFA006  0.000555"
      ]
     },
     "execution_count": 32,
     "metadata": {},
     "output_type": "execute_result"
    }
   ],
   "source": [
    "actes_tot.head()"
   ]
  },
  {
   "cell_type": "code",
   "execution_count": 33,
   "metadata": {},
   "outputs": [],
   "source": [
    "actes_grp=actes.groupby(['grp']).agg({\"nb\":\"sum\"}).reset_index()\n",
    "actes_grp['nb'] *= ratio"
   ]
  },
  {
   "cell_type": "code",
   "execution_count": 34,
   "metadata": {},
   "outputs": [
    {
     "data": {
      "text/plain": [
       "<matplotlib.axes._subplots.AxesSubplot at 0x7f3f9e330f70>"
      ]
     },
     "execution_count": 34,
     "metadata": {},
     "output_type": "execute_result"
    },
    {
     "data": {
      "image/png": "[encoded data removed]",
      "text/plain": [
       "<Figure size 432x288 with 1 Axes>"
      ]
     },
     "metadata": {
      "needs_background": "light"
     },
     "output_type": "display_data"
    }
   ],
   "source": [
    "actes_grp.set_index(\"grp\").plot.bar()"
   ]
  },
  {
   "cell_type": "code",
   "execution_count": 35,
   "metadata": {},
   "outputs": [],
   "source": [
    "df_grp=df.groupby(\"grp\").agg({\"nb\":\"sum\"}).reset_index()"
   ]
  },
  {
   "cell_type": "code",
   "execution_count": 36,
   "metadata": {},
   "outputs": [
    {
     "data": {
      "image/png": "[encoded data removed]",
      "text/plain": [
       "<Figure size 432x288 with 1 Axes>"
      ]
     },
     "metadata": {
      "needs_background": "light"
     },
     "output_type": "display_data"
    }
   ],
   "source": [
    "grps=pd.merge(actes_grp, df_grp,on=\"grp\", suffixes=('','_sim'))\n",
    "\n",
    "fig, axs = plt.subplots()\n",
    "grps.set_index(\"grp\").plot.bar(ax=axs)\n",
    "axs.set_ylabel(\"nb\")\n",
    "fig.savefig(\"ccam_grp_\"+str(dpt1)+str(dpt2)+\".svg\")"
   ]
  },
  {
   "cell_type": "code",
   "execution_count": 37,
   "metadata": {},
   "outputs": [
    {
     "data": {
      "text/plain": [
       "<matplotlib.axes._subplots.AxesSubplot at 0x7f3f9a7e4130>"
      ]
     },
     "execution_count": 37,
     "metadata": {},
     "output_type": "execute_result"
    },
    {
     "data": {
      "image/png": "[encoded data removed]",
      "text/plain": [
       "<Figure size 1296x288 with 1 Axes>"
      ]
     },
     "metadata": {
      "needs_background": "light"
     },
     "output_type": "display_data"
    }
   ],
   "source": [
    "actes_ccam=actes.groupby(['ccam']).agg({\"nb\":\"sum\"}).reset_index()\n",
    "actes_ccam['nb'] *= ratio\n",
    "actes_ccam['nb'] = actes_ccam['nb'].astype(int)\n",
    "df_ccam=df.groupby(\"ccam\").agg({\"nb\":\"sum\"}).reset_index()\n",
    "ccams=pd.merge(actes_ccam, df_ccam, on=\"ccam\", suffixes=('','_sim'))\n",
    "ccams.set_index(\"ccam\").plot.bar(figsize=(18,4))"
   ]
  },
  {
   "cell_type": "code",
   "execution_count": 38,
   "metadata": {},
   "outputs": [],
   "source": [
    "ccams['r']=(ccams['nb']-ccams['nb_sim'])/ccams['nb']"
   ]
  },
  {
   "cell_type": "code",
   "execution_count": 39,
   "metadata": {},
   "outputs": [
    {
     "data": {
      "text/plain": [
       "<matplotlib.axes._subplots.AxesSubplot at 0x7f3f98e81cd0>"
      ]
     },
     "execution_count": 39,
     "metadata": {},
     "output_type": "execute_result"
    },
    {
     "data": {
      "image/png": "[encoded data removed]",
      "text/plain": [
       "<Figure size 432x288 with 1 Axes>"
      ]
     },
     "metadata": {
      "needs_background": "light"
     },
     "output_type": "display_data"
    }
   ],
   "source": [
    "ccams.plot(x='ccam',y='r')"
   ]
  },
  {
   "cell_type": "code",
   "execution_count": 40,
   "metadata": {},
   "outputs": [
    {
     "data": {
      "text/plain": [
       "count    514.000000\n",
       "mean           -inf\n",
       "std             NaN\n",
       "min            -inf\n",
       "25%       -2.000000\n",
       "50%       -0.139610\n",
       "75%        0.172101\n",
       "max        0.937500\n",
       "Name: r, dtype: float64"
      ]
     },
     "execution_count": 40,
     "metadata": {},
     "output_type": "execute_result"
    }
   ],
   "source": [
    "ccams['r'].describe()"
   ]
  },
  {
   "cell_type": "code",
   "execution_count": 41,
   "metadata": {},
   "outputs": [
    {
     "data": {
      "text/plain": [
       "-inf"
      ]
     },
     "execution_count": 41,
     "metadata": {},
     "output_type": "execute_result"
    }
   ],
   "source": [
    "ccams['r'].dropna().mean()"
   ]
  },
  {
   "cell_type": "code",
   "execution_count": 42,
   "metadata": {},
   "outputs": [
    {
     "data": {
      "text/plain": [
       "count     514.000000\n",
       "mean       25.138132\n",
       "std        84.507439\n",
       "min         0.000000\n",
       "25%         1.000000\n",
       "50%         4.000000\n",
       "75%        17.000000\n",
       "max      1488.000000\n",
       "Name: nb, dtype: float64"
      ]
     },
     "execution_count": 42,
     "metadata": {},
     "output_type": "execute_result"
    }
   ],
   "source": [
    "ccams['nb'].describe()"
   ]
  },
  {
   "cell_type": "code",
   "execution_count": 43,
   "metadata": {},
   "outputs": [
    {
     "data": {
      "text/html": [
       "\n",
       "\n",
       "\n",
       "\n",
       "\n",
       "\n",
       "  <div class=\"bk-root\" id=\"41a07d91-0668-4fa2-b529-33025561d7bd\" data-root-id=\"1002\"></div>\n"
      ]
     },
     "metadata": {},
     "output_type": "display_data"
    },
    {
     "data": {
      "application/javascript": [
       "(function(root) {\n",
       "  function embed_document(root) {\n",
       "    \n",
       "  var docs_json = {\"bd449730-a0e7-495e-9544-be1787cf758c\":{\"roots\":{\"references\":[{\"attributes\":{\"below\":[{\"id\":\"1012\"}],\"center\":[{\"id\":\"1014\"},{\"id\":\"1018\"}],\"left\":[{\"id\":\"1015\"}],\"plot_height\":300,\"plot_width\":1200,\"renderers\":[{\"id\":\"1037\"},{\"id\":\"1043\"}],\"title\":null,\"toolbar\":{\"id\":\"1026\"},\"x_range\":{\"id\":\"1004\"},\"x_scale\":{\"id\":\"1008\"},\"y_range\":{\"id\":\"1006\"},\"y_scale\":{\"id\":\"1010\"}},\"id\":\"1002\",\"subtype\":\"Figure\",\"type\":\"Plot\"},{\"attributes\":{\"bottom_units\":\"screen\",\"fill_alpha\":0.5,\"fill_color\":\"lightgrey\",\"left_units\":\"screen\",\"level\":\"overlay\",\"line_alpha\":1.0,\"line_color\":\"black\",\"line_dash\":[4,4],\"line_width\":2,\"right_units\":\"screen\",\"top_units\":\"screen\"},\"id\":\"1025\",\"type\":\"BoxAnnotation\"},{\"attributes\":{\"axis\":{\"id\":\"1015\"},\"dimension\":1,\"ticker\":null,\"visible\":false},\"id\":\"1018\",\"type\":\"Grid\"},{\"attributes\":{},\"id\":\"1008\",\"type\":\"CategoricalScale\"},{\"attributes\":{\"factors\":[\"AAQM002\",\"ACQH001\",\"ACQH002\",\"ACQH003\",\"ACQH004\",\"ACQJ001\",\"ACQJ002\",\"ACQK001\",\"ACQK003\",\"ACQL001\",\"ACQN001\",\"ACQN002\",\"ACQN004\",\"AFQH002\",\"AHPA009\",\"AHPA022\",\"AHPA028\",\"AHPC001\",\"AHQJ021\",\"BAAA001\",\"BAEA001\",\"BAFA002\",\"BAFA006\",\"BAFA007\",\"BAPA002\",\"BBMA003\",\"BDGA002\",\"BDGA005\",\"BEQP004\",\"BFPP001\",\"BFQM001\",\"BGMA002\",\"BGPA002\",\"BGQP007\",\"BGQP009\",\"BGQP140\",\"BJQP003\",\"BZQM001\",\"BZQM002\",\"BZQP003\",\"CAFA002\",\"CAFA005\",\"CAMA011\",\"DAQL009\",\"DAQL010\",\"DAQL014\",\"DAQM003\",\"DBKA006\",\"DBLF001\",\"DBMA002\",\"DDQH009\",\"DDQH012\",\"DDQH015\",\"DEKA001\",\"DEPF033\",\"DGQH001\",\"DGQH007\",\"DGQM001\",\"DGQM002\",\"DHQH003\",\"DHQH006\",\"DHQM002\",\"DZQJ001\",\"DZQJ011\",\"DZQM002\",\"DZQM005\",\"DZQM006\",\"DZQN001\",\"DZQN002\",\"EAQH002\",\"EAQJ001\",\"EBFA002\",\"EBLA003\",\"EBQH004\",\"EBQH006\",\"EBQJ001\",\"EBQJ002\",\"EBQM001\",\"EBQM002\",\"EBQM003\",\"ECQH010\",\"ECQH011\",\"ECQM001\",\"ECQM002\",\"EDCA003\",\"EDFA007\",\"EDQM001\",\"EECA001\",\"EEFA004\",\"EEQH002\",\"EFQM001\",\"EGFA007\",\"EJFA002\",\"EJFA006\",\"EJGA002\",\"EJQM001\",\"EJQM003\",\"EJQM004\",\"EJSA001\",\"EJSF032\",\"EKQH002\",\"ELQH002\",\"ELQJ002\",\"ELQM001\",\"ELQM002\",\"EMQH001\",\"EMQJ001\",\"EZMA001\",\"EZMH001\",\"EZQM001\",\"FAFA002\",\"FAFA008\",\"FAFA015\",\"FCFA018\",\"FCQL001\",\"GAJA002\",\"GAMA012\",\"GBQM001\",\"GDGE001\",\"GFFC002\",\"GFQL002\",\"GFQL005\",\"GFQM001\",\"HAFA008\",\"HAFA015\",\"HAFA032\",\"HAJA010\",\"HAPA001\",\"HASA018\",\"HCQM001\",\"HEFE003\",\"HEQH001\",\"HEQH002\",\"HFFC018\",\"HFMP002\",\"HGQH002\",\"HHCA001\",\"HHFA002\",\"HHFA016\",\"HHFE002\",\"HHFE004\",\"HHFE006\",\"HHGE010\",\"HHQE002\",\"HHQE005\",\"HHQH001\",\"HHSE002\",\"HJFD005\",\"HJQJ003\",\"HKFA005\",\"HKND001\",\"HLFA019\",\"HLQM001\",\"HMFC001\",\"HMFC002\",\"HMFC004\",\"HPPC003\",\"HPSA001\",\"HZQM001\",\"JAFC001\",\"JANE005\",\"JAQJ001\",\"JAQL002\",\"JAQM001\",\"JAQM002\",\"JAQM003\",\"JAQM004\",\"JBPE001\",\"JBQH002\",\"JCGE001\",\"JCGE006\",\"JCPC001\",\"JDDA006\",\"JDDB005\",\"JDFA008\",\"JDFE001\",\"JDNE001\",\"JDQH001\",\"JDQJ002\",\"JDQJ003\",\"JDQM001\",\"JEPE002\",\"JGFA014\",\"JGFC001\",\"JGFE023\",\"JGQJ001\",\"JHBA001\",\"JHFA009\",\"JHJA001\",\"JHPA001\",\"JHQM001\",\"JHQM002\",\"JJFC003\",\"JJFJ001\",\"JKFA027\",\"JKFE001\",\"JKMA001\",\"JKNE001\",\"JKPE002\",\"JKQH001\",\"JKQJ001\",\"JNQM001\",\"JQQJ037\",\"JQQM001\",\"JQQM002\",\"JQQM003\",\"JQQM008\",\"JQQM010\",\"JQQM015\",\"JQQM016\",\"JQQM018\",\"JSED001\",\"JZQH003\",\"KCQM001\",\"KDQL001\",\"KDQM001\",\"LAFA021\",\"LAQJ001\",\"LAQK001\",\"LAQK002\",\"LAQK003\",\"LAQK005\",\"LAQK009\",\"LAQK011\",\"LAQK012\",\"LAQK013\",\"LAQK027\",\"LBBA003\",\"LBFA023\",\"LBFA031\",\"LBPA004\",\"LBQK001\",\"LBQK005\",\"LCFA011\",\"LCQH001\",\"LCQJ001\",\"LCQK001\",\"LCQK002\",\"LCQN001\",\"LDFA009\",\"LDQK001\",\"LDQK002\",\"LDQK004\",\"LDQK005\",\"LEQK001\",\"LEQK002\",\"LFAA001\",\"LFDA006\",\"LFFA002\",\"LFQK001\",\"LFQK002\",\"LGQK001\",\"LHDA002\",\"LHFA001\",\"LHFA016\",\"LHQH001\",\"LHQH002\",\"LHQH006\",\"LHQJ001\",\"LHQJ002\",\"LHQK001\",\"LHQK002\",\"LHQK003\",\"LHQK004\",\"LHQK005\",\"LHQK007\",\"LHQN001\",\"LHQN002\",\"LJQK001\",\"LJQK002\",\"LJQK015\",\"LMGA001\",\"LMMA001\",\"LMMA006\",\"LMMA009\",\"LMMC001\",\"LMMC002\",\"LMMC020\",\"MAQK001\",\"MAQK002\",\"MAQK003\",\"MBCA012\",\"MBQK001\",\"MCCB004\",\"MCPA009\",\"MCQK001\",\"MDGA002\",\"MDQK001\",\"MDQK002\",\"MEJC001\",\"MEKA006\",\"MEMA014\",\"MEMC003\",\"MEMC005\",\"MEQH001\",\"MFKA003\",\"MFQH001\",\"MFQK001\",\"MFQK002\",\"MGFA004\",\"MGKA003\",\"MGQH001\",\"MGQK001\",\"MGQK002\",\"MGQK003\",\"MHFA001\",\"MHMA005\",\"MHPA004\",\"MHQH001\",\"MJCA012\",\"MJDC001\",\"MJEC002\",\"MJFA003\",\"MJFA004\",\"MJFA006\",\"MJFA012\",\"MJFA015\",\"MJFA018\",\"MJJA003\",\"MJPA009\",\"MZQH001\",\"MZQH002\",\"MZQJ001\",\"MZQK002\",\"MZQK003\",\"MZQK004\",\"MZQN001\",\"NAFA002\",\"NAQK007\",\"NAQK015\",\"NAQK023\",\"NAQK049\",\"NAQK071\",\"NBQK001\",\"NCPA002\",\"NCQK001\",\"NDFA005\",\"NDPA008\",\"NDPA011\",\"NDQK001\",\"NDQK002\",\"NDQK003\",\"NDQK004\",\"NEKA012\",\"NEKA014\",\"NEKA020\",\"NEQH002\",\"NEQK010\",\"NEQK012\",\"NEQK035\",\"NEQM001\",\"NFFA004\",\"NFFC002\",\"NFFC004\",\"NFKA006\",\"NFKA007\",\"NFKA008\",\"NFMC003\",\"NFQH001\",\"NFQK001\",\"NFQK002\",\"NFQK003\",\"NFQK004\",\"NGFA002\",\"NGQH001\",\"NGQK001\",\"NGQK002\",\"NHPA001\",\"NHQH001\",\"NJEA005\",\"NJPA029\",\"NJPA032\",\"NZQH002\",\"NZQH005\",\"NZQJ001\",\"NZQK001\",\"NZQK002\",\"NZQK003\",\"NZQK004\",\"NZQK005\",\"NZQK006\",\"NZQN001\",\"PAQK002\",\"PAQK003\",\"PAQK007\",\"PAQL002\",\"PAQL003\",\"PAQL005\",\"PAQL008\",\"PBQM001\",\"PBQM002\",\"PBQM003\",\"PBQM004\",\"PCQM001\",\"PDFA001\",\"QAGA001\",\"QAJA005\",\"QAJA013\",\"QAMA002\",\"QBFA007\",\"QCJA001\",\"QCJA003\",\"QEFA017\",\"QEFA020\",\"QEQH001\",\"QEQJ001\",\"QEQK001\",\"QEQK003\",\"QEQK004\",\"QEQK005\",\"QEQK006\",\"QEQM001\",\"QEQN001\",\"QZEA024\",\"QZEA031\",\"QZFA001\",\"QZFA002\",\"QZFA004\",\"QZFA007\",\"QZFA013\",\"QZFA020\",\"QZFA021\",\"QZFA031\",\"QZFA036\",\"QZGA002\",\"QZHA001\",\"QZJA002\",\"QZJA009\",\"QZJA011\",\"QZJA012\",\"QZJA016\",\"QZJA017\",\"QZLA004\",\"QZMA001\",\"QZMA004\",\"QZQM001\",\"YYYY012\",\"YYYY019\",\"YYYY028\",\"YYYY033\",\"YYYY041\",\"YYYY057\",\"YYYY070\",\"YYYY088\",\"YYYY105\",\"YYYY115\",\"YYYY120\",\"YYYY140\",\"YYYY145\",\"YYYY163\",\"YYYY172\",\"YYYY180\",\"YYYY190\",\"YYYY200\",\"YYYY210\",\"YYYY212\",\"YYYY220\",\"YYYY240\",\"YYYY250\",\"YYYY260\",\"YYYY270\",\"YYYY280\",\"YYYY290\",\"YYYY300\",\"YYYY410\",\"YYYY415\",\"YYYY420\",\"YYYY600\",\"ZBQH001\",\"ZBQJ001\",\"ZBQK001\",\"ZBQK002\",\"ZBQK003\",\"ZBQN001\",\"ZCJA003\",\"ZCQC002\",\"ZCQH001\",\"ZCQH002\",\"ZCQJ001\",\"ZCQJ002\",\"ZCQJ003\",\"ZCQJ004\",\"ZCQJ006\",\"ZCQK002\",\"ZCQK003\",\"ZCQK004\",\"ZCQK005\",\"ZCQM001\",\"ZCQM002\",\"ZCQM003\",\"ZCQM004\",\"ZCQM005\",\"ZCQM006\",\"ZCQM007\",\"ZCQM008\",\"ZCQM009\",\"ZCQM010\",\"ZCQM011\",\"ZCQN001\",\"ZCQN002\",\"ZZLP025\",\"ZZLP030\",\"ZZLP054\",\"ZZQH033\",\"ZZQK024\",\"ZZQL007\",\"ZZQL013\",\"ZZQL016\",\"ZZQL017\",\"ZZQL018\",\"ZZQL019\",\"ZZQM001\",\"ZZQM004\",\"ZZQN001\"]},\"id\":\"1004\",\"type\":\"FactorRange\"},{\"attributes\":{},\"id\":\"1051\",\"type\":\"UnionRenderers\"},{\"attributes\":{},\"id\":\"1053\",\"type\":\"UnionRenderers\"},{\"attributes\":{},\"id\":\"1054\",\"type\":\"Selection\"},{\"attributes\":{\"data\":{\"ccam\":[\"AAQM002\",\"ACQH001\",\"ACQH002\",\"ACQH003\",\"ACQH004\",\"ACQJ001\",\"ACQJ002\",\"ACQK001\",\"ACQK003\",\"ACQL001\",\"ACQN001\",\"ACQN002\",\"ACQN004\",\"AFQH002\",\"AHPA009\",\"AHPA022\",\"AHPA028\",\"AHPC001\",\"AHQJ021\",\"BAAA001\",\"BAEA001\",\"BAFA002\",\"BAFA006\",\"BAFA007\",\"BAPA002\",\"BBMA003\",\"BDGA002\",\"BDGA005\",\"BEQP004\",\"BFPP001\",\"BFQM001\",\"BGMA002\",\"BGPA002\",\"BGQP007\",\"BGQP009\",\"BGQP140\",\"BJQP003\",\"BZQM001\",\"BZQM002\",\"BZQP003\",\"CAFA002\",\"CAFA005\",\"CAMA011\",\"DAQL009\",\"DAQL010\",\"DAQL014\",\"DAQM003\",\"DBKA006\",\"DBLF001\",\"DBMA002\",\"DDQH009\",\"DDQH012\",\"DDQH015\",\"DEKA001\",\"DEPF033\",\"DGQH001\",\"DGQH007\",\"DGQM001\",\"DGQM002\",\"DHQH003\",\"DHQH006\",\"DHQM002\",\"DZQJ001\",\"DZQJ011\",\"DZQM002\",\"DZQM005\",\"DZQM006\",\"DZQN001\",\"DZQN002\",\"EAQH002\",\"EAQJ001\",\"EBFA002\",\"EBLA003\",\"EBQH004\",\"EBQH006\",\"EBQJ001\",\"EBQJ002\",\"EBQM001\",\"EBQM002\",\"EBQM003\",\"ECQH010\",\"ECQH011\",\"ECQM001\",\"ECQM002\",\"EDCA003\",\"EDFA007\",\"EDQM001\",\"EECA001\",\"EEFA004\",\"EEQH002\",\"EFQM001\",\"EGFA007\",\"EJFA002\",\"EJFA006\",\"EJGA002\",\"EJQM001\",\"EJQM003\",\"EJQM004\",\"EJSA001\",\"EJSF032\",\"EKQH002\",\"ELQH002\",\"ELQJ002\",\"ELQM001\",\"ELQM002\",\"EMQH001\",\"EMQJ001\",\"EZMA001\",\"EZMH001\",\"EZQM001\",\"FAFA002\",\"FAFA008\",\"FAFA015\",\"FCFA018\",\"FCQL001\",\"GAJA002\",\"GAMA012\",\"GBQM001\",\"GDGE001\",\"GFFC002\",\"GFQL002\",\"GFQL005\",\"GFQM001\",\"HAFA008\",\"HAFA015\",\"HAFA032\",\"HAJA010\",\"HAPA001\",\"HASA018\",\"HCQM001\",\"HEFE003\",\"HEQH001\",\"HEQH002\",\"HFFC018\",\"HFMP002\",\"HGQH002\",\"HHCA001\",\"HHFA002\",\"HHFA016\",\"HHFE002\",\"HHFE004\",\"HHFE006\",\"HHGE010\",\"HHQE002\",\"HHQE005\",\"HHQH001\",\"HHSE002\",\"HJFD005\",\"HJQJ003\",\"HKFA005\",\"HKND001\",\"HLFA019\",\"HLQM001\",\"HMFC001\",\"HMFC002\",\"HMFC004\",\"HPPC003\",\"HPSA001\",\"HZQM001\",\"JAFC001\",\"JANE005\",\"JAQJ001\",\"JAQL002\",\"JAQM001\",\"JAQM002\",\"JAQM003\",\"JAQM004\",\"JBPE001\",\"JBQH002\",\"JCGE001\",\"JCGE006\",\"JCPC001\",\"JDDA006\",\"JDDB005\",\"JDFA008\",\"JDFE001\",\"JDNE001\",\"JDQH001\",\"JDQJ002\",\"JDQJ003\",\"JDQM001\",\"JEPE002\",\"JGFA014\",\"JGFC001\",\"JGFE023\",\"JGQJ001\",\"JHBA001\",\"JHFA009\",\"JHJA001\",\"JHPA001\",\"JHQM001\",\"JHQM002\",\"JJFC003\",\"JJFJ001\",\"JKFA027\",\"JKFE001\",\"JKMA001\",\"JKNE001\",\"JKPE002\",\"JKQH001\",\"JKQJ001\",\"JNQM001\",\"JQQJ037\",\"JQQM001\",\"JQQM002\",\"JQQM003\",\"JQQM008\",\"JQQM010\",\"JQQM015\",\"JQQM016\",\"JQQM018\",\"JSED001\",\"JZQH003\",\"KCQM001\",\"KDQL001\",\"KDQM001\",\"LAFA021\",\"LAQJ001\",\"LAQK001\",\"LAQK002\",\"LAQK003\",\"LAQK005\",\"LAQK009\",\"LAQK011\",\"LAQK012\",\"LAQK013\",\"LAQK027\",\"LBBA003\",\"LBFA023\",\"LBFA031\",\"LBPA004\",\"LBQK001\",\"LBQK005\",\"LCFA011\",\"LCQH001\",\"LCQJ001\",\"LCQK001\",\"LCQK002\",\"LCQN001\",\"LDFA009\",\"LDQK001\",\"LDQK002\",\"LDQK004\",\"LDQK005\",\"LEQK001\",\"LEQK002\",\"LFAA001\",\"LFDA006\",\"LFFA002\",\"LFQK001\",\"LFQK002\",\"LGQK001\",\"LHDA002\",\"LHFA001\",\"LHFA016\",\"LHQH001\",\"LHQH002\",\"LHQH006\",\"LHQJ001\",\"LHQJ002\",\"LHQK001\",\"LHQK002\",\"LHQK003\",\"LHQK004\",\"LHQK005\",\"LHQK007\",\"LHQN001\",\"LHQN002\",\"LJQK001\",\"LJQK002\",\"LJQK015\",\"LMGA001\",\"LMMA001\",\"LMMA006\",\"LMMA009\",\"LMMC001\",\"LMMC002\",\"LMMC020\",\"MAQK001\",\"MAQK002\",\"MAQK003\",\"MBCA012\",\"MBQK001\",\"MCCB004\",\"MCPA009\",\"MCQK001\",\"MDGA002\",\"MDQK001\",\"MDQK002\",\"MEJC001\",\"MEKA006\",\"MEMA014\",\"MEMC003\",\"MEMC005\",\"MEQH001\",\"MFKA003\",\"MFQH001\",\"MFQK001\",\"MFQK002\",\"MGFA004\",\"MGKA003\",\"MGQH001\",\"MGQK001\",\"MGQK002\",\"MGQK003\",\"MHFA001\",\"MHMA005\",\"MHPA004\",\"MHQH001\",\"MJCA012\",\"MJDC001\",\"MJEC002\",\"MJFA003\",\"MJFA004\",\"MJFA006\",\"MJFA012\",\"MJFA015\",\"MJFA018\",\"MJJA003\",\"MJPA009\",\"MZQH001\",\"MZQH002\",\"MZQJ001\",\"MZQK002\",\"MZQK003\",\"MZQK004\",\"MZQN001\",\"NAFA002\",\"NAQK007\",\"NAQK015\",\"NAQK023\",\"NAQK049\",\"NAQK071\",\"NBQK001\",\"NCPA002\",\"NCQK001\",\"NDFA005\",\"NDPA008\",\"NDPA011\",\"NDQK001\",\"NDQK002\",\"NDQK003\",\"NDQK004\",\"NEKA012\",\"NEKA014\",\"NEKA020\",\"NEQH002\",\"NEQK010\",\"NEQK012\",\"NEQK035\",\"NEQM001\",\"NFFA004\",\"NFFC002\",\"NFFC004\",\"NFKA006\",\"NFKA007\",\"NFKA008\",\"NFMC003\",\"NFQH001\",\"NFQK001\",\"NFQK002\",\"NFQK003\",\"NFQK004\",\"NGFA002\",\"NGQH001\",\"NGQK001\",\"NGQK002\",\"NHPA001\",\"NHQH001\",\"NJEA005\",\"NJPA029\",\"NJPA032\",\"NZQH002\",\"NZQH005\",\"NZQJ001\",\"NZQK001\",\"NZQK002\",\"NZQK003\",\"NZQK004\",\"NZQK005\",\"NZQK006\",\"NZQN001\",\"PAQK002\",\"PAQK003\",\"PAQK007\",\"PAQL002\",\"PAQL003\",\"PAQL005\",\"PAQL008\",\"PBQM001\",\"PBQM002\",\"PBQM003\",\"PBQM004\",\"PCQM001\",\"PDFA001\",\"QAGA001\",\"QAJA005\",\"QAJA013\",\"QAMA002\",\"QBFA007\",\"QCJA001\",\"QCJA003\",\"QEFA017\",\"QEFA020\",\"QEQH001\",\"QEQJ001\",\"QEQK001\",\"QEQK003\",\"QEQK004\",\"QEQK005\",\"QEQK006\",\"QEQM001\",\"QEQN001\",\"QZEA024\",\"QZEA031\",\"QZFA001\",\"QZFA002\",\"QZFA004\",\"QZFA007\",\"QZFA013\",\"QZFA020\",\"QZFA021\",\"QZFA031\",\"QZFA036\",\"QZGA002\",\"QZHA001\",\"QZJA002\",\"QZJA009\",\"QZJA011\",\"QZJA012\",\"QZJA016\",\"QZJA017\",\"QZLA004\",\"QZMA001\",\"QZMA004\",\"QZQM001\",\"YYYY012\",\"YYYY019\",\"YYYY028\",\"YYYY033\",\"YYYY041\",\"YYYY057\",\"YYYY070\",\"YYYY088\",\"YYYY105\",\"YYYY115\",\"YYYY120\",\"YYYY140\",\"YYYY145\",\"YYYY163\",\"YYYY172\",\"YYYY180\",\"YYYY190\",\"YYYY200\",\"YYYY210\",\"YYYY212\",\"YYYY220\",\"YYYY240\",\"YYYY250\",\"YYYY260\",\"YYYY270\",\"YYYY280\",\"YYYY290\",\"YYYY300\",\"YYYY410\",\"YYYY415\",\"YYYY420\",\"YYYY600\",\"ZBQH001\",\"ZBQJ001\",\"ZBQK001\",\"ZBQK002\",\"ZBQK003\",\"ZBQN001\",\"ZCJA003\",\"ZCQC002\",\"ZCQH001\",\"ZCQH002\",\"ZCQJ001\",\"ZCQJ002\",\"ZCQJ003\",\"ZCQJ004\",\"ZCQJ006\",\"ZCQK002\",\"ZCQK003\",\"ZCQK004\",\"ZCQK005\",\"ZCQM001\",\"ZCQM002\",\"ZCQM003\",\"ZCQM004\",\"ZCQM005\",\"ZCQM006\",\"ZCQM007\",\"ZCQM008\",\"ZCQM009\",\"ZCQM010\",\"ZCQM011\",\"ZCQN001\",\"ZCQN002\",\"ZZLP025\",\"ZZLP030\",\"ZZLP054\",\"ZZQH033\",\"ZZQK024\",\"ZZQL007\",\"ZZQL013\",\"ZZQL016\",\"ZZQL017\",\"ZZQL018\",\"ZZQL019\",\"ZZQM001\",\"ZZQM004\",\"ZZQN001\"],\"index\":[0,1,2,3,4,5,6,7,8,9,10,11,12,13,14,15,16,17,18,19,20,21,22,23,24,25,26,27,28,29,30,31,32,33,34,35,36,37,38,39,40,41,42,43,44,45,46,47,48,49,50,51,52,53,54,55,56,57,58,59,60,61,62,63,64,65,66,67,68,69,70,71,72,73,74,75,76,77,78,79,80,81,82,83,84,85,86,87,88,89,90,91,92,93,94,95,96,97,98,99,100,101,102,103,104,105,106,107,108,109,110,111,112,113,114,115,116,117,118,119,120,121,122,123,124,125,126,127,128,129,130,131,132,133,134,135,136,137,138,139,140,141,142,143,144,145,146,147,148,149,150,151,152,153,154,155,156,157,158,159,160,161,162,163,164,165,166,167,168,169,170,171,172,173,174,175,176,177,178,179,180,181,182,183,184,185,186,187,188,189,190,191,192,193,194,195,196,197,198,199,200,201,202,203,204,205,206,207,208,209,210,211,212,213,214,215,216,217,218,219,220,221,222,223,224,225,226,227,228,229,230,231,232,233,234,235,236,237,238,239,240,241,242,243,244,245,246,247,248,249,250,251,252,253,254,255,256,257,258,259,260,261,262,263,264,265,266,267,268,269,270,271,272,273,274,275,276,277,278,279,280,281,282,283,284,285,286,287,288,289,290,291,292,293,294,295,296,297,298,299,300,301,302,303,304,305,306,307,308,309,310,311,312,313,314,315,316,317,318,319,320,321,322,323,324,325,326,327,328,329,330,331,332,333,334,335,336,337,338,339,340,341,342,343,344,345,346,347,348,349,350,351,352,353,354,355,356,357,358,359,360,361,362,363,364,365,366,367,368,369,370,371,372,373,374,375,376,377,378,379,380,381,382,383,384,385,386,387,388,389,390,391,392,393,394,395,396,397,398,399,400,401,402,403,404,405,406,407,408,409,410,411,412,413,414,415,416,417,418,419,420,421,422,423,424,425,426,427,428,429,430,431,432,433,434,435,436,437,438,439,440,441,442,443,444,445,446,447,448,449,450,451,452,453,454,455,456,457,458,459,460,461,462,463,464,465,466,467,468,469,470,471,472,473,474,475,476,477,478,479,480,481,482,483,484,485,486,487,488,489,490,491,492,493,494,495,496,497,498,499,500,501,502,503,504,505,506,507,508,509,510,511,512,513],\"nb\":[1,0,2,30,0,1,70,48,1,0,42,0,0,0,16,3,5,10,67,0,1,0,4,0,1,0,0,6,4,37,66,4,2,98,8,0,0,5,1,3,1,1,0,21,8,2,7,0,0,0,19,10,0,1,0,1,0,50,11,0,0,1,2,0,11,18,524,1,1,0,0,0,8,1,1,0,0,118,100,12,14,4,3,8,0,1,39,0,0,0,9,1,8,2,12,31,113,128,2,0,1,4,1,2,9,5,0,1,0,5,7,3,5,0,0,0,1,2,0,0,2,0,2,1,2,0,1,1,1,9,0,1,11,6,1,0,0,1,4,80,14,18,0,26,56,1,2,1,0,1,1,0,7,0,0,15,0,1,4,0,1,28,0,32,18,33,69,0,1,2,3,0,0,4,0,6,1,1,2,9,23,2,0,2,5,11,0,16,0,2,21,0,2,7,0,2,0,5,0,9,1,65,32,9,6,6,1,70,1,64,70,5,0,147,0,7,0,1,8,8,37,24,5,0,45,42,61,0,10,0,0,1,3,0,6,2,1,5,0,0,4,100,19,6,18,99,3,0,4,112,75,10,0,0,1,8,0,5,12,5,108,23,11,8,6,34,133,6,13,47,5,0,0,2,4,2,7,1,138,99,46,0,7,1,0,7,2,162,14,0,0,0,4,8,20,0,0,31,17,1,0,2,81,0,39,1,1,1,0,2,5,8,2,1,2,0,6,4,1,3,7,1,4,26,34,3,44,0,20,307,63,22,40,8,0,17,0,0,8,153,38,25,31,2,5,12,3,47,29,53,16,1,3,17,2,9,7,10,10,54,13,184,228,0,2,50,79,1,0,0,4,0,4,0,9,26,31,3,0,36,5,155,5,0,72,17,10,1,1,14,49,130,14,293,16,0,3,5,12,5,19,0,2,1,0,12,287,2,328,36,0,404,0,0,2,3,19,10,4,5,2,3,15,62,15,21,11,3,6,6,3,8,1,16,7,129,25,3,44,19,8,2,0,11,0,13,1,0,3,2,91,1,1,4,1,1,1,0,3,10,8,0,6,20,1,9,57,1488,46,0,60,490,0,0,0,1,119,10,25,43,115,46,135,73,2,39,7,27,5,76,21,190,37,31,110,4,62,2,1,16,238,14,5,77,7,21,1,21,14,2,1,1,1,18],\"nb_sim\":[3,1,1,36,1,4,89,63,3,1,52,1,1,2,3,4,1,2,9,2,1,1,4,1,1,1,1,2,2,13,58,1,2,116,12,2,1,6,4,2,1,1,1,33,6,4,5,1,1,1,16,5,1,1,1,2,2,40,8,2,1,1,1,2,11,17,467,2,1,1,1,1,2,1,2,2,1,123,88,13,20,5,3,6,1,1,27,1,1,1,6,1,2,2,1,26,90,108,1,1,2,4,2,5,8,11,1,1,1,2,1,3,1,1,2,2,1,2,1,1,3,1,1,1,1,1,1,1,1,7,1,6,18,1,2,1,1,1,1,15,4,3,1,3,11,1,1,2,1,1,1,1,4,1,1,4,1,1,3,1,2,13,1,27,13,43,60,1,4,1,1,1,1,1,1,2,1,3,2,12,17,1,1,1,2,11,1,2,1,1,24,1,2,2,1,1,1,1,1,11,1,46,25,9,8,5,2,72,1,60,64,4,1,115,1,8,1,2,15,12,61,34,8,1,55,38,72,1,2,1,1,3,3,1,15,1,4,11,2,1,6,97,19,6,19,124,1,1,1,144,90,16,1,1,1,11,2,4,22,5,141,23,20,9,9,34,163,4,21,64,5,1,1,1,1,1,2,1,190,143,49,1,12,1,1,2,1,209,24,1,1,1,1,1,22,1,5,34,27,1,1,4,105,2,40,1,1,1,3,3,1,1,2,1,1,1,1,1,1,1,6,2,4,33,42,6,40,1,26,386,85,25,49,13,1,29,1,1,1,172,51,34,38,1,1,1,4,59,34,65,11,1,1,3,1,1,3,2,8,54,15,220,285,1,1,72,99,1,1,1,3,1,8,1,12,34,35,2,1,46,7,212,5,1,72,15,13,1,1,13,42,127,16,263,1,1,2,2,3,1,6,1,1,2,1,21,349,2,436,33,2,360,2,1,1,1,8,7,1,4,1,4,3,15,6,8,3,2,2,4,2,2,1,2,3,101,26,3,49,20,1,6,1,10,3,17,4,1,4,6,80,2,1,6,1,5,5,1,4,14,4,1,8,24,2,9,72,1764,59,1,84,565,2,2,1,1,154,17,25,51,95,61,126,98,3,37,11,24,5,59,22,187,33,28,98,4,56,2,4,16,19,4,1,106,7,22,2,24,20,2,2,1,1,24],\"r\":{\"__ndarray__\":\"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\",\"dtype\":\"float64\",\"order\":\"little\",\"shape\":[514]}},\"selected\":{\"id\":\"1054\"},\"selection_policy\":{\"id\":\"1053\"}},\"id\":\"1039\",\"type\":\"ColumnDataSource\"},{\"attributes\":{\"data_source\":{\"id\":\"1039\"},\"glyph\":{\"id\":\"1041\"},\"hover_glyph\":null,\"muted_glyph\":null,\"nonselection_glyph\":{\"id\":\"1042\"},\"selection_glyph\":null,\"view\":{\"id\":\"1044\"}},\"id\":\"1043\",\"type\":\"GlyphRenderer\"},{\"attributes\":{},\"id\":\"1010\",\"type\":\"LinearScale\"},{\"attributes\":{},\"id\":\"1052\",\"type\":\"Selection\"},{\"attributes\":{},\"id\":\"1024\",\"type\":\"HelpTool\"},{\"attributes\":{},\"id\":\"1023\",\"type\":\"ResetTool\"},{\"attributes\":{\"source\":{\"id\":\"1039\"}},\"id\":\"1044\",\"type\":\"CDSView\"},{\"attributes\":{\"fill_alpha\":{\"value\":0.1},\"fill_color\":{\"value\":\"#1f77b4\"},\"line_alpha\":{\"value\":0.1},\"line_color\":{\"value\":\"#1f77b4\"},\"top\":{\"field\":\"nb\"},\"width\":{\"value\":0.5},\"x\":{\"field\":\"ccam\"}},\"id\":\"1036\",\"type\":\"VBar\"},{\"attributes\":{},\"id\":\"1019\",\"type\":\"PanTool\"},{\"attributes\":{\"fill_color\":{\"value\":\"orange\"},\"line_color\":{\"value\":\"#1f77b4\"},\"top\":{\"field\":\"nb_sim\"},\"width\":{\"value\":0.5},\"x\":{\"field\":\"ccam\"}},\"id\":\"1041\",\"type\":\"VBar\"},{\"attributes\":{\"active_drag\":\"auto\",\"active_inspect\":\"auto\",\"active_multi\":null,\"active_scroll\":\"auto\",\"active_tap\":\"auto\",\"tools\":[{\"id\":\"1019\"},{\"id\":\"1020\"},{\"id\":\"1021\"},{\"id\":\"1022\"},{\"id\":\"1023\"},{\"id\":\"1024\"}]},\"id\":\"1026\",\"type\":\"Toolbar\"},{\"attributes\":{\"formatter\":{\"id\":\"1048\"},\"ticker\":{\"id\":\"1016\"}},\"id\":\"1015\",\"type\":\"LinearAxis\"},{\"attributes\":{\"data\":{\"ccam\":[\"AAQM002\",\"ACQH001\",\"ACQH002\",\"ACQH003\",\"ACQH004\",\"ACQJ001\",\"ACQJ002\",\"ACQK001\",\"ACQK003\",\"ACQL001\",\"ACQN001\",\"ACQN002\",\"ACQN004\",\"AFQH002\",\"AHPA009\",\"AHPA022\",\"AHPA028\",\"AHPC001\",\"AHQJ021\",\"BAAA001\",\"BAEA001\",\"BAFA002\",\"BAFA006\",\"BAFA007\",\"BAPA002\",\"BBMA003\",\"BDGA002\",\"BDGA005\",\"BEQP004\",\"BFPP001\",\"BFQM001\",\"BGMA002\",\"BGPA002\",\"BGQP007\",\"BGQP009\",\"BGQP140\",\"BJQP003\",\"BZQM001\",\"BZQM002\",\"BZQP003\",\"CAFA002\",\"CAFA005\",\"CAMA011\",\"DAQL009\",\"DAQL010\",\"DAQL014\",\"DAQM003\",\"DBKA006\",\"DBLF001\",\"DBMA002\",\"DDQH009\",\"DDQH012\",\"DDQH015\",\"DEKA001\",\"DEPF033\",\"DGQH001\",\"DGQH007\",\"DGQM001\",\"DGQM002\",\"DHQH003\",\"DHQH006\",\"DHQM002\",\"DZQJ001\",\"DZQJ011\",\"DZQM002\",\"DZQM005\",\"DZQM006\",\"DZQN001\",\"DZQN002\",\"EAQH002\",\"EAQJ001\",\"EBFA002\",\"EBLA003\",\"EBQH004\",\"EBQH006\",\"EBQJ001\",\"EBQJ002\",\"EBQM001\",\"EBQM002\",\"EBQM003\",\"ECQH010\",\"ECQH011\",\"ECQM001\",\"ECQM002\",\"EDCA003\",\"EDFA007\",\"EDQM001\",\"EECA001\",\"EEFA004\",\"EEQH002\",\"EFQM001\",\"EGFA007\",\"EJFA002\",\"EJFA006\",\"EJGA002\",\"EJQM001\",\"EJQM003\",\"EJQM004\",\"EJSA001\",\"EJSF032\",\"EKQH002\",\"ELQH002\",\"ELQJ002\",\"ELQM001\",\"ELQM002\",\"EMQH001\",\"EMQJ001\",\"EZMA001\",\"EZMH001\",\"EZQM001\",\"FAFA002\",\"FAFA008\",\"FAFA015\",\"FCFA018\",\"FCQL001\",\"GAJA002\",\"GAMA012\",\"GBQM001\",\"GDGE001\",\"GFFC002\",\"GFQL002\",\"GFQL005\",\"GFQM001\",\"HAFA008\",\"HAFA015\",\"HAFA032\",\"HAJA010\",\"HAPA001\",\"HASA018\",\"HCQM001\",\"HEFE003\",\"HEQH001\",\"HEQH002\",\"HFFC018\",\"HFMP002\",\"HGQH002\",\"HHCA001\",\"HHFA002\",\"HHFA016\",\"HHFE002\",\"HHFE004\",\"HHFE006\",\"HHGE010\",\"HHQE002\",\"HHQE005\",\"HHQH001\",\"HHSE002\",\"HJFD005\",\"HJQJ003\",\"HKFA005\",\"HKND001\",\"HLFA019\",\"HLQM001\",\"HMFC001\",\"HMFC002\",\"HMFC004\",\"HPPC003\",\"HPSA001\",\"HZQM001\",\"JAFC001\",\"JANE005\",\"JAQJ001\",\"JAQL002\",\"JAQM001\",\"JAQM002\",\"JAQM003\",\"JAQM004\",\"JBPE001\",\"JBQH002\",\"JCGE001\",\"JCGE006\",\"JCPC001\",\"JDDA006\",\"JDDB005\",\"JDFA008\",\"JDFE001\",\"JDNE001\",\"JDQH001\",\"JDQJ002\",\"JDQJ003\",\"JDQM001\",\"JEPE002\",\"JGFA014\",\"JGFC001\",\"JGFE023\",\"JGQJ001\",\"JHBA001\",\"JHFA009\",\"JHJA001\",\"JHPA001\",\"JHQM001\",\"JHQM002\",\"JJFC003\",\"JJFJ001\",\"JKFA027\",\"JKFE001\",\"JKMA001\",\"JKNE001\",\"JKPE002\",\"JKQH001\",\"JKQJ001\",\"JNQM001\",\"JQQJ037\",\"JQQM001\",\"JQQM002\",\"JQQM003\",\"JQQM008\",\"JQQM010\",\"JQQM015\",\"JQQM016\",\"JQQM018\",\"JSED001\",\"JZQH003\",\"KCQM001\",\"KDQL001\",\"KDQM001\",\"LAFA021\",\"LAQJ001\",\"LAQK001\",\"LAQK002\",\"LAQK003\",\"LAQK005\",\"LAQK009\",\"LAQK011\",\"LAQK012\",\"LAQK013\",\"LAQK027\",\"LBBA003\",\"LBFA023\",\"LBFA031\",\"LBPA004\",\"LBQK001\",\"LBQK005\",\"LCFA011\",\"LCQH001\",\"LCQJ001\",\"LCQK001\",\"LCQK002\",\"LCQN001\",\"LDFA009\",\"LDQK001\",\"LDQK002\",\"LDQK004\",\"LDQK005\",\"LEQK001\",\"LEQK002\",\"LFAA001\",\"LFDA006\",\"LFFA002\",\"LFQK001\",\"LFQK002\",\"LGQK001\",\"LHDA002\",\"LHFA001\",\"LHFA016\",\"LHQH001\",\"LHQH002\",\"LHQH006\",\"LHQJ001\",\"LHQJ002\",\"LHQK001\",\"LHQK002\",\"LHQK003\",\"LHQK004\",\"LHQK005\",\"LHQK007\",\"LHQN001\",\"LHQN002\",\"LJQK001\",\"LJQK002\",\"LJQK015\",\"LMGA001\",\"LMMA001\",\"LMMA006\",\"LMMA009\",\"LMMC001\",\"LMMC002\",\"LMMC020\",\"MAQK001\",\"MAQK002\",\"MAQK003\",\"MBCA012\",\"MBQK001\",\"MCCB004\",\"MCPA009\",\"MCQK001\",\"MDGA002\",\"MDQK001\",\"MDQK002\",\"MEJC001\",\"MEKA006\",\"MEMA014\",\"MEMC003\",\"MEMC005\",\"MEQH001\",\"MFKA003\",\"MFQH001\",\"MFQK001\",\"MFQK002\",\"MGFA004\",\"MGKA003\",\"MGQH001\",\"MGQK001\",\"MGQK002\",\"MGQK003\",\"MHFA001\",\"MHMA005\",\"MHPA004\",\"MHQH001\",\"MJCA012\",\"MJDC001\",\"MJEC002\",\"MJFA003\",\"MJFA004\",\"MJFA006\",\"MJFA012\",\"MJFA015\",\"MJFA018\",\"MJJA003\",\"MJPA009\",\"MZQH001\",\"MZQH002\",\"MZQJ001\",\"MZQK002\",\"MZQK003\",\"MZQK004\",\"MZQN001\",\"NAFA002\",\"NAQK007\",\"NAQK015\",\"NAQK023\",\"NAQK049\",\"NAQK071\",\"NBQK001\",\"NCPA002\",\"NCQK001\",\"NDFA005\",\"NDPA008\",\"NDPA011\",\"NDQK001\",\"NDQK002\",\"NDQK003\",\"NDQK004\",\"NEKA012\",\"NEKA014\",\"NEKA020\",\"NEQH002\",\"NEQK010\",\"NEQK012\",\"NEQK035\",\"NEQM001\",\"NFFA004\",\"NFFC002\",\"NFFC004\",\"NFKA006\",\"NFKA007\",\"NFKA008\",\"NFMC003\",\"NFQH001\",\"NFQK001\",\"NFQK002\",\"NFQK003\",\"NFQK004\",\"NGFA002\",\"NGQH001\",\"NGQK001\",\"NGQK002\",\"NHPA001\",\"NHQH001\",\"NJEA005\",\"NJPA029\",\"NJPA032\",\"NZQH002\",\"NZQH005\",\"NZQJ001\",\"NZQK001\",\"NZQK002\",\"NZQK003\",\"NZQK004\",\"NZQK005\",\"NZQK006\",\"NZQN001\",\"PAQK002\",\"PAQK003\",\"PAQK007\",\"PAQL002\",\"PAQL003\",\"PAQL005\",\"PAQL008\",\"PBQM001\",\"PBQM002\",\"PBQM003\",\"PBQM004\",\"PCQM001\",\"PDFA001\",\"QAGA001\",\"QAJA005\",\"QAJA013\",\"QAMA002\",\"QBFA007\",\"QCJA001\",\"QCJA003\",\"QEFA017\",\"QEFA020\",\"QEQH001\",\"QEQJ001\",\"QEQK001\",\"QEQK003\",\"QEQK004\",\"QEQK005\",\"QEQK006\",\"QEQM001\",\"QEQN001\",\"QZEA024\",\"QZEA031\",\"QZFA001\",\"QZFA002\",\"QZFA004\",\"QZFA007\",\"QZFA013\",\"QZFA020\",\"QZFA021\",\"QZFA031\",\"QZFA036\",\"QZGA002\",\"QZHA001\",\"QZJA002\",\"QZJA009\",\"QZJA011\",\"QZJA012\",\"QZJA016\",\"QZJA017\",\"QZLA004\",\"QZMA001\",\"QZMA004\",\"QZQM001\",\"YYYY012\",\"YYYY019\",\"YYYY028\",\"YYYY033\",\"YYYY041\",\"YYYY057\",\"YYYY070\",\"YYYY088\",\"YYYY105\",\"YYYY115\",\"YYYY120\",\"YYYY140\",\"YYYY145\",\"YYYY163\",\"YYYY172\",\"YYYY180\",\"YYYY190\",\"YYYY200\",\"YYYY210\",\"YYYY212\",\"YYYY220\",\"YYYY240\",\"YYYY250\",\"YYYY260\",\"YYYY270\",\"YYYY280\",\"YYYY290\",\"YYYY300\",\"YYYY410\",\"YYYY415\",\"YYYY420\",\"YYYY600\",\"ZBQH001\",\"ZBQJ001\",\"ZBQK001\",\"ZBQK002\",\"ZBQK003\",\"ZBQN001\",\"ZCJA003\",\"ZCQC002\",\"ZCQH001\",\"ZCQH002\",\"ZCQJ001\",\"ZCQJ002\",\"ZCQJ003\",\"ZCQJ004\",\"ZCQJ006\",\"ZCQK002\",\"ZCQK003\",\"ZCQK004\",\"ZCQK005\",\"ZCQM001\",\"ZCQM002\",\"ZCQM003\",\"ZCQM004\",\"ZCQM005\",\"ZCQM006\",\"ZCQM007\",\"ZCQM008\",\"ZCQM009\",\"ZCQM010\",\"ZCQM011\",\"ZCQN001\",\"ZCQN002\",\"ZZLP025\",\"ZZLP030\",\"ZZLP054\",\"ZZQH033\",\"ZZQK024\",\"ZZQL007\",\"ZZQL013\",\"ZZQL016\",\"ZZQL017\",\"ZZQL018\",\"ZZQL019\",\"ZZQM001\",\"ZZQM004\",\"ZZQN001\"],\"index\":[0,1,2,3,4,5,6,7,8,9,10,11,12,13,14,15,16,17,18,19,20,21,22,23,24,25,26,27,28,29,30,31,32,33,34,35,36,37,38,39,40,41,42,43,44,45,46,47,48,49,50,51,52,53,54,55,56,57,58,59,60,61,62,63,64,65,66,67,68,69,70,71,72,73,74,75,76,77,78,79,80,81,82,83,84,85,86,87,88,89,90,91,92,93,94,95,96,97,98,99,100,101,102,103,104,105,106,107,108,109,110,111,112,113,114,115,116,117,118,119,120,121,122,123,124,125,126,127,128,129,130,131,132,133,134,135,136,137,138,139,140,141,142,143,144,145,146,147,148,149,150,151,152,153,154,155,156,157,158,159,160,161,162,163,164,165,166,167,168,169,170,171,172,173,174,175,176,177,178,179,180,181,182,183,184,185,186,187,188,189,190,191,192,193,194,195,196,197,198,199,200,201,202,203,204,205,206,207,208,209,210,211,212,213,214,215,216,217,218,219,220,221,222,223,224,225,226,227,228,229,230,231,232,233,234,235,236,237,238,239,240,241,242,243,244,245,246,247,248,249,250,251,252,253,254,255,256,257,258,259,260,261,262,263,264,265,266,267,268,269,270,271,272,273,274,275,276,277,278,279,280,281,282,283,284,285,286,287,288,289,290,291,292,293,294,295,296,297,298,299,300,301,302,303,304,305,306,307,308,309,310,311,312,313,314,315,316,317,318,319,320,321,322,323,324,325,326,327,328,329,330,331,332,333,334,335,336,337,338,339,340,341,342,343,344,345,346,347,348,349,350,351,352,353,354,355,356,357,358,359,360,361,362,363,364,365,366,367,368,369,370,371,372,373,374,375,376,377,378,379,380,381,382,383,384,385,386,387,388,389,390,391,392,393,394,395,396,397,398,399,400,401,402,403,404,405,406,407,408,409,410,411,412,413,414,415,416,417,418,419,420,421,422,423,424,425,426,427,428,429,430,431,432,433,434,435,436,437,438,439,440,441,442,443,444,445,446,447,448,449,450,451,452,453,454,455,456,457,458,459,460,461,462,463,464,465,466,467,468,469,470,471,472,473,474,475,476,477,478,479,480,481,482,483,484,485,486,487,488,489,490,491,492,493,494,495,496,497,498,499,500,501,502,503,504,505,506,507,508,509,510,511,512,513],\"nb\":[1,0,2,30,0,1,70,48,1,0,42,0,0,0,16,3,5,10,67,0,1,0,4,0,1,0,0,6,4,37,66,4,2,98,8,0,0,5,1,3,1,1,0,21,8,2,7,0,0,0,19,10,0,1,0,1,0,50,11,0,0,1,2,0,11,18,524,1,1,0,0,0,8,1,1,0,0,118,100,12,14,4,3,8,0,1,39,0,0,0,9,1,8,2,12,31,113,128,2,0,1,4,1,2,9,5,0,1,0,5,7,3,5,0,0,0,1,2,0,0,2,0,2,1,2,0,1,1,1,9,0,1,11,6,1,0,0,1,4,80,14,18,0,26,56,1,2,1,0,1,1,0,7,0,0,15,0,1,4,0,1,28,0,32,18,33,69,0,1,2,3,0,0,4,0,6,1,1,2,9,23,2,0,2,5,11,0,16,0,2,21,0,2,7,0,2,0,5,0,9,1,65,32,9,6,6,1,70,1,64,70,5,0,147,0,7,0,1,8,8,37,24,5,0,45,42,61,0,10,0,0,1,3,0,6,2,1,5,0,0,4,100,19,6,18,99,3,0,4,112,75,10,0,0,1,8,0,5,12,5,108,23,11,8,6,34,133,6,13,47,5,0,0,2,4,2,7,1,138,99,46,0,7,1,0,7,2,162,14,0,0,0,4,8,20,0,0,31,17,1,0,2,81,0,39,1,1,1,0,2,5,8,2,1,2,0,6,4,1,3,7,1,4,26,34,3,44,0,20,307,63,22,40,8,0,17,0,0,8,153,38,25,31,2,5,12,3,47,29,53,16,1,3,17,2,9,7,10,10,54,13,184,228,0,2,50,79,1,0,0,4,0,4,0,9,26,31,3,0,36,5,155,5,0,72,17,10,1,1,14,49,130,14,293,16,0,3,5,12,5,19,0,2,1,0,12,287,2,328,36,0,404,0,0,2,3,19,10,4,5,2,3,15,62,15,21,11,3,6,6,3,8,1,16,7,129,25,3,44,19,8,2,0,11,0,13,1,0,3,2,91,1,1,4,1,1,1,0,3,10,8,0,6,20,1,9,57,1488,46,0,60,490,0,0,0,1,119,10,25,43,115,46,135,73,2,39,7,27,5,76,21,190,37,31,110,4,62,2,1,16,238,14,5,77,7,21,1,21,14,2,1,1,1,18],\"nb_sim\":[3,1,1,36,1,4,89,63,3,1,52,1,1,2,3,4,1,2,9,2,1,1,4,1,1,1,1,2,2,13,58,1,2,116,12,2,1,6,4,2,1,1,1,33,6,4,5,1,1,1,16,5,1,1,1,2,2,40,8,2,1,1,1,2,11,17,467,2,1,1,1,1,2,1,2,2,1,123,88,13,20,5,3,6,1,1,27,1,1,1,6,1,2,2,1,26,90,108,1,1,2,4,2,5,8,11,1,1,1,2,1,3,1,1,2,2,1,2,1,1,3,1,1,1,1,1,1,1,1,7,1,6,18,1,2,1,1,1,1,15,4,3,1,3,11,1,1,2,1,1,1,1,4,1,1,4,1,1,3,1,2,13,1,27,13,43,60,1,4,1,1,1,1,1,1,2,1,3,2,12,17,1,1,1,2,11,1,2,1,1,24,1,2,2,1,1,1,1,1,11,1,46,25,9,8,5,2,72,1,60,64,4,1,115,1,8,1,2,15,12,61,34,8,1,55,38,72,1,2,1,1,3,3,1,15,1,4,11,2,1,6,97,19,6,19,124,1,1,1,144,90,16,1,1,1,11,2,4,22,5,141,23,20,9,9,34,163,4,21,64,5,1,1,1,1,1,2,1,190,143,49,1,12,1,1,2,1,209,24,1,1,1,1,1,22,1,5,34,27,1,1,4,105,2,40,1,1,1,3,3,1,1,2,1,1,1,1,1,1,1,6,2,4,33,42,6,40,1,26,386,85,25,49,13,1,29,1,1,1,172,51,34,38,1,1,1,4,59,34,65,11,1,1,3,1,1,3,2,8,54,15,220,285,1,1,72,99,1,1,1,3,1,8,1,12,34,35,2,1,46,7,212,5,1,72,15,13,1,1,13,42,127,16,263,1,1,2,2,3,1,6,1,1,2,1,21,349,2,436,33,2,360,2,1,1,1,8,7,1,4,1,4,3,15,6,8,3,2,2,4,2,2,1,2,3,101,26,3,49,20,1,6,1,10,3,17,4,1,4,6,80,2,1,6,1,5,5,1,4,14,4,1,8,24,2,9,72,1764,59,1,84,565,2,2,1,1,154,17,25,51,95,61,126,98,3,37,11,24,5,59,22,187,33,28,98,4,56,2,4,16,19,4,1,106,7,22,2,24,20,2,2,1,1,24],\"r\":{\"__ndarray__\":\"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\",\"dtype\":\"float64\",\"order\":\"little\",\"shape\":[514]}},\"selected\":{\"id\":\"1052\"},\"selection_policy\":{\"id\":\"1051\"}},\"id\":\"1033\",\"type\":\"ColumnDataSource\"},{\"attributes\":{\"fill_alpha\":{\"value\":0.1},\"fill_color\":{\"value\":\"orange\"},\"line_alpha\":{\"value\":0.1},\"line_color\":{\"value\":\"#1f77b4\"},\"top\":{\"field\":\"nb_sim\"},\"width\":{\"value\":0.5},\"x\":{\"field\":\"ccam\"}},\"id\":\"1042\",\"type\":\"VBar\"},{\"attributes\":{\"data_source\":{\"id\":\"1033\"},\"glyph\":{\"id\":\"1035\"},\"hover_glyph\":null,\"muted_glyph\":null,\"nonselection_glyph\":{\"id\":\"1036\"},\"selection_glyph\":null,\"view\":{\"id\":\"1038\"}},\"id\":\"1037\",\"type\":\"GlyphRenderer\"},{\"attributes\":{},\"id\":\"1048\",\"type\":\"BasicTickFormatter\"},{\"attributes\":{},\"id\":\"1013\",\"type\":\"CategoricalTicker\"},{\"attributes\":{\"source\":{\"id\":\"1033\"}},\"id\":\"1038\",\"type\":\"CDSView\"},{\"attributes\":{},\"id\":\"1046\",\"type\":\"CategoricalTickFormatter\"},{\"attributes\":{},\"id\":\"1016\",\"type\":\"BasicTicker\"},{\"attributes\":{\"end\":1200},\"id\":\"1006\",\"type\":\"Range1d\"},{\"attributes\":{},\"id\":\"1022\",\"type\":\"SaveTool\"},{\"attributes\":{\"overlay\":{\"id\":\"1025\"}},\"id\":\"1021\",\"type\":\"BoxZoomTool\"},{\"attributes\":{\"formatter\":{\"id\":\"1046\"},\"major_label_orientation\":0.7853981633974483,\"ticker\":{\"id\":\"1013\"}},\"id\":\"1012\",\"type\":\"CategoricalAxis\"},{\"attributes\":{\"fill_color\":{\"value\":\"#1f77b4\"},\"line_color\":{\"value\":\"#1f77b4\"},\"top\":{\"field\":\"nb\"},\"width\":{\"value\":0.5},\"x\":{\"field\":\"ccam\"}},\"id\":\"1035\",\"type\":\"VBar\"},{\"attributes\":{\"axis\":{\"id\":\"1012\"},\"ticker\":null,\"visible\":false},\"id\":\"1014\",\"type\":\"Grid\"},{\"attributes\":{},\"id\":\"1020\",\"type\":\"WheelZoomTool\"}],\"root_ids\":[\"1002\"]},\"title\":\"Bokeh Application\",\"version\":\"2.1.1\"}};\n",
       "  var render_items = [{\"docid\":\"bd449730-a0e7-495e-9544-be1787cf758c\",\"root_ids\":[\"1002\"],\"roots\":{\"1002\":\"41a07d91-0668-4fa2-b529-33025561d7bd\"}}];\n",
       "  root.Bokeh.embed.embed_items_notebook(docs_json, render_items);\n",
       "\n",
       "  }\n",
       "  if (root.Bokeh !== undefined) {\n",
       "    embed_document(root);\n",
       "  } else {\n",
       "    var attempts = 0;\n",
       "    var timer = setInterval(function(root) {\n",
       "      if (root.Bokeh !== undefined) {\n",
       "        clearInterval(timer);\n",
       "        embed_document(root);\n",
       "      } else {\n",
       "        attempts++;\n",
       "        if (attempts > 100) {\n",
       "          clearInterval(timer);\n",
       "          console.log(\"Bokeh: ERROR: Unable to run BokehJS code because BokehJS library is missing\");\n",
       "        }\n",
       "      }\n",
       "    }, 10, root)\n",
       "  }\n",
       "})(window);"
      ],
      "application/vnd.bokehjs_exec.v0+json": ""
     },
     "metadata": {
      "application/vnd.bokehjs_exec.v0+json": {
       "id": "1002"
      }
     },
     "output_type": "display_data"
    }
   ],
   "source": [
    "p = figure(title=None, x_range=ccams['ccam'].to_numpy(), y_range=(0,1200), plot_width=1200, plot_height=300)\n",
    "p.xgrid.visible = False\n",
    "p.ygrid.visible = False\n",
    "p.xaxis.major_label_orientation = math.pi/4\n",
    "p.vbar(x='ccam', top='nb', source=ColumnDataSource(ccams), width=0.5)\n",
    "p.vbar(x='ccam', top='nb_sim', fill_color=\"orange\", width=0.5, source=ColumnDataSource(ccams))\n",
    "show(p)"
   ]
  },
  {
   "cell_type": "code",
   "execution_count": 44,
   "metadata": {},
   "outputs": [
    {
     "name": "stdout",
     "output_type": "stream",
     "text": [
      "0.2700255398188995\n",
      "inf\n"
     ]
    }
   ],
   "source": [
    "# calcul de la difference absolue relative \"globale\"\n",
    "print( np.sum(np.abs(ccams['nb_sim']-ccams['nb']))/np.sum(ccams['nb']) )\n",
    "#calcul de la différente relative moyenne \n",
    "print( np.mean(np.abs(ccams['nb_sim']-ccams['nb'])/ccams['nb']) )"
   ]
  },
  {
   "cell_type": "code",
   "execution_count": null,
   "metadata": {},
   "outputs": [],
   "source": []
  }
 ],
 "metadata": {
  "kernelspec": {
   "display_name": "Python 3",
   "language": "python",
   "name": "python3"
  },
  "language_info": {
   "codemirror_mode": {
    "name": "ipython",
    "version": 3
   },
   "file_extension": ".py",
   "mimetype": "text/x-python",
   "name": "python",
   "nbconvert_exporter": "python",
   "pygments_lexer": "ipython3",
   "version": "3.8.2"
  }
 },
 "nbformat": 4,
 "nbformat_minor": 4
}
